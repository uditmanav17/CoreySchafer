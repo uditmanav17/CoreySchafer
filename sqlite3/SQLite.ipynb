{
 "cells": [
  {
   "cell_type": "markdown",
   "metadata": {},
   "source": [
    "# Working with sqlite3"
   ]
  },
  {
   "cell_type": "code",
   "execution_count": 1,
   "metadata": {},
   "outputs": [],
   "source": [
    "import sqlite3"
   ]
  },
  {
   "cell_type": "code",
   "execution_count": 2,
   "metadata": {},
   "outputs": [],
   "source": [
    "# create a connection to already existing db file or create a new file\n",
    "conn = sqlite3.connect('employee.db')"
   ]
  },
  {
   "cell_type": "code",
   "execution_count": 3,
   "metadata": {},
   "outputs": [],
   "source": [
    "# create cursor allowing us to execute sql commands\n",
    "c = conn.cursor()"
   ]
  },
  {
   "cell_type": "markdown",
   "metadata": {},
   "source": [
    "Now, have a look at available datatypes for sqlite3 [here](https://www.sqlite.org/datatype3.html)."
   ]
  },
  {
   "cell_type": "code",
   "execution_count": 4,
   "metadata": {},
   "outputs": [],
   "source": [
    "# create an employee table\n",
    "c.execute(\"\"\"\n",
    "CREATE TABLE employees (\n",
    "    first text, \n",
    "    last text, \n",
    "    pay integer\n",
    "    )\n",
    "\"\"\")\n",
    "\n",
    "# after executing the cursor, commit the CONNECTION and close it\n",
    "conn.commit()\n",
    "conn.close()"
   ]
  },
  {
   "cell_type": "code",
   "execution_count": 5,
   "metadata": {},
   "outputs": [
    {
     "data": {
      "text/plain": [
       "<sqlite3.Cursor at 0x215f83e2f80>"
      ]
     },
     "execution_count": 5,
     "metadata": {},
     "output_type": "execute_result"
    }
   ],
   "source": [
    "# let's start again\n",
    "\n",
    "# get connection\n",
    "conn = sqlite3.connect('employee.db')\n",
    "\n",
    "# get cursor\n",
    "c = conn.cursor()\n",
    "\n",
    "# add data into db\n",
    "c.execute(\"INSERT INTO employees VALUES ('Udit', 'Manav', 50000)\")\n",
    "\n",
    "# save changes\n",
    "# conn.commit()"
   ]
  },
  {
   "cell_type": "code",
   "execution_count": 6,
   "metadata": {},
   "outputs": [
    {
     "data": {
      "text/plain": [
       "<sqlite3.Cursor at 0x215f83e2f80>"
      ]
     },
     "execution_count": 6,
     "metadata": {},
     "output_type": "execute_result"
    }
   ],
   "source": [
    "# let's add some more data\n",
    "c.execute(\"INSERT INTO employees VALUES ('A', 'B', 540000)\")\n",
    "c.execute(\"INSERT INTO employees VALUES ('C', 'D', 5000)\")\n",
    "c.execute(\"INSERT INTO employees VALUES ('E', 'F', 10000)\")\n",
    "c.execute(\"INSERT INTO employees VALUES ('G', 'H', 5900)\")"
   ]
  },
  {
   "cell_type": "code",
   "execution_count": 7,
   "metadata": {},
   "outputs": [
    {
     "name": "stdout",
     "output_type": "stream",
     "text": [
      "('Udit', 'Manav', 50000)\n"
     ]
    }
   ],
   "source": [
    "# execute a select query\n",
    "c.execute(\"SELECT * from employees WHERE last='Manav'\")\n",
    "print(c.fetchone())"
   ]
  },
  {
   "cell_type": "code",
   "execution_count": 8,
   "metadata": {},
   "outputs": [
    {
     "name": "stdout",
     "output_type": "stream",
     "text": [
      "('Udit', 'Manav', 50000)\n",
      "[('A', 'B', 540000), ('E', 'F', 10000), ('G', 'H', 5900)]\n",
      "[]\n"
     ]
    }
   ],
   "source": [
    "# another select query\n",
    "c.execute(\"SELECT * from employees WHERE pay>5500\")\n",
    "print(c.fetchone())\n",
    "print(c.fetchmany(3))\n",
    "print(c.fetchall())"
   ]
  },
  {
   "cell_type": "markdown",
   "metadata": {},
   "source": [
    "What happened here is that iterator gets exhausted by the time it reached fetchall()."
   ]
  },
  {
   "cell_type": "code",
   "execution_count": 9,
   "metadata": {},
   "outputs": [
    {
     "name": "stdout",
     "output_type": "stream",
     "text": [
      "[('Udit', 'Manav', 50000), ('A', 'B', 540000), ('E', 'F', 10000)]\n",
      "[('Udit', 'Manav', 50000), ('A', 'B', 540000), ('E', 'F', 10000), ('G', 'H', 5900)]\n"
     ]
    }
   ],
   "source": [
    "# let's try that again\n",
    "c.execute(\"SELECT * from employees WHERE pay>5500\")\n",
    "print(c.fetchmany(3))\n",
    "\n",
    "c.execute(\"SELECT * from employees WHERE pay>5500\")\n",
    "print(c.fetchall())"
   ]
  },
  {
   "cell_type": "markdown",
   "metadata": {},
   "source": [
    "# Working with Classes and sqlite3"
   ]
  },
  {
   "cell_type": "code",
   "execution_count": 10,
   "metadata": {},
   "outputs": [],
   "source": [
    "# create a sample Employee Class\n",
    "class Employee:\n",
    "    \"\"\"A sample Employee class\"\"\"\n",
    "\n",
    "    def __init__(self, first, last, pay):\n",
    "        self.first = first\n",
    "        self.last = last\n",
    "        self.pay = pay\n",
    "\n",
    "    @property\n",
    "    def email(self):\n",
    "        return '{}.{}@email.com'.format(self.first, self.last)\n",
    "\n",
    "    @property\n",
    "    def fullname(self):\n",
    "        return '{} {}'.format(self.first, self.last)\n",
    "\n",
    "    def __repr__(self):\n",
    "        return \"Employee('{}', '{}', {})\".format(self.first, self.last, self.pay)"
   ]
  },
  {
   "cell_type": "code",
   "execution_count": 11,
   "metadata": {},
   "outputs": [],
   "source": [
    "# create instances of employees\n",
    "emp_1 = Employee('John', 'Doe', 80000)\n",
    "emp_2 = Employee('Jane', 'Doe', 90000)"
   ]
  },
  {
   "cell_type": "markdown",
   "metadata": {},
   "source": [
    "Now, for committing the values to the database, DO NOT USE FORMAT STRINGS, as they'll be prone to SQL injection attacks. Let's have look at the \"safe\" way to insert into DB."
   ]
  },
  {
   "cell_type": "code",
   "execution_count": 12,
   "metadata": {},
   "outputs": [
    {
     "data": {
      "text/plain": [
       "<sqlite3.Cursor at 0x215f83e2f80>"
      ]
     },
     "execution_count": 12,
     "metadata": {},
     "output_type": "execute_result"
    }
   ],
   "source": [
    "# one way\n",
    "c.execute(\"INSERT INTO employees VALUES (?, ?, ?)\", (emp_1.first, emp_1.last, emp_1.pay))\n",
    "\n",
    "# another way\n",
    "c.execute(\"INSERT INTO employees VALUES (:first, :last, :pay)\", {'first':emp_2.first, 'last':emp_2.last, 'pay':emp_2.pay})"
   ]
  },
  {
   "cell_type": "code",
   "execution_count": 13,
   "metadata": {},
   "outputs": [
    {
     "name": "stdout",
     "output_type": "stream",
     "text": [
      "[('John', 'Doe', 80000), ('Jane', 'Doe', 90000)]\n",
      "[('Udit', 'Manav', 50000)]\n"
     ]
    }
   ],
   "source": [
    "# let's check the db content\n",
    "\n",
    "# the second param must be tuple, even if there is only one value\n",
    "c.execute(\"SELECT * from employees WHERE last=?\", ('Doe',))  \n",
    "print(c.fetchall())\n",
    "\n",
    "c.execute(\"SELECT * from employees WHERE last=:last\", {'last':'Manav'})  \n",
    "print(c.fetchall())"
   ]
  },
  {
   "cell_type": "markdown",
   "metadata": {},
   "source": [
    "# Tying up everything\n",
    "\n",
    "Creating some functions that'll \n",
    "* insert emp in db\n",
    "* get emp by name\n",
    "* update pay\n",
    "* remove emp"
   ]
  },
  {
   "cell_type": "code",
   "execution_count": 14,
   "metadata": {},
   "outputs": [],
   "source": [
    "def insert_emp(emp):\n",
    "    with conn:  # this will eliminate the need for commit \n",
    "        c.execute(\"INSERT INTO employees VALUES (:first, :last, :pay)\", \n",
    "                  {'first':emp.first, 'last':emp.last, 'pay':emp.pay})\n",
    "\n",
    "\n",
    "def get_emps_by_name(lastname):\n",
    "    # select stmnt doesn't need to commit\n",
    "    c.execute(\"SELECT * from employees WHERE last=:last\", {'last':lastname})  \n",
    "    return c.fetchall()\n",
    "\n",
    "\n",
    "def update_pay(emp, pay):\n",
    "    with conn:\n",
    "        c.execute(\"\"\"UPDATE employees SET pay = :pay\n",
    "                    WHERE first = :first AND last = :last\"\"\",\n",
    "                  {'first': emp.first, 'last': emp.last, 'pay': pay})\n",
    "\n",
    "\n",
    "def remove_emp(emp):\n",
    "    with conn:\n",
    "        c.execute(\"DELETE from employees WHERE first = :first AND last = :last\",\n",
    "                  {'first': emp.first, 'last': emp.last})"
   ]
  },
  {
   "cell_type": "code",
   "execution_count": 15,
   "metadata": {},
   "outputs": [
    {
     "name": "stdout",
     "output_type": "stream",
     "text": [
      "[('John', 'Doe', 80000), ('Jane', 'Doe', 90000)]\n"
     ]
    }
   ],
   "source": [
    "# Let's try these out\n",
    "\n",
    "emp_3 = Employee('X', 'Y', 999999)\n",
    "\n",
    "# insert emp into db\n",
    "insert_emp(emp_3)\n",
    "\n",
    "# get emps by lastname\n",
    "print(get_emps_by_name('Doe'))"
   ]
  },
  {
   "cell_type": "code",
   "execution_count": 16,
   "metadata": {},
   "outputs": [
    {
     "data": {
      "text/plain": [
       "[('Udit', 'Manav', 50000),\n",
       " ('A', 'B', 540000),\n",
       " ('C', 'D', 5000),\n",
       " ('E', 'F', 10000),\n",
       " ('G', 'H', 5900),\n",
       " ('Jane', 'Doe', 99000),\n",
       " ('X', 'Y', 999999)]"
      ]
     },
     "execution_count": 16,
     "metadata": {},
     "output_type": "execute_result"
    }
   ],
   "source": [
    "# update pay of emp_2\n",
    "update_pay(emp_2, 99000)\n",
    "\n",
    "# remove emp_1\n",
    "remove_emp(emp_1)\n",
    "\n",
    "# print complete database\n",
    "c.execute('SELECT * from employees')\n",
    "c.fetchall()"
   ]
  },
  {
   "cell_type": "code",
   "execution_count": 17,
   "metadata": {},
   "outputs": [],
   "source": [
    "# Don't forget to close the connection\n",
    "conn.close()"
   ]
  },
  {
   "cell_type": "markdown",
   "metadata": {},
   "source": [
    "TIP: If you'd like to commit database in-memory i.e. RAM use\n",
    "```Python\n",
    "conn = sqlite3.connect(':memory:')\n",
    "```\n",
    "\n",
    "Also, have a look at [DB Browser for SQLite](https://sqlitebrowser.org/)."
   ]
  }
 ],
 "metadata": {
  "kernelspec": {
   "display_name": "Python 3.8.0 64-bit",
   "language": "python",
   "name": "python38064bita57f647e671a43da983c0a90bfe6fada"
  },
  "language_info": {
   "codemirror_mode": {
    "name": "ipython",
    "version": 3
   },
   "file_extension": ".py",
   "mimetype": "text/x-python",
   "name": "python",
   "nbconvert_exporter": "python",
   "pygments_lexer": "ipython3",
   "version": "3.8.0"
  }
 },
 "nbformat": 4,
 "nbformat_minor": 4
}
