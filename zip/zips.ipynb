{
 "cells": [
  {
   "cell_type": "markdown",
   "metadata": {},
   "source": [
    "# Working with zip files"
   ]
  },
  {
   "cell_type": "markdown",
   "metadata": {},
   "source": [
    "## Creating a Zip file"
   ]
  },
  {
   "cell_type": "code",
   "execution_count": 18,
   "metadata": {},
   "outputs": [],
   "source": [
    "# import required modules\n",
    "import zipfile\n",
    "from pathlib import Path"
   ]
  },
  {
   "cell_type": "code",
   "execution_count": 22,
   "metadata": {},
   "outputs": [
    {
     "name": "stdout",
     "output_type": "stream",
     "text": [
      "[WindowsPath('test/f1.txt'), WindowsPath('test/is_it_worth_the_time.png')]\n"
     ]
    }
   ],
   "source": [
    "# fetch the file list\n",
    "file_list = list(Path().glob('./test/*'))\n",
    "print(file_list)"
   ]
  },
  {
   "cell_type": "code",
   "execution_count": 24,
   "metadata": {},
   "outputs": [],
   "source": [
    "# write to zip file, but THIS IS NOT A COMPRESSED ZIP FILE\n",
    "with zipfile.ZipFile('files.zip', 'w') as f:\n",
    "    for file in file_list:\n",
    "        f.write(file)"
   ]
  },
  {
   "cell_type": "code",
   "execution_count": 25,
   "metadata": {},
   "outputs": [],
   "source": [
    "# to create a compressed zip file\n",
    "with zipfile.ZipFile('files_compressed.zip', 'w', compression=zipfile.ZIP_DEFLATED) as f:\n",
    "    for file in file_list:\n",
    "        f.write(file)"
   ]
  },
  {
   "cell_type": "markdown",
   "metadata": {},
   "source": [
    "Okay, since there is not a lot of data here, sizes are almost same. But in case, there are a lot of files, use second approach."
   ]
  },
  {
   "cell_type": "markdown",
   "metadata": {},
   "source": [
    "## Extracting a Zipfile"
   ]
  },
  {
   "cell_type": "code",
   "execution_count": null,
   "metadata": {},
   "outputs": [],
   "source": [
    "# checking the name list of zipfile\n",
    "with zipfile.ZipFile('files.zip', 'r') as f:\n",
    "    print(f.namelist())"
   ]
  },
  {
   "cell_type": "code",
   "execution_count": 27,
   "metadata": {},
   "outputs": [
    {
     "name": "stdout",
     "output_type": "stream",
     "text": [
      "None\n"
     ]
    }
   ],
   "source": [
    "# Extracting files from zipfile\n",
    "with zipfile.ZipFile('files.zip', 'r') as f:\n",
    "    print(f.extractall('extracted_files'))"
   ]
  },
  {
   "cell_type": "code",
   "execution_count": 30,
   "metadata": {},
   "outputs": [
    {
     "name": "stdout",
     "output_type": "stream",
     "text": [
      "extracted_one_file\\test\\f1.txt\n"
     ]
    }
   ],
   "source": [
    "# to extract a specific file\n",
    "with zipfile.ZipFile('files.zip', 'r') as f:\n",
    "    print(f.extract('test/f1.txt', path='./extracted_one_file'))"
   ]
  },
  {
   "cell_type": "markdown",
   "metadata": {},
   "source": [
    "# Working with .gz and .zip format using shutil"
   ]
  },
  {
   "cell_type": "code",
   "execution_count": 31,
   "metadata": {},
   "outputs": [],
   "source": [
    "import shutil "
   ]
  },
  {
   "cell_type": "code",
   "execution_count": 32,
   "metadata": {},
   "outputs": [
    {
     "data": {
      "text/plain": [
       "'D:\\\\Programming\\\\Python\\\\Jupyter Notebooks\\\\000000\\\\zip\\\\another.zip'"
      ]
     },
     "execution_count": 32,
     "metadata": {},
     "output_type": "execute_result"
    }
   ],
   "source": [
    "shutil.make_archive('another', 'zip', './test')"
   ]
  },
  {
   "cell_type": "code",
   "execution_count": 33,
   "metadata": {},
   "outputs": [],
   "source": [
    "shutil.unpack_archive('another.zip', 'another_folder')"
   ]
  },
  {
   "cell_type": "markdown",
   "metadata": {},
   "source": [
    "Some other file formats include - tar, gztar, bztar, xztar. \n",
    "\n",
    "Now lets try to download some repo from Github and save its content in a zipfile."
   ]
  },
  {
   "cell_type": "code",
   "execution_count": 34,
   "metadata": {},
   "outputs": [],
   "source": [
    "import requests"
   ]
  },
  {
   "cell_type": "code",
   "execution_count": 35,
   "metadata": {},
   "outputs": [],
   "source": [
    "r = requests.get(r\"https://github.com/uditmanav17/Projects/archive/master.zip\")"
   ]
  },
  {
   "cell_type": "code",
   "execution_count": 36,
   "metadata": {},
   "outputs": [],
   "source": [
    "with open('repo_data.zip', 'wb') as f:\n",
    "    f.write(r.content)"
   ]
  },
  {
   "cell_type": "code",
   "execution_count": 37,
   "metadata": {},
   "outputs": [
    {
     "name": "stdout",
     "output_type": "stream",
     "text": [
      "['Projects-master/', 'Projects-master/README.md']\n"
     ]
    }
   ],
   "source": [
    "with zipfile.ZipFile('repo_data.zip', 'r') as f:\n",
    "    print(f.namelist())"
   ]
  }
 ],
 "metadata": {
  "kernelspec": {
   "display_name": "Python 3.8.0 64-bit",
   "language": "python",
   "name": "python38064bita57f647e671a43da983c0a90bfe6fada"
  },
  "language_info": {
   "codemirror_mode": {
    "name": "ipython",
    "version": 3
   },
   "file_extension": ".py",
   "mimetype": "text/x-python",
   "name": "python",
   "nbconvert_exporter": "python",
   "pygments_lexer": "ipython3",
   "version": "3.8.0"
  }
 },
 "nbformat": 4,
 "nbformat_minor": 4
}
