{
 "cells": [
  {
   "cell_type": "markdown",
   "metadata": {},
   "source": [
    "# String Formatting"
   ]
  },
  {
   "cell_type": "code",
   "execution_count": 2,
   "metadata": {},
   "outputs": [
    {
     "output_type": "stream",
     "name": "stdout",
     "text": "My name is Jenn and I am 23 years old.\n"
    }
   ],
   "source": [
    "person = {'name': 'Jenn', 'age': 23}\n",
    "\n",
    "# the old way\n",
    "sentence = 'My name is ' + person['name'] + ' and I am ' + str(person['age']) + ' years old.'\n",
    "print(sentence)\n"
   ]
  },
  {
   "cell_type": "code",
   "execution_count": 3,
   "metadata": {},
   "outputs": [
    {
     "output_type": "stream",
     "name": "stdout",
     "text": "My name is Jenn and I am 23 years old.\n"
    }
   ],
   "source": [
    "# a better way\n",
    "sentence = 'My name is {} and I am {} years old.'.format(person['name'], person['age'])\n",
    "print(sentence)"
   ]
  },
  {
   "cell_type": "code",
   "execution_count": 4,
   "metadata": {},
   "outputs": [
    {
     "output_type": "stream",
     "name": "stdout",
     "text": "My name is Jenn and I am 23 years old.\n"
    }
   ],
   "source": [
    "# much better way\n",
    "sentence = 'My name is {0} and I am {1} years old.'.format(person['name'], person['age'])\n",
    "print(sentence)"
   ]
  },
  {
   "cell_type": "code",
   "execution_count": 5,
   "metadata": {},
   "outputs": [
    {
     "output_type": "stream",
     "name": "stdout",
     "text": "<h1>This is a headline</h1>\n"
    }
   ],
   "source": [
    "# much better way can be used like this\n",
    "tag = 'h1'\n",
    "text = 'This is a headline'\n",
    "\n",
    "sentence = '<{0}>{1}</{0}>'.format(tag, text)\n",
    "print(sentence)"
   ]
  },
  {
   "cell_type": "code",
   "execution_count": 6,
   "metadata": {},
   "outputs": [
    {
     "output_type": "stream",
     "name": "stdout",
     "text": "My name is Jack and I am 33 years old.\n"
    }
   ],
   "source": [
    "# Accessing class attributes\n",
    "class Person():\n",
    "    def __init__(self, name, age):\n",
    "        self.name = name\n",
    "        self.age = age\n",
    "\n",
    "p1 = Person('Jack', '33')\n",
    "\n",
    "sentence = 'My name is {0.name} and I am {0.age} years old.'.format(p1)\n",
    "print(sentence)\n"
   ]
  },
  {
   "cell_type": "code",
   "execution_count": 7,
   "metadata": {},
   "outputs": [
    {
     "output_type": "stream",
     "name": "stdout",
     "text": "My name is Jenn and I am 30 years old.\n"
    }
   ],
   "source": [
    "# Keyword arguments\n",
    "sentence = 'My name is {name} and I am {age} years old.'.format(name='Jenn', age='30')\n",
    "print(sentence)"
   ]
  },
  {
   "cell_type": "code",
   "execution_count": 8,
   "metadata": {},
   "outputs": [
    {
     "output_type": "stream",
     "name": "stdout",
     "text": "My name is Jenn and I am 23 years old.\n"
    }
   ],
   "source": [
    "# better way to access dictionary\n",
    "sentence = 'My name is {name} and I am {age} years old.'.format(**person)\n",
    "print(sentence)"
   ]
  },
  {
   "cell_type": "code",
   "execution_count": 9,
   "metadata": {},
   "outputs": [
    {
     "output_type": "stream",
     "name": "stdout",
     "text": "The value is 007\nThe value is 008\nThe value is 009\nThe value is 010\n"
    }
   ],
   "source": [
    "# Padding digits\n",
    "for i in range(7, 11):\n",
    "    sentence = 'The value is {:03}'.format(i)\n",
    "    print(sentence)"
   ]
  },
  {
   "cell_type": "code",
   "execution_count": 11,
   "metadata": {},
   "outputs": [
    {
     "output_type": "stream",
     "name": "stdout",
     "text": "Pi is equal to 3.14\n"
    }
   ],
   "source": [
    "# formatting decimals\n",
    "pi = 3.14159265\n",
    "sentence = 'Pi is equal to {:.2f}'.format(pi)\n",
    "print(sentence)"
   ]
  },
  {
   "cell_type": "code",
   "execution_count": 12,
   "metadata": {},
   "outputs": [
    {
     "output_type": "stream",
     "name": "stdout",
     "text": "1 MB is equal to 1,000,000 bytes\n"
    }
   ],
   "source": [
    "# formatting numbers\n",
    "sentence = '1 MB is equal to {:,} bytes'.format(1000**2)\n",
    "print(sentence)"
   ]
  },
  {
   "cell_type": "code",
   "execution_count": 13,
   "metadata": {},
   "outputs": [
    {
     "output_type": "stream",
     "name": "stdout",
     "text": "1 MB is equal to 1,000,000.00 bytes\n"
    }
   ],
   "source": [
    "# chaining formatters\n",
    "sentence = '1 MB is equal to {:,.2f} bytes'.format(1000**2)\n",
    "print(sentence)"
   ]
  },
  {
   "cell_type": "markdown",
   "metadata": {},
   "source": [
    "# Formatting Dates\n",
    "* [Source](https://docs.python.org/3/library/datetime.html#strftime-strptime-behavior)"
   ]
  },
  {
   "cell_type": "code",
   "execution_count": 14,
   "metadata": {},
   "outputs": [
    {
     "output_type": "stream",
     "name": "stdout",
     "text": "2016-09-24 12:30:45\n"
    }
   ],
   "source": [
    "# formatting dates\n",
    "import datetime\n",
    "my_date = datetime.datetime(2016, 9, 24, 12, 30, 45)\n",
    "print(my_date)"
   ]
  },
  {
   "cell_type": "code",
   "execution_count": 15,
   "metadata": {},
   "outputs": [
    {
     "output_type": "stream",
     "name": "stdout",
     "text": "September 24, 2016\n"
    }
   ],
   "source": [
    "sentence = '{:%B %d, %Y}'.format(my_date)\n",
    "print(sentence)"
   ]
  },
  {
   "cell_type": "code",
   "execution_count": 17,
   "metadata": {},
   "outputs": [
    {
     "output_type": "stream",
     "name": "stdout",
     "text": "September 24, 2016 fell on a Saturday and was the 268 day of the year\n"
    }
   ],
   "source": [
    "sentence = '{0:%B %d, %Y} fell on a {0:%A} and was the {0:%j} day of the year'.format(my_date)\n",
    "print(sentence)"
   ]
  },
  {
   "cell_type": "markdown",
   "metadata": {},
   "source": [
    "# F-strings (best way)"
   ]
  },
  {
   "cell_type": "code",
   "execution_count": 19,
   "metadata": {},
   "outputs": [
    {
     "output_type": "stream",
     "name": "stdout",
     "text": "My name is Jenn and I am 23 years old.\n"
    }
   ],
   "source": [
    "sentence = f\"My name is {person['name']} and I am {person['age']} years old.\"\n",
    "print(sentence)"
   ]
  },
  {
   "cell_type": "code",
   "execution_count": 20,
   "metadata": {},
   "outputs": [
    {
     "output_type": "stream",
     "name": "stdout",
     "text": "The value is 007\nThe value is 008\nThe value is 009\nThe value is 010\n"
    }
   ],
   "source": [
    "for i in range(7, 11):\n",
    "    sentence = f'The value is {i:03}'\n",
    "    print(sentence)"
   ]
  },
  {
   "cell_type": "code",
   "execution_count": 23,
   "metadata": {},
   "outputs": [
    {
     "output_type": "stream",
     "name": "stdout",
     "text": "1 MB is equal to 1,000,000.00 bytes\n"
    }
   ],
   "source": [
    "sentence = f'1 MB is equal to {1000**2:,.2f} bytes'\n",
    "print(sentence)"
   ]
  },
  {
   "cell_type": "code",
   "execution_count": 4,
   "metadata": {},
   "outputs": [
    {
     "output_type": "stream",
     "name": "stdout",
     "text": "001 F | -17.22 C\n011 F | -11.67 C\n021 F |  -6.11 C\n031 F |  -0.56 C\n041 F |   5.00 C\n051 F |  10.56 C\n061 F |  16.11 C\n071 F |  21.67 C\n081 F |  27.22 C\n091 F |  32.78 C\n"
    }
   ],
   "source": [
    "# padding numbers\n",
    "def to_celsius(fahrenheit):\n",
    "    return (fahrenheit-32)*5/9\n",
    "\n",
    "for x in range(1, 101, 10):\n",
    "    print(f\"{x:0>3} F | {to_celsius(x):>6.2f} C\")"
   ]
  },
  {
   "cell_type": "code",
   "execution_count": null,
   "metadata": {},
   "outputs": [],
   "source": []
  }
 ],
 "metadata": {
  "language_info": {
   "codemirror_mode": {
    "name": "ipython",
    "version": 3
   },
   "file_extension": ".py",
   "mimetype": "text/x-python",
   "name": "python",
   "nbconvert_exporter": "python",
   "pygments_lexer": "ipython3",
   "version": "3.7.7-final"
  },
  "orig_nbformat": 2,
  "kernelspec": {
   "name": "python37364bituditmvirtualenv067fd1e3d96347ffb6de3d0de7331533",
   "display_name": "Python 3.7.3 64-bit ('uditm': virtualenv)"
  }
 },
 "nbformat": 4,
 "nbformat_minor": 2
}