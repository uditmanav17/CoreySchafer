{
 "cells": [
  {
   "cell_type": "markdown",
   "metadata": {},
   "source": [
    "# String Formatting"
   ]
  },
  {
   "cell_type": "code",
   "execution_count": 2,
   "metadata": {},
   "outputs": [
    {
     "name": "stdout",
     "output_type": "stream",
     "text": [
      "My name is Jenn and I am 23 years old.\n"
     ]
    }
   ],
   "source": [
    "person = {'name': 'Jenn', 'age': 23}\n",
    "\n",
    "# the old way\n",
    "sentence = 'My name is ' + person['name'] + ' and I am ' + str(person['age']) + ' years old.'\n",
    "print(sentence)\n"
   ]
  },
  {
   "cell_type": "code",
   "execution_count": 3,
   "metadata": {},
   "outputs": [
    {
     "name": "stdout",
     "output_type": "stream",
     "text": [
      "My name is Jenn and I am 23 years old.\n"
     ]
    }
   ],
   "source": [
    "# a better way\n",
    "sentence = 'My name is {} and I am {} years old.'.format(person['name'], person['age'])\n",
    "print(sentence)"
   ]
  },
  {
   "cell_type": "code",
   "execution_count": 4,
   "metadata": {},
   "outputs": [
    {
     "name": "stdout",
     "output_type": "stream",
     "text": [
      "My name is Jenn and I am 23 years old.\n"
     ]
    }
   ],
   "source": [
    "# much better way\n",
    "sentence = 'My name is {0} and I am {1} years old.'.format(person['name'], person['age'])\n",
    "print(sentence)"
   ]
  },
  {
   "cell_type": "code",
   "execution_count": 5,
   "metadata": {},
   "outputs": [
    {
     "name": "stdout",
     "output_type": "stream",
     "text": [
      "<h1>This is a headline</h1>\n"
     ]
    }
   ],
   "source": [
    "# much better way can be used like this\n",
    "tag = 'h1'\n",
    "text = 'This is a headline'\n",
    "\n",
    "sentence = '<{0}>{1}</{0}>'.format(tag, text)\n",
    "print(sentence)"
   ]
  },
  {
   "cell_type": "code",
   "execution_count": 6,
   "metadata": {},
   "outputs": [
    {
     "name": "stdout",
     "output_type": "stream",
     "text": [
      "My name is Jack and I am 33 years old.\n"
     ]
    }
   ],
   "source": [
    "# Accessing class attributes\n",
    "class Person():\n",
    "    def __init__(self, name, age):\n",
    "        self.name = name\n",
    "        self.age = age\n",
    "\n",
    "p1 = Person('Jack', '33')\n",
    "\n",
    "sentence = 'My name is {0.name} and I am {0.age} years old.'.format(p1)\n",
    "print(sentence)\n"
   ]
  },
  {
   "cell_type": "code",
   "execution_count": 7,
   "metadata": {},
   "outputs": [
    {
     "name": "stdout",
     "output_type": "stream",
     "text": [
      "My name is Jenn and I am 30 years old.\n"
     ]
    }
   ],
   "source": [
    "# Keyword arguments\n",
    "sentence = 'My name is {name} and I am {age} years old.'.format(name='Jenn', age='30')\n",
    "print(sentence)"
   ]
  },
  {
   "cell_type": "code",
   "execution_count": 8,
   "metadata": {},
   "outputs": [
    {
     "name": "stdout",
     "output_type": "stream",
     "text": [
      "My name is Jenn and I am 23 years old.\n"
     ]
    }
   ],
   "source": [
    "# better way to access dictionary\n",
    "sentence = 'My name is {name} and I am {age} years old.'.format(**person)\n",
    "print(sentence)"
   ]
  },
  {
   "cell_type": "code",
   "execution_count": 9,
   "metadata": {},
   "outputs": [
    {
     "name": "stdout",
     "output_type": "stream",
     "text": [
      "The value is 007\n",
      "The value is 008\n",
      "The value is 009\n",
      "The value is 010\n"
     ]
    }
   ],
   "source": [
    "# Padding digits\n",
    "for i in range(7, 11):\n",
    "    sentence = 'The value is {:03}'.format(i)\n",
    "    print(sentence)"
   ]
  },
  {
   "cell_type": "code",
   "execution_count": 11,
   "metadata": {},
   "outputs": [
    {
     "name": "stdout",
     "output_type": "stream",
     "text": [
      "Pi is equal to 3.14\n"
     ]
    }
   ],
   "source": [
    "# formatting decimals\n",
    "pi = 3.14159265\n",
    "sentence = 'Pi is equal to {:.2f}'.format(pi)\n",
    "print(sentence)"
   ]
  },
  {
   "cell_type": "code",
   "execution_count": 12,
   "metadata": {},
   "outputs": [
    {
     "name": "stdout",
     "output_type": "stream",
     "text": [
      "1 MB is equal to 1,000,000 bytes\n"
     ]
    }
   ],
   "source": [
    "# formatting numbers\n",
    "sentence = '1 MB is equal to {:,} bytes'.format(1000**2)\n",
    "print(sentence)"
   ]
  },
  {
   "cell_type": "code",
   "execution_count": 13,
   "metadata": {},
   "outputs": [
    {
     "name": "stdout",
     "output_type": "stream",
     "text": [
      "1 MB is equal to 1,000,000.00 bytes\n"
     ]
    }
   ],
   "source": [
    "# chaining formatters\n",
    "sentence = '1 MB is equal to {:,.2f} bytes'.format(1000**2)\n",
    "print(sentence)"
   ]
  },
  {
   "cell_type": "markdown",
   "metadata": {},
   "source": [
    "# Formatting Dates\n",
    "* [Source](https://docs.python.org/3/library/datetime.html#strftime-strptime-behavior)"
   ]
  },
  {
   "cell_type": "code",
   "execution_count": 14,
   "metadata": {},
   "outputs": [
    {
     "name": "stdout",
     "output_type": "stream",
     "text": [
      "2016-09-24 12:30:45\n"
     ]
    }
   ],
   "source": [
    "# formatting dates\n",
    "import datetime\n",
    "my_date = datetime.datetime(2016, 9, 24, 12, 30, 45)\n",
    "print(my_date)"
   ]
  },
  {
   "cell_type": "code",
   "execution_count": 15,
   "metadata": {},
   "outputs": [
    {
     "name": "stdout",
     "output_type": "stream",
     "text": [
      "September 24, 2016\n"
     ]
    }
   ],
   "source": [
    "sentence = '{:%B %d, %Y}'.format(my_date)\n",
    "print(sentence)"
   ]
  },
  {
   "cell_type": "code",
   "execution_count": 17,
   "metadata": {},
   "outputs": [
    {
     "name": "stdout",
     "output_type": "stream",
     "text": [
      "September 24, 2016 fell on a Saturday and was the 268 day of the year\n"
     ]
    }
   ],
   "source": [
    "sentence = '{0:%B %d, %Y} fell on a {0:%A} and was the {0:%j} day of the year'.format(my_date)\n",
    "print(sentence)"
   ]
  },
  {
   "cell_type": "markdown",
   "metadata": {},
   "source": [
    "# F-strings (best way)\n",
    "- [more info](https://towardsdatascience.com/python-f-strings-are-more-powerful-than-you-might-think-8271d3efbd7d)"
   ]
  },
  {
   "cell_type": "code",
   "execution_count": 19,
   "metadata": {},
   "outputs": [
    {
     "name": "stdout",
     "output_type": "stream",
     "text": [
      "My name is Jenn and I am 23 years old.\n"
     ]
    }
   ],
   "source": [
    "sentence = f\"My name is {person['name']} and I am {person['age']} years old.\"\n",
    "print(sentence)"
   ]
  },
  {
   "cell_type": "code",
   "execution_count": 20,
   "metadata": {},
   "outputs": [
    {
     "name": "stdout",
     "output_type": "stream",
     "text": [
      "The value is 007\n",
      "The value is 008\n",
      "The value is 009\n",
      "The value is 010\n"
     ]
    }
   ],
   "source": [
    "for i in range(7, 11):\n",
    "    sentence = f'The value is {i:03}'\n",
    "    print(sentence)"
   ]
  },
  {
   "cell_type": "code",
   "execution_count": 23,
   "metadata": {},
   "outputs": [
    {
     "name": "stdout",
     "output_type": "stream",
     "text": [
      "1 MB is equal to 1,000,000.00 bytes\n"
     ]
    }
   ],
   "source": [
    "sentence = f'1 MB is equal to {1000**2:,.2f} bytes'\n",
    "print(sentence)"
   ]
  },
  {
   "cell_type": "code",
   "execution_count": 4,
   "metadata": {},
   "outputs": [
    {
     "name": "stdout",
     "output_type": "stream",
     "text": [
      "001 F | -17.22 C\n",
      "011 F | -11.67 C\n",
      "021 F |  -6.11 C\n",
      "031 F |  -0.56 C\n",
      "041 F |   5.00 C\n",
      "051 F |  10.56 C\n",
      "061 F |  16.11 C\n",
      "071 F |  21.67 C\n",
      "081 F |  27.22 C\n",
      "091 F |  32.78 C\n"
     ]
    }
   ],
   "source": [
    "# padding numbers\n",
    "def to_celsius(fahrenheit):\n",
    "    return (fahrenheit-32)*5/9\n",
    "\n",
    "for x in range(1, 101, 10):\n",
    "    print(f\"{x:0>3} F | {to_celsius(x):>6.2f} C\")"
   ]
  },
  {
   "cell_type": "markdown",
   "metadata": {},
   "source": [
    "## Date formatting"
   ]
  },
  {
   "cell_type": "code",
   "execution_count": 1,
   "metadata": {},
   "outputs": [
    {
     "name": "stdout",
     "output_type": "stream",
     "text": [
      "2022-04-13\n",
      "2022\n"
     ]
    }
   ],
   "source": [
    "import datetime\n",
    "\n",
    "today = datetime.datetime.today()\n",
    "print(f\"{today:%Y-%m-%d}\")  # 2022-03-11\n",
    "print(f\"{today:%Y}\")  # 2022"
   ]
  },
  {
   "cell_type": "markdown",
   "metadata": {},
   "source": [
    "## Variable name and Debugging"
   ]
  },
  {
   "cell_type": "code",
   "execution_count": 2,
   "metadata": {},
   "outputs": [
    {
     "name": "stdout",
     "output_type": "stream",
     "text": [
      "x = 10, y = 25\n",
      "x = 10, y = 25\n",
      "x = 10.000\n"
     ]
    }
   ],
   "source": [
    "x = 10\n",
    "y = 25\n",
    "print(f\"x = {x}, y = {y}\")\n",
    "# x = 10, y = 25\n",
    "print(f\"{x = }, {y = }\")  # Better! (3.8+)\n",
    "# x = 10, y = 25\n",
    "\n",
    "print(f\"{x = :.3f}\")\n",
    "# x = 10.000"
   ]
  },
  {
   "cell_type": "markdown",
   "metadata": {},
   "source": [
    "## String Representation"
   ]
  },
  {
   "cell_type": "code",
   "execution_count": 3,
   "metadata": {},
   "outputs": [
    {
     "name": "stdout",
     "output_type": "stream",
     "text": [
      "John Doe\n",
      "User's name is: John Doe\n"
     ]
    }
   ],
   "source": [
    "class User:\n",
    "    def __init__(self, first_name, last_name):\n",
    "        self.first_name = first_name\n",
    "        self.last_name = last_name\n",
    "\n",
    "    def __str__(self):\n",
    "        return f\"{self.first_name} {self.last_name}\"\n",
    "\n",
    "    def __repr__(self):\n",
    "        return f\"User's name is: {self.first_name} {self.last_name}\"\n",
    "\n",
    "user = User(\"John\", \"Doe\")\n",
    "print(f\"{user}\")  # John Doe\n",
    "print(f\"{user!r}\")  # User's name is: John Doe"
   ]
  },
  {
   "cell_type": "markdown",
   "metadata": {},
   "source": [
    "## Better Performance"
   ]
  },
  {
   "cell_type": "code",
   "execution_count": 4,
   "metadata": {},
   "outputs": [
    {
     "name": "stdout",
     "output_type": "stream",
     "text": [
      "Hello World\n",
      "Hello World\n",
      "Hello World\n",
      "Hello World\n",
      "Hello World\n",
      "Hello World\n"
     ]
    }
   ],
   "source": [
    "# python -m timeit -s 'x, y = \"Hello\", \"World\"' 'f\"{x} {y}\"'\n",
    "from string import Template\n",
    "\n",
    "x, y = \"Hello\", \"World\"\n",
    "\n",
    "print(f\"{x} {y}\")  # 39.6 nsec per loop - Fast!\n",
    "print(x + \" \" + y)  # 43.5 nsec per loop\n",
    "print(\" \".join((x, y)))  # 58.1 nsec per loop\n",
    "print(\"%s %s\" % (x, y))  # 103 nsec per loop\n",
    "print(\"{} {}\".format(x, y))  # 141 nsec per loop\n",
    "print(Template(\"$x $y\").substitute(x=x, y=y))  # 1.24 usec per loop - Slow!"
   ]
  },
  {
   "cell_type": "markdown",
   "metadata": {},
   "source": [
    "## Formatting Specs\n",
    "- [More Info](https://docs.python.org/3/library/string.html#formatspec)"
   ]
  },
  {
   "cell_type": "code",
   "execution_count": 6,
   "metadata": {},
   "outputs": [
    {
     "name": "stdout",
     "output_type": "stream",
     "text": [
      "'  hello world  '\n",
      "1,234,567,890\n",
      "00000123\n"
     ]
    }
   ],
   "source": [
    "text = \"hello world\"\n",
    "\n",
    "# Center text:\n",
    "print(f\"'{text:^15}'\")\n",
    "\n",
    "number = 1234567890\n",
    "# Set separator\n",
    "print(f\"{number:,}\")\n",
    "\n",
    "number = 123\n",
    "# Add leading zeros\n",
    "print(f\"{number:08}\")"
   ]
  },
  {
   "cell_type": "markdown",
   "metadata": {},
   "source": [
    "## Nested F-Strings"
   ]
  },
  {
   "cell_type": "code",
   "execution_count": 8,
   "metadata": {},
   "outputs": [
    {
     "name": "stdout",
     "output_type": "stream",
     "text": [
      "'  $254.346'\n"
     ]
    }
   ],
   "source": [
    "number = 254.3463\n",
    "print(f\"'{f'${number:.3f}':>10s}'\")"
   ]
  },
  {
   "cell_type": "code",
   "execution_count": 9,
   "metadata": {},
   "outputs": [
    {
     "name": "stdout",
     "output_type": "stream",
     "text": [
      "output:     42.1\n"
     ]
    }
   ],
   "source": [
    "import decimal\n",
    "\n",
    "width = 8\n",
    "precision = 3\n",
    "value = decimal.Decimal(\"42.12345\")\n",
    "\n",
    "print(f\"output: {value:{width}.{precision}}\")"
   ]
  },
  {
   "cell_type": "markdown",
   "metadata": {},
   "source": [
    "## Conditional Formatting"
   ]
  },
  {
   "cell_type": "code",
   "execution_count": 10,
   "metadata": {},
   "outputs": [
    {
     "name": "stdout",
     "output_type": "stream",
     "text": [
      "Result: 42.1\n",
      "Result:      142\n"
     ]
    }
   ],
   "source": [
    "import decimal\n",
    "\n",
    "value = decimal.Decimal(\"42.12345\")\n",
    "print(f'Result: {value:{\"4.3\" if value < 100 else \"8.3\"}}')\n",
    "\n",
    "value = decimal.Decimal(\"142.12345\")\n",
    "print(f'Result: {value:{\"4.2\" if value < 100 else \"8.3\"}}')\n"
   ]
  },
  {
   "cell_type": "code",
   "execution_count": null,
   "metadata": {},
   "outputs": [],
   "source": []
  }
 ],
 "metadata": {
  "kernelspec": {
   "display_name": "Python 3",
   "language": "python",
   "name": "python3"
  },
  "language_info": {
   "codemirror_mode": {
    "name": "ipython",
    "version": 3
   },
   "file_extension": ".py",
   "mimetype": "text/x-python",
   "name": "python",
   "nbconvert_exporter": "python",
   "pygments_lexer": "ipython3",
   "version": "3.8.11"
  }
 },
 "nbformat": 4,
 "nbformat_minor": 2
}
