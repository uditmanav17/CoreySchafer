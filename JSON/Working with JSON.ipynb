{
 "cells": [
  {
   "cell_type": "markdown",
   "metadata": {},
   "source": [
    "# Working with JSON"
   ]
  },
  {
   "cell_type": "code",
   "execution_count": 1,
   "metadata": {},
   "outputs": [],
   "source": [
    "import json"
   ]
  },
  {
   "cell_type": "markdown",
   "metadata": {},
   "source": [
    "## JSON Example"
   ]
  },
  {
   "cell_type": "code",
   "execution_count": 2,
   "metadata": {},
   "outputs": [],
   "source": [
    "people_string = '''\n",
    "{\n",
    "    \"people\":[\n",
    "        {\n",
    "            \"name\" : \"John Smith\",\n",
    "            \"phone\" : \"123-456-789\",\n",
    "            \"emails\" : [\"abc@def.com\", \"mno@pqr.com\"],\n",
    "            \"has_lisence\" : false\n",
    "        },\n",
    "        {\n",
    "            \"name\" : \"Jane Doe\",\n",
    "            \"phone\" : \"987-654-321\",\n",
    "            \"emails\" : null,\n",
    "            \"has_lisence\" : true\n",
    "        }\n",
    "    ]\n",
    "}\n",
    "'''"
   ]
  },
  {
   "cell_type": "markdown",
   "metadata": {},
   "source": [
    "## Loading JSON to python"
   ]
  },
  {
   "cell_type": "code",
   "execution_count": 5,
   "metadata": {},
   "outputs": [
    {
     "name": "stdout",
     "output_type": "stream",
     "text": [
      "<class 'dict'>\n"
     ]
    }
   ],
   "source": [
    "# load json to python\n",
    "data = json.loads(people_string)\n",
    "print(type(data))"
   ]
  },
  {
   "cell_type": "markdown",
   "metadata": {},
   "source": [
    "## Modifying JSON"
   ]
  },
  {
   "cell_type": "code",
   "execution_count": 9,
   "metadata": {},
   "outputs": [
    {
     "name": "stdout",
     "output_type": "stream",
     "text": [
      "{'name': 'John Smith', 'phone': '123-456-789', 'emails': ['abc@def.com', 'mno@pqr.com'], 'has_lisence': False}\n",
      "{'name': 'Jane Doe', 'phone': '987-654-321', 'emails': None, 'has_lisence': True}\n"
     ]
    }
   ],
   "source": [
    "for person in data['people']:\n",
    "    print(person)"
   ]
  },
  {
   "cell_type": "code",
   "execution_count": 10,
   "metadata": {},
   "outputs": [
    {
     "name": "stdout",
     "output_type": "stream",
     "text": [
      "John Smith\n",
      "Jane Doe\n"
     ]
    }
   ],
   "source": [
    "for person in data['people']:\n",
    "    print(person['name'])"
   ]
  },
  {
   "cell_type": "code",
   "execution_count": 11,
   "metadata": {},
   "outputs": [],
   "source": [
    "# delete data from json dict\n",
    "for person in data['people']:\n",
    "    del person['phone']"
   ]
  },
  {
   "cell_type": "markdown",
   "metadata": {},
   "source": [
    "## Creating JSON string from JSON dict"
   ]
  },
  {
   "cell_type": "code",
   "execution_count": 13,
   "metadata": {},
   "outputs": [
    {
     "name": "stdout",
     "output_type": "stream",
     "text": [
      "{\n",
      "  \"people\": [\n",
      "    {\n",
      "      \"emails\": [\n",
      "        \"abc@def.com\",\n",
      "        \"mno@pqr.com\"\n",
      "      ],\n",
      "      \"has_lisence\": false,\n",
      "      \"name\": \"John Smith\"\n",
      "    },\n",
      "    {\n",
      "      \"emails\": null,\n",
      "      \"has_lisence\": true,\n",
      "      \"name\": \"Jane Doe\"\n",
      "    }\n",
      "  ]\n",
      "}\n"
     ]
    }
   ],
   "source": [
    "new_string = json.dumps(data, indent=2, sort_keys=True)\n",
    "print(new_string)"
   ]
  },
  {
   "cell_type": "markdown",
   "metadata": {},
   "source": [
    "# Example 1"
   ]
  },
  {
   "cell_type": "markdown",
   "metadata": {},
   "source": [
    "## Load JSON from External Source"
   ]
  },
  {
   "cell_type": "code",
   "execution_count": 14,
   "metadata": {},
   "outputs": [],
   "source": [
    "with open(r\"./states.json\") as f:\n",
    "    data = json.load(f)"
   ]
  },
  {
   "cell_type": "code",
   "execution_count": 16,
   "metadata": {},
   "outputs": [
    {
     "name": "stdout",
     "output_type": "stream",
     "text": [
      "Alabama AL\n",
      "Alaska AK\n",
      "Arizona AZ\n",
      "Arkansas AR\n",
      "California CA\n",
      "Colorado CO\n",
      "Connecticut CT\n",
      "Delaware DE\n",
      "Florida FL\n",
      "Georgia GA\n",
      "Hawaii HI\n",
      "Idaho ID\n",
      "Illinois IL\n",
      "Indiana IN\n",
      "Iowa IA\n",
      "Kansas KS\n",
      "Kentucky KY\n",
      "Louisiana LA\n",
      "Maine ME\n",
      "Maryland MD\n",
      "Massachusetts MA\n",
      "Michigan MI\n",
      "Minnesota MN\n",
      "Mississippi MS\n",
      "Missouri MO\n",
      "Montana MT\n",
      "Nebraska NE\n",
      "Nevada NV\n",
      "New Hampshire NH\n",
      "New Jersey NJ\n",
      "New Mexico NM\n",
      "New York NY\n",
      "North Carolina NC\n",
      "North Dakota ND\n",
      "Ohio OH\n",
      "Oklahoma OK\n",
      "Oregon OR\n",
      "Pennsylvania PA\n",
      "Rhode Island RI\n",
      "South Carolina SC\n",
      "South Dakota SD\n",
      "Tennessee TN\n",
      "Texas TX\n",
      "Utah UT\n",
      "Vermont VT\n",
      "Virginia VA\n",
      "Washington WA\n",
      "West Virginia WV\n",
      "Wisconsin WI\n",
      "Wyoming WY\n"
     ]
    }
   ],
   "source": [
    "for state in data[\"states\"]:\n",
    "    print(state['name'], state['abbreviation'])"
   ]
  },
  {
   "cell_type": "markdown",
   "metadata": {},
   "source": [
    "## Update JSON String"
   ]
  },
  {
   "cell_type": "code",
   "execution_count": 17,
   "metadata": {},
   "outputs": [],
   "source": [
    "for state in data[\"states\"]:\n",
    "    del state['area_codes']"
   ]
  },
  {
   "cell_type": "code",
   "execution_count": 18,
   "metadata": {},
   "outputs": [
    {
     "name": "stdout",
     "output_type": "stream",
     "text": [
      "{'states': [{'name': 'Alabama', 'abbreviation': 'AL'}, {'name': 'Alaska', 'abbreviation': 'AK'}, {'name': 'Arizona', 'abbreviation': 'AZ'}, {'name': 'Arkansas', 'abbreviation': 'AR'}, {'name': 'California', 'abbreviation': 'CA'}, {'name': 'Colorado', 'abbreviation': 'CO'}, {'name': 'Connecticut', 'abbreviation': 'CT'}, {'name': 'Delaware', 'abbreviation': 'DE'}, {'name': 'Florida', 'abbreviation': 'FL'}, {'name': 'Georgia', 'abbreviation': 'GA'}, {'name': 'Hawaii', 'abbreviation': 'HI'}, {'name': 'Idaho', 'abbreviation': 'ID'}, {'name': 'Illinois', 'abbreviation': 'IL'}, {'name': 'Indiana', 'abbreviation': 'IN'}, {'name': 'Iowa', 'abbreviation': 'IA'}, {'name': 'Kansas', 'abbreviation': 'KS'}, {'name': 'Kentucky', 'abbreviation': 'KY'}, {'name': 'Louisiana', 'abbreviation': 'LA'}, {'name': 'Maine', 'abbreviation': 'ME'}, {'name': 'Maryland', 'abbreviation': 'MD'}, {'name': 'Massachusetts', 'abbreviation': 'MA'}, {'name': 'Michigan', 'abbreviation': 'MI'}, {'name': 'Minnesota', 'abbreviation': 'MN'}, {'name': 'Mississippi', 'abbreviation': 'MS'}, {'name': 'Missouri', 'abbreviation': 'MO'}, {'name': 'Montana', 'abbreviation': 'MT'}, {'name': 'Nebraska', 'abbreviation': 'NE'}, {'name': 'Nevada', 'abbreviation': 'NV'}, {'name': 'New Hampshire', 'abbreviation': 'NH'}, {'name': 'New Jersey', 'abbreviation': 'NJ'}, {'name': 'New Mexico', 'abbreviation': 'NM'}, {'name': 'New York', 'abbreviation': 'NY'}, {'name': 'North Carolina', 'abbreviation': 'NC'}, {'name': 'North Dakota', 'abbreviation': 'ND'}, {'name': 'Ohio', 'abbreviation': 'OH'}, {'name': 'Oklahoma', 'abbreviation': 'OK'}, {'name': 'Oregon', 'abbreviation': 'OR'}, {'name': 'Pennsylvania', 'abbreviation': 'PA'}, {'name': 'Rhode Island', 'abbreviation': 'RI'}, {'name': 'South Carolina', 'abbreviation': 'SC'}, {'name': 'South Dakota', 'abbreviation': 'SD'}, {'name': 'Tennessee', 'abbreviation': 'TN'}, {'name': 'Texas', 'abbreviation': 'TX'}, {'name': 'Utah', 'abbreviation': 'UT'}, {'name': 'Vermont', 'abbreviation': 'VT'}, {'name': 'Virginia', 'abbreviation': 'VA'}, {'name': 'Washington', 'abbreviation': 'WA'}, {'name': 'West Virginia', 'abbreviation': 'WV'}, {'name': 'Wisconsin', 'abbreviation': 'WI'}, {'name': 'Wyoming', 'abbreviation': 'WY'}]}\n"
     ]
    }
   ],
   "source": [
    "print(data)"
   ]
  },
  {
   "cell_type": "markdown",
   "metadata": {},
   "source": [
    "## Write JSON String to file"
   ]
  },
  {
   "cell_type": "code",
   "execution_count": 20,
   "metadata": {},
   "outputs": [],
   "source": [
    "with open('new_states.json', 'w') as f:\n",
    "    json.dump(data, f, indent=2)"
   ]
  },
  {
   "cell_type": "code",
   "execution_count": 22,
   "metadata": {},
   "outputs": [
    {
     "name": "stdout",
     "output_type": "stream",
     "text": [
      "{'states': [{'name': 'Alabama', 'abbreviation': 'AL'}, {'name': 'Alaska', 'abbreviation': 'AK'}, {'name': 'Arizona', 'abbreviation': 'AZ'}, {'name': 'Arkansas', 'abbreviation': 'AR'}, {'name': 'California', 'abbreviation': 'CA'}, {'name': 'Colorado', 'abbreviation': 'CO'}, {'name': 'Connecticut', 'abbreviation': 'CT'}, {'name': 'Delaware', 'abbreviation': 'DE'}, {'name': 'Florida', 'abbreviation': 'FL'}, {'name': 'Georgia', 'abbreviation': 'GA'}, {'name': 'Hawaii', 'abbreviation': 'HI'}, {'name': 'Idaho', 'abbreviation': 'ID'}, {'name': 'Illinois', 'abbreviation': 'IL'}, {'name': 'Indiana', 'abbreviation': 'IN'}, {'name': 'Iowa', 'abbreviation': 'IA'}, {'name': 'Kansas', 'abbreviation': 'KS'}, {'name': 'Kentucky', 'abbreviation': 'KY'}, {'name': 'Louisiana', 'abbreviation': 'LA'}, {'name': 'Maine', 'abbreviation': 'ME'}, {'name': 'Maryland', 'abbreviation': 'MD'}, {'name': 'Massachusetts', 'abbreviation': 'MA'}, {'name': 'Michigan', 'abbreviation': 'MI'}, {'name': 'Minnesota', 'abbreviation': 'MN'}, {'name': 'Mississippi', 'abbreviation': 'MS'}, {'name': 'Missouri', 'abbreviation': 'MO'}, {'name': 'Montana', 'abbreviation': 'MT'}, {'name': 'Nebraska', 'abbreviation': 'NE'}, {'name': 'Nevada', 'abbreviation': 'NV'}, {'name': 'New Hampshire', 'abbreviation': 'NH'}, {'name': 'New Jersey', 'abbreviation': 'NJ'}, {'name': 'New Mexico', 'abbreviation': 'NM'}, {'name': 'New York', 'abbreviation': 'NY'}, {'name': 'North Carolina', 'abbreviation': 'NC'}, {'name': 'North Dakota', 'abbreviation': 'ND'}, {'name': 'Ohio', 'abbreviation': 'OH'}, {'name': 'Oklahoma', 'abbreviation': 'OK'}, {'name': 'Oregon', 'abbreviation': 'OR'}, {'name': 'Pennsylvania', 'abbreviation': 'PA'}, {'name': 'Rhode Island', 'abbreviation': 'RI'}, {'name': 'South Carolina', 'abbreviation': 'SC'}, {'name': 'South Dakota', 'abbreviation': 'SD'}, {'name': 'Tennessee', 'abbreviation': 'TN'}, {'name': 'Texas', 'abbreviation': 'TX'}, {'name': 'Utah', 'abbreviation': 'UT'}, {'name': 'Vermont', 'abbreviation': 'VT'}, {'name': 'Virginia', 'abbreviation': 'VA'}, {'name': 'Washington', 'abbreviation': 'WA'}, {'name': 'West Virginia', 'abbreviation': 'WV'}, {'name': 'Wisconsin', 'abbreviation': 'WI'}, {'name': 'Wyoming', 'abbreviation': 'WY'}]}\n"
     ]
    }
   ],
   "source": [
    "with open('new_states.json') as f:\n",
    "    loaded_data = json.load(f)\n",
    "\n",
    "print(loaded_data)"
   ]
  },
  {
   "cell_type": "code",
   "execution_count": null,
   "metadata": {},
   "outputs": [],
   "source": []
  }
 ],
 "metadata": {
  "kernelspec": {
   "display_name": "Python 3",
   "language": "python",
   "name": "python3"
  },
  "language_info": {
   "codemirror_mode": {
    "name": "ipython",
    "version": 3
   },
   "file_extension": ".py",
   "mimetype": "text/x-python",
   "name": "python",
   "nbconvert_exporter": "python",
   "pygments_lexer": "ipython3",
   "version": "3.7.7"
  },
  "toc": {
   "base_numbering": 1,
   "nav_menu": {},
   "number_sections": true,
   "sideBar": true,
   "skip_h1_title": false,
   "title_cell": "Table of Contents",
   "title_sidebar": "Contents",
   "toc_cell": false,
   "toc_position": {},
   "toc_section_display": true,
   "toc_window_display": true
  }
 },
 "nbformat": 4,
 "nbformat_minor": 4
}
