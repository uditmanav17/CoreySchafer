{
 "cells": [
  {
   "cell_type": "markdown",
   "metadata": {},
   "source": [
    "# Calling External Commands (subprocess)"
   ]
  },
  {
   "cell_type": "code",
   "execution_count": 1,
   "metadata": {},
   "outputs": [],
   "source": [
    "import subprocess as sp"
   ]
  },
  {
   "cell_type": "code",
   "execution_count": null,
   "metadata": {},
   "outputs": [],
   "source": [
    "# work on linux, not on windows\n",
    "sp.run('dir')"
   ]
  },
  {
   "cell_type": "code",
   "execution_count": 5,
   "metadata": {},
   "outputs": [
    {
     "data": {
      "text/plain": [
       "CompletedProcess(args='dir', returncode=0)"
      ]
     },
     "execution_count": 5,
     "metadata": {},
     "output_type": "execute_result"
    }
   ],
   "source": [
    "# works on both \n",
    "sp.run('dir', shell=True)"
   ]
  },
  {
   "cell_type": "markdown",
   "metadata": {},
   "source": [
    "## Process object"
   ]
  },
  {
   "cell_type": "code",
   "execution_count": 15,
   "metadata": {},
   "outputs": [
    {
     "name": "stdout",
     "output_type": "stream",
     "text": [
      "<class 'subprocess.CompletedProcess'>\n",
      "CompletedProcess(args='dir', returncode=0)\n"
     ]
    }
   ],
   "source": [
    "p1 = sp.run('dir', shell=True)\n",
    "\n",
    "print(type(p1))  # completedProcss object\n",
    "print(p1)"
   ]
  },
  {
   "cell_type": "code",
   "execution_count": 16,
   "metadata": {},
   "outputs": [
    {
     "data": {
      "text/plain": [
       "['__class__',\n",
       " '__delattr__',\n",
       " '__dict__',\n",
       " '__dir__',\n",
       " '__doc__',\n",
       " '__eq__',\n",
       " '__format__',\n",
       " '__ge__',\n",
       " '__getattribute__',\n",
       " '__gt__',\n",
       " '__hash__',\n",
       " '__init__',\n",
       " '__init_subclass__',\n",
       " '__le__',\n",
       " '__lt__',\n",
       " '__module__',\n",
       " '__ne__',\n",
       " '__new__',\n",
       " '__reduce__',\n",
       " '__reduce_ex__',\n",
       " '__repr__',\n",
       " '__setattr__',\n",
       " '__sizeof__',\n",
       " '__str__',\n",
       " '__subclasshook__',\n",
       " '__weakref__',\n",
       " 'args',\n",
       " 'check_returncode',\n",
       " 'returncode',\n",
       " 'stderr',\n",
       " 'stdout']"
      ]
     },
     "execution_count": 16,
     "metadata": {},
     "output_type": "execute_result"
    }
   ],
   "source": [
    "# what can we do with p1\n",
    "dir(p1)"
   ]
  },
  {
   "cell_type": "markdown",
   "metadata": {},
   "source": [
    "## Check passed Arguments"
   ]
  },
  {
   "cell_type": "code",
   "execution_count": 17,
   "metadata": {},
   "outputs": [
    {
     "name": "stdout",
     "output_type": "stream",
     "text": [
      "Passed args to Subprocess: dir\n",
      "Return Code: 0\n"
     ]
    }
   ],
   "source": [
    "# check passed args\n",
    "print(f\"Passed args to Subprocess: {p1.args}\")\n",
    "\n",
    "# and return code\n",
    "print(f\"Return Code: {p1.returncode}\")"
   ]
  },
  {
   "cell_type": "code",
   "execution_count": 18,
   "metadata": {},
   "outputs": [
    {
     "name": "stdout",
     "output_type": "stream",
     "text": [
      "None\n"
     ]
    }
   ],
   "source": [
    "# output isn't captured\n",
    "print(p1.stdout)"
   ]
  },
  {
   "cell_type": "markdown",
   "metadata": {},
   "source": [
    "## Capturing output of commands"
   ]
  },
  {
   "cell_type": "code",
   "execution_count": 21,
   "metadata": {},
   "outputs": [
    {
     "name": "stdout",
     "output_type": "stream",
     "text": [
      "CompletedProcess(args='dir', returncode=0, stdout=b' Volume in drive D is Local Disk\\r\\n Volume Serial Number is 0E2C-E0B0\\r\\n\\r\\n Directory of D:\\\\Programming\\\\Git\\\\CoreySchafer\\\\Subprocess\\r\\n\\r\\n09-08-2020  16:48    <DIR>          .\\r\\n09-08-2020  16:48    <DIR>          ..\\r\\n09-08-2020  16:39    <DIR>          .ipynb_checkpoints\\r\\n09-08-2020  16:48             4,008 Subprocess.ipynb\\r\\n               1 File(s)          4,008 bytes\\r\\n               3 Dir(s)  164,887,519,232 bytes free\\r\\n', stderr=b'')\n"
     ]
    }
   ],
   "source": [
    "p1 = sp.run('dir', shell=True, capture_output=True)\n",
    "\n",
    "print(p1)  # output is captured"
   ]
  },
  {
   "cell_type": "code",
   "execution_count": 22,
   "metadata": {},
   "outputs": [
    {
     "name": "stdout",
     "output_type": "stream",
     "text": [
      " Volume in drive D is Local Disk\r\n",
      " Volume Serial Number is 0E2C-E0B0\r\n",
      "\r\n",
      " Directory of D:\\Programming\\Git\\CoreySchafer\\Subprocess\r\n",
      "\r\n",
      "09-08-2020  16:48    <DIR>          .\r\n",
      "09-08-2020  16:48    <DIR>          ..\r\n",
      "09-08-2020  16:39    <DIR>          .ipynb_checkpoints\r\n",
      "09-08-2020  16:48             4,008 Subprocess.ipynb\r\n",
      "               1 File(s)          4,008 bytes\r\n",
      "               3 Dir(s)  164,887,519,232 bytes free\r\n",
      "\n"
     ]
    }
   ],
   "source": [
    "# print output in formatted way\n",
    "print(p1.stdout.decode())"
   ]
  },
  {
   "cell_type": "code",
   "execution_count": 33,
   "metadata": {},
   "outputs": [
    {
     "name": "stdout",
     "output_type": "stream",
     "text": [
      " Volume in drive D is Local Disk\n",
      " Volume Serial Number is 0E2C-E0B0\n",
      "\n",
      " Directory of D:\\Programming\\Git\\CoreySchafer\\Subprocess\n",
      "\n",
      "09-08-2020  16:54    <DIR>          .\n",
      "09-08-2020  16:54    <DIR>          ..\n",
      "09-08-2020  16:39    <DIR>          .ipynb_checkpoints\n",
      "09-08-2020  16:54             6,867 Subprocess.ipynb\n",
      "               1 File(s)          6,867 bytes\n",
      "               3 Dir(s)  164,887,515,136 bytes free\n",
      "\n"
     ]
    }
   ],
   "source": [
    "# another way to directly capture output\n",
    "p2 = sp.run('dir', shell=True, capture_output=True, text=True)\n",
    "\n",
    "print(p2.stdout)"
   ]
  },
  {
   "cell_type": "code",
   "execution_count": 36,
   "metadata": {},
   "outputs": [
    {
     "name": "stdout",
     "output_type": "stream",
     "text": [
      " Volume in drive D is Local Disk\n",
      " Volume Serial Number is 0E2C-E0B0\n",
      "\n",
      " Directory of D:\\Programming\\Git\\CoreySchafer\\Subprocess\n",
      "\n",
      "09-08-2020  16:56    <DIR>          .\n",
      "09-08-2020  16:56    <DIR>          ..\n",
      "09-08-2020  16:39    <DIR>          .ipynb_checkpoints\n",
      "09-08-2020  16:56             7,013 Subprocess.ipynb\n",
      "               1 File(s)          7,013 bytes\n",
      "               3 Dir(s)  164,887,515,136 bytes free\n",
      "\n"
     ]
    }
   ],
   "source": [
    "# Yet another way; capture_output calls subprocess.PIPE in background\n",
    "p3 = sp.run('dir', shell=True, stdout=sp.PIPE, text=True)\n",
    "\n",
    "print(p3.stdout)"
   ]
  },
  {
   "cell_type": "markdown",
   "metadata": {},
   "source": [
    "## Redirecting Output to file"
   ]
  },
  {
   "cell_type": "code",
   "execution_count": 37,
   "metadata": {},
   "outputs": [],
   "source": [
    "with open(\"out.txt\", \"w\") as f:\n",
    "    p4 = sp.run('dir', shell=True, stdout=f, text=True)"
   ]
  },
  {
   "cell_type": "code",
   "execution_count": 40,
   "metadata": {},
   "outputs": [
    {
     "name": "stdout",
     "output_type": "stream",
     "text": [
      " Volume in drive D is Local Disk\n",
      " Volume Serial Number is 0E2C-E0B0\n",
      "\n",
      " Directory of D:\\Programming\\Git\\CoreySchafer\\Subprocess\n",
      "\n",
      "09-08-2020  16:59    <DIR>          .\n",
      "09-08-2020  16:59    <DIR>          ..\n",
      "09-08-2020  16:39    <DIR>          .ipynb_checkpoints\n",
      "09-08-2020  16:59                 0 out.txt\n",
      "09-08-2020  16:58             8,084 Subprocess.ipynb\n",
      "               2 File(s)          8,084 bytes\n",
      "               3 Dir(s)  164,887,515,136 bytes free\n",
      "\n"
     ]
    }
   ],
   "source": [
    "# viewing contents of file\n",
    "print(sp.run([\"type\", \"out.txt\"], shell=True, text=True, capture_output=True).stdout)"
   ]
  },
  {
   "cell_type": "markdown",
   "metadata": {},
   "source": [
    "## Error Handling"
   ]
  },
  {
   "cell_type": "code",
   "execution_count": 46,
   "metadata": {},
   "outputs": [
    {
     "name": "stdout",
     "output_type": "stream",
     "text": [
      "1\n",
      "File Not Found\n",
      "\n"
     ]
    }
   ],
   "source": [
    "# trying to list content of directory that doesn't exists\n",
    "p1 = sp.run([\"dir\", \"DNE\"], shell=True, capture_output=True, text=True)\n",
    "\n",
    "# whenever there is error, retutn code is non zero\n",
    "print(p1.returncode)\n",
    "\n",
    "# print error\n",
    "print(p1.stderr)"
   ]
  },
  {
   "cell_type": "code",
   "execution_count": 45,
   "metadata": {},
   "outputs": [
    {
     "ename": "CalledProcessError",
     "evalue": "Command '['dir', 'DNE']' returned non-zero exit status 1.",
     "output_type": "error",
     "traceback": [
      "\u001b[1;31m---------------------------------------------------------------------------\u001b[0m",
      "\u001b[1;31mCalledProcessError\u001b[0m                        Traceback (most recent call last)",
      "\u001b[1;32m<ipython-input-45-055eb1206af4>\u001b[0m in \u001b[0;36m<module>\u001b[1;34m\u001b[0m\n\u001b[0;32m      1\u001b[0m \u001b[1;31m# to make python throw error when external command fails\u001b[0m\u001b[1;33m\u001b[0m\u001b[1;33m\u001b[0m\u001b[1;33m\u001b[0m\u001b[0m\n\u001b[1;32m----> 2\u001b[1;33m \u001b[0mp1\u001b[0m \u001b[1;33m=\u001b[0m \u001b[0msp\u001b[0m\u001b[1;33m.\u001b[0m\u001b[0mrun\u001b[0m\u001b[1;33m(\u001b[0m\u001b[1;33m[\u001b[0m\u001b[1;34m\"dir\"\u001b[0m\u001b[1;33m,\u001b[0m \u001b[1;34m\"DNE\"\u001b[0m\u001b[1;33m]\u001b[0m\u001b[1;33m,\u001b[0m \u001b[0mshell\u001b[0m\u001b[1;33m=\u001b[0m\u001b[1;32mTrue\u001b[0m\u001b[1;33m,\u001b[0m \u001b[0mcapture_output\u001b[0m\u001b[1;33m=\u001b[0m\u001b[1;32mTrue\u001b[0m\u001b[1;33m,\u001b[0m \u001b[0mtext\u001b[0m\u001b[1;33m=\u001b[0m\u001b[1;32mTrue\u001b[0m\u001b[1;33m,\u001b[0m \u001b[0mcheck\u001b[0m\u001b[1;33m=\u001b[0m\u001b[1;32mTrue\u001b[0m\u001b[1;33m)\u001b[0m\u001b[1;33m\u001b[0m\u001b[1;33m\u001b[0m\u001b[0m\n\u001b[0m",
      "\u001b[1;32m~\\Anaconda3\\lib\\subprocess.py\u001b[0m in \u001b[0;36mrun\u001b[1;34m(input, capture_output, timeout, check, *popenargs, **kwargs)\u001b[0m\n\u001b[0;32m    510\u001b[0m         \u001b[1;32mif\u001b[0m \u001b[0mcheck\u001b[0m \u001b[1;32mand\u001b[0m \u001b[0mretcode\u001b[0m\u001b[1;33m:\u001b[0m\u001b[1;33m\u001b[0m\u001b[1;33m\u001b[0m\u001b[0m\n\u001b[0;32m    511\u001b[0m             raise CalledProcessError(retcode, process.args,\n\u001b[1;32m--> 512\u001b[1;33m                                      output=stdout, stderr=stderr)\n\u001b[0m\u001b[0;32m    513\u001b[0m     \u001b[1;32mreturn\u001b[0m \u001b[0mCompletedProcess\u001b[0m\u001b[1;33m(\u001b[0m\u001b[0mprocess\u001b[0m\u001b[1;33m.\u001b[0m\u001b[0margs\u001b[0m\u001b[1;33m,\u001b[0m \u001b[0mretcode\u001b[0m\u001b[1;33m,\u001b[0m \u001b[0mstdout\u001b[0m\u001b[1;33m,\u001b[0m \u001b[0mstderr\u001b[0m\u001b[1;33m)\u001b[0m\u001b[1;33m\u001b[0m\u001b[1;33m\u001b[0m\u001b[0m\n\u001b[0;32m    514\u001b[0m \u001b[1;33m\u001b[0m\u001b[0m\n",
      "\u001b[1;31mCalledProcessError\u001b[0m: Command '['dir', 'DNE']' returned non-zero exit status 1."
     ]
    }
   ],
   "source": [
    "# to make python throw error when external command fails, set check=True\n",
    "p1 = sp.run([\"dir\", \"DNE\"], shell=True, capture_output=True, text=True, check=True)"
   ]
  },
  {
   "cell_type": "code",
   "execution_count": 47,
   "metadata": {},
   "outputs": [
    {
     "name": "stdout",
     "output_type": "stream",
     "text": [
      "None\n",
      "1\n"
     ]
    }
   ],
   "source": [
    "# to ignoring error, use stderr=sp.DEVNULL\n",
    "p1 = sp.run([\"dir\", \"DNE\"], shell=True, stderr=sp.DEVNULL)\n",
    "\n",
    "print(p1.stderr)\n",
    "print(p1.returncode)"
   ]
  },
  {
   "cell_type": "markdown",
   "metadata": {},
   "source": [
    "## Chaining commands"
   ]
  },
  {
   "cell_type": "code",
   "execution_count": 64,
   "metadata": {},
   "outputs": [
    {
     "name": "stdout",
     "output_type": "stream",
     "text": [
      "p1 Output: \n",
      " Volume in drive D is Local Disk\n",
      " Volume Serial Number is 0E2C-E0B0\n",
      "\n",
      " Directory of D:\\Programming\\Git\\CoreySchafer\\Subprocess\n",
      "\n",
      "09-08-2020  17:22    <DIR>          .\n",
      "09-08-2020  17:22    <DIR>          ..\n",
      "09-08-2020  16:39    <DIR>          .ipynb_checkpoints\n",
      "09-08-2020  16:59               466 out.txt\n",
      "09-08-2020  17:22            15,349 Subprocess.ipynb\n",
      "               2 File(s)         15,815 bytes\n",
      "               3 Dir(s)  164,887,506,944 bytes free\n",
      "\n",
      "\n",
      "\n",
      "\n",
      "p2 Output: \n",
      "               2 File(s)         15,815 bytes\n",
      "               3 Dir(s)  164,887,506,944 bytes free\n",
      "\n",
      "\n"
     ]
    }
   ],
   "source": [
    "p1 = sp.run([\"dir\"], shell=True, capture_output=True, text=True)\n",
    "print(f\"p1 Output: \\n{p1.stdout}\\n\\n\\n\")\n",
    "\n",
    "p2 = sp.run([\"more\", \"+10\"], shell=True, capture_output=True, text=True, input=p1.stdout)\n",
    "print(f\"p2 Output: \\n{p2.stdout}\")"
   ]
  }
 ],
 "metadata": {
  "kernelspec": {
   "display_name": "Python 3",
   "language": "python",
   "name": "python3"
  },
  "language_info": {
   "codemirror_mode": {
    "name": "ipython",
    "version": 3
   },
   "file_extension": ".py",
   "mimetype": "text/x-python",
   "name": "python",
   "nbconvert_exporter": "python",
   "pygments_lexer": "ipython3",
   "version": "3.7.7"
  },
  "toc": {
   "base_numbering": 1,
   "nav_menu": {},
   "number_sections": true,
   "sideBar": true,
   "skip_h1_title": false,
   "title_cell": "Table of Contents",
   "title_sidebar": "Contents",
   "toc_cell": false,
   "toc_position": {},
   "toc_section_display": true,
   "toc_window_display": true
  }
 },
 "nbformat": 4,
 "nbformat_minor": 4
}
