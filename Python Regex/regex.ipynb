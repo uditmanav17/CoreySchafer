{
 "cells": [
  {
   "cell_type": "code",
   "execution_count": 1,
   "metadata": {},
   "outputs": [],
   "source": [
    "import re\n",
    "\n",
    "text_to_search = '''\n",
    "abcdefghijklmnopqurtuvwxyz\n",
    "ABCDEFGHIJKLMNOPQRSTUVWXYZ\n",
    "1234567890\n",
    "Ha HaHa\n",
    "MetaCharacters (Need to be escaped):\n",
    ". ^ $ * + ? { } [ ] \\ | ( )\n",
    "coreyms.com\n",
    "321-555-4321\n",
    "123.555.1234\n",
    "123*555*1234\n",
    "800-555-1234\n",
    "900-555-1234\n",
    "Mr. Schafer\n",
    "Mr Smith\n",
    "Ms Davis\n",
    "Mrs. Robinson\n",
    "Mr. T\n",
    "bat\n",
    "mat\n",
    "cat\n",
    "'''\n",
    "sentence = 'Start a sentence and then bring it to an end seNtEnce sEnteNce SentenCe '\n"
   ]
  },
  {
   "cell_type": "code",
   "execution_count": 2,
   "metadata": {},
   "outputs": [],
   "source": [
    "def pat_iter(pattern_to_find, text):\n",
    "    pattern = re.compile(pattern_to_find)\n",
    "    # finditer iterates through all the matches\n",
    "    matches = pattern.finditer(text)\n",
    "    for match in matches:\n",
    "        print(match)"
   ]
  },
  {
   "cell_type": "code",
   "execution_count": 3,
   "metadata": {},
   "outputs": [
    {
     "output_type": "stream",
     "name": "stdout",
     "text": "<re.Match object; span=(111, 112), match='.'>\n<re.Match object; span=(146, 147), match='.'>\n<re.Match object; span=(167, 168), match='.'>\n<re.Match object; span=(171, 172), match='.'>\n<re.Match object; span=(218, 219), match='.'>\n<re.Match object; span=(249, 250), match='.'>\n<re.Match object; span=(262, 263), match='.'>\n"
    }
   ],
   "source": [
    "# search a .\n",
    "pat_iter(r'\\.', text_to_search)"
   ]
  },
  {
   "cell_type": "code",
   "execution_count": 4,
   "metadata": {},
   "outputs": [
    {
     "output_type": "stream",
     "name": "stdout",
     "text": "<re.Match object; span=(66, 68), match='Ha'>\n<re.Match object; span=(69, 71), match='Ha'>\n"
    }
   ],
   "source": [
    "# \\b for word boundary\n",
    "pat_iter(r'\\bHa', text_to_search)"
   ]
  },
  {
   "cell_type": "code",
   "execution_count": 5,
   "metadata": {},
   "outputs": [
    {
     "output_type": "stream",
     "name": "stdout",
     "text": "<re.Match object; span=(71, 73), match='Ha'>\n"
    }
   ],
   "source": [
    "# \\B for NOT word boundary\n",
    "pat_iter(r'\\BHa', text_to_search)"
   ]
  },
  {
   "cell_type": "code",
   "execution_count": 6,
   "metadata": {},
   "outputs": [
    {
     "output_type": "stream",
     "name": "stdout",
     "text": "<re.Match object; span=(151, 163), match='321-555-4321'>\n<re.Match object; span=(164, 176), match='123.555.1234'>\n<re.Match object; span=(177, 189), match='123*555*1234'>\n<re.Match object; span=(190, 202), match='800-555-1234'>\n<re.Match object; span=(203, 215), match='900-555-1234'>\n"
    }
   ],
   "source": [
    "# match phone number pattern \n",
    "pat_iter(r'\\d\\d\\d.\\d\\d\\d.\\d\\d\\d\\d', text_to_search)"
   ]
  },
  {
   "cell_type": "code",
   "execution_count": 7,
   "metadata": {},
   "outputs": [],
   "source": [
    "# open test_data file \n",
    "with open('test_data.txt') as f:\n",
    "    file_data = f.read()"
   ]
  },
  {
   "cell_type": "code",
   "execution_count": 8,
   "metadata": {},
   "outputs": [
    {
     "output_type": "stream",
     "name": "stdout",
     "text": "<re.Match object; span=(12, 24), match='615-555-7164'>\n<re.Match object; span=(102, 114), match='800-555-5669'>\n<re.Match object; span=(191, 203), match='560-555-5153'>\n<re.Match object; span=(281, 293), match='900-555-9340'>\n<re.Match object; span=(378, 390), match='714-555-7405'>\n<re.Match object; span=(467, 479), match='800-555-6771'>\n<re.Match object; span=(557, 569), match='783-555-4799'>\n<re.Match object; span=(647, 659), match='516-555-4615'>\n<re.Match object; span=(740, 752), match='127-555-1867'>\n<re.Match object; span=(831, 843), match='608-555-4938'>\n<re.Match object; span=(917, 929), match='568-555-6051'>\n<re.Match object; span=(1005, 1017), match='292-555-1875'>\n<re.Match object; span=(1093, 1105), match='900-555-3205'>\n<re.Match object; span=(1182, 1194), match='614-555-1166'>\n<re.Match object; span=(1273, 1285), match='530-555-2676'>\n<re.Match object; span=(1359, 1371), match='470-555-2750'>\n<re.Match object; span=(1443, 1455), match='800-555-6089'>\n<re.Match object; span=(1530, 1542), match='880-555-8319'>\n<re.Match object; span=(1618, 1630), match='777-555-8378'>\n<re.Match object; span=(1701, 1713), match='998-555-7385'>\n<re.Match object; span=(1794, 1806), match='800-555-7100'>\n<re.Match object; span=(1878, 1890), match='903-555-8277'>\n<re.Match object; span=(1966, 1978), match='196-555-5674'>\n<re.Match object; span=(2055, 2067), match='900-555-5118'>\n<re.Match object; span=(2139, 2151), match='905-555-1630'>\n<re.Match object; span=(2220, 2232), match='203-555-3475'>\n<re.Match object; span=(2304, 2316), match='884-555-8444'>\n<re.Match object; span=(2391, 2403), match='904-555-8559'>\n<re.Match object; span=(2479, 2491), match='889-555-7393'>\n<re.Match object; span=(2566, 2578), match='195-555-2405'>\n<re.Match object; span=(2651, 2663), match='321-555-9053'>\n<re.Match object; span=(2738, 2750), match='133-555-1711'>\n<re.Match object; span=(2830, 2842), match='900-555-5428'>\n<re.Match object; span=(2919, 2931), match='760-555-7147'>\n<re.Match object; span=(3018, 3030), match='391-555-6621'>\n<re.Match object; span=(3109, 3121), match='932-555-7724'>\n<re.Match object; span=(3198, 3210), match='609-555-7908'>\n<re.Match object; span=(3290, 3302), match='800-555-8810'>\n<re.Match object; span=(3378, 3390), match='149-555-7657'>\n<re.Match object; span=(3458, 3470), match='130-555-9709'>\n<re.Match object; span=(3541, 3553), match='143-555-9295'>\n<re.Match object; span=(3630, 3642), match='903-555-9878'>\n<re.Match object; span=(3720, 3732), match='574-555-3194'>\n<re.Match object; span=(3808, 3820), match='496-555-7533'>\n<re.Match object; span=(3893, 3905), match='210-555-3757'>\n<re.Match object; span=(3977, 3989), match='900-555-9598'>\n<re.Match object; span=(4062, 4074), match='866-555-9844'>\n<re.Match object; span=(4146, 4158), match='669-555-7159'>\n<re.Match object; span=(4231, 4243), match='152-555-7417'>\n<re.Match object; span=(4323, 4335), match='893-555-9832'>\n<re.Match object; span=(4413, 4425), match='217-555-7123'>\n<re.Match object; span=(4504, 4516), match='786-555-6544'>\n<re.Match object; span=(4594, 4606), match='780-555-2574'>\n<re.Match object; span=(4682, 4694), match='926-555-8735'>\n<re.Match object; span=(4768, 4780), match='895-555-3539'>\n<re.Match object; span=(4865, 4877), match='874-555-3949'>\n<re.Match object; span=(4951, 4963), match='800-555-2420'>\n<re.Match object; span=(5040, 5052), match='936-555-6340'>\n<re.Match object; span=(5129, 5141), match='372-555-9809'>\n<re.Match object; span=(5216, 5228), match='890-555-5618'>\n<re.Match object; span=(5298, 5310), match='670-555-3005'>\n<re.Match object; span=(5388, 5400), match='509-555-5997'>\n<re.Match object; span=(5481, 5493), match='721-555-5632'>\n<re.Match object; span=(5572, 5584), match='900-555-3567'>\n<re.Match object; span=(5662, 5674), match='147-555-6830'>\n<re.Match object; span=(5751, 5763), match='582-555-3426'>\n<re.Match object; span=(5836, 5848), match='400-555-1706'>\n<re.Match object; span=(5927, 5939), match='525-555-1793'>\n<re.Match object; span=(6017, 6029), match='317-555-6700'>\n<re.Match object; span=(6105, 6117), match='974-555-8301'>\n<re.Match object; span=(6195, 6207), match='800-555-3216'>\n<re.Match object; span=(6281, 6293), match='746-555-4094'>\n<re.Match object; span=(6368, 6380), match='922-555-1773'>\n<re.Match object; span=(6453, 6465), match='711-555-4427'>\n<re.Match object; span=(6538, 6550), match='355-555-1872'>\n<re.Match object; span=(6627, 6639), match='852-555-6521'>\n<re.Match object; span=(6719, 6731), match='691-555-5773'>\n<re.Match object; span=(6811, 6823), match='332-555-5441'>\n<re.Match object; span=(6897, 6909), match='900-555-7755'>\n<re.Match object; span=(6979, 6991), match='379-555-3685'>\n<re.Match object; span=(7069, 7081), match='127-555-9682'>\n<re.Match object; span=(7160, 7172), match='789-555-7032'>\n<re.Match object; span=(7251, 7263), match='783-555-5135'>\n<re.Match object; span=(7344, 7356), match='315-555-6507'>\n<re.Match object; span=(7435, 7447), match='481-555-5835'>\n<re.Match object; span=(7523, 7535), match='365-555-8287'>\n<re.Match object; span=(7615, 7627), match='911-555-7535'>\n<re.Match object; span=(7701, 7713), match='681-555-2460'>\n<re.Match object; span=(7787, 7799), match='274-555-9800'>\n<re.Match object; span=(7872, 7884), match='800-555-1372'>\n<re.Match object; span=(7961, 7973), match='300-555-7821'>\n<re.Match object; span=(8051, 8063), match='133-555-3889'>\n<re.Match object; span=(8139, 8151), match='705-555-6863'>\n<re.Match object; span=(8228, 8240), match='215-555-9449'>\n<re.Match object; span=(8319, 8331), match='988-555-6112'>\n<re.Match object; span=(8405, 8417), match='623-555-3006'>\n<re.Match object; span=(8489, 8501), match='192-555-4977'>\n<re.Match object; span=(8574, 8586), match='178-555-4899'>\n<re.Match object; span=(8658, 8670), match='952-555-3089'>\n<re.Match object; span=(8751, 8763), match='900-555-6426'>\n"
    }
   ],
   "source": [
    "pat_iter(r'\\d\\d\\d.\\d\\d\\d.\\d\\d\\d\\d', file_data)"
   ]
  },
  {
   "cell_type": "code",
   "execution_count": 9,
   "metadata": {},
   "outputs": [
    {
     "output_type": "stream",
     "name": "stdout",
     "text": "<re.Match object; span=(151, 163), match='321-555-4321'>\n<re.Match object; span=(164, 176), match='123.555.1234'>\n<re.Match object; span=(190, 202), match='800-555-1234'>\n<re.Match object; span=(203, 215), match='900-555-1234'>\n"
    }
   ],
   "source": [
    "# matching phone number with only . or -\n",
    "# using character set []\n",
    "pat_iter(r'\\d\\d\\d[.-]\\d\\d\\d[.-]\\d\\d\\d\\d', text_to_search)"
   ]
  },
  {
   "cell_type": "code",
   "execution_count": 10,
   "metadata": {},
   "outputs": [
    {
     "output_type": "stream",
     "name": "stdout",
     "text": "<re.Match object; span=(190, 202), match='800-555-1234'>\n<re.Match object; span=(203, 215), match='900-555-1234'>\n"
    }
   ],
   "source": [
    "# match numbers with starting with only 800 or 900\n",
    "pat_iter(r'[89]00[.-]\\d\\d\\d[.-]\\d\\d\\d\\d', text_to_search)"
   ]
  },
  {
   "cell_type": "code",
   "execution_count": 11,
   "metadata": {},
   "outputs": [
    {
     "output_type": "stream",
     "name": "stdout",
     "text": "<re.Match object; span=(0, 1), match='\\n'>\n<re.Match object; span=(27, 28), match='\\n'>\n<re.Match object; span=(54, 55), match='\\n'>\n<re.Match object; span=(55, 56), match='1'>\n<re.Match object; span=(56, 57), match='2'>\n<re.Match object; span=(57, 58), match='3'>\n<re.Match object; span=(58, 59), match='4'>\n<re.Match object; span=(59, 60), match='5'>\n<re.Match object; span=(60, 61), match='6'>\n<re.Match object; span=(61, 62), match='7'>\n<re.Match object; span=(62, 63), match='8'>\n<re.Match object; span=(63, 64), match='9'>\n<re.Match object; span=(64, 65), match='0'>\n<re.Match object; span=(65, 66), match='\\n'>\n<re.Match object; span=(68, 69), match=' '>\n<re.Match object; span=(73, 74), match='\\n'>\n<re.Match object; span=(88, 89), match=' '>\n<re.Match object; span=(89, 90), match='('>\n<re.Match object; span=(94, 95), match=' '>\n<re.Match object; span=(97, 98), match=' '>\n<re.Match object; span=(100, 101), match=' '>\n<re.Match object; span=(108, 109), match=')'>\n<re.Match object; span=(109, 110), match=':'>\n<re.Match object; span=(110, 111), match='\\n'>\n<re.Match object; span=(111, 112), match='.'>\n<re.Match object; span=(112, 113), match=' '>\n<re.Match object; span=(113, 114), match='^'>\n<re.Match object; span=(114, 115), match=' '>\n<re.Match object; span=(115, 116), match='$'>\n<re.Match object; span=(116, 117), match=' '>\n<re.Match object; span=(117, 118), match='*'>\n<re.Match object; span=(118, 119), match=' '>\n<re.Match object; span=(119, 120), match='+'>\n<re.Match object; span=(120, 121), match=' '>\n<re.Match object; span=(121, 122), match='?'>\n<re.Match object; span=(122, 123), match=' '>\n<re.Match object; span=(123, 124), match='{'>\n<re.Match object; span=(124, 125), match=' '>\n<re.Match object; span=(125, 126), match='}'>\n<re.Match object; span=(126, 127), match=' '>\n<re.Match object; span=(127, 128), match='['>\n<re.Match object; span=(128, 129), match=' '>\n<re.Match object; span=(129, 130), match=']'>\n<re.Match object; span=(130, 131), match=' '>\n<re.Match object; span=(131, 132), match='\\\\'>\n<re.Match object; span=(132, 133), match=' '>\n<re.Match object; span=(133, 134), match='|'>\n<re.Match object; span=(134, 135), match=' '>\n<re.Match object; span=(135, 136), match='('>\n<re.Match object; span=(136, 137), match=' '>\n<re.Match object; span=(137, 138), match=')'>\n<re.Match object; span=(138, 139), match='\\n'>\n<re.Match object; span=(146, 147), match='.'>\n<re.Match object; span=(150, 151), match='\\n'>\n<re.Match object; span=(151, 152), match='3'>\n<re.Match object; span=(152, 153), match='2'>\n<re.Match object; span=(153, 154), match='1'>\n<re.Match object; span=(154, 155), match='-'>\n<re.Match object; span=(155, 156), match='5'>\n<re.Match object; span=(156, 157), match='5'>\n<re.Match object; span=(157, 158), match='5'>\n<re.Match object; span=(158, 159), match='-'>\n<re.Match object; span=(159, 160), match='4'>\n<re.Match object; span=(160, 161), match='3'>\n<re.Match object; span=(161, 162), match='2'>\n<re.Match object; span=(162, 163), match='1'>\n<re.Match object; span=(163, 164), match='\\n'>\n<re.Match object; span=(164, 165), match='1'>\n<re.Match object; span=(165, 166), match='2'>\n<re.Match object; span=(166, 167), match='3'>\n<re.Match object; span=(167, 168), match='.'>\n<re.Match object; span=(168, 169), match='5'>\n<re.Match object; span=(169, 170), match='5'>\n<re.Match object; span=(170, 171), match='5'>\n<re.Match object; span=(171, 172), match='.'>\n<re.Match object; span=(172, 173), match='1'>\n<re.Match object; span=(173, 174), match='2'>\n<re.Match object; span=(174, 175), match='3'>\n<re.Match object; span=(175, 176), match='4'>\n<re.Match object; span=(176, 177), match='\\n'>\n<re.Match object; span=(177, 178), match='1'>\n<re.Match object; span=(178, 179), match='2'>\n<re.Match object; span=(179, 180), match='3'>\n<re.Match object; span=(180, 181), match='*'>\n<re.Match object; span=(181, 182), match='5'>\n<re.Match object; span=(182, 183), match='5'>\n<re.Match object; span=(183, 184), match='5'>\n<re.Match object; span=(184, 185), match='*'>\n<re.Match object; span=(185, 186), match='1'>\n<re.Match object; span=(186, 187), match='2'>\n<re.Match object; span=(187, 188), match='3'>\n<re.Match object; span=(188, 189), match='4'>\n<re.Match object; span=(189, 190), match='\\n'>\n<re.Match object; span=(190, 191), match='8'>\n<re.Match object; span=(191, 192), match='0'>\n<re.Match object; span=(192, 193), match='0'>\n<re.Match object; span=(193, 194), match='-'>\n<re.Match object; span=(194, 195), match='5'>\n<re.Match object; span=(195, 196), match='5'>\n<re.Match object; span=(196, 197), match='5'>\n<re.Match object; span=(197, 198), match='-'>\n<re.Match object; span=(198, 199), match='1'>\n<re.Match object; span=(199, 200), match='2'>\n<re.Match object; span=(200, 201), match='3'>\n<re.Match object; span=(201, 202), match='4'>\n<re.Match object; span=(202, 203), match='\\n'>\n<re.Match object; span=(203, 204), match='9'>\n<re.Match object; span=(204, 205), match='0'>\n<re.Match object; span=(205, 206), match='0'>\n<re.Match object; span=(206, 207), match='-'>\n<re.Match object; span=(207, 208), match='5'>\n<re.Match object; span=(208, 209), match='5'>\n<re.Match object; span=(209, 210), match='5'>\n<re.Match object; span=(210, 211), match='-'>\n<re.Match object; span=(211, 212), match='1'>\n<re.Match object; span=(212, 213), match='2'>\n<re.Match object; span=(213, 214), match='3'>\n<re.Match object; span=(214, 215), match='4'>\n<re.Match object; span=(215, 216), match='\\n'>\n<re.Match object; span=(218, 219), match='.'>\n<re.Match object; span=(219, 220), match=' '>\n<re.Match object; span=(227, 228), match='\\n'>\n<re.Match object; span=(230, 231), match=' '>\n<re.Match object; span=(236, 237), match='\\n'>\n<re.Match object; span=(239, 240), match=' '>\n<re.Match object; span=(245, 246), match='\\n'>\n<re.Match object; span=(249, 250), match='.'>\n<re.Match object; span=(250, 251), match=' '>\n<re.Match object; span=(259, 260), match='\\n'>\n<re.Match object; span=(262, 263), match='.'>\n<re.Match object; span=(263, 264), match=' '>\n<re.Match object; span=(265, 266), match='\\n'>\n<re.Match object; span=(269, 270), match='\\n'>\n<re.Match object; span=(273, 274), match='\\n'>\n<re.Match object; span=(277, 278), match='\\n'>\n"
    }
   ],
   "source": [
    "# match every character not in charset using ^\n",
    "pat_iter(r'[^a-zA-Z]', text_to_search)"
   ]
  },
  {
   "cell_type": "code",
   "execution_count": 12,
   "metadata": {},
   "outputs": [
    {
     "output_type": "stream",
     "name": "stdout",
     "text": "<re.Match object; span=(270, 273), match='mat'>\n<re.Match object; span=(274, 277), match='cat'>\n"
    }
   ],
   "source": [
    "# match every 3 character word except bat\n",
    "pat_iter(r'[^b]at', text_to_search)"
   ]
  },
  {
   "cell_type": "code",
   "execution_count": 13,
   "metadata": {},
   "outputs": [
    {
     "output_type": "stream",
     "name": "stdout",
     "text": "<re.Match object; span=(151, 163), match='321-555-4321'>\n<re.Match object; span=(164, 176), match='123.555.1234'>\n<re.Match object; span=(190, 202), match='800-555-1234'>\n<re.Match object; span=(203, 215), match='900-555-1234'>\n"
    }
   ],
   "source": [
    "# quantifier\n",
    "pat_iter(r'\\d{3}[.-]\\d{3}[.-]\\d{4}', text_to_search)"
   ]
  },
  {
   "cell_type": "code",
   "execution_count": 14,
   "metadata": {},
   "outputs": [
    {
     "output_type": "stream",
     "name": "stdout",
     "text": "<re.Match object; span=(216, 227), match='Mr. Schafer'>\n<re.Match object; span=(228, 236), match='Mr Smith'>\n<re.Match object; span=(260, 265), match='Mr. T'>\n"
    }
   ],
   "source": [
    "# match names for Mr\n",
    "pat_iter(r'Mr\\.?\\s[A-Za-z]\\w*', text_to_search)"
   ]
  },
  {
   "cell_type": "code",
   "execution_count": 15,
   "metadata": {},
   "outputs": [
    {
     "output_type": "stream",
     "name": "stdout",
     "text": "<re.Match object; span=(216, 227), match='Mr. Schafer'>\n<re.Match object; span=(228, 236), match='Mr Smith'>\n<re.Match object; span=(237, 245), match='Ms Davis'>\n<re.Match object; span=(246, 259), match='Mrs. Robinson'>\n<re.Match object; span=(260, 265), match='Mr. T'>\n"
    }
   ],
   "source": [
    "# match all names using groups ()\n",
    "pat_iter(r'M(r|s|rs)\\.?\\s[A-Za-z]\\w*', text_to_search)"
   ]
  },
  {
   "cell_type": "code",
   "execution_count": 16,
   "metadata": {},
   "outputs": [
    {
     "output_type": "stream",
     "name": "stdout",
     "text": "<re.Match object; span=(1, 24), match='CoreyMSchafer@gmail.com'>\n"
    }
   ],
   "source": [
    "# try matching all these emails\n",
    "emails = '''\n",
    "CoreyMSchafer@gmail.com\n",
    "corey.schafer@university.edu\n",
    "corey-321-schafer@my-work.net\n",
    "'''\n",
    "pat_iter(r'[a-zA-Z]+@[a-z]+\\.com', emails)"
   ]
  },
  {
   "cell_type": "code",
   "execution_count": 17,
   "metadata": {},
   "outputs": [
    {
     "output_type": "stream",
     "name": "stdout",
     "text": "<re.Match object; span=(1, 24), match='CoreyMSchafer@gmail.com'>\n<re.Match object; span=(25, 53), match='corey.schafer@university.edu'>\n<re.Match object; span=(54, 83), match='corey-321-schafer@my-work.net'>\n"
    }
   ],
   "source": [
    "pat_iter(r'[a-zA-Z.0-9-]+@[a-z-]+\\.(com|edu|net)', emails)"
   ]
  },
  {
   "cell_type": "code",
   "execution_count": 18,
   "metadata": {},
   "outputs": [
    {
     "output_type": "stream",
     "name": "stdout",
     "text": "<re.Match object; span=(1, 23), match='https://www.google.com'>\n<re.Match object; span=(24, 42), match='http://coreyms.com'>\n<re.Match object; span=(43, 62), match='https://youtube.com'>\n<re.Match object; span=(63, 83), match='https://www.nasa.gov'>\n"
    }
   ],
   "source": [
    "# try matching all these urls\n",
    "urls = '''\n",
    "https://www.google.com\n",
    "http://coreyms.com\n",
    "https://youtube.com\n",
    "https://www.nasa.gov\n",
    "'''\n",
    "pat_iter(r'https?://[a-z.]+\\.(com|gov)', urls)"
   ]
  },
  {
   "cell_type": "code",
   "execution_count": 19,
   "metadata": {},
   "outputs": [
    {
     "output_type": "stream",
     "name": "stdout",
     "text": "\ngoogle.com\ncoreyms.com\nyoutube.com\nnasa.gov\n\n"
    }
   ],
   "source": [
    "# using groups to capture information, sub()\n",
    "# grab only top level domain name (google.com, youtube.com, nasa.gov)\n",
    "pattern = re.compile(r'https?://(www\\.)?(\\w+)(\\.\\w+)')\n",
    "\n",
    "# here \\2\\3 are groups 2 which is domain name and group 3 which is top level deomain name\n",
    "print(pattern.sub(r'\\2\\3', urls))"
   ]
  },
  {
   "cell_type": "code",
   "execution_count": 20,
   "metadata": {},
   "outputs": [
    {
     "output_type": "execute_result",
     "data": {
      "text/plain": "['Mr. Schafer', 'Mr Smith', 'Mr. T']"
     },
     "metadata": {},
     "execution_count": 20
    }
   ],
   "source": [
    "# findall returns a list of all matched patterns\n",
    "pattern = re.compile(r'Mr\\.?\\s[A-Za-z]\\w*')\n",
    "pattern.findall(text_to_search)"
   ]
  },
  {
   "cell_type": "code",
   "execution_count": 21,
   "metadata": {},
   "outputs": [
    {
     "output_type": "execute_result",
     "data": {
      "text/plain": "<re.Match object; span=(8, 16), match='sentence'>"
     },
     "metadata": {},
     "execution_count": 21
    }
   ],
   "source": [
    "# to search within a string, returns only first pattern match\n",
    "pattern = re.compile(r'sentence')\n",
    "pattern.search(sentence)"
   ]
  },
  {
   "cell_type": "code",
   "execution_count": 22,
   "metadata": {},
   "outputs": [
    {
     "output_type": "execute_result",
     "data": {
      "text/plain": "['sentence', 'seNtEnce', 'sEnteNce', 'SentenCe']"
     },
     "metadata": {},
     "execution_count": 22
    }
   ],
   "source": [
    "# to search for a pattern, ignoring case sensitivity\n",
    "pattern = re.compile(r'sentence', re.IGNORECASE)\n",
    "pattern.findall(sentence)"
   ]
  },
  {
   "cell_type": "code",
   "execution_count": 23,
   "metadata": {},
   "outputs": [
    {
     "output_type": "stream",
     "name": "stdout",
     "text": "<re.Match object; span=(0, 5), match='Start'>\n<re.Match object; span=(6, 7), match='a'>\n<re.Match object; span=(8, 16), match='sentence'>\n<re.Match object; span=(17, 20), match='and'>\n<re.Match object; span=(21, 25), match='then'>\n<re.Match object; span=(26, 31), match='bring'>\n<re.Match object; span=(32, 34), match='it'>\n<re.Match object; span=(35, 37), match='to'>\n<re.Match object; span=(38, 40), match='an'>\n<re.Match object; span=(41, 44), match='end'>\n<re.Match object; span=(45, 53), match='seNtEnce'>\n<re.Match object; span=(54, 62), match='sEnteNce'>\n<re.Match object; span=(63, 71), match='SentenCe'>\n"
    }
   ],
   "source": [
    "pat_iter(r'\\w+', sentence)"
   ]
  }
 ],
 "metadata": {
  "language_info": {
   "codemirror_mode": {
    "name": "ipython",
    "version": 3
   },
   "file_extension": ".py",
   "mimetype": "text/x-python",
   "name": "python",
   "nbconvert_exporter": "python",
   "pygments_lexer": "ipython3",
   "version": "3.8.0-final"
  },
  "orig_nbformat": 2,
  "kernelspec": {
   "name": "python38064bita57f647e671a43da983c0a90bfe6fada",
   "display_name": "Python 3.8.0 64-bit"
  }
 },
 "nbformat": 4,
 "nbformat_minor": 2
}