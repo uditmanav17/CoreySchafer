{
 "cells": [
  {
   "cell_type": "markdown",
   "metadata": {},
   "source": [
    "# Working with itertools"
   ]
  },
  {
   "cell_type": "code",
   "execution_count": 2,
   "metadata": {},
   "outputs": [],
   "source": [
    "import itertools as it"
   ]
  },
  {
   "cell_type": "markdown",
   "metadata": {},
   "source": [
    "## Counting"
   ]
  },
  {
   "cell_type": "code",
   "execution_count": 5,
   "metadata": {},
   "outputs": [
    {
     "name": "stdout",
     "output_type": "stream",
     "text": [
      "0\n",
      "1\n",
      "2\n",
      "3\n",
      "4\n",
      "5\n",
      "6\n",
      "7\n",
      "8\n",
      "9\n",
      "10\n"
     ]
    }
   ],
   "source": [
    "counter = it.count()\n",
    "\n",
    "for num in counter:\n",
    "    print(num)\n",
    "    if num == 10:\n",
    "        break"
   ]
  },
  {
   "cell_type": "code",
   "execution_count": 6,
   "metadata": {},
   "outputs": [
    {
     "name": "stdout",
     "output_type": "stream",
     "text": [
      "11\n",
      "12\n",
      "13\n",
      "14\n"
     ]
    }
   ],
   "source": [
    "print(next(counter))\n",
    "print(next(counter))\n",
    "print(next(counter))\n",
    "print(next(counter))"
   ]
  },
  {
   "cell_type": "code",
   "execution_count": 9,
   "metadata": {},
   "outputs": [
    {
     "name": "stdout",
     "output_type": "stream",
     "text": [
      "5\n",
      "4.2\n"
     ]
    }
   ],
   "source": [
    "counter = it.count(start=5, step=-.8)\n",
    "print(next(counter))\n",
    "print(next(counter))"
   ]
  },
  {
   "cell_type": "markdown",
   "metadata": {},
   "source": [
    "## zip_longest"
   ]
  },
  {
   "cell_type": "code",
   "execution_count": 11,
   "metadata": {},
   "outputs": [
    {
     "data": {
      "text/plain": [
       "[(5, 0), (6, 1), (7, 2), (8, 3), (None, 4), (None, 5), (None, 6)]"
      ]
     },
     "execution_count": 11,
     "metadata": {},
     "output_type": "execute_result"
    }
   ],
   "source": [
    "list(it.zip_longest(range(5, 9), range(7)))"
   ]
  },
  {
   "cell_type": "markdown",
   "metadata": {},
   "source": [
    "## Cycle"
   ]
  },
  {
   "cell_type": "code",
   "execution_count": 13,
   "metadata": {},
   "outputs": [
    {
     "name": "stdout",
     "output_type": "stream",
     "text": [
      "['On', 'Off', '?', 'On', 'Off', '?', 'On', 'Off', '?', 'On']\n"
     ]
    }
   ],
   "source": [
    "# cycles through specified list\n",
    "cycle_counter = it.cycle([\"On\", \"Off\", \"?\"])\n",
    "\n",
    "print([next(cycle_counter) for _ in range(10)])"
   ]
  },
  {
   "cell_type": "markdown",
   "metadata": {},
   "source": [
    "## Repeat"
   ]
  },
  {
   "cell_type": "code",
   "execution_count": 34,
   "metadata": {},
   "outputs": [
    {
     "data": {
      "text/plain": [
       "[2, 2, 2, 2, 2]"
      ]
     },
     "execution_count": 34,
     "metadata": {},
     "output_type": "execute_result"
    }
   ],
   "source": [
    "# repeat certain character infinite times\n",
    "repeater = it.repeat(2)\n",
    "\n",
    "list(next(repeater) for _ in range(5))"
   ]
  },
  {
   "cell_type": "code",
   "execution_count": 22,
   "metadata": {},
   "outputs": [
    {
     "ename": "RuntimeError",
     "evalue": "generator raised StopIteration",
     "output_type": "error",
     "traceback": [
      "\u001b[1;31m---------------------------------------------------------------------------\u001b[0m",
      "\u001b[1;31mStopIteration\u001b[0m                             Traceback (most recent call last)",
      "\u001b[1;32m<ipython-input-22-3326c74eadbf>\u001b[0m in \u001b[0;36m<genexpr>\u001b[1;34m(.0)\u001b[0m\n\u001b[0;32m      2\u001b[0m \u001b[1;33m\u001b[0m\u001b[0m\n\u001b[1;32m----> 3\u001b[1;33m \u001b[0mprint\u001b[0m\u001b[1;33m(\u001b[0m\u001b[0mlist\u001b[0m\u001b[1;33m(\u001b[0m\u001b[0mnext\u001b[0m\u001b[1;33m(\u001b[0m\u001b[0mrepeater\u001b[0m\u001b[1;33m)\u001b[0m \u001b[1;32mfor\u001b[0m \u001b[0m_\u001b[0m \u001b[1;32min\u001b[0m \u001b[0mrange\u001b[0m\u001b[1;33m(\u001b[0m\u001b[1;36m5\u001b[0m\u001b[1;33m)\u001b[0m\u001b[1;33m)\u001b[0m\u001b[1;33m)\u001b[0m\u001b[1;33m\u001b[0m\u001b[1;33m\u001b[0m\u001b[0m\n\u001b[0m",
      "\u001b[1;31mStopIteration\u001b[0m: ",
      "\nThe above exception was the direct cause of the following exception:\n",
      "\u001b[1;31mRuntimeError\u001b[0m                              Traceback (most recent call last)",
      "\u001b[1;32m<ipython-input-22-3326c74eadbf>\u001b[0m in \u001b[0;36m<module>\u001b[1;34m\u001b[0m\n\u001b[0;32m      1\u001b[0m \u001b[0mrepeater\u001b[0m \u001b[1;33m=\u001b[0m \u001b[0mit\u001b[0m\u001b[1;33m.\u001b[0m\u001b[0mrepeat\u001b[0m\u001b[1;33m(\u001b[0m\u001b[1;36m2\u001b[0m\u001b[1;33m,\u001b[0m \u001b[0mtimes\u001b[0m\u001b[1;33m=\u001b[0m\u001b[1;36m3\u001b[0m\u001b[1;33m)\u001b[0m\u001b[1;33m\u001b[0m\u001b[1;33m\u001b[0m\u001b[0m\n\u001b[0;32m      2\u001b[0m \u001b[1;33m\u001b[0m\u001b[0m\n\u001b[1;32m----> 3\u001b[1;33m \u001b[0mprint\u001b[0m\u001b[1;33m(\u001b[0m\u001b[0mlist\u001b[0m\u001b[1;33m(\u001b[0m\u001b[0mnext\u001b[0m\u001b[1;33m(\u001b[0m\u001b[0mrepeater\u001b[0m\u001b[1;33m)\u001b[0m \u001b[1;32mfor\u001b[0m \u001b[0m_\u001b[0m \u001b[1;32min\u001b[0m \u001b[0mrange\u001b[0m\u001b[1;33m(\u001b[0m\u001b[1;36m5\u001b[0m\u001b[1;33m)\u001b[0m\u001b[1;33m)\u001b[0m\u001b[1;33m)\u001b[0m\u001b[1;33m\u001b[0m\u001b[1;33m\u001b[0m\u001b[0m\n\u001b[0m",
      "\u001b[1;31mRuntimeError\u001b[0m: generator raised StopIteration"
     ]
    }
   ],
   "source": [
    "# repeater throws stopIteration if times is specified\n",
    "repeater = it.repeat(2, times=3)\n",
    "\n",
    "print(list(next(repeater) for _ in range(5)))"
   ]
  },
  {
   "cell_type": "code",
   "execution_count": 24,
   "metadata": {},
   "outputs": [
    {
     "name": "stdout",
     "output_type": "stream",
     "text": [
      "2\n",
      "2\n",
      "2\n"
     ]
    }
   ],
   "source": [
    "# for loop automatically handles stopIteration\n",
    "repeater = it.repeat(2, times=3)\n",
    "\n",
    "for val in repeater:\n",
    "    print(val)"
   ]
  },
  {
   "cell_type": "code",
   "execution_count": 33,
   "metadata": {},
   "outputs": [
    {
     "data": {
      "text/plain": [
       "[0, 1, 8, 27, 64, 125, 216, 343, 512, 729]"
      ]
     },
     "execution_count": 33,
     "metadata": {},
     "output_type": "execute_result"
    }
   ],
   "source": [
    "# example\n",
    "list(map(pow, range(10), it.repeat(3)))"
   ]
  },
  {
   "cell_type": "markdown",
   "metadata": {},
   "source": [
    "## Starmap"
   ]
  },
  {
   "cell_type": "code",
   "execution_count": 32,
   "metadata": {},
   "outputs": [
    {
     "data": {
      "text/plain": [
       "[1, 32, 64, 4.0]"
      ]
     },
     "execution_count": 32,
     "metadata": {},
     "output_type": "execute_result"
    }
   ],
   "source": [
    "list(it.starmap(pow, [(1, 3), (2, 5), (8, 2), (16, 0.5)]))"
   ]
  },
  {
   "cell_type": "markdown",
   "metadata": {},
   "source": [
    "## Permutations and Combinations\n",
    "* Combination - order doesn't matter\n",
    "* Permutation - order matters"
   ]
  },
  {
   "cell_type": "code",
   "execution_count": 28,
   "metadata": {},
   "outputs": [],
   "source": [
    "letters = ['a', 'b', 'c', 'd']\n",
    "numbers = [0, 1, 2, 3]\n",
    "names = ['Corey', 'Nicole']"
   ]
  },
  {
   "cell_type": "code",
   "execution_count": 31,
   "metadata": {},
   "outputs": [
    {
     "data": {
      "text/plain": [
       "[('a', 'b'), ('a', 'c'), ('a', 'd'), ('b', 'c'), ('b', 'd'), ('c', 'd')]"
      ]
     },
     "execution_count": 31,
     "metadata": {},
     "output_type": "execute_result"
    }
   ],
   "source": [
    "# all combinations of 2 values\n",
    "list(it.combinations(letters, 2))"
   ]
  },
  {
   "cell_type": "code",
   "execution_count": 35,
   "metadata": {},
   "outputs": [
    {
     "data": {
      "text/plain": [
       "[('a', 'b'),\n",
       " ('a', 'c'),\n",
       " ('a', 'd'),\n",
       " ('b', 'a'),\n",
       " ('b', 'c'),\n",
       " ('b', 'd'),\n",
       " ('c', 'a'),\n",
       " ('c', 'b'),\n",
       " ('c', 'd'),\n",
       " ('d', 'a'),\n",
       " ('d', 'b'),\n",
       " ('d', 'c')]"
      ]
     },
     "execution_count": 35,
     "metadata": {},
     "output_type": "execute_result"
    }
   ],
   "source": [
    "list(it.permutations(letters, 2))"
   ]
  },
  {
   "cell_type": "code",
   "execution_count": 36,
   "metadata": {},
   "outputs": [
    {
     "data": {
      "text/plain": [
       "[(0, 0, 0, 0),\n",
       " (0, 0, 0, 1),\n",
       " (0, 0, 0, 2),\n",
       " (0, 0, 0, 3),\n",
       " (0, 0, 1, 0),\n",
       " (0, 0, 1, 1),\n",
       " (0, 0, 1, 2),\n",
       " (0, 0, 1, 3),\n",
       " (0, 0, 2, 0),\n",
       " (0, 0, 2, 1),\n",
       " (0, 0, 2, 2),\n",
       " (0, 0, 2, 3),\n",
       " (0, 0, 3, 0),\n",
       " (0, 0, 3, 1),\n",
       " (0, 0, 3, 2),\n",
       " (0, 0, 3, 3),\n",
       " (0, 1, 0, 0),\n",
       " (0, 1, 0, 1),\n",
       " (0, 1, 0, 2),\n",
       " (0, 1, 0, 3),\n",
       " (0, 1, 1, 0),\n",
       " (0, 1, 1, 1),\n",
       " (0, 1, 1, 2),\n",
       " (0, 1, 1, 3),\n",
       " (0, 1, 2, 0),\n",
       " (0, 1, 2, 1),\n",
       " (0, 1, 2, 2),\n",
       " (0, 1, 2, 3),\n",
       " (0, 1, 3, 0),\n",
       " (0, 1, 3, 1),\n",
       " (0, 1, 3, 2),\n",
       " (0, 1, 3, 3),\n",
       " (0, 2, 0, 0),\n",
       " (0, 2, 0, 1),\n",
       " (0, 2, 0, 2),\n",
       " (0, 2, 0, 3),\n",
       " (0, 2, 1, 0),\n",
       " (0, 2, 1, 1),\n",
       " (0, 2, 1, 2),\n",
       " (0, 2, 1, 3),\n",
       " (0, 2, 2, 0),\n",
       " (0, 2, 2, 1),\n",
       " (0, 2, 2, 2),\n",
       " (0, 2, 2, 3),\n",
       " (0, 2, 3, 0),\n",
       " (0, 2, 3, 1),\n",
       " (0, 2, 3, 2),\n",
       " (0, 2, 3, 3),\n",
       " (0, 3, 0, 0),\n",
       " (0, 3, 0, 1),\n",
       " (0, 3, 0, 2),\n",
       " (0, 3, 0, 3),\n",
       " (0, 3, 1, 0),\n",
       " (0, 3, 1, 1),\n",
       " (0, 3, 1, 2),\n",
       " (0, 3, 1, 3),\n",
       " (0, 3, 2, 0),\n",
       " (0, 3, 2, 1),\n",
       " (0, 3, 2, 2),\n",
       " (0, 3, 2, 3),\n",
       " (0, 3, 3, 0),\n",
       " (0, 3, 3, 1),\n",
       " (0, 3, 3, 2),\n",
       " (0, 3, 3, 3),\n",
       " (1, 0, 0, 0),\n",
       " (1, 0, 0, 1),\n",
       " (1, 0, 0, 2),\n",
       " (1, 0, 0, 3),\n",
       " (1, 0, 1, 0),\n",
       " (1, 0, 1, 1),\n",
       " (1, 0, 1, 2),\n",
       " (1, 0, 1, 3),\n",
       " (1, 0, 2, 0),\n",
       " (1, 0, 2, 1),\n",
       " (1, 0, 2, 2),\n",
       " (1, 0, 2, 3),\n",
       " (1, 0, 3, 0),\n",
       " (1, 0, 3, 1),\n",
       " (1, 0, 3, 2),\n",
       " (1, 0, 3, 3),\n",
       " (1, 1, 0, 0),\n",
       " (1, 1, 0, 1),\n",
       " (1, 1, 0, 2),\n",
       " (1, 1, 0, 3),\n",
       " (1, 1, 1, 0),\n",
       " (1, 1, 1, 1),\n",
       " (1, 1, 1, 2),\n",
       " (1, 1, 1, 3),\n",
       " (1, 1, 2, 0),\n",
       " (1, 1, 2, 1),\n",
       " (1, 1, 2, 2),\n",
       " (1, 1, 2, 3),\n",
       " (1, 1, 3, 0),\n",
       " (1, 1, 3, 1),\n",
       " (1, 1, 3, 2),\n",
       " (1, 1, 3, 3),\n",
       " (1, 2, 0, 0),\n",
       " (1, 2, 0, 1),\n",
       " (1, 2, 0, 2),\n",
       " (1, 2, 0, 3),\n",
       " (1, 2, 1, 0),\n",
       " (1, 2, 1, 1),\n",
       " (1, 2, 1, 2),\n",
       " (1, 2, 1, 3),\n",
       " (1, 2, 2, 0),\n",
       " (1, 2, 2, 1),\n",
       " (1, 2, 2, 2),\n",
       " (1, 2, 2, 3),\n",
       " (1, 2, 3, 0),\n",
       " (1, 2, 3, 1),\n",
       " (1, 2, 3, 2),\n",
       " (1, 2, 3, 3),\n",
       " (1, 3, 0, 0),\n",
       " (1, 3, 0, 1),\n",
       " (1, 3, 0, 2),\n",
       " (1, 3, 0, 3),\n",
       " (1, 3, 1, 0),\n",
       " (1, 3, 1, 1),\n",
       " (1, 3, 1, 2),\n",
       " (1, 3, 1, 3),\n",
       " (1, 3, 2, 0),\n",
       " (1, 3, 2, 1),\n",
       " (1, 3, 2, 2),\n",
       " (1, 3, 2, 3),\n",
       " (1, 3, 3, 0),\n",
       " (1, 3, 3, 1),\n",
       " (1, 3, 3, 2),\n",
       " (1, 3, 3, 3),\n",
       " (2, 0, 0, 0),\n",
       " (2, 0, 0, 1),\n",
       " (2, 0, 0, 2),\n",
       " (2, 0, 0, 3),\n",
       " (2, 0, 1, 0),\n",
       " (2, 0, 1, 1),\n",
       " (2, 0, 1, 2),\n",
       " (2, 0, 1, 3),\n",
       " (2, 0, 2, 0),\n",
       " (2, 0, 2, 1),\n",
       " (2, 0, 2, 2),\n",
       " (2, 0, 2, 3),\n",
       " (2, 0, 3, 0),\n",
       " (2, 0, 3, 1),\n",
       " (2, 0, 3, 2),\n",
       " (2, 0, 3, 3),\n",
       " (2, 1, 0, 0),\n",
       " (2, 1, 0, 1),\n",
       " (2, 1, 0, 2),\n",
       " (2, 1, 0, 3),\n",
       " (2, 1, 1, 0),\n",
       " (2, 1, 1, 1),\n",
       " (2, 1, 1, 2),\n",
       " (2, 1, 1, 3),\n",
       " (2, 1, 2, 0),\n",
       " (2, 1, 2, 1),\n",
       " (2, 1, 2, 2),\n",
       " (2, 1, 2, 3),\n",
       " (2, 1, 3, 0),\n",
       " (2, 1, 3, 1),\n",
       " (2, 1, 3, 2),\n",
       " (2, 1, 3, 3),\n",
       " (2, 2, 0, 0),\n",
       " (2, 2, 0, 1),\n",
       " (2, 2, 0, 2),\n",
       " (2, 2, 0, 3),\n",
       " (2, 2, 1, 0),\n",
       " (2, 2, 1, 1),\n",
       " (2, 2, 1, 2),\n",
       " (2, 2, 1, 3),\n",
       " (2, 2, 2, 0),\n",
       " (2, 2, 2, 1),\n",
       " (2, 2, 2, 2),\n",
       " (2, 2, 2, 3),\n",
       " (2, 2, 3, 0),\n",
       " (2, 2, 3, 1),\n",
       " (2, 2, 3, 2),\n",
       " (2, 2, 3, 3),\n",
       " (2, 3, 0, 0),\n",
       " (2, 3, 0, 1),\n",
       " (2, 3, 0, 2),\n",
       " (2, 3, 0, 3),\n",
       " (2, 3, 1, 0),\n",
       " (2, 3, 1, 1),\n",
       " (2, 3, 1, 2),\n",
       " (2, 3, 1, 3),\n",
       " (2, 3, 2, 0),\n",
       " (2, 3, 2, 1),\n",
       " (2, 3, 2, 2),\n",
       " (2, 3, 2, 3),\n",
       " (2, 3, 3, 0),\n",
       " (2, 3, 3, 1),\n",
       " (2, 3, 3, 2),\n",
       " (2, 3, 3, 3),\n",
       " (3, 0, 0, 0),\n",
       " (3, 0, 0, 1),\n",
       " (3, 0, 0, 2),\n",
       " (3, 0, 0, 3),\n",
       " (3, 0, 1, 0),\n",
       " (3, 0, 1, 1),\n",
       " (3, 0, 1, 2),\n",
       " (3, 0, 1, 3),\n",
       " (3, 0, 2, 0),\n",
       " (3, 0, 2, 1),\n",
       " (3, 0, 2, 2),\n",
       " (3, 0, 2, 3),\n",
       " (3, 0, 3, 0),\n",
       " (3, 0, 3, 1),\n",
       " (3, 0, 3, 2),\n",
       " (3, 0, 3, 3),\n",
       " (3, 1, 0, 0),\n",
       " (3, 1, 0, 1),\n",
       " (3, 1, 0, 2),\n",
       " (3, 1, 0, 3),\n",
       " (3, 1, 1, 0),\n",
       " (3, 1, 1, 1),\n",
       " (3, 1, 1, 2),\n",
       " (3, 1, 1, 3),\n",
       " (3, 1, 2, 0),\n",
       " (3, 1, 2, 1),\n",
       " (3, 1, 2, 2),\n",
       " (3, 1, 2, 3),\n",
       " (3, 1, 3, 0),\n",
       " (3, 1, 3, 1),\n",
       " (3, 1, 3, 2),\n",
       " (3, 1, 3, 3),\n",
       " (3, 2, 0, 0),\n",
       " (3, 2, 0, 1),\n",
       " (3, 2, 0, 2),\n",
       " (3, 2, 0, 3),\n",
       " (3, 2, 1, 0),\n",
       " (3, 2, 1, 1),\n",
       " (3, 2, 1, 2),\n",
       " (3, 2, 1, 3),\n",
       " (3, 2, 2, 0),\n",
       " (3, 2, 2, 1),\n",
       " (3, 2, 2, 2),\n",
       " (3, 2, 2, 3),\n",
       " (3, 2, 3, 0),\n",
       " (3, 2, 3, 1),\n",
       " (3, 2, 3, 2),\n",
       " (3, 2, 3, 3),\n",
       " (3, 3, 0, 0),\n",
       " (3, 3, 0, 1),\n",
       " (3, 3, 0, 2),\n",
       " (3, 3, 0, 3),\n",
       " (3, 3, 1, 0),\n",
       " (3, 3, 1, 1),\n",
       " (3, 3, 1, 2),\n",
       " (3, 3, 1, 3),\n",
       " (3, 3, 2, 0),\n",
       " (3, 3, 2, 1),\n",
       " (3, 3, 2, 2),\n",
       " (3, 3, 2, 3),\n",
       " (3, 3, 3, 0),\n",
       " (3, 3, 3, 1),\n",
       " (3, 3, 3, 2),\n",
       " (3, 3, 3, 3)]"
      ]
     },
     "execution_count": 36,
     "metadata": {},
     "output_type": "execute_result"
    }
   ],
   "source": [
    "# 4 digit code using \"numbers\" list, with repeats\n",
    "list(it.product(numbers, repeat=4))  # permutations_with_replacement"
   ]
  },
  {
   "cell_type": "code",
   "execution_count": 37,
   "metadata": {},
   "outputs": [
    {
     "data": {
      "text/plain": [
       "[(0, 0, 0, 0),\n",
       " (0, 0, 0, 1),\n",
       " (0, 0, 0, 2),\n",
       " (0, 0, 0, 3),\n",
       " (0, 0, 1, 1),\n",
       " (0, 0, 1, 2),\n",
       " (0, 0, 1, 3),\n",
       " (0, 0, 2, 2),\n",
       " (0, 0, 2, 3),\n",
       " (0, 0, 3, 3),\n",
       " (0, 1, 1, 1),\n",
       " (0, 1, 1, 2),\n",
       " (0, 1, 1, 3),\n",
       " (0, 1, 2, 2),\n",
       " (0, 1, 2, 3),\n",
       " (0, 1, 3, 3),\n",
       " (0, 2, 2, 2),\n",
       " (0, 2, 2, 3),\n",
       " (0, 2, 3, 3),\n",
       " (0, 3, 3, 3),\n",
       " (1, 1, 1, 1),\n",
       " (1, 1, 1, 2),\n",
       " (1, 1, 1, 3),\n",
       " (1, 1, 2, 2),\n",
       " (1, 1, 2, 3),\n",
       " (1, 1, 3, 3),\n",
       " (1, 2, 2, 2),\n",
       " (1, 2, 2, 3),\n",
       " (1, 2, 3, 3),\n",
       " (1, 3, 3, 3),\n",
       " (2, 2, 2, 2),\n",
       " (2, 2, 2, 3),\n",
       " (2, 2, 3, 3),\n",
       " (2, 3, 3, 3),\n",
       " (3, 3, 3, 3)]"
      ]
     },
     "execution_count": 37,
     "metadata": {},
     "output_type": "execute_result"
    }
   ],
   "source": [
    "list(it.combinations_with_replacement(numbers, 4))"
   ]
  },
  {
   "cell_type": "markdown",
   "metadata": {},
   "source": [
    "## chain"
   ]
  },
  {
   "cell_type": "code",
   "execution_count": 38,
   "metadata": {},
   "outputs": [
    {
     "data": {
      "text/plain": [
       "['a', 'b', 'c', 'd', 0, 1, 2, 3, 'Corey', 'Nicole']"
      ]
     },
     "execution_count": 38,
     "metadata": {},
     "output_type": "execute_result"
    }
   ],
   "source": [
    "list(it.chain(letters, numbers, names))"
   ]
  },
  {
   "cell_type": "markdown",
   "metadata": {},
   "source": [
    "## islice\n",
    "* slice from an iterator"
   ]
  },
  {
   "cell_type": "code",
   "execution_count": 41,
   "metadata": {},
   "outputs": [
    {
     "name": "stdout",
     "output_type": "stream",
     "text": [
      "[0, 1, 2, 3, 4, 5, 6, 7, 8]\n",
      "[15, 16, 17, 18, 19, 20, 21, 22]\n",
      "[10, 12, 14, 16, 18, 20, 22, 24, 26, 28]\n"
     ]
    }
   ],
   "source": [
    "# example\n",
    "print(list(it.islice(range(29), 9)))\n",
    "print(list(it.islice(range(29), 15, 23)))\n",
    "print(list(it.islice(range(29), 10, 29, 2)))"
   ]
  },
  {
   "cell_type": "markdown",
   "metadata": {},
   "source": [
    "## compress"
   ]
  },
  {
   "cell_type": "code",
   "execution_count": 43,
   "metadata": {},
   "outputs": [
    {
     "data": {
      "text/plain": [
       "['a', 'b', 'd']"
      ]
     },
     "execution_count": 43,
     "metadata": {},
     "output_type": "execute_result"
    }
   ],
   "source": [
    "letters = ['a', 'b', 'c', 'd']\n",
    "selectors = [True, True, False, True]\n",
    "\n",
    "result = it.compress(letters, selectors)\n",
    "list(result)"
   ]
  },
  {
   "cell_type": "markdown",
   "metadata": {},
   "source": [
    "## Filter/ filterfalse/ dropwhile\n",
    "* filter - in built filter\n",
    "* filterfalse - return values where false\n",
    "* dropwhile - drop values till hit violating condition, after that return everything as is\n",
    "* takewhile - opposite of dropwhile"
   ]
  },
  {
   "cell_type": "code",
   "execution_count": 45,
   "metadata": {},
   "outputs": [],
   "source": [
    "# sample filter function\n",
    "def lt_2(n):\n",
    "    return n < 2"
   ]
  },
  {
   "cell_type": "code",
   "execution_count": 51,
   "metadata": {},
   "outputs": [
    {
     "name": "stdout",
     "output_type": "stream",
     "text": [
      "Filter - [0, 1, 1, 0]\n"
     ]
    }
   ],
   "source": [
    "numbers = [0, 1, 2, 3, 2, 1, 0]\n",
    "\n",
    "print(f\"Filter - {list(filter(lt_2, numbers))}\")"
   ]
  },
  {
   "cell_type": "code",
   "execution_count": 52,
   "metadata": {},
   "outputs": [
    {
     "name": "stdout",
     "output_type": "stream",
     "text": [
      "Fitler False - [2, 3, 2]\n"
     ]
    }
   ],
   "source": [
    "print(f\"Fitler False - {list(it.filterfalse(lt_2, numbers))}\")"
   ]
  },
  {
   "cell_type": "code",
   "execution_count": 54,
   "metadata": {},
   "outputs": [
    {
     "name": "stdout",
     "output_type": "stream",
     "text": [
      "drop While - [2, 3, 2, 1, 0]\n"
     ]
    }
   ],
   "source": [
    "print(f\"drop While - {list(it.dropwhile(lt_2, numbers))}\")"
   ]
  },
  {
   "cell_type": "code",
   "execution_count": 55,
   "metadata": {},
   "outputs": [
    {
     "name": "stdout",
     "output_type": "stream",
     "text": [
      "take While - [0, 1]\n"
     ]
    }
   ],
   "source": [
    "print(f\"take While - {list(it.takewhile(lt_2, numbers))}\")"
   ]
  },
  {
   "cell_type": "markdown",
   "metadata": {},
   "source": [
    "## Accumulate"
   ]
  },
  {
   "cell_type": "code",
   "execution_count": 59,
   "metadata": {},
   "outputs": [
    {
     "name": "stdout",
     "output_type": "stream",
     "text": [
      "Accumulate - [-1, 0, 2, 5, 7, 8, 13]\n"
     ]
    }
   ],
   "source": [
    "numbers = [-1, 1, 2, 3, 2, 1, 5]\n",
    "\n",
    "# accumulates the list, default to sum\n",
    "print(f\"Accumulate - {list(it.accumulate(numbers))}\")"
   ]
  },
  {
   "cell_type": "code",
   "execution_count": 60,
   "metadata": {},
   "outputs": [
    {
     "name": "stdout",
     "output_type": "stream",
     "text": [
      "Accumulate - [-1, -1, -2, -6, -12, -12, -60]\n"
     ]
    }
   ],
   "source": [
    "import operator as op\n",
    "\n",
    "print(f\"Accumulate - {list(it.accumulate(numbers, op.mul))}\")"
   ]
  },
  {
   "cell_type": "markdown",
   "metadata": {},
   "source": [
    "## Groupby"
   ]
  },
  {
   "cell_type": "code",
   "execution_count": 61,
   "metadata": {},
   "outputs": [],
   "source": [
    "# data for demo\n",
    "people = [\n",
    "    {\n",
    "        'name': 'John Doe',\n",
    "        'city': 'Gotham',\n",
    "        'state': 'NY'\n",
    "    },\n",
    "    {\n",
    "        'name': 'Jane Doe',\n",
    "        'city': 'Kings Landing',\n",
    "        'state': 'NY'\n",
    "    },\n",
    "    {\n",
    "        'name': 'Corey Schafer',\n",
    "        'city': 'Boulder',\n",
    "        'state': 'CO'\n",
    "    },\n",
    "    {\n",
    "        'name': 'Al Einstein',\n",
    "        'city': 'Denver',\n",
    "        'state': 'CO'\n",
    "    },\n",
    "    {\n",
    "        'name': 'John Henry',\n",
    "        'city': 'Hinton',\n",
    "        'state': 'WV'\n",
    "    },\n",
    "    {\n",
    "        'name': 'Randy Moss',\n",
    "        'city': 'Rand',\n",
    "        'state': 'WV'\n",
    "    },\n",
    "    {\n",
    "        'name': 'Nicole K',\n",
    "        'city': 'Asheville',\n",
    "        'state': 'NC'\n",
    "    },\n",
    "    {\n",
    "        'name': 'Jim Doe',\n",
    "        'city': 'Charlotte',\n",
    "        'state': 'NC'\n",
    "    },\n",
    "    {\n",
    "        'name': 'Jane Taylor',\n",
    "        'city': 'Faketown',\n",
    "        'state': 'NC'\n",
    "    }\n",
    "]"
   ]
  },
  {
   "cell_type": "code",
   "execution_count": 67,
   "metadata": {},
   "outputs": [],
   "source": [
    "# groupby state\n",
    "\n",
    "def get_state(person:dict):\n",
    "    return person['state']\n",
    "\n",
    "person_group = it.groupby(people, get_state)"
   ]
  },
  {
   "cell_type": "code",
   "execution_count": 68,
   "metadata": {},
   "outputs": [
    {
     "name": "stdout",
     "output_type": "stream",
     "text": [
      "NY\n",
      "{'name': 'John Doe', 'city': 'Gotham', 'state': 'NY'}\n",
      "{'name': 'Jane Doe', 'city': 'Kings Landing', 'state': 'NY'}\n",
      "\n",
      "CO\n",
      "{'name': 'Corey Schafer', 'city': 'Boulder', 'state': 'CO'}\n",
      "{'name': 'Al Einstein', 'city': 'Denver', 'state': 'CO'}\n",
      "\n",
      "WV\n",
      "{'name': 'John Henry', 'city': 'Hinton', 'state': 'WV'}\n",
      "{'name': 'Randy Moss', 'city': 'Rand', 'state': 'WV'}\n",
      "\n",
      "NC\n",
      "{'name': 'Nicole K', 'city': 'Asheville', 'state': 'NC'}\n",
      "{'name': 'Jim Doe', 'city': 'Charlotte', 'state': 'NC'}\n",
      "{'name': 'Jane Taylor', 'city': 'Faketown', 'state': 'NC'}\n",
      "\n"
     ]
    }
   ],
   "source": [
    "for k, v in person_group:\n",
    "    print(k)\n",
    "    for person in v:\n",
    "        print(person)\n",
    "    print()"
   ]
  },
  {
   "cell_type": "code",
   "execution_count": null,
   "metadata": {},
   "outputs": [],
   "source": []
  }
 ],
 "metadata": {
  "kernelspec": {
   "display_name": "Python 3",
   "language": "python",
   "name": "python3"
  },
  "language_info": {
   "codemirror_mode": {
    "name": "ipython",
    "version": 3
   },
   "file_extension": ".py",
   "mimetype": "text/x-python",
   "name": "python",
   "nbconvert_exporter": "python",
   "pygments_lexer": "ipython3",
   "version": "3.7.7"
  },
  "toc": {
   "base_numbering": 1,
   "nav_menu": {},
   "number_sections": true,
   "sideBar": true,
   "skip_h1_title": false,
   "title_cell": "Table of Contents",
   "title_sidebar": "Contents",
   "toc_cell": false,
   "toc_position": {},
   "toc_section_display": true,
   "toc_window_display": true
  }
 },
 "nbformat": 4,
 "nbformat_minor": 4
}
