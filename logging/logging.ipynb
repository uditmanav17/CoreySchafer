{
 "cells": [
  {
   "cell_type": "markdown",
   "metadata": {},
   "source": [
    "# Logging Basics"
   ]
  },
  {
   "cell_type": "code",
   "execution_count": 1,
   "metadata": {},
   "outputs": [],
   "source": [
    "import logging"
   ]
  },
  {
   "cell_type": "markdown",
   "metadata": {},
   "source": [
    "## Logging Levels\n",
    "* DEBUG: Detailed information, typically of interest only when diagnosing problems.\n",
    "* INFO: Confirmation that things are working as expected.\n",
    "* WARNING: An indication that something unexpected happened, or indicative of some problem in the near future (e.g. ‘disk space low’). The software is still working as expected.\n",
    "* ERROR: Due to a more serious problem, the software has not been able to perform some function.\n",
    "* CRITICAL: A serious error, indicating that the program itself may be unable to continue running.\n",
    "\n",
    "Default logging set to WARNING. Only logs WARNING, ERROR, and CRITICAL."
   ]
  },
  {
   "cell_type": "markdown",
   "metadata": {},
   "source": [
    "## Sample Functions"
   ]
  },
  {
   "cell_type": "code",
   "execution_count": 2,
   "metadata": {},
   "outputs": [],
   "source": [
    "def add(x, y):\n",
    "    \"\"\"Add Function\"\"\"\n",
    "    return x + y\n",
    "\n",
    "\n",
    "def subtract(x, y):\n",
    "    \"\"\"Subtract Function\"\"\"\n",
    "    return x - y\n",
    "\n",
    "\n",
    "def multiply(x, y):\n",
    "    \"\"\"Multiply Function\"\"\"\n",
    "    return x * y\n",
    "\n",
    "\n",
    "def divide(x, y):\n",
    "    \"\"\"Divide Function\"\"\"\n",
    "    return x / y\n"
   ]
  },
  {
   "cell_type": "markdown",
   "metadata": {},
   "source": [
    "## Testing Logging"
   ]
  },
  {
   "cell_type": "code",
   "execution_count": 3,
   "metadata": {},
   "outputs": [],
   "source": [
    "num_1 = 20\n",
    "num_2 = 10\n",
    "\n",
    "add_result = add(num_1, num_2)\n",
    "logging.debug('Add: {} + {} = {}'.format(num_1, num_2, add_result))\n",
    "\n",
    "sub_result = subtract(num_1, num_2)\n",
    "logging.debug('Sub: {} - {} = {}'.format(num_1, num_2, sub_result))\n",
    "\n",
    "mul_result = multiply(num_1, num_2)\n",
    "logging.debug('Mul: {} * {} = {}'.format(num_1, num_2, mul_result))\n",
    "\n",
    "div_result = divide(num_1, num_2)\n",
    "logging.debug('Div: {} / {} = {}'.format(num_1, num_2, div_result))"
   ]
  },
  {
   "cell_type": "markdown",
   "metadata": {},
   "source": [
    "Nothing printed/logged because default logging level is WARNING, any level below this will be ignored. Let's change that. But first lets try with WARNING level."
   ]
  },
  {
   "cell_type": "code",
   "execution_count": 4,
   "metadata": {},
   "outputs": [
    {
     "name": "stderr",
     "output_type": "stream",
     "text": [
      "WARNING:root:Div: 20 / 10 = 2.0\n"
     ]
    }
   ],
   "source": [
    "div_result = divide(num_1, num_2)\n",
    "logging.warning('Div: {} / {} = {}'.format(num_1, num_2, div_result))"
   ]
  },
  {
   "cell_type": "markdown",
   "metadata": {},
   "source": [
    "Good. But, this is not a warning level information. It is either info or debug level. So, lets change logging config so that it also logs info and debug level."
   ]
  },
  {
   "cell_type": "markdown",
   "metadata": {},
   "source": [
    "## Change Logging Configs\n",
    "**IMPORTANT NOTE - The call to basicConfig() should come before any calls to debug(), info() etc. As it’s intended as a one-off simple configuration facility, only the first call will actually do anything: subsequent calls are effectively no-ops.**\n",
    "\n",
    "So, restart kernel and continue from here."
   ]
  },
  {
   "cell_type": "code",
   "execution_count": null,
   "metadata": {},
   "outputs": [
    {
     "data": {
      "text/html": [
       "<script>Jupyter.notebook.kernel.restart()</script>"
      ],
      "text/plain": [
       "<IPython.core.display.HTML object>"
      ]
     },
     "execution_count": 5,
     "metadata": {},
     "output_type": "execute_result"
    }
   ],
   "source": [
    "# restart Kernel\n",
    "from IPython.core.display import HTML\n",
    "HTML(\"<script>Jupyter.notebook.kernel.restart()</script>\")"
   ]
  },
  {
   "cell_type": "code",
   "execution_count": 1,
   "metadata": {},
   "outputs": [],
   "source": [
    "import logging\n",
    "logging.basicConfig(level=logging.DEBUG)"
   ]
  },
  {
   "cell_type": "code",
   "execution_count": 2,
   "metadata": {},
   "outputs": [],
   "source": [
    "divide = lambda x, y: x/y"
   ]
  },
  {
   "cell_type": "code",
   "execution_count": 3,
   "metadata": {},
   "outputs": [
    {
     "name": "stderr",
     "output_type": "stream",
     "text": [
      "DEBUG:root:Div: 20 / 10 = 2.0\n"
     ]
    }
   ],
   "source": [
    "num_1 = 20\n",
    "num_2 = 10\n",
    "div_result = divide(num_1, num_2)\n",
    "logging.debug('Div: {} / {} = {}'.format(num_1, num_2, div_result))"
   ]
  },
  {
   "cell_type": "markdown",
   "metadata": {},
   "source": [
    "## Logging to file\n",
    "Again,restart kernel. Everytime basicConfig is changed, restart kernel or changes won't reflect."
   ]
  },
  {
   "cell_type": "code",
   "execution_count": null,
   "metadata": {},
   "outputs": [
    {
     "data": {
      "text/html": [
       "<script>Jupyter.notebook.kernel.restart()</script>"
      ],
      "text/plain": [
       "<IPython.core.display.HTML object>"
      ]
     },
     "execution_count": 4,
     "metadata": {},
     "output_type": "execute_result"
    }
   ],
   "source": [
    "# restart Kernel\n",
    "from IPython.core.display import HTML\n",
    "HTML(\"<script>Jupyter.notebook.kernel.restart()</script>\")"
   ]
  },
  {
   "cell_type": "code",
   "execution_count": 1,
   "metadata": {},
   "outputs": [],
   "source": [
    "import logging\n",
    "logging.basicConfig(filename=\"test.log\", level=logging.DEBUG)"
   ]
  },
  {
   "cell_type": "code",
   "execution_count": 2,
   "metadata": {},
   "outputs": [],
   "source": [
    "divide = lambda x, y: x/y"
   ]
  },
  {
   "cell_type": "code",
   "execution_count": 3,
   "metadata": {},
   "outputs": [],
   "source": [
    "num_1_li = [20, 30, 25]\n",
    "num_2_li = [10, 15, 5.0]\n",
    "\n",
    "for a, b in zip(num_1_li, num_2_li):\n",
    "    logging.debug(f\"Div: {a} / {b} = {divide(a, b)}\")"
   ]
  },
  {
   "cell_type": "code",
   "execution_count": 4,
   "metadata": {},
   "outputs": [
    {
     "name": "stdout",
     "output_type": "stream",
     "text": [
      "DEBUG:root:Div: 20 / 10 = 2.0\n",
      "DEBUG:root:Div: 30 / 15 = 2.0\n",
      "DEBUG:root:Div: 25 / 5.0 = 5.0\n"
     ]
    }
   ],
   "source": [
    "# view log file content\n",
    "# cat for linux, type for windows\n",
    "!type test.log"
   ]
  },
  {
   "cell_type": "markdown",
   "metadata": {},
   "source": [
    "## Changing Logging Format"
   ]
  },
  {
   "cell_type": "code",
   "execution_count": null,
   "metadata": {},
   "outputs": [
    {
     "data": {
      "text/html": [
       "<script>Jupyter.notebook.kernel.restart()</script>"
      ],
      "text/plain": [
       "<IPython.core.display.HTML object>"
      ]
     },
     "execution_count": 5,
     "metadata": {},
     "output_type": "execute_result"
    }
   ],
   "source": [
    "# restart Kernel\n",
    "from IPython.core.display import HTML\n",
    "HTML(\"<script>Jupyter.notebook.kernel.restart()</script>\")"
   ]
  },
  {
   "cell_type": "code",
   "execution_count": 1,
   "metadata": {},
   "outputs": [],
   "source": [
    "import logging\n",
    "logging.basicConfig(filename='test.log', level=logging.DEBUG, \n",
    "                    format='%(asctime)s:%(levelname)s:%(message)s')"
   ]
  },
  {
   "cell_type": "code",
   "execution_count": 2,
   "metadata": {},
   "outputs": [],
   "source": [
    "divide = lambda x, y: x/y"
   ]
  },
  {
   "cell_type": "code",
   "execution_count": 3,
   "metadata": {},
   "outputs": [],
   "source": [
    "num_1_li = [20, 30, 25]\n",
    "num_2_li = [10, 15, 5.0]\n",
    "\n",
    "for a, b in zip(num_1_li, num_2_li):\n",
    "    logging.debug(f\"Div: {a} / {b} = {divide(a, b)}\")"
   ]
  },
  {
   "cell_type": "code",
   "execution_count": 4,
   "metadata": {},
   "outputs": [
    {
     "name": "stdout",
     "output_type": "stream",
     "text": [
      "DEBUG:root:Div: 20 / 10 = 2.0\n",
      "DEBUG:root:Div: 30 / 15 = 2.0\n",
      "DEBUG:root:Div: 25 / 5.0 = 5.0\n",
      "2020-09-06 17:10:02,892:DEBUG:Div: 20 / 10 = 2.0\n",
      "2020-09-06 17:10:02,892:DEBUG:Div: 30 / 15 = 2.0\n",
      "2020-09-06 17:10:02,893:DEBUG:Div: 25 / 5.0 = 5.0\n"
     ]
    }
   ],
   "source": [
    "# view log file content\n",
    "# cat for linux, type for windows\n",
    "!type test.log"
   ]
  },
  {
   "cell_type": "markdown",
   "metadata": {},
   "source": [
    "## Practical Example\n",
    "Aims to check which employees are created over time."
   ]
  },
  {
   "cell_type": "code",
   "execution_count": null,
   "metadata": {},
   "outputs": [
    {
     "data": {
      "text/html": [
       "<script>Jupyter.notebook.kernel.restart()</script>"
      ],
      "text/plain": [
       "<IPython.core.display.HTML object>"
      ]
     },
     "execution_count": 5,
     "metadata": {},
     "output_type": "execute_result"
    }
   ],
   "source": [
    "# restart Kernel\n",
    "from IPython.core.display import HTML\n",
    "HTML(\"<script>Jupyter.notebook.kernel.restart()</script>\")"
   ]
  },
  {
   "cell_type": "code",
   "execution_count": 1,
   "metadata": {},
   "outputs": [],
   "source": [
    "import logging\n",
    "logging.basicConfig(filename='employee.log', level=logging.INFO,\n",
    "                    format='%(levelname)s:%(message)s')"
   ]
  },
  {
   "cell_type": "code",
   "execution_count": 2,
   "metadata": {},
   "outputs": [],
   "source": [
    "class Employee:\n",
    "    \"\"\"A sample Employee class\"\"\"\n",
    "\n",
    "    def __init__(self, first, last):\n",
    "        self.first = first\n",
    "        self.last = last\n",
    "\n",
    "        logging.info('Created Employee: {} - {}'.format(self.fullname, self.email))\n",
    "\n",
    "    @property\n",
    "    def email(self):\n",
    "        return '{}.{}@email.com'.format(self.first, self.last)\n",
    "\n",
    "    @property\n",
    "    def fullname(self):\n",
    "        return '{} {}'.format(self.first, self.last)"
   ]
  },
  {
   "cell_type": "code",
   "execution_count": 3,
   "metadata": {},
   "outputs": [],
   "source": [
    "emp_1 = Employee('John', 'Smith')\n",
    "emp_2 = Employee('Corey', 'Schafer')\n",
    "emp_3 = Employee('Jane', 'Doe')\n",
    "emp_4 = Employee('Udit', 'Manav')"
   ]
  },
  {
   "cell_type": "code",
   "execution_count": 4,
   "metadata": {},
   "outputs": [
    {
     "name": "stdout",
     "output_type": "stream",
     "text": [
      "INFO:Created Employee: John Smith - John.Smith@email.com\n",
      "INFO:Created Employee: Corey Schafer - Corey.Schafer@email.com\n",
      "INFO:Created Employee: Jane Doe - Jane.Doe@email.com\n",
      "INFO:Created Employee: Udit Manav - Udit.Manav@email.com\n"
     ]
    }
   ],
   "source": [
    "!type employee.log"
   ]
  },
  {
   "cell_type": "markdown",
   "metadata": {},
   "source": [
    "# Logging Advanced"
   ]
  },
  {
   "cell_type": "markdown",
   "metadata": {},
   "source": [
    "## Creating Custom/independent Loggers\n",
    "Using root logger is not the best practice, and will cause unexpected behaviours if logging is enabled in multiple files via logging.basicConfig(). \n",
    "\n",
    "For example, if there are two files using logging (configured via logging.basicConfig) and one of them imports other, then only settings of the imported file will be applied to logger.\n",
    "\n",
    "More info [here](https://www.youtube.com/watch?v=jxmzY9soFXg)."
   ]
  },
  {
   "cell_type": "code",
   "execution_count": 5,
   "metadata": {},
   "outputs": [
    {
     "name": "stdout",
     "output_type": "stream",
     "text": [
      "import logging\n",
      "\n",
      "# Setting up custom Logger\n",
      "logger = logging.getLogger(__name__)  # create logger\n",
      "logger.setLevel(logging.INFO)  # set logging level\n",
      "\n",
      "# create logging formatter\n",
      "formatter = logging.Formatter(\"%(levelname)s:%(name)s:%(message)s\")\n",
      "file_handler = logging.FileHandler(\"employee1.log\")  # create fileHandler\n",
      "file_handler.setFormatter(formatter)  # set formatter to file handler, NOT Logger\n",
      "\n",
      "logger.addHandler(file_handler)  # add file handler to logger\n",
      "\n",
      "\n",
      "class Employee1:\n",
      "    \"\"\"A sample Employee class\"\"\"\n",
      "\n",
      "    def __init__(self, first, last):\n",
      "        self.first = first\n",
      "        self.last = last\n",
      "\n",
      "        logger.info(\"Created Employee: {} - {}\".format(self.fullname, self.email))\n",
      "\n",
      "    @property\n",
      "    def email(self):\n",
      "        return \"{}.{}@email.com\".format(self.first, self.last)\n",
      "\n",
      "    @property\n",
      "    def fullname(self):\n",
      "        return \"{} {}\".format(self.first, self.last)\n",
      "\n",
      "\n",
      "emp_1 = Employee1(\"John\", \"Smith\")\n",
      "emp_2 = Employee1(\"Corey\", \"Schafer\")\n",
      "emp_3 = Employee1(\"Jane\", \"Doe\")\n"
     ]
    }
   ],
   "source": [
    "# first lets check out employee1.py\n",
    "!type employee1.py"
   ]
  },
  {
   "cell_type": "code",
   "execution_count": 6,
   "metadata": {},
   "outputs": [
    {
     "name": "stdout",
     "output_type": "stream",
     "text": [
      "Log file...\n",
      "INFO:__main__:Created Employee: John Smith - John.Smith@email.com\n",
      "INFO:__main__:Created Employee: Corey Schafer - Corey.Schafer@email.com\n",
      "INFO:__main__:Created Employee: Jane Doe - Jane.Doe@email.com\n"
     ]
    }
   ],
   "source": [
    "# run employee1.py and check log file\n",
    "!python employee1.py\n",
    "\n",
    "print(\"Log file...\")\n",
    "!type employee1.log"
   ]
  },
  {
   "cell_type": "markdown",
   "metadata": {},
   "source": [
    "We get \"\\_\\_main\\_\\_\" instead of root if we execute file directly. Now, let's import Employee1 class and check employee1.log again."
   ]
  },
  {
   "cell_type": "code",
   "execution_count": null,
   "metadata": {},
   "outputs": [
    {
     "data": {
      "text/html": [
       "<script>Jupyter.notebook.kernel.restart()</script>"
      ],
      "text/plain": [
       "<IPython.core.display.HTML object>"
      ]
     },
     "execution_count": 7,
     "metadata": {},
     "output_type": "execute_result"
    }
   ],
   "source": [
    "# restart Kernel\n",
    "from IPython.core.display import HTML\n",
    "HTML(\"<script>Jupyter.notebook.kernel.restart()</script>\")"
   ]
  },
  {
   "cell_type": "code",
   "execution_count": 1,
   "metadata": {},
   "outputs": [],
   "source": [
    "import logging\n",
    "import employee1\n",
    "\n",
    "logging.basicConfig(filename='test1.log', level=logging.DEBUG, \n",
    "                    format='%(asctime)s:%(levelname)s:%(message)s')\n",
    "\n",
    "divide = lambda x, y: x/y\n",
    "num_1_li = [20, 30, 25]\n",
    "num_2_li = [10, 15, 5.0]\n",
    "\n",
    "for a, b in zip(num_1_li, num_2_li):\n",
    "    logging.debug(f\"Div: {a} / {b} = {divide(a, b)}\")\n"
   ]
  },
  {
   "cell_type": "code",
   "execution_count": 2,
   "metadata": {},
   "outputs": [
    {
     "name": "stdout",
     "output_type": "stream",
     "text": [
      "Log file test1\n",
      "2020-09-06 17:10:26,651:DEBUG:Div: 20 / 10 = 2.0\n",
      "2020-09-06 17:10:26,652:DEBUG:Div: 30 / 15 = 2.0\n",
      "2020-09-06 17:10:26,652:DEBUG:Div: 25 / 5.0 = 5.0\n",
      "\n",
      "Log file employee1\n",
      "INFO:__main__:Created Employee: John Smith - John.Smith@email.com\n",
      "INFO:__main__:Created Employee: Corey Schafer - Corey.Schafer@email.com\n",
      "INFO:__main__:Created Employee: Jane Doe - Jane.Doe@email.com\n",
      "INFO:employee1:Created Employee: John Smith - John.Smith@email.com\n",
      "INFO:employee1:Created Employee: Corey Schafer - Corey.Schafer@email.com\n",
      "INFO:employee1:Created Employee: Jane Doe - Jane.Doe@email.com\n"
     ]
    }
   ],
   "source": [
    "print(\"Log file test1\")\n",
    "!type test1.log\n",
    "\n",
    "print(\"\\nLog file employee1\")\n",
    "!type employee1.log"
   ]
  },
  {
   "cell_type": "markdown",
   "metadata": {},
   "source": [
    "Right now, both loggers are working great. But if we had used basicConfig for setting up configuration there would have been some unexpected behaviours.\n",
    "\n",
    "We are still using basicConfig for \"test1.log\" file, not best practice. Let's change that."
   ]
  },
  {
   "cell_type": "code",
   "execution_count": null,
   "metadata": {},
   "outputs": [
    {
     "data": {
      "text/html": [
       "<script>Jupyter.notebook.kernel.restart()</script>"
      ],
      "text/plain": [
       "<IPython.core.display.HTML object>"
      ]
     },
     "execution_count": 3,
     "metadata": {},
     "output_type": "execute_result"
    }
   ],
   "source": [
    "# restart Kernel\n",
    "from IPython.core.display import HTML\n",
    "HTML(\"<script>Jupyter.notebook.kernel.restart()</script>\")"
   ]
  },
  {
   "cell_type": "code",
   "execution_count": 1,
   "metadata": {},
   "outputs": [
    {
     "name": "stderr",
     "output_type": "stream",
     "text": [
      "2020-09-06 17:10:44,243:DEBUG:Div: 20 / 10 = 2.0\n",
      "2020-09-06 17:10:44,247:DEBUG:Div: 30 / 15 = 2.0\n",
      "2020-09-06 17:10:44,247:DEBUG:Div: 25 / 5.0 = 5.0\n",
      "2020-09-06 17:10:44,249:ERROR:Tried to divide by zero\n",
      "2020-09-06 17:10:44,250:ERROR:Tried to divide by zero\n",
      "Traceback (most recent call last):\n",
      "  File \"<ipython-input-1-9f1da41d25a8>\", line 26, in divide\n",
      "    result = a/b\n",
      "ZeroDivisionError: division by zero\n",
      "2020-09-06 17:10:44,251:DEBUG:Div: 50 / 0 = None\n",
      "2020-09-06 17:10:44,252:DEBUG:Div: 100 / 4 = 25.0\n"
     ]
    }
   ],
   "source": [
    "import logging\n",
    "import employee1\n",
    "\n",
    "# Setting up custom Logger\n",
    "logger = logging.getLogger(__name__)  # create logger\n",
    "logger.setLevel(logging.DEBUG)  # set logging level for current file\n",
    "\n",
    "# create logging formatter\n",
    "formatter = logging.Formatter(\"%(asctime)s:%(levelname)s:%(message)s\")\n",
    "file_handler = logging.FileHandler(\"test1.log\")  # create fileHandler, for \n",
    "file_handler.setFormatter(formatter)  # set formatter to file handler, NOT Logger\n",
    "\n",
    "# Another flexibility we get is we can define logging levels for different file handlers\n",
    "# for example, for this file we have logging level=DEBUG, but lets say we only want to capture\n",
    "# logging level=ERROR to file, then we can set logging level to file handlers\n",
    "file_handler.setLevel(logging.ERROR)\n",
    "\n",
    "stream_handler = logging.StreamHandler()  # to display debug statement on console\n",
    "stream_handler.setFormatter(formatter)\n",
    "\n",
    "logger.addHandler(file_handler)  # add file handler to logger\n",
    "logger.addHandler(stream_handler)\n",
    "\n",
    "def divide(a, b):\n",
    "    try:\n",
    "        result = a/b\n",
    "    except ZeroDivisionError:\n",
    "        logger.error(\"Tried to divide by zero\")\n",
    "        logger.exception(\"Tried to divide by zero\")  # this is better, provides traceback\n",
    "    else:\n",
    "        return result\n",
    "\n",
    "\n",
    "num_1_li = [20, 30, 25, 50, 100]\n",
    "num_2_li = [10, 15, 5.0, 0, 4]\n",
    "\n",
    "for a, b in zip(num_1_li, num_2_li):\n",
    "    logger.debug(f\"Div: {a} / {b} = {divide(a, b)}\")  # change logging to logger\n"
   ]
  },
  {
   "cell_type": "code",
   "execution_count": 2,
   "metadata": {},
   "outputs": [
    {
     "name": "stdout",
     "output_type": "stream",
     "text": [
      "Log file test1\n",
      "2020-09-06 17:10:26,651:DEBUG:Div: 20 / 10 = 2.0\n",
      "Log file employee1\n",
      "2020-09-06 17:10:26,652:DEBUG:Div: 30 / 15 = 2.0\n",
      "2020-09-06 17:10:26,652:DEBUG:Div: 25 / 5.0 = 5.0\n",
      "2020-09-06 17:10:44,249:ERROR:Tried to divide by zero\n",
      "2020-09-06 17:10:44,250:ERROR:Tried to divide by zero\n",
      "Traceback (most recent call last):\n",
      "  File \"<ipython-input-1-9f1da41d25a8>\", line 26, in divide\n",
      "    result = a/b\n",
      "ZeroDivisionError: division by zero\n",
      "\n",
      "INFO:__main__:Created Employee: John Smith - John.Smith@email.com\n",
      "INFO:__main__:Created Employee: Corey Schafer - Corey.Schafer@email.com\n",
      "INFO:__main__:Created Employee: Jane Doe - Jane.Doe@email.com\n",
      "INFO:employee1:Created Employee: John Smith - John.Smith@email.com\n",
      "INFO:employee1:Created Employee: Corey Schafer - Corey.Schafer@email.com\n",
      "INFO:employee1:Created Employee: Jane Doe - Jane.Doe@email.com\n",
      "INFO:employee1:Created Employee: John Smith - John.Smith@email.com\n",
      "INFO:employee1:Created Employee: Corey Schafer - Corey.Schafer@email.com\n",
      "INFO:employee1:Created Employee: Jane Doe - Jane.Doe@email.com\n"
     ]
    }
   ],
   "source": [
    "print(\"Log file test1\")\n",
    "!type test1.log\n",
    "\n",
    "print(\"\\nLog file employee1\")\n",
    "!type employee1.log"
   ]
  },
  {
   "cell_type": "code",
   "execution_count": null,
   "metadata": {},
   "outputs": [],
   "source": []
  }
 ],
 "metadata": {
  "kernelspec": {
   "display_name": "Python 3",
   "language": "python",
   "name": "python3"
  },
  "language_info": {
   "codemirror_mode": {
    "name": "ipython",
    "version": 3
   },
   "file_extension": ".py",
   "mimetype": "text/x-python",
   "name": "python",
   "nbconvert_exporter": "python",
   "pygments_lexer": "ipython3",
   "version": "3.7.7"
  },
  "toc": {
   "base_numbering": 1,
   "nav_menu": {},
   "number_sections": true,
   "sideBar": true,
   "skip_h1_title": false,
   "title_cell": "Table of Contents",
   "title_sidebar": "Contents",
   "toc_cell": false,
   "toc_position": {
    "height": "calc(100% - 180px)",
    "left": "10px",
    "top": "150px",
    "width": "273.2px"
   },
   "toc_section_display": true,
   "toc_window_display": true
  }
 },
 "nbformat": 4,
 "nbformat_minor": 4
}
