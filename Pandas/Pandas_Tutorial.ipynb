{
  "nbformat": 4,
  "nbformat_minor": 0,
  "metadata": {
    "colab": {
      "name": "Pandas Tutorial.ipynb",
      "provenance": [],
      "collapsed_sections": [],
      "toc_visible": true,
      "mount_file_id": "1nQlJ7i00dvioEXrQT1LI6k_G5Aen__40",
      "authorship_tag": "ABX9TyPb9iSRjwn3Ggry9n/gV6lw",
      "include_colab_link": true
    },
    "kernelspec": {
      "name": "python3",
      "display_name": "Python 3"
    }
  },
  "cells": [
    {
      "cell_type": "markdown",
      "metadata": {
        "id": "view-in-github",
        "colab_type": "text"
      },
      "source": [
        "<a href=\"https://colab.research.google.com/github/uditmanav17/CoreySchafer/blob/master/Pandas/Pandas_Tutorial.ipynb\" target=\"_parent\"><img src=\"https://colab.research.google.com/assets/colab-badge.svg\" alt=\"Open In Colab\"/></a>"
      ]
    },
    {
      "cell_type": "markdown",
      "metadata": {
        "id": "Q-CCF1Y0PIVP",
        "colab_type": "text"
      },
      "source": [
        "# Index\n",
        "* [Pandas Coding Snippets](#Pandas_Coding_Snippets)\n",
        "    * [Part 1: Loading Data](#video-01)\n",
        "    * [Part 2: DataFrrame and Series Objects](#video-02)\n",
        "    * [Part 3: Indexes](#video-03)\n",
        "    * [Part 4: Filtering data from Dataframe and series objects](#video-04)\n",
        "    * [Part 5: Updating rows and columns, modifying data within Dataframe](#video-05)\n",
        "        * [Apply](#apply)\n",
        "        * [ApplyMap](#applymap)\n",
        "        * [Map](#map)\n",
        "        * [Replace](#replace)\n",
        "    * [Part 6: Adding and Removing Rows and Columns from DataFrame](#video-06)\n",
        "    * [Part 7: Sorting Data](#video-07)\n",
        "    * [Part 8: Grouping, Aggregating, Analysing and Exploring Data](#video-08)\n",
        "    * [Part 9: Cleaning Data - Casting Data Types and Handling Missing Values](#video-09)\n",
        "    * [Part 10: Working with Dates and Time Series Data ](#video-10)\n",
        "    * [Part 11: Loading Data](#video-11)\n"
      ]
    },
    {
      "cell_type": "markdown",
      "metadata": {
        "id": "oSk_6UDZPSXJ",
        "colab_type": "text"
      },
      "source": [
        "# Pandas Coding Snippets <a name='Pandas_Coding_Snippets'></a>\n",
        "This section contains all of the coding snippetes that are required by us to understand the basics of __pandas__."
      ]
    },
    {
      "cell_type": "code",
      "metadata": {
        "id": "lziD3H5yPAZl",
        "colab_type": "code",
        "colab": {}
      },
      "source": [
        "import pandas as pd"
      ],
      "execution_count": 0,
      "outputs": []
    },
    {
      "cell_type": "markdown",
      "metadata": {
        "id": "-7co0McKPeSc",
        "colab_type": "text"
      },
      "source": [
        "## Part 1: Loading Data <a name='video-01'></a>\n",
        "Checkout real world examples notebook.\n"
      ]
    },
    {
      "cell_type": "markdown",
      "metadata": {
        "id": "KWuUUt9G6lVa",
        "colab_type": "text"
      },
      "source": [
        "## Part 2: DataFrame and Series Objects <a name='video-02'></a>\n",
        "df.value_counts(), df.loc, df.iloc, "
      ]
    },
    {
      "cell_type": "code",
      "metadata": {
        "id": "aqDvQDZh7GsU",
        "colab_type": "code",
        "outputId": "61385909-9809-46a9-e093-b16897aba8c3",
        "colab": {
          "base_uri": "https://localhost:8080/",
          "height": 175
        }
      },
      "source": [
        "# Creating Data Frame from dict of list\n",
        "people = {\n",
        "    'first' : ['A', 'B', 'C', 'Udit'], \n",
        "    'last' : ['X', 'Y', 'Z', 'Manav'],\n",
        "    'mail' : ['a.x@mail.com', 'b.y@mail.com', 'c.z@mail.com', 'udit.manav@gmail.com'],\n",
        "    'response' : ['Yes', 'No', 'No', 'Yes']\n",
        "}\n",
        "df = pd.DataFrame(people)\n",
        "df"
      ],
      "execution_count": 0,
      "outputs": [
        {
          "output_type": "execute_result",
          "data": {
            "text/html": [
              "<div>\n",
              "<style scoped>\n",
              "    .dataframe tbody tr th:only-of-type {\n",
              "        vertical-align: middle;\n",
              "    }\n",
              "\n",
              "    .dataframe tbody tr th {\n",
              "        vertical-align: top;\n",
              "    }\n",
              "\n",
              "    .dataframe thead th {\n",
              "        text-align: right;\n",
              "    }\n",
              "</style>\n",
              "<table border=\"1\" class=\"dataframe\">\n",
              "  <thead>\n",
              "    <tr style=\"text-align: right;\">\n",
              "      <th></th>\n",
              "      <th>first</th>\n",
              "      <th>last</th>\n",
              "      <th>mail</th>\n",
              "      <th>response</th>\n",
              "    </tr>\n",
              "  </thead>\n",
              "  <tbody>\n",
              "    <tr>\n",
              "      <th>0</th>\n",
              "      <td>A</td>\n",
              "      <td>X</td>\n",
              "      <td>a.x@mail.com</td>\n",
              "      <td>Yes</td>\n",
              "    </tr>\n",
              "    <tr>\n",
              "      <th>1</th>\n",
              "      <td>B</td>\n",
              "      <td>Y</td>\n",
              "      <td>b.y@mail.com</td>\n",
              "      <td>No</td>\n",
              "    </tr>\n",
              "    <tr>\n",
              "      <th>2</th>\n",
              "      <td>C</td>\n",
              "      <td>Z</td>\n",
              "      <td>c.z@mail.com</td>\n",
              "      <td>No</td>\n",
              "    </tr>\n",
              "    <tr>\n",
              "      <th>3</th>\n",
              "      <td>Udit</td>\n",
              "      <td>Manav</td>\n",
              "      <td>udit.manav@gmail.com</td>\n",
              "      <td>Yes</td>\n",
              "    </tr>\n",
              "  </tbody>\n",
              "</table>\n",
              "</div>"
            ],
            "text/plain": [
              "  first   last                  mail response\n",
              "0     A      X          a.x@mail.com      Yes\n",
              "1     B      Y          b.y@mail.com       No\n",
              "2     C      Z          c.z@mail.com       No\n",
              "3  Udit  Manav  udit.manav@gmail.com      Yes"
            ]
          },
          "metadata": {
            "tags": []
          },
          "execution_count": 2
        }
      ]
    },
    {
      "cell_type": "code",
      "metadata": {
        "id": "mtQZhdbK4n2a",
        "colab_type": "code",
        "outputId": "66b950be-0621-4de2-fb0e-2b60b3913306",
        "colab": {
          "base_uri": "https://localhost:8080/",
          "height": 72
        }
      },
      "source": [
        "# count the number of responses \n",
        "df['response'].value_counts()"
      ],
      "execution_count": 0,
      "outputs": [
        {
          "output_type": "execute_result",
          "data": {
            "text/plain": [
              "No     2\n",
              "Yes    2\n",
              "Name: response, dtype: int64"
            ]
          },
          "metadata": {
            "tags": []
          },
          "execution_count": 3
        }
      ]
    },
    {
      "cell_type": "code",
      "metadata": {
        "id": "9NNGmBuQ7Vib",
        "colab_type": "code",
        "outputId": "4618db43-4026-4b2c-e4b3-5a228f2515cd",
        "colab": {
          "base_uri": "https://localhost:8080/",
          "height": 127
        }
      },
      "source": [
        "print(df['mail'])\n",
        "print(type(df['mail']))  # Every column of DataFrame is a serie object"
      ],
      "execution_count": 0,
      "outputs": [
        {
          "output_type": "stream",
          "text": [
            "0            a.x@mail.com\n",
            "1            b.y@mail.com\n",
            "2            c.z@mail.com\n",
            "3    udit.manav@gmail.com\n",
            "Name: mail, dtype: object\n",
            "<class 'pandas.core.series.Series'>\n"
          ],
          "name": "stdout"
        }
      ]
    },
    {
      "cell_type": "code",
      "metadata": {
        "id": "l-bcoZrN7npd",
        "colab_type": "code",
        "outputId": "c310debb-b66b-40db-b7cb-d9f2059ebfd9",
        "colab": {
          "base_uri": "https://localhost:8080/",
          "height": 109
        }
      },
      "source": [
        "# columns can also be accessed by dot(.)\n",
        "df.mail"
      ],
      "execution_count": 0,
      "outputs": [
        {
          "output_type": "execute_result",
          "data": {
            "text/plain": [
              "0            a.x@mail.com\n",
              "1            b.y@mail.com\n",
              "2            c.z@mail.com\n",
              "3    udit.manav@gmail.com\n",
              "Name: mail, dtype: object"
            ]
          },
          "metadata": {
            "tags": []
          },
          "execution_count": 5
        }
      ]
    },
    {
      "cell_type": "code",
      "metadata": {
        "id": "Dsje2fyg7nlo",
        "colab_type": "code",
        "outputId": "920aa79c-af06-45eb-e72e-cb228822bc8a",
        "colab": {
          "base_uri": "https://localhost:8080/",
          "height": 175
        }
      },
      "source": [
        "# to access multiple columns use list\n",
        "df[['first', 'last']]"
      ],
      "execution_count": 0,
      "outputs": [
        {
          "output_type": "execute_result",
          "data": {
            "text/html": [
              "<div>\n",
              "<style scoped>\n",
              "    .dataframe tbody tr th:only-of-type {\n",
              "        vertical-align: middle;\n",
              "    }\n",
              "\n",
              "    .dataframe tbody tr th {\n",
              "        vertical-align: top;\n",
              "    }\n",
              "\n",
              "    .dataframe thead th {\n",
              "        text-align: right;\n",
              "    }\n",
              "</style>\n",
              "<table border=\"1\" class=\"dataframe\">\n",
              "  <thead>\n",
              "    <tr style=\"text-align: right;\">\n",
              "      <th></th>\n",
              "      <th>first</th>\n",
              "      <th>last</th>\n",
              "    </tr>\n",
              "  </thead>\n",
              "  <tbody>\n",
              "    <tr>\n",
              "      <th>0</th>\n",
              "      <td>A</td>\n",
              "      <td>X</td>\n",
              "    </tr>\n",
              "    <tr>\n",
              "      <th>1</th>\n",
              "      <td>B</td>\n",
              "      <td>Y</td>\n",
              "    </tr>\n",
              "    <tr>\n",
              "      <th>2</th>\n",
              "      <td>C</td>\n",
              "      <td>Z</td>\n",
              "    </tr>\n",
              "    <tr>\n",
              "      <th>3</th>\n",
              "      <td>Udit</td>\n",
              "      <td>Manav</td>\n",
              "    </tr>\n",
              "  </tbody>\n",
              "</table>\n",
              "</div>"
            ],
            "text/plain": [
              "  first   last\n",
              "0     A      X\n",
              "1     B      Y\n",
              "2     C      Z\n",
              "3  Udit  Manav"
            ]
          },
          "metadata": {
            "tags": []
          },
          "execution_count": 6
        }
      ]
    },
    {
      "cell_type": "markdown",
      "metadata": {
        "id": "CgkpEukI75B2",
        "colab_type": "text"
      },
      "source": [
        "To fetch the rows from dataframe we use loc (location) and iloc (integer location). These returns a series or DataFrame based on the parameters supplied to the functions. To access the data via integer locations we use iloc and t access daat via row/column name/index we use loc."
      ]
    },
    {
      "cell_type": "code",
      "metadata": {
        "id": "QRV8kd8a7njn",
        "colab_type": "code",
        "outputId": "64dc9fda-fe1f-4beb-8661-c8b34046acbf",
        "colab": {
          "base_uri": "https://localhost:8080/",
          "height": 109
        }
      },
      "source": [
        "df.iloc[0] # returns 0th column of DataFrame as series"
      ],
      "execution_count": 0,
      "outputs": [
        {
          "output_type": "execute_result",
          "data": {
            "text/plain": [
              "first                  A\n",
              "last                   X\n",
              "mail        a.x@mail.com\n",
              "response             Yes\n",
              "Name: 0, dtype: object"
            ]
          },
          "metadata": {
            "tags": []
          },
          "execution_count": 7
        }
      ]
    },
    {
      "cell_type": "code",
      "metadata": {
        "id": "s8fDM-hG7ngk",
        "colab_type": "code",
        "outputId": "9bd37b65-7169-42d5-fd28-30f0cb7e0d20",
        "colab": {
          "base_uri": "https://localhost:8080/",
          "height": 112
        }
      },
      "source": [
        "df.iloc[[0, 1], \n",
        "        [0, 2]]  # returns oth and 1st rows 0th and 2nd columns"
      ],
      "execution_count": 0,
      "outputs": [
        {
          "output_type": "execute_result",
          "data": {
            "text/html": [
              "<div>\n",
              "<style scoped>\n",
              "    .dataframe tbody tr th:only-of-type {\n",
              "        vertical-align: middle;\n",
              "    }\n",
              "\n",
              "    .dataframe tbody tr th {\n",
              "        vertical-align: top;\n",
              "    }\n",
              "\n",
              "    .dataframe thead th {\n",
              "        text-align: right;\n",
              "    }\n",
              "</style>\n",
              "<table border=\"1\" class=\"dataframe\">\n",
              "  <thead>\n",
              "    <tr style=\"text-align: right;\">\n",
              "      <th></th>\n",
              "      <th>first</th>\n",
              "      <th>mail</th>\n",
              "    </tr>\n",
              "  </thead>\n",
              "  <tbody>\n",
              "    <tr>\n",
              "      <th>0</th>\n",
              "      <td>A</td>\n",
              "      <td>a.x@mail.com</td>\n",
              "    </tr>\n",
              "    <tr>\n",
              "      <th>1</th>\n",
              "      <td>B</td>\n",
              "      <td>b.y@mail.com</td>\n",
              "    </tr>\n",
              "  </tbody>\n",
              "</table>\n",
              "</div>"
            ],
            "text/plain": [
              "  first          mail\n",
              "0     A  a.x@mail.com\n",
              "1     B  b.y@mail.com"
            ]
          },
          "metadata": {
            "tags": []
          },
          "execution_count": 8
        }
      ]
    },
    {
      "cell_type": "code",
      "metadata": {
        "id": "NLbrF9AF7nem",
        "colab_type": "code",
        "outputId": "a75f4e1a-b797-4b14-bf1d-73fb057b2ea1",
        "colab": {
          "base_uri": "https://localhost:8080/",
          "height": 112
        }
      },
      "source": [
        "df.loc[[0, 1], \n",
        "       ['first', 'last']]"
      ],
      "execution_count": 0,
      "outputs": [
        {
          "output_type": "execute_result",
          "data": {
            "text/html": [
              "<div>\n",
              "<style scoped>\n",
              "    .dataframe tbody tr th:only-of-type {\n",
              "        vertical-align: middle;\n",
              "    }\n",
              "\n",
              "    .dataframe tbody tr th {\n",
              "        vertical-align: top;\n",
              "    }\n",
              "\n",
              "    .dataframe thead th {\n",
              "        text-align: right;\n",
              "    }\n",
              "</style>\n",
              "<table border=\"1\" class=\"dataframe\">\n",
              "  <thead>\n",
              "    <tr style=\"text-align: right;\">\n",
              "      <th></th>\n",
              "      <th>first</th>\n",
              "      <th>last</th>\n",
              "    </tr>\n",
              "  </thead>\n",
              "  <tbody>\n",
              "    <tr>\n",
              "      <th>0</th>\n",
              "      <td>A</td>\n",
              "      <td>X</td>\n",
              "    </tr>\n",
              "    <tr>\n",
              "      <th>1</th>\n",
              "      <td>B</td>\n",
              "      <td>Y</td>\n",
              "    </tr>\n",
              "  </tbody>\n",
              "</table>\n",
              "</div>"
            ],
            "text/plain": [
              "  first last\n",
              "0     A    X\n",
              "1     B    Y"
            ]
          },
          "metadata": {
            "tags": []
          },
          "execution_count": 9
        }
      ]
    },
    {
      "cell_type": "markdown",
      "metadata": {
        "id": "y4TrwVhP8RA4",
        "colab_type": "text"
      },
      "source": [
        "## Part 3: Indexes <a name='video-03'></a>\n",
        "df.set_index, df.sort_index, df.reset_index"
      ]
    },
    {
      "cell_type": "code",
      "metadata": {
        "id": "-nys5HiG7nbW",
        "colab_type": "code",
        "outputId": "7af92f3f-3157-49ce-d6cd-9777b14a3169",
        "colab": {
          "base_uri": "https://localhost:8080/",
          "height": 206
        }
      },
      "source": [
        "# setting a column as an index\n",
        "df.set_index('mail')  # this is not an in-place function\n",
        "# to apply this change to DataFrame we need to pass inplace=True"
      ],
      "execution_count": 0,
      "outputs": [
        {
          "output_type": "execute_result",
          "data": {
            "text/html": [
              "<div>\n",
              "<style scoped>\n",
              "    .dataframe tbody tr th:only-of-type {\n",
              "        vertical-align: middle;\n",
              "    }\n",
              "\n",
              "    .dataframe tbody tr th {\n",
              "        vertical-align: top;\n",
              "    }\n",
              "\n",
              "    .dataframe thead th {\n",
              "        text-align: right;\n",
              "    }\n",
              "</style>\n",
              "<table border=\"1\" class=\"dataframe\">\n",
              "  <thead>\n",
              "    <tr style=\"text-align: right;\">\n",
              "      <th></th>\n",
              "      <th>first</th>\n",
              "      <th>last</th>\n",
              "      <th>response</th>\n",
              "    </tr>\n",
              "    <tr>\n",
              "      <th>mail</th>\n",
              "      <th></th>\n",
              "      <th></th>\n",
              "      <th></th>\n",
              "    </tr>\n",
              "  </thead>\n",
              "  <tbody>\n",
              "    <tr>\n",
              "      <th>a.x@mail.com</th>\n",
              "      <td>A</td>\n",
              "      <td>X</td>\n",
              "      <td>Yes</td>\n",
              "    </tr>\n",
              "    <tr>\n",
              "      <th>b.y@mail.com</th>\n",
              "      <td>B</td>\n",
              "      <td>Y</td>\n",
              "      <td>No</td>\n",
              "    </tr>\n",
              "    <tr>\n",
              "      <th>c.z@mail.com</th>\n",
              "      <td>C</td>\n",
              "      <td>Z</td>\n",
              "      <td>No</td>\n",
              "    </tr>\n",
              "    <tr>\n",
              "      <th>udit.manav@gmail.com</th>\n",
              "      <td>Udit</td>\n",
              "      <td>Manav</td>\n",
              "      <td>Yes</td>\n",
              "    </tr>\n",
              "  </tbody>\n",
              "</table>\n",
              "</div>"
            ],
            "text/plain": [
              "                     first   last response\n",
              "mail                                      \n",
              "a.x@mail.com             A      X      Yes\n",
              "b.y@mail.com             B      Y       No\n",
              "c.z@mail.com             C      Z       No\n",
              "udit.manav@gmail.com  Udit  Manav      Yes"
            ]
          },
          "metadata": {
            "tags": []
          },
          "execution_count": 10
        }
      ]
    },
    {
      "cell_type": "code",
      "metadata": {
        "id": "BOqL-3uL-hZ5",
        "colab_type": "code",
        "outputId": "5a4ef92f-d386-49bf-b67d-73a4f1fd9108",
        "colab": {
          "base_uri": "https://localhost:8080/",
          "height": 206
        }
      },
      "source": [
        "df.set_index('mail', inplace=True)\n",
        "df"
      ],
      "execution_count": 0,
      "outputs": [
        {
          "output_type": "execute_result",
          "data": {
            "text/html": [
              "<div>\n",
              "<style scoped>\n",
              "    .dataframe tbody tr th:only-of-type {\n",
              "        vertical-align: middle;\n",
              "    }\n",
              "\n",
              "    .dataframe tbody tr th {\n",
              "        vertical-align: top;\n",
              "    }\n",
              "\n",
              "    .dataframe thead th {\n",
              "        text-align: right;\n",
              "    }\n",
              "</style>\n",
              "<table border=\"1\" class=\"dataframe\">\n",
              "  <thead>\n",
              "    <tr style=\"text-align: right;\">\n",
              "      <th></th>\n",
              "      <th>first</th>\n",
              "      <th>last</th>\n",
              "      <th>response</th>\n",
              "    </tr>\n",
              "    <tr>\n",
              "      <th>mail</th>\n",
              "      <th></th>\n",
              "      <th></th>\n",
              "      <th></th>\n",
              "    </tr>\n",
              "  </thead>\n",
              "  <tbody>\n",
              "    <tr>\n",
              "      <th>a.x@mail.com</th>\n",
              "      <td>A</td>\n",
              "      <td>X</td>\n",
              "      <td>Yes</td>\n",
              "    </tr>\n",
              "    <tr>\n",
              "      <th>b.y@mail.com</th>\n",
              "      <td>B</td>\n",
              "      <td>Y</td>\n",
              "      <td>No</td>\n",
              "    </tr>\n",
              "    <tr>\n",
              "      <th>c.z@mail.com</th>\n",
              "      <td>C</td>\n",
              "      <td>Z</td>\n",
              "      <td>No</td>\n",
              "    </tr>\n",
              "    <tr>\n",
              "      <th>udit.manav@gmail.com</th>\n",
              "      <td>Udit</td>\n",
              "      <td>Manav</td>\n",
              "      <td>Yes</td>\n",
              "    </tr>\n",
              "  </tbody>\n",
              "</table>\n",
              "</div>"
            ],
            "text/plain": [
              "                     first   last response\n",
              "mail                                      \n",
              "a.x@mail.com             A      X      Yes\n",
              "b.y@mail.com             B      Y       No\n",
              "c.z@mail.com             C      Z       No\n",
              "udit.manav@gmail.com  Udit  Manav      Yes"
            ]
          },
          "metadata": {
            "tags": []
          },
          "execution_count": 11
        }
      ]
    },
    {
      "cell_type": "code",
      "metadata": {
        "id": "d2VvjK7T_Hea",
        "colab_type": "code",
        "outputId": "b90623d2-73ef-4d9e-9014-9158adfd346b",
        "colab": {
          "base_uri": "https://localhost:8080/",
          "height": 35
        }
      },
      "source": [
        "# to get the index\n",
        "df.index"
      ],
      "execution_count": 0,
      "outputs": [
        {
          "output_type": "execute_result",
          "data": {
            "text/plain": [
              "Index(['a.x@mail.com', 'b.y@mail.com', 'c.z@mail.com', 'udit.manav@gmail.com'], dtype='object', name='mail')"
            ]
          },
          "metadata": {
            "tags": []
          },
          "execution_count": 12
        }
      ]
    },
    {
      "cell_type": "code",
      "metadata": {
        "id": "TrLu7Md4_Hak",
        "colab_type": "code",
        "outputId": "01a8232e-4c48-422b-dc2b-d8ca61c82989",
        "colab": {
          "base_uri": "https://localhost:8080/",
          "height": 35
        }
      },
      "source": [
        "# now we can use index to fetch a record\n",
        "df.loc['a.x@mail.com', 'last']"
      ],
      "execution_count": 0,
      "outputs": [
        {
          "output_type": "execute_result",
          "data": {
            "text/plain": [
              "'X'"
            ]
          },
          "metadata": {
            "tags": []
          },
          "execution_count": 13
        }
      ]
    },
    {
      "cell_type": "code",
      "metadata": {
        "id": "DwPtgQ2ZAyWL",
        "colab_type": "code",
        "outputId": "05062bb5-ed29-4234-a5af-32bf2f184648",
        "colab": {
          "base_uri": "https://localhost:8080/",
          "height": 206
        }
      },
      "source": [
        "# sort the rows via index\n",
        "df.sort_index(ascending=False)"
      ],
      "execution_count": 0,
      "outputs": [
        {
          "output_type": "execute_result",
          "data": {
            "text/html": [
              "<div>\n",
              "<style scoped>\n",
              "    .dataframe tbody tr th:only-of-type {\n",
              "        vertical-align: middle;\n",
              "    }\n",
              "\n",
              "    .dataframe tbody tr th {\n",
              "        vertical-align: top;\n",
              "    }\n",
              "\n",
              "    .dataframe thead th {\n",
              "        text-align: right;\n",
              "    }\n",
              "</style>\n",
              "<table border=\"1\" class=\"dataframe\">\n",
              "  <thead>\n",
              "    <tr style=\"text-align: right;\">\n",
              "      <th></th>\n",
              "      <th>first</th>\n",
              "      <th>last</th>\n",
              "      <th>response</th>\n",
              "    </tr>\n",
              "    <tr>\n",
              "      <th>mail</th>\n",
              "      <th></th>\n",
              "      <th></th>\n",
              "      <th></th>\n",
              "    </tr>\n",
              "  </thead>\n",
              "  <tbody>\n",
              "    <tr>\n",
              "      <th>udit.manav@gmail.com</th>\n",
              "      <td>Udit</td>\n",
              "      <td>Manav</td>\n",
              "      <td>Yes</td>\n",
              "    </tr>\n",
              "    <tr>\n",
              "      <th>c.z@mail.com</th>\n",
              "      <td>C</td>\n",
              "      <td>Z</td>\n",
              "      <td>No</td>\n",
              "    </tr>\n",
              "    <tr>\n",
              "      <th>b.y@mail.com</th>\n",
              "      <td>B</td>\n",
              "      <td>Y</td>\n",
              "      <td>No</td>\n",
              "    </tr>\n",
              "    <tr>\n",
              "      <th>a.x@mail.com</th>\n",
              "      <td>A</td>\n",
              "      <td>X</td>\n",
              "      <td>Yes</td>\n",
              "    </tr>\n",
              "  </tbody>\n",
              "</table>\n",
              "</div>"
            ],
            "text/plain": [
              "                     first   last response\n",
              "mail                                      \n",
              "udit.manav@gmail.com  Udit  Manav      Yes\n",
              "c.z@mail.com             C      Z       No\n",
              "b.y@mail.com             B      Y       No\n",
              "a.x@mail.com             A      X      Yes"
            ]
          },
          "metadata": {
            "tags": []
          },
          "execution_count": 14
        }
      ]
    },
    {
      "cell_type": "code",
      "metadata": {
        "id": "b81kxitr_jnW",
        "colab_type": "code",
        "outputId": "7e1abd86-02b9-4a41-d556-435bb8b9fcfd",
        "colab": {
          "base_uri": "https://localhost:8080/",
          "height": 175
        }
      },
      "source": [
        "# to reset the index \n",
        "df.reset_index(inplace=True)\n",
        "df"
      ],
      "execution_count": 0,
      "outputs": [
        {
          "output_type": "execute_result",
          "data": {
            "text/html": [
              "<div>\n",
              "<style scoped>\n",
              "    .dataframe tbody tr th:only-of-type {\n",
              "        vertical-align: middle;\n",
              "    }\n",
              "\n",
              "    .dataframe tbody tr th {\n",
              "        vertical-align: top;\n",
              "    }\n",
              "\n",
              "    .dataframe thead th {\n",
              "        text-align: right;\n",
              "    }\n",
              "</style>\n",
              "<table border=\"1\" class=\"dataframe\">\n",
              "  <thead>\n",
              "    <tr style=\"text-align: right;\">\n",
              "      <th></th>\n",
              "      <th>mail</th>\n",
              "      <th>first</th>\n",
              "      <th>last</th>\n",
              "      <th>response</th>\n",
              "    </tr>\n",
              "  </thead>\n",
              "  <tbody>\n",
              "    <tr>\n",
              "      <th>0</th>\n",
              "      <td>a.x@mail.com</td>\n",
              "      <td>A</td>\n",
              "      <td>X</td>\n",
              "      <td>Yes</td>\n",
              "    </tr>\n",
              "    <tr>\n",
              "      <th>1</th>\n",
              "      <td>b.y@mail.com</td>\n",
              "      <td>B</td>\n",
              "      <td>Y</td>\n",
              "      <td>No</td>\n",
              "    </tr>\n",
              "    <tr>\n",
              "      <th>2</th>\n",
              "      <td>c.z@mail.com</td>\n",
              "      <td>C</td>\n",
              "      <td>Z</td>\n",
              "      <td>No</td>\n",
              "    </tr>\n",
              "    <tr>\n",
              "      <th>3</th>\n",
              "      <td>udit.manav@gmail.com</td>\n",
              "      <td>Udit</td>\n",
              "      <td>Manav</td>\n",
              "      <td>Yes</td>\n",
              "    </tr>\n",
              "  </tbody>\n",
              "</table>\n",
              "</div>"
            ],
            "text/plain": [
              "                   mail first   last response\n",
              "0          a.x@mail.com     A      X      Yes\n",
              "1          b.y@mail.com     B      Y       No\n",
              "2          c.z@mail.com     C      Z       No\n",
              "3  udit.manav@gmail.com  Udit  Manav      Yes"
            ]
          },
          "metadata": {
            "tags": []
          },
          "execution_count": 15
        }
      ]
    },
    {
      "cell_type": "markdown",
      "metadata": {
        "id": "P2nZnr1h8188",
        "colab_type": "text"
      },
      "source": [
        "## Part 4: Filtering data from Dataframe and series objects <a name='video-04'></a>"
      ]
    },
    {
      "cell_type": "code",
      "metadata": {
        "id": "LhJcl1Da7nYG",
        "colab_type": "code",
        "outputId": "0ad0b2e1-3a0c-447f-cbda-4b1f85195463",
        "colab": {
          "base_uri": "https://localhost:8080/",
          "height": 109
        }
      },
      "source": [
        "# get a series indicating which rows to select\n",
        "df['last'] == 'Z'"
      ],
      "execution_count": 0,
      "outputs": [
        {
          "output_type": "execute_result",
          "data": {
            "text/plain": [
              "0    False\n",
              "1    False\n",
              "2     True\n",
              "3    False\n",
              "Name: last, dtype: bool"
            ]
          },
          "metadata": {
            "tags": []
          },
          "execution_count": 16
        }
      ]
    },
    {
      "cell_type": "code",
      "metadata": {
        "id": "d3s573uPBfaT",
        "colab_type": "code",
        "outputId": "f5527bff-6280-42c9-fe6f-275342323333",
        "colab": {
          "base_uri": "https://localhost:8080/",
          "height": 144
        }
      },
      "source": [
        "# use the above series as filter\n",
        "filtr = df['last'] == 'Z'\n",
        "\n",
        "# use the filter to get the required rows of DataFrame\n",
        "display(df[filtr])\n",
        "display(df.loc[filtr])"
      ],
      "execution_count": 0,
      "outputs": [
        {
          "output_type": "display_data",
          "data": {
            "text/html": [
              "<div>\n",
              "<style scoped>\n",
              "    .dataframe tbody tr th:only-of-type {\n",
              "        vertical-align: middle;\n",
              "    }\n",
              "\n",
              "    .dataframe tbody tr th {\n",
              "        vertical-align: top;\n",
              "    }\n",
              "\n",
              "    .dataframe thead th {\n",
              "        text-align: right;\n",
              "    }\n",
              "</style>\n",
              "<table border=\"1\" class=\"dataframe\">\n",
              "  <thead>\n",
              "    <tr style=\"text-align: right;\">\n",
              "      <th></th>\n",
              "      <th>mail</th>\n",
              "      <th>first</th>\n",
              "      <th>last</th>\n",
              "      <th>response</th>\n",
              "    </tr>\n",
              "  </thead>\n",
              "  <tbody>\n",
              "    <tr>\n",
              "      <th>2</th>\n",
              "      <td>c.z@mail.com</td>\n",
              "      <td>C</td>\n",
              "      <td>Z</td>\n",
              "      <td>No</td>\n",
              "    </tr>\n",
              "  </tbody>\n",
              "</table>\n",
              "</div>"
            ],
            "text/plain": [
              "           mail first last response\n",
              "2  c.z@mail.com     C    Z       No"
            ]
          },
          "metadata": {
            "tags": []
          }
        },
        {
          "output_type": "display_data",
          "data": {
            "text/html": [
              "<div>\n",
              "<style scoped>\n",
              "    .dataframe tbody tr th:only-of-type {\n",
              "        vertical-align: middle;\n",
              "    }\n",
              "\n",
              "    .dataframe tbody tr th {\n",
              "        vertical-align: top;\n",
              "    }\n",
              "\n",
              "    .dataframe thead th {\n",
              "        text-align: right;\n",
              "    }\n",
              "</style>\n",
              "<table border=\"1\" class=\"dataframe\">\n",
              "  <thead>\n",
              "    <tr style=\"text-align: right;\">\n",
              "      <th></th>\n",
              "      <th>mail</th>\n",
              "      <th>first</th>\n",
              "      <th>last</th>\n",
              "      <th>response</th>\n",
              "    </tr>\n",
              "  </thead>\n",
              "  <tbody>\n",
              "    <tr>\n",
              "      <th>2</th>\n",
              "      <td>c.z@mail.com</td>\n",
              "      <td>C</td>\n",
              "      <td>Z</td>\n",
              "      <td>No</td>\n",
              "    </tr>\n",
              "  </tbody>\n",
              "</table>\n",
              "</div>"
            ],
            "text/plain": [
              "           mail first last response\n",
              "2  c.z@mail.com     C    Z       No"
            ]
          },
          "metadata": {
            "tags": []
          }
        }
      ]
    },
    {
      "cell_type": "code",
      "metadata": {
        "id": "I2ojHc5EBfW8",
        "colab_type": "code",
        "outputId": "f9138edf-9b3b-48ac-cd2c-2f629cd17de7",
        "colab": {
          "base_uri": "https://localhost:8080/",
          "height": 176
        }
      },
      "source": [
        "# Combining Filters using & and |\n",
        "display(df.loc[(df['last'] == 'Z') & (df['first'] == 'C')])\n",
        "display(df.loc[(df['last'] == 'Z') | (df['first'] == 'A')])"
      ],
      "execution_count": 0,
      "outputs": [
        {
          "output_type": "display_data",
          "data": {
            "text/html": [
              "<div>\n",
              "<style scoped>\n",
              "    .dataframe tbody tr th:only-of-type {\n",
              "        vertical-align: middle;\n",
              "    }\n",
              "\n",
              "    .dataframe tbody tr th {\n",
              "        vertical-align: top;\n",
              "    }\n",
              "\n",
              "    .dataframe thead th {\n",
              "        text-align: right;\n",
              "    }\n",
              "</style>\n",
              "<table border=\"1\" class=\"dataframe\">\n",
              "  <thead>\n",
              "    <tr style=\"text-align: right;\">\n",
              "      <th></th>\n",
              "      <th>mail</th>\n",
              "      <th>first</th>\n",
              "      <th>last</th>\n",
              "      <th>response</th>\n",
              "    </tr>\n",
              "  </thead>\n",
              "  <tbody>\n",
              "    <tr>\n",
              "      <th>2</th>\n",
              "      <td>c.z@mail.com</td>\n",
              "      <td>C</td>\n",
              "      <td>Z</td>\n",
              "      <td>No</td>\n",
              "    </tr>\n",
              "  </tbody>\n",
              "</table>\n",
              "</div>"
            ],
            "text/plain": [
              "           mail first last response\n",
              "2  c.z@mail.com     C    Z       No"
            ]
          },
          "metadata": {
            "tags": []
          }
        },
        {
          "output_type": "display_data",
          "data": {
            "text/html": [
              "<div>\n",
              "<style scoped>\n",
              "    .dataframe tbody tr th:only-of-type {\n",
              "        vertical-align: middle;\n",
              "    }\n",
              "\n",
              "    .dataframe tbody tr th {\n",
              "        vertical-align: top;\n",
              "    }\n",
              "\n",
              "    .dataframe thead th {\n",
              "        text-align: right;\n",
              "    }\n",
              "</style>\n",
              "<table border=\"1\" class=\"dataframe\">\n",
              "  <thead>\n",
              "    <tr style=\"text-align: right;\">\n",
              "      <th></th>\n",
              "      <th>mail</th>\n",
              "      <th>first</th>\n",
              "      <th>last</th>\n",
              "      <th>response</th>\n",
              "    </tr>\n",
              "  </thead>\n",
              "  <tbody>\n",
              "    <tr>\n",
              "      <th>0</th>\n",
              "      <td>a.x@mail.com</td>\n",
              "      <td>A</td>\n",
              "      <td>X</td>\n",
              "      <td>Yes</td>\n",
              "    </tr>\n",
              "    <tr>\n",
              "      <th>2</th>\n",
              "      <td>c.z@mail.com</td>\n",
              "      <td>C</td>\n",
              "      <td>Z</td>\n",
              "      <td>No</td>\n",
              "    </tr>\n",
              "  </tbody>\n",
              "</table>\n",
              "</div>"
            ],
            "text/plain": [
              "           mail first last response\n",
              "0  a.x@mail.com     A    X      Yes\n",
              "2  c.z@mail.com     C    Z       No"
            ]
          },
          "metadata": {
            "tags": []
          }
        }
      ]
    },
    {
      "cell_type": "code",
      "metadata": {
        "id": "p-Nucy6OBfSz",
        "colab_type": "code",
        "outputId": "684cfcec-8881-4970-b4cc-dd9065f272e2",
        "colab": {
          "base_uri": "https://localhost:8080/",
          "height": 112
        }
      },
      "source": [
        "# using not in a filter\n",
        "df.loc[~((df['last'] == 'Z') | \n",
        "         (df['first'] == 'A'))]"
      ],
      "execution_count": 0,
      "outputs": [
        {
          "output_type": "execute_result",
          "data": {
            "text/html": [
              "<div>\n",
              "<style scoped>\n",
              "    .dataframe tbody tr th:only-of-type {\n",
              "        vertical-align: middle;\n",
              "    }\n",
              "\n",
              "    .dataframe tbody tr th {\n",
              "        vertical-align: top;\n",
              "    }\n",
              "\n",
              "    .dataframe thead th {\n",
              "        text-align: right;\n",
              "    }\n",
              "</style>\n",
              "<table border=\"1\" class=\"dataframe\">\n",
              "  <thead>\n",
              "    <tr style=\"text-align: right;\">\n",
              "      <th></th>\n",
              "      <th>mail</th>\n",
              "      <th>first</th>\n",
              "      <th>last</th>\n",
              "      <th>response</th>\n",
              "    </tr>\n",
              "  </thead>\n",
              "  <tbody>\n",
              "    <tr>\n",
              "      <th>1</th>\n",
              "      <td>b.y@mail.com</td>\n",
              "      <td>B</td>\n",
              "      <td>Y</td>\n",
              "      <td>No</td>\n",
              "    </tr>\n",
              "    <tr>\n",
              "      <th>3</th>\n",
              "      <td>udit.manav@gmail.com</td>\n",
              "      <td>Udit</td>\n",
              "      <td>Manav</td>\n",
              "      <td>Yes</td>\n",
              "    </tr>\n",
              "  </tbody>\n",
              "</table>\n",
              "</div>"
            ],
            "text/plain": [
              "                   mail first   last response\n",
              "1          b.y@mail.com     B      Y       No\n",
              "3  udit.manav@gmail.com  Udit  Manav      Yes"
            ]
          },
          "metadata": {
            "tags": []
          },
          "execution_count": 19
        }
      ]
    },
    {
      "cell_type": "code",
      "metadata": {
        "id": "dbzlSIYDDYmo",
        "colab_type": "code",
        "outputId": "618edd10-78eb-4bd0-cb51-d60fa50b7221",
        "colab": {
          "base_uri": "https://localhost:8080/",
          "height": 112
        }
      },
      "source": [
        "# another neat way of filtering is using df.isin()\n",
        "first_names = ['A', 'Udit']\n",
        "filtr = df['first'].isin(first_names)\n",
        "df[filtr]"
      ],
      "execution_count": 0,
      "outputs": [
        {
          "output_type": "execute_result",
          "data": {
            "text/html": [
              "<div>\n",
              "<style scoped>\n",
              "    .dataframe tbody tr th:only-of-type {\n",
              "        vertical-align: middle;\n",
              "    }\n",
              "\n",
              "    .dataframe tbody tr th {\n",
              "        vertical-align: top;\n",
              "    }\n",
              "\n",
              "    .dataframe thead th {\n",
              "        text-align: right;\n",
              "    }\n",
              "</style>\n",
              "<table border=\"1\" class=\"dataframe\">\n",
              "  <thead>\n",
              "    <tr style=\"text-align: right;\">\n",
              "      <th></th>\n",
              "      <th>mail</th>\n",
              "      <th>first</th>\n",
              "      <th>last</th>\n",
              "      <th>response</th>\n",
              "    </tr>\n",
              "  </thead>\n",
              "  <tbody>\n",
              "    <tr>\n",
              "      <th>0</th>\n",
              "      <td>a.x@mail.com</td>\n",
              "      <td>A</td>\n",
              "      <td>X</td>\n",
              "      <td>Yes</td>\n",
              "    </tr>\n",
              "    <tr>\n",
              "      <th>3</th>\n",
              "      <td>udit.manav@gmail.com</td>\n",
              "      <td>Udit</td>\n",
              "      <td>Manav</td>\n",
              "      <td>Yes</td>\n",
              "    </tr>\n",
              "  </tbody>\n",
              "</table>\n",
              "</div>"
            ],
            "text/plain": [
              "                   mail first   last response\n",
              "0          a.x@mail.com     A      X      Yes\n",
              "3  udit.manav@gmail.com  Udit  Manav      Yes"
            ]
          },
          "metadata": {
            "tags": []
          },
          "execution_count": 20
        }
      ]
    },
    {
      "cell_type": "code",
      "metadata": {
        "id": "psVLrwDgEE5z",
        "colab_type": "code",
        "outputId": "75c619b4-cfa4-4af9-a522-b7575b8bffc5",
        "colab": {
          "base_uri": "https://localhost:8080/",
          "height": 143
        }
      },
      "source": [
        "# filtering based on substring \n",
        "filtr = df['mail'].str.contains('@mail')\n",
        "df[filtr]"
      ],
      "execution_count": 0,
      "outputs": [
        {
          "output_type": "execute_result",
          "data": {
            "text/html": [
              "<div>\n",
              "<style scoped>\n",
              "    .dataframe tbody tr th:only-of-type {\n",
              "        vertical-align: middle;\n",
              "    }\n",
              "\n",
              "    .dataframe tbody tr th {\n",
              "        vertical-align: top;\n",
              "    }\n",
              "\n",
              "    .dataframe thead th {\n",
              "        text-align: right;\n",
              "    }\n",
              "</style>\n",
              "<table border=\"1\" class=\"dataframe\">\n",
              "  <thead>\n",
              "    <tr style=\"text-align: right;\">\n",
              "      <th></th>\n",
              "      <th>mail</th>\n",
              "      <th>first</th>\n",
              "      <th>last</th>\n",
              "      <th>response</th>\n",
              "    </tr>\n",
              "  </thead>\n",
              "  <tbody>\n",
              "    <tr>\n",
              "      <th>0</th>\n",
              "      <td>a.x@mail.com</td>\n",
              "      <td>A</td>\n",
              "      <td>X</td>\n",
              "      <td>Yes</td>\n",
              "    </tr>\n",
              "    <tr>\n",
              "      <th>1</th>\n",
              "      <td>b.y@mail.com</td>\n",
              "      <td>B</td>\n",
              "      <td>Y</td>\n",
              "      <td>No</td>\n",
              "    </tr>\n",
              "    <tr>\n",
              "      <th>2</th>\n",
              "      <td>c.z@mail.com</td>\n",
              "      <td>C</td>\n",
              "      <td>Z</td>\n",
              "      <td>No</td>\n",
              "    </tr>\n",
              "  </tbody>\n",
              "</table>\n",
              "</div>"
            ],
            "text/plain": [
              "           mail first last response\n",
              "0  a.x@mail.com     A    X      Yes\n",
              "1  b.y@mail.com     B    Y       No\n",
              "2  c.z@mail.com     C    Z       No"
            ]
          },
          "metadata": {
            "tags": []
          },
          "execution_count": 21
        }
      ]
    },
    {
      "cell_type": "code",
      "metadata": {
        "id": "HBOq-FAUFDxy",
        "colab_type": "code",
        "outputId": "4e53c0c7-3308-4e49-e8f3-59cf8f0da181",
        "colab": {
          "base_uri": "https://localhost:8080/",
          "height": 175
        }
      },
      "source": [
        "# reordering columns back to what they were\n",
        "cols = ['first', 'last', 'mail',]\n",
        "df = df[cols]\n",
        "df"
      ],
      "execution_count": 0,
      "outputs": [
        {
          "output_type": "execute_result",
          "data": {
            "text/html": [
              "<div>\n",
              "<style scoped>\n",
              "    .dataframe tbody tr th:only-of-type {\n",
              "        vertical-align: middle;\n",
              "    }\n",
              "\n",
              "    .dataframe tbody tr th {\n",
              "        vertical-align: top;\n",
              "    }\n",
              "\n",
              "    .dataframe thead th {\n",
              "        text-align: right;\n",
              "    }\n",
              "</style>\n",
              "<table border=\"1\" class=\"dataframe\">\n",
              "  <thead>\n",
              "    <tr style=\"text-align: right;\">\n",
              "      <th></th>\n",
              "      <th>first</th>\n",
              "      <th>last</th>\n",
              "      <th>mail</th>\n",
              "    </tr>\n",
              "  </thead>\n",
              "  <tbody>\n",
              "    <tr>\n",
              "      <th>0</th>\n",
              "      <td>A</td>\n",
              "      <td>X</td>\n",
              "      <td>a.x@mail.com</td>\n",
              "    </tr>\n",
              "    <tr>\n",
              "      <th>1</th>\n",
              "      <td>B</td>\n",
              "      <td>Y</td>\n",
              "      <td>b.y@mail.com</td>\n",
              "    </tr>\n",
              "    <tr>\n",
              "      <th>2</th>\n",
              "      <td>C</td>\n",
              "      <td>Z</td>\n",
              "      <td>c.z@mail.com</td>\n",
              "    </tr>\n",
              "    <tr>\n",
              "      <th>3</th>\n",
              "      <td>Udit</td>\n",
              "      <td>Manav</td>\n",
              "      <td>udit.manav@gmail.com</td>\n",
              "    </tr>\n",
              "  </tbody>\n",
              "</table>\n",
              "</div>"
            ],
            "text/plain": [
              "  first   last                  mail\n",
              "0     A      X          a.x@mail.com\n",
              "1     B      Y          b.y@mail.com\n",
              "2     C      Z          c.z@mail.com\n",
              "3  Udit  Manav  udit.manav@gmail.com"
            ]
          },
          "metadata": {
            "tags": []
          },
          "execution_count": 22
        }
      ]
    },
    {
      "cell_type": "markdown",
      "metadata": {
        "id": "79h1BOFX9AJz",
        "colab_type": "text"
      },
      "source": [
        "## Part 5: Updating rows and columns, modifying data within Dataframe <a name='video-05'></a>\n",
        "df.rename, df.apply, df.applymap, df.map, df.replace"
      ]
    },
    {
      "cell_type": "code",
      "metadata": {
        "id": "JN4kdGfl9DID",
        "colab_type": "code",
        "outputId": "a2919e97-94b1-459b-a752-0fd3eafa0d6b",
        "colab": {
          "base_uri": "https://localhost:8080/",
          "height": 175
        }
      },
      "source": [
        "# Changing Columns name\n",
        "df.columns = ['First Name', 'Last Name', 'Email']\n",
        "df"
      ],
      "execution_count": 0,
      "outputs": [
        {
          "output_type": "execute_result",
          "data": {
            "text/html": [
              "<div>\n",
              "<style scoped>\n",
              "    .dataframe tbody tr th:only-of-type {\n",
              "        vertical-align: middle;\n",
              "    }\n",
              "\n",
              "    .dataframe tbody tr th {\n",
              "        vertical-align: top;\n",
              "    }\n",
              "\n",
              "    .dataframe thead th {\n",
              "        text-align: right;\n",
              "    }\n",
              "</style>\n",
              "<table border=\"1\" class=\"dataframe\">\n",
              "  <thead>\n",
              "    <tr style=\"text-align: right;\">\n",
              "      <th></th>\n",
              "      <th>First Name</th>\n",
              "      <th>Last Name</th>\n",
              "      <th>Email</th>\n",
              "    </tr>\n",
              "  </thead>\n",
              "  <tbody>\n",
              "    <tr>\n",
              "      <th>0</th>\n",
              "      <td>A</td>\n",
              "      <td>X</td>\n",
              "      <td>a.x@mail.com</td>\n",
              "    </tr>\n",
              "    <tr>\n",
              "      <th>1</th>\n",
              "      <td>B</td>\n",
              "      <td>Y</td>\n",
              "      <td>b.y@mail.com</td>\n",
              "    </tr>\n",
              "    <tr>\n",
              "      <th>2</th>\n",
              "      <td>C</td>\n",
              "      <td>Z</td>\n",
              "      <td>c.z@mail.com</td>\n",
              "    </tr>\n",
              "    <tr>\n",
              "      <th>3</th>\n",
              "      <td>Udit</td>\n",
              "      <td>Manav</td>\n",
              "      <td>udit.manav@gmail.com</td>\n",
              "    </tr>\n",
              "  </tbody>\n",
              "</table>\n",
              "</div>"
            ],
            "text/plain": [
              "  First Name Last Name                 Email\n",
              "0          A         X          a.x@mail.com\n",
              "1          B         Y          b.y@mail.com\n",
              "2          C         Z          c.z@mail.com\n",
              "3       Udit     Manav  udit.manav@gmail.com"
            ]
          },
          "metadata": {
            "tags": []
          },
          "execution_count": 23
        }
      ]
    },
    {
      "cell_type": "code",
      "metadata": {
        "id": "trD0BEap9CLd",
        "colab_type": "code",
        "outputId": "566f58d2-11cf-45e4-bd34-9bcf2819dc49",
        "colab": {
          "base_uri": "https://localhost:8080/",
          "height": 175
        }
      },
      "source": [
        "# remove space and convert to lower case all column names\n",
        "df.columns = [x.lower() for x in df.columns]\n",
        "df.columns = df.columns.str.replace(' ', '_') # this also works with columns\n",
        "df"
      ],
      "execution_count": 0,
      "outputs": [
        {
          "output_type": "execute_result",
          "data": {
            "text/html": [
              "<div>\n",
              "<style scoped>\n",
              "    .dataframe tbody tr th:only-of-type {\n",
              "        vertical-align: middle;\n",
              "    }\n",
              "\n",
              "    .dataframe tbody tr th {\n",
              "        vertical-align: top;\n",
              "    }\n",
              "\n",
              "    .dataframe thead th {\n",
              "        text-align: right;\n",
              "    }\n",
              "</style>\n",
              "<table border=\"1\" class=\"dataframe\">\n",
              "  <thead>\n",
              "    <tr style=\"text-align: right;\">\n",
              "      <th></th>\n",
              "      <th>first_name</th>\n",
              "      <th>last_name</th>\n",
              "      <th>email</th>\n",
              "    </tr>\n",
              "  </thead>\n",
              "  <tbody>\n",
              "    <tr>\n",
              "      <th>0</th>\n",
              "      <td>A</td>\n",
              "      <td>X</td>\n",
              "      <td>a.x@mail.com</td>\n",
              "    </tr>\n",
              "    <tr>\n",
              "      <th>1</th>\n",
              "      <td>B</td>\n",
              "      <td>Y</td>\n",
              "      <td>b.y@mail.com</td>\n",
              "    </tr>\n",
              "    <tr>\n",
              "      <th>2</th>\n",
              "      <td>C</td>\n",
              "      <td>Z</td>\n",
              "      <td>c.z@mail.com</td>\n",
              "    </tr>\n",
              "    <tr>\n",
              "      <th>3</th>\n",
              "      <td>Udit</td>\n",
              "      <td>Manav</td>\n",
              "      <td>udit.manav@gmail.com</td>\n",
              "    </tr>\n",
              "  </tbody>\n",
              "</table>\n",
              "</div>"
            ],
            "text/plain": [
              "  first_name last_name                 email\n",
              "0          A         X          a.x@mail.com\n",
              "1          B         Y          b.y@mail.com\n",
              "2          C         Z          c.z@mail.com\n",
              "3       Udit     Manav  udit.manav@gmail.com"
            ]
          },
          "metadata": {
            "tags": []
          },
          "execution_count": 24
        }
      ]
    },
    {
      "cell_type": "code",
      "metadata": {
        "id": "9wHJOdOPF3GH",
        "colab_type": "code",
        "outputId": "80e83a40-fd30-4239-ca80-ea80f77e0a0c",
        "colab": {
          "base_uri": "https://localhost:8080/",
          "height": 287
        }
      },
      "source": [
        "# rename only few columns\n",
        "df.rename(columns={'first_name':'first', 'last_name':'last'}, inplace=True)\n",
        "df"
      ],
      "execution_count": 0,
      "outputs": [
        {
          "output_type": "stream",
          "text": [
            "/usr/local/lib/python3.6/dist-packages/pandas/core/frame.py:4133: SettingWithCopyWarning: \n",
            "A value is trying to be set on a copy of a slice from a DataFrame\n",
            "\n",
            "See the caveats in the documentation: https://pandas.pydata.org/pandas-docs/stable/user_guide/indexing.html#returning-a-view-versus-a-copy\n",
            "  errors=errors,\n"
          ],
          "name": "stderr"
        },
        {
          "output_type": "execute_result",
          "data": {
            "text/html": [
              "<div>\n",
              "<style scoped>\n",
              "    .dataframe tbody tr th:only-of-type {\n",
              "        vertical-align: middle;\n",
              "    }\n",
              "\n",
              "    .dataframe tbody tr th {\n",
              "        vertical-align: top;\n",
              "    }\n",
              "\n",
              "    .dataframe thead th {\n",
              "        text-align: right;\n",
              "    }\n",
              "</style>\n",
              "<table border=\"1\" class=\"dataframe\">\n",
              "  <thead>\n",
              "    <tr style=\"text-align: right;\">\n",
              "      <th></th>\n",
              "      <th>first</th>\n",
              "      <th>last</th>\n",
              "      <th>email</th>\n",
              "    </tr>\n",
              "  </thead>\n",
              "  <tbody>\n",
              "    <tr>\n",
              "      <th>0</th>\n",
              "      <td>A</td>\n",
              "      <td>X</td>\n",
              "      <td>a.x@mail.com</td>\n",
              "    </tr>\n",
              "    <tr>\n",
              "      <th>1</th>\n",
              "      <td>B</td>\n",
              "      <td>Y</td>\n",
              "      <td>b.y@mail.com</td>\n",
              "    </tr>\n",
              "    <tr>\n",
              "      <th>2</th>\n",
              "      <td>C</td>\n",
              "      <td>Z</td>\n",
              "      <td>c.z@mail.com</td>\n",
              "    </tr>\n",
              "    <tr>\n",
              "      <th>3</th>\n",
              "      <td>Udit</td>\n",
              "      <td>Manav</td>\n",
              "      <td>udit.manav@gmail.com</td>\n",
              "    </tr>\n",
              "  </tbody>\n",
              "</table>\n",
              "</div>"
            ],
            "text/plain": [
              "  first   last                 email\n",
              "0     A      X          a.x@mail.com\n",
              "1     B      Y          b.y@mail.com\n",
              "2     C      Z          c.z@mail.com\n",
              "3  Udit  Manav  udit.manav@gmail.com"
            ]
          },
          "metadata": {
            "tags": []
          },
          "execution_count": 25
        }
      ]
    },
    {
      "cell_type": "code",
      "metadata": {
        "id": "sVyU2wXpF3Df",
        "colab_type": "code",
        "outputId": "8bebac10-0bb9-488e-f303-182ede269ada",
        "colab": {
          "base_uri": "https://localhost:8080/",
          "height": 470
        }
      },
      "source": [
        "# updating values of a row\n",
        "df.loc[2, ['first', 'last']] = ['M', 'N']\n",
        "df.loc[3, 'first'] = 'Aadi' \n",
        "# single value can also be changed by using (df2.at[0, 'first'] = 'Aadi')\n",
        "df"
      ],
      "execution_count": 0,
      "outputs": [
        {
          "output_type": "stream",
          "text": [
            "/usr/local/lib/python3.6/dist-packages/pandas/core/indexing.py:671: SettingWithCopyWarning: \n",
            "A value is trying to be set on a copy of a slice from a DataFrame\n",
            "\n",
            "See the caveats in the documentation: https://pandas.pydata.org/pandas-docs/stable/user_guide/indexing.html#returning-a-view-versus-a-copy\n",
            "  self._setitem_with_indexer(indexer, value)\n",
            "/usr/local/lib/python3.6/dist-packages/ipykernel_launcher.py:1: SettingWithCopyWarning: \n",
            "A value is trying to be set on a copy of a slice from a DataFrame\n",
            "\n",
            "See the caveats in the documentation: https://pandas.pydata.org/pandas-docs/stable/user_guide/indexing.html#returning-a-view-versus-a-copy\n",
            "  \"\"\"Entry point for launching an IPython kernel.\n",
            "/usr/local/lib/python3.6/dist-packages/ipykernel_launcher.py:2: SettingWithCopyWarning: \n",
            "A value is trying to be set on a copy of a slice from a DataFrame\n",
            "\n",
            "See the caveats in the documentation: https://pandas.pydata.org/pandas-docs/stable/user_guide/indexing.html#returning-a-view-versus-a-copy\n",
            "  \n"
          ],
          "name": "stderr"
        },
        {
          "output_type": "execute_result",
          "data": {
            "text/html": [
              "<div>\n",
              "<style scoped>\n",
              "    .dataframe tbody tr th:only-of-type {\n",
              "        vertical-align: middle;\n",
              "    }\n",
              "\n",
              "    .dataframe tbody tr th {\n",
              "        vertical-align: top;\n",
              "    }\n",
              "\n",
              "    .dataframe thead th {\n",
              "        text-align: right;\n",
              "    }\n",
              "</style>\n",
              "<table border=\"1\" class=\"dataframe\">\n",
              "  <thead>\n",
              "    <tr style=\"text-align: right;\">\n",
              "      <th></th>\n",
              "      <th>first</th>\n",
              "      <th>last</th>\n",
              "      <th>email</th>\n",
              "    </tr>\n",
              "  </thead>\n",
              "  <tbody>\n",
              "    <tr>\n",
              "      <th>0</th>\n",
              "      <td>A</td>\n",
              "      <td>X</td>\n",
              "      <td>a.x@mail.com</td>\n",
              "    </tr>\n",
              "    <tr>\n",
              "      <th>1</th>\n",
              "      <td>B</td>\n",
              "      <td>Y</td>\n",
              "      <td>b.y@mail.com</td>\n",
              "    </tr>\n",
              "    <tr>\n",
              "      <th>2</th>\n",
              "      <td>M</td>\n",
              "      <td>N</td>\n",
              "      <td>c.z@mail.com</td>\n",
              "    </tr>\n",
              "    <tr>\n",
              "      <th>3</th>\n",
              "      <td>Aadi</td>\n",
              "      <td>Manav</td>\n",
              "      <td>udit.manav@gmail.com</td>\n",
              "    </tr>\n",
              "  </tbody>\n",
              "</table>\n",
              "</div>"
            ],
            "text/plain": [
              "  first   last                 email\n",
              "0     A      X          a.x@mail.com\n",
              "1     B      Y          b.y@mail.com\n",
              "2     M      N          c.z@mail.com\n",
              "3  Aadi  Manav  udit.manav@gmail.com"
            ]
          },
          "metadata": {
            "tags": []
          },
          "execution_count": 26
        }
      ]
    },
    {
      "cell_type": "code",
      "metadata": {
        "id": "ft-q7a82F3A2",
        "colab_type": "code",
        "outputId": "fe56e706-f25e-4901-d8f4-b172332fe5af",
        "colab": {
          "base_uri": "https://localhost:8080/",
          "height": 489
        }
      },
      "source": [
        "# updating a complete row\n",
        "df.loc[0] = ['Jane', 'Doe', 'jane.doe@mail.com']\n",
        "# change all lastnames to lower case\n",
        "df.loc[:, 'last'] = df.loc[:, 'last'].str.lower() \n",
        "df"
      ],
      "execution_count": 0,
      "outputs": [
        {
          "output_type": "stream",
          "text": [
            "/usr/local/lib/python3.6/dist-packages/pandas/core/indexing.py:671: SettingWithCopyWarning: \n",
            "A value is trying to be set on a copy of a slice from a DataFrame\n",
            "\n",
            "See the caveats in the documentation: https://pandas.pydata.org/pandas-docs/stable/user_guide/indexing.html#returning-a-view-versus-a-copy\n",
            "  self._setitem_with_indexer(indexer, value)\n",
            "/usr/local/lib/python3.6/dist-packages/ipykernel_launcher.py:1: SettingWithCopyWarning: \n",
            "A value is trying to be set on a copy of a slice from a DataFrame\n",
            "\n",
            "See the caveats in the documentation: https://pandas.pydata.org/pandas-docs/stable/user_guide/indexing.html#returning-a-view-versus-a-copy\n",
            "  \"\"\"Entry point for launching an IPython kernel.\n",
            "/usr/local/lib/python3.6/dist-packages/pandas/core/indexing.py:1048: SettingWithCopyWarning: \n",
            "A value is trying to be set on a copy of a slice from a DataFrame.\n",
            "Try using .loc[row_indexer,col_indexer] = value instead\n",
            "\n",
            "See the caveats in the documentation: https://pandas.pydata.org/pandas-docs/stable/user_guide/indexing.html#returning-a-view-versus-a-copy\n",
            "  self.obj[item_labels[indexer[info_axis]]] = value\n"
          ],
          "name": "stderr"
        },
        {
          "output_type": "execute_result",
          "data": {
            "text/html": [
              "<div>\n",
              "<style scoped>\n",
              "    .dataframe tbody tr th:only-of-type {\n",
              "        vertical-align: middle;\n",
              "    }\n",
              "\n",
              "    .dataframe tbody tr th {\n",
              "        vertical-align: top;\n",
              "    }\n",
              "\n",
              "    .dataframe thead th {\n",
              "        text-align: right;\n",
              "    }\n",
              "</style>\n",
              "<table border=\"1\" class=\"dataframe\">\n",
              "  <thead>\n",
              "    <tr style=\"text-align: right;\">\n",
              "      <th></th>\n",
              "      <th>first</th>\n",
              "      <th>last</th>\n",
              "      <th>email</th>\n",
              "    </tr>\n",
              "  </thead>\n",
              "  <tbody>\n",
              "    <tr>\n",
              "      <th>0</th>\n",
              "      <td>Jane</td>\n",
              "      <td>doe</td>\n",
              "      <td>jane.doe@mail.com</td>\n",
              "    </tr>\n",
              "    <tr>\n",
              "      <th>1</th>\n",
              "      <td>B</td>\n",
              "      <td>y</td>\n",
              "      <td>b.y@mail.com</td>\n",
              "    </tr>\n",
              "    <tr>\n",
              "      <th>2</th>\n",
              "      <td>M</td>\n",
              "      <td>n</td>\n",
              "      <td>c.z@mail.com</td>\n",
              "    </tr>\n",
              "    <tr>\n",
              "      <th>3</th>\n",
              "      <td>Aadi</td>\n",
              "      <td>manav</td>\n",
              "      <td>udit.manav@gmail.com</td>\n",
              "    </tr>\n",
              "  </tbody>\n",
              "</table>\n",
              "</div>"
            ],
            "text/plain": [
              "  first   last                 email\n",
              "0  Jane    doe     jane.doe@mail.com\n",
              "1     B      y          b.y@mail.com\n",
              "2     M      n          c.z@mail.com\n",
              "3  Aadi  manav  udit.manav@gmail.com"
            ]
          },
          "metadata": {
            "tags": []
          },
          "execution_count": 27
        }
      ]
    },
    {
      "cell_type": "markdown",
      "metadata": {
        "id": "EwhUuG3xL1Ed",
        "colab_type": "text"
      },
      "source": [
        "Note - Here is something that doesn't work. Try this.\n",
        "```Python\n",
        "filtr = (df['email'] == 'c.z@mail.com')\n",
        "df2[filtr]['last']\n",
        "df2[filtr]['last'] = 'Smith'\n",
        "```\n",
        "It can be observed that 2nd statement fetches expected result, but we can't use assignment as in 3rd line to change its value.\n",
        "\n",
        "So now, we are done with basics, lets move on to something advanced. Four common methods used to apply functions on DataFrame and series.\n",
        "\n",
        "### Apply Method <a name='apply'></a>\n",
        "It is used for calling a function on values, it works with series and DataFrame. Let's use this to get the length of all the email addresses."
      ]
    },
    {
      "cell_type": "code",
      "metadata": {
        "id": "LtojfjDFF2_M",
        "colab_type": "code",
        "outputId": "48207247-1ca7-4b9d-b0fd-1ffd38ba5957",
        "colab": {
          "base_uri": "https://localhost:8080/",
          "height": 109
        }
      },
      "source": [
        "# apply length (len) to DataFrame series\n",
        "df['email'].apply(len)"
      ],
      "execution_count": 0,
      "outputs": [
        {
          "output_type": "execute_result",
          "data": {
            "text/plain": [
              "0    17\n",
              "1    12\n",
              "2    12\n",
              "3    20\n",
              "Name: email, dtype: int64"
            ]
          },
          "metadata": {
            "tags": []
          },
          "execution_count": 28
        }
      ]
    },
    {
      "cell_type": "code",
      "metadata": {
        "id": "ZpY16aeNF29C",
        "colab_type": "code",
        "outputId": "e009c601-c204-439e-c6a8-ff989e048bce",
        "colab": {
          "base_uri": "https://localhost:8080/",
          "height": 305
        }
      },
      "source": [
        "# applying a user defined function on a DataFrame series \n",
        "def upper_mail(email):\n",
        "    return email.upper()\n",
        "\n",
        "df['email'] = df['email'].apply(upper_mail)\n",
        "df"
      ],
      "execution_count": 0,
      "outputs": [
        {
          "output_type": "stream",
          "text": [
            "/usr/local/lib/python3.6/dist-packages/ipykernel_launcher.py:4: SettingWithCopyWarning: \n",
            "A value is trying to be set on a copy of a slice from a DataFrame.\n",
            "Try using .loc[row_indexer,col_indexer] = value instead\n",
            "\n",
            "See the caveats in the documentation: https://pandas.pydata.org/pandas-docs/stable/user_guide/indexing.html#returning-a-view-versus-a-copy\n",
            "  after removing the cwd from sys.path.\n"
          ],
          "name": "stderr"
        },
        {
          "output_type": "execute_result",
          "data": {
            "text/html": [
              "<div>\n",
              "<style scoped>\n",
              "    .dataframe tbody tr th:only-of-type {\n",
              "        vertical-align: middle;\n",
              "    }\n",
              "\n",
              "    .dataframe tbody tr th {\n",
              "        vertical-align: top;\n",
              "    }\n",
              "\n",
              "    .dataframe thead th {\n",
              "        text-align: right;\n",
              "    }\n",
              "</style>\n",
              "<table border=\"1\" class=\"dataframe\">\n",
              "  <thead>\n",
              "    <tr style=\"text-align: right;\">\n",
              "      <th></th>\n",
              "      <th>first</th>\n",
              "      <th>last</th>\n",
              "      <th>email</th>\n",
              "    </tr>\n",
              "  </thead>\n",
              "  <tbody>\n",
              "    <tr>\n",
              "      <th>0</th>\n",
              "      <td>Jane</td>\n",
              "      <td>doe</td>\n",
              "      <td>JANE.DOE@MAIL.COM</td>\n",
              "    </tr>\n",
              "    <tr>\n",
              "      <th>1</th>\n",
              "      <td>B</td>\n",
              "      <td>y</td>\n",
              "      <td>B.Y@MAIL.COM</td>\n",
              "    </tr>\n",
              "    <tr>\n",
              "      <th>2</th>\n",
              "      <td>M</td>\n",
              "      <td>n</td>\n",
              "      <td>C.Z@MAIL.COM</td>\n",
              "    </tr>\n",
              "    <tr>\n",
              "      <th>3</th>\n",
              "      <td>Aadi</td>\n",
              "      <td>manav</td>\n",
              "      <td>UDIT.MANAV@GMAIL.COM</td>\n",
              "    </tr>\n",
              "  </tbody>\n",
              "</table>\n",
              "</div>"
            ],
            "text/plain": [
              "  first   last                 email\n",
              "0  Jane    doe     JANE.DOE@MAIL.COM\n",
              "1     B      y          B.Y@MAIL.COM\n",
              "2     M      n          C.Z@MAIL.COM\n",
              "3  Aadi  manav  UDIT.MANAV@GMAIL.COM"
            ]
          },
          "metadata": {
            "tags": []
          },
          "execution_count": 29
        }
      ]
    },
    {
      "cell_type": "code",
      "metadata": {
        "id": "HmVb0AQtF25Y",
        "colab_type": "code",
        "outputId": "d342b388-f794-4678-c028-b9e539917a0e",
        "colab": {
          "base_uri": "https://localhost:8080/",
          "height": 305
        }
      },
      "source": [
        "# using inline lambda function\n",
        "df['email'] = df['email'].apply(lambda x:x.lower())\n",
        "df"
      ],
      "execution_count": 0,
      "outputs": [
        {
          "output_type": "stream",
          "text": [
            "/usr/local/lib/python3.6/dist-packages/ipykernel_launcher.py:1: SettingWithCopyWarning: \n",
            "A value is trying to be set on a copy of a slice from a DataFrame.\n",
            "Try using .loc[row_indexer,col_indexer] = value instead\n",
            "\n",
            "See the caveats in the documentation: https://pandas.pydata.org/pandas-docs/stable/user_guide/indexing.html#returning-a-view-versus-a-copy\n",
            "  \"\"\"Entry point for launching an IPython kernel.\n"
          ],
          "name": "stderr"
        },
        {
          "output_type": "execute_result",
          "data": {
            "text/html": [
              "<div>\n",
              "<style scoped>\n",
              "    .dataframe tbody tr th:only-of-type {\n",
              "        vertical-align: middle;\n",
              "    }\n",
              "\n",
              "    .dataframe tbody tr th {\n",
              "        vertical-align: top;\n",
              "    }\n",
              "\n",
              "    .dataframe thead th {\n",
              "        text-align: right;\n",
              "    }\n",
              "</style>\n",
              "<table border=\"1\" class=\"dataframe\">\n",
              "  <thead>\n",
              "    <tr style=\"text-align: right;\">\n",
              "      <th></th>\n",
              "      <th>first</th>\n",
              "      <th>last</th>\n",
              "      <th>email</th>\n",
              "    </tr>\n",
              "  </thead>\n",
              "  <tbody>\n",
              "    <tr>\n",
              "      <th>0</th>\n",
              "      <td>Jane</td>\n",
              "      <td>doe</td>\n",
              "      <td>jane.doe@mail.com</td>\n",
              "    </tr>\n",
              "    <tr>\n",
              "      <th>1</th>\n",
              "      <td>B</td>\n",
              "      <td>y</td>\n",
              "      <td>b.y@mail.com</td>\n",
              "    </tr>\n",
              "    <tr>\n",
              "      <th>2</th>\n",
              "      <td>M</td>\n",
              "      <td>n</td>\n",
              "      <td>c.z@mail.com</td>\n",
              "    </tr>\n",
              "    <tr>\n",
              "      <th>3</th>\n",
              "      <td>Aadi</td>\n",
              "      <td>manav</td>\n",
              "      <td>udit.manav@gmail.com</td>\n",
              "    </tr>\n",
              "  </tbody>\n",
              "</table>\n",
              "</div>"
            ],
            "text/plain": [
              "  first   last                 email\n",
              "0  Jane    doe     jane.doe@mail.com\n",
              "1     B      y          b.y@mail.com\n",
              "2     M      n          c.z@mail.com\n",
              "3  Aadi  manav  udit.manav@gmail.com"
            ]
          },
          "metadata": {
            "tags": []
          },
          "execution_count": 30
        }
      ]
    },
    {
      "cell_type": "code",
      "metadata": {
        "id": "CdUFA5-MF22O",
        "colab_type": "code",
        "outputId": "52fa8de5-899b-4ccf-981d-37ae367330bb",
        "colab": {
          "base_uri": "https://localhost:8080/",
          "height": 90
        }
      },
      "source": [
        "# using apply on DataFrame\n",
        "df.apply(len)"
      ],
      "execution_count": 0,
      "outputs": [
        {
          "output_type": "execute_result",
          "data": {
            "text/plain": [
              "first    4\n",
              "last     4\n",
              "email    4\n",
              "dtype: int64"
            ]
          },
          "metadata": {
            "tags": []
          },
          "execution_count": 31
        }
      ]
    },
    {
      "cell_type": "markdown",
      "metadata": {
        "id": "bFrg6eruOYzX",
        "colab_type": "text"
      },
      "source": [
        "In the above cell, len is applied on each series of the Dataframe, so basically its telling us that each series object contains 3 elements. similar to ***len(df['email'])*** but for every column. \n",
        "\n",
        "Now let's say we wanna grab min value from each column. In this case, first one in alphabetical order."
      ]
    },
    {
      "cell_type": "code",
      "metadata": {
        "id": "-Zk_pJZzORsP",
        "colab_type": "code",
        "outputId": "5caea70b-fee0-4039-ab40-226687057495",
        "colab": {
          "base_uri": "https://localhost:8080/",
          "height": 90
        }
      },
      "source": [
        "# min value from each series\n",
        "df.apply(pd.Series.min)"
      ],
      "execution_count": 0,
      "outputs": [
        {
          "output_type": "execute_result",
          "data": {
            "text/plain": [
              "first            Aadi\n",
              "last              doe\n",
              "email    b.y@mail.com\n",
              "dtype: object"
            ]
          },
          "metadata": {
            "tags": []
          },
          "execution_count": 32
        }
      ]
    },
    {
      "cell_type": "code",
      "metadata": {
        "id": "_Fx3jvwZORqC",
        "colab_type": "code",
        "outputId": "2ab2c78b-8107-481f-e542-1120811164b2",
        "colab": {
          "base_uri": "https://localhost:8080/",
          "height": 90
        }
      },
      "source": [
        "# another way to get min value from each series\n",
        "df.apply(lambda x: x.min())"
      ],
      "execution_count": 0,
      "outputs": [
        {
          "output_type": "execute_result",
          "data": {
            "text/plain": [
              "first            Aadi\n",
              "last              doe\n",
              "email    b.y@mail.com\n",
              "dtype: object"
            ]
          },
          "metadata": {
            "tags": []
          },
          "execution_count": 33
        }
      ]
    },
    {
      "cell_type": "markdown",
      "metadata": {
        "id": "biFQYnnVPBXT",
        "colab_type": "text"
      },
      "source": [
        "Note - The best way to get min value from df is to use df.min(). The functions used here are merely for illustration purposes."
      ]
    },
    {
      "cell_type": "code",
      "metadata": {
        "id": "VZrT4oN2ORmZ",
        "colab_type": "code",
        "outputId": "6c2c2cfb-616d-4193-a626-905bd372d693",
        "colab": {
          "base_uri": "https://localhost:8080/",
          "height": 90
        }
      },
      "source": [
        "df.min()"
      ],
      "execution_count": 0,
      "outputs": [
        {
          "output_type": "execute_result",
          "data": {
            "text/plain": [
              "first            Aadi\n",
              "last              doe\n",
              "email    b.y@mail.com\n",
              "dtype: object"
            ]
          },
          "metadata": {
            "tags": []
          },
          "execution_count": 34
        }
      ]
    },
    {
      "cell_type": "markdown",
      "metadata": {
        "id": "upaP6X2DXF-W",
        "colab_type": "text"
      },
      "source": [
        "So, running apply on series applies the function to each value in a series and applying it on a DataFrame, applies the function on every series. \n",
        "### ApplyMap Method <a name='applymap'></a>\n",
        "To apply a particular function on every cell we use applymap. It only works with DataFrames."
      ]
    },
    {
      "cell_type": "code",
      "metadata": {
        "id": "OYMo7YM9ORkR",
        "colab_type": "code",
        "outputId": "0c2cdbdd-b5c5-4e9c-ffdc-ffd2c0b46de8",
        "colab": {
          "base_uri": "https://localhost:8080/",
          "height": 175
        }
      },
      "source": [
        "# get length of string in every cell\n",
        "df.applymap(len)"
      ],
      "execution_count": 0,
      "outputs": [
        {
          "output_type": "execute_result",
          "data": {
            "text/html": [
              "<div>\n",
              "<style scoped>\n",
              "    .dataframe tbody tr th:only-of-type {\n",
              "        vertical-align: middle;\n",
              "    }\n",
              "\n",
              "    .dataframe tbody tr th {\n",
              "        vertical-align: top;\n",
              "    }\n",
              "\n",
              "    .dataframe thead th {\n",
              "        text-align: right;\n",
              "    }\n",
              "</style>\n",
              "<table border=\"1\" class=\"dataframe\">\n",
              "  <thead>\n",
              "    <tr style=\"text-align: right;\">\n",
              "      <th></th>\n",
              "      <th>first</th>\n",
              "      <th>last</th>\n",
              "      <th>email</th>\n",
              "    </tr>\n",
              "  </thead>\n",
              "  <tbody>\n",
              "    <tr>\n",
              "      <th>0</th>\n",
              "      <td>4</td>\n",
              "      <td>3</td>\n",
              "      <td>17</td>\n",
              "    </tr>\n",
              "    <tr>\n",
              "      <th>1</th>\n",
              "      <td>1</td>\n",
              "      <td>1</td>\n",
              "      <td>12</td>\n",
              "    </tr>\n",
              "    <tr>\n",
              "      <th>2</th>\n",
              "      <td>1</td>\n",
              "      <td>1</td>\n",
              "      <td>12</td>\n",
              "    </tr>\n",
              "    <tr>\n",
              "      <th>3</th>\n",
              "      <td>4</td>\n",
              "      <td>5</td>\n",
              "      <td>20</td>\n",
              "    </tr>\n",
              "  </tbody>\n",
              "</table>\n",
              "</div>"
            ],
            "text/plain": [
              "   first  last  email\n",
              "0      4     3     17\n",
              "1      1     1     12\n",
              "2      1     1     12\n",
              "3      4     5     20"
            ]
          },
          "metadata": {
            "tags": []
          },
          "execution_count": 35
        }
      ]
    },
    {
      "cell_type": "code",
      "metadata": {
        "id": "7xqbOX32ORh9",
        "colab_type": "code",
        "outputId": "70f02905-b598-477f-bcbb-68254d007108",
        "colab": {
          "base_uri": "https://localhost:8080/",
          "height": 175
        }
      },
      "source": [
        "# convert every string to lowercase\n",
        "df.applymap(str.lower)"
      ],
      "execution_count": 0,
      "outputs": [
        {
          "output_type": "execute_result",
          "data": {
            "text/html": [
              "<div>\n",
              "<style scoped>\n",
              "    .dataframe tbody tr th:only-of-type {\n",
              "        vertical-align: middle;\n",
              "    }\n",
              "\n",
              "    .dataframe tbody tr th {\n",
              "        vertical-align: top;\n",
              "    }\n",
              "\n",
              "    .dataframe thead th {\n",
              "        text-align: right;\n",
              "    }\n",
              "</style>\n",
              "<table border=\"1\" class=\"dataframe\">\n",
              "  <thead>\n",
              "    <tr style=\"text-align: right;\">\n",
              "      <th></th>\n",
              "      <th>first</th>\n",
              "      <th>last</th>\n",
              "      <th>email</th>\n",
              "    </tr>\n",
              "  </thead>\n",
              "  <tbody>\n",
              "    <tr>\n",
              "      <th>0</th>\n",
              "      <td>jane</td>\n",
              "      <td>doe</td>\n",
              "      <td>jane.doe@mail.com</td>\n",
              "    </tr>\n",
              "    <tr>\n",
              "      <th>1</th>\n",
              "      <td>b</td>\n",
              "      <td>y</td>\n",
              "      <td>b.y@mail.com</td>\n",
              "    </tr>\n",
              "    <tr>\n",
              "      <th>2</th>\n",
              "      <td>m</td>\n",
              "      <td>n</td>\n",
              "      <td>c.z@mail.com</td>\n",
              "    </tr>\n",
              "    <tr>\n",
              "      <th>3</th>\n",
              "      <td>aadi</td>\n",
              "      <td>manav</td>\n",
              "      <td>udit.manav@gmail.com</td>\n",
              "    </tr>\n",
              "  </tbody>\n",
              "</table>\n",
              "</div>"
            ],
            "text/plain": [
              "  first   last                 email\n",
              "0  jane    doe     jane.doe@mail.com\n",
              "1     b      y          b.y@mail.com\n",
              "2     m      n          c.z@mail.com\n",
              "3  aadi  manav  udit.manav@gmail.com"
            ]
          },
          "metadata": {
            "tags": []
          },
          "execution_count": 36
        }
      ]
    },
    {
      "cell_type": "markdown",
      "metadata": {
        "id": "5joWKkR_Ylzc",
        "colab_type": "text"
      },
      "source": [
        "That's all for applymap.\n",
        "### Map Method <a name='map'></a>\n",
        "It is used for mapping values of DataFrame column to some other values."
      ]
    },
    {
      "cell_type": "code",
      "metadata": {
        "id": "0qK3T9JGORf9",
        "colab_type": "code",
        "outputId": "92f1dfac-b53a-4c52-9c89-2764b7a73bb9",
        "colab": {
          "base_uri": "https://localhost:8080/",
          "height": 109
        }
      },
      "source": [
        "# Mapping via dictionary key to value\n",
        "df['first'].map({'Aadi':'Udit', 'B':'c'})"
      ],
      "execution_count": 0,
      "outputs": [
        {
          "output_type": "execute_result",
          "data": {
            "text/plain": [
              "0     NaN\n",
              "1       c\n",
              "2     NaN\n",
              "3    Udit\n",
              "Name: first, dtype: object"
            ]
          },
          "metadata": {
            "tags": []
          },
          "execution_count": 37
        }
      ]
    },
    {
      "cell_type": "markdown",
      "metadata": {
        "id": "3KbfYVbyZhQ4",
        "colab_type": "text"
      },
      "source": [
        "Note - the values that we have not provided a substitute for, while using map, will be replaced by NaN. If we don't want that to happen we can use replace method. All these methods are ***NOT inplace*** methods.\n",
        "### Replace Method <a name='replace'></a>\n",
        "Similar to map, expect it does not change values that have not been supplied in dict."
      ]
    },
    {
      "cell_type": "code",
      "metadata": {
        "id": "xOznhn-2ORdv",
        "colab_type": "code",
        "outputId": "e46dc40c-9ea3-4bc0-e4f6-f7d7cae53e56",
        "colab": {
          "base_uri": "https://localhost:8080/",
          "height": 109
        }
      },
      "source": [
        "# replacing via dictionary key to value\n",
        "df['first'].replace({'Udit':'A', 'B':'c'})"
      ],
      "execution_count": 0,
      "outputs": [
        {
          "output_type": "execute_result",
          "data": {
            "text/plain": [
              "0    Jane\n",
              "1       c\n",
              "2       M\n",
              "3    Aadi\n",
              "Name: first, dtype: object"
            ]
          },
          "metadata": {
            "tags": []
          },
          "execution_count": 38
        }
      ]
    },
    {
      "cell_type": "markdown",
      "metadata": {
        "id": "9VDo8vlOsyih",
        "colab_type": "text"
      },
      "source": [
        "## Part 6: Adding and Removing Rows and Columns from DataFrame <a name='video-06'></a>\n",
        "df.drop, df.append\n"
      ]
    },
    {
      "cell_type": "code",
      "metadata": {
        "id": "Z47Z5BQqtSJW",
        "colab_type": "code",
        "outputId": "8e55edbd-cb5d-4b4c-acc5-70bf89f63abe",
        "colab": {
          "base_uri": "https://localhost:8080/",
          "height": 175
        }
      },
      "source": [
        "# adding a column to DataFrame\n",
        "df['full_name'] = df['first'] + ' ' + df['last']\n",
        "df"
      ],
      "execution_count": 0,
      "outputs": [
        {
          "output_type": "execute_result",
          "data": {
            "text/html": [
              "<div>\n",
              "<style scoped>\n",
              "    .dataframe tbody tr th:only-of-type {\n",
              "        vertical-align: middle;\n",
              "    }\n",
              "\n",
              "    .dataframe tbody tr th {\n",
              "        vertical-align: top;\n",
              "    }\n",
              "\n",
              "    .dataframe thead th {\n",
              "        text-align: right;\n",
              "    }\n",
              "</style>\n",
              "<table border=\"1\" class=\"dataframe\">\n",
              "  <thead>\n",
              "    <tr style=\"text-align: right;\">\n",
              "      <th></th>\n",
              "      <th>first</th>\n",
              "      <th>last</th>\n",
              "      <th>email</th>\n",
              "      <th>full_name</th>\n",
              "    </tr>\n",
              "  </thead>\n",
              "  <tbody>\n",
              "    <tr>\n",
              "      <th>0</th>\n",
              "      <td>Jane</td>\n",
              "      <td>doe</td>\n",
              "      <td>jane.doe@mail.com</td>\n",
              "      <td>Jane doe</td>\n",
              "    </tr>\n",
              "    <tr>\n",
              "      <th>1</th>\n",
              "      <td>B</td>\n",
              "      <td>y</td>\n",
              "      <td>b.y@mail.com</td>\n",
              "      <td>B y</td>\n",
              "    </tr>\n",
              "    <tr>\n",
              "      <th>2</th>\n",
              "      <td>M</td>\n",
              "      <td>n</td>\n",
              "      <td>c.z@mail.com</td>\n",
              "      <td>M n</td>\n",
              "    </tr>\n",
              "    <tr>\n",
              "      <th>3</th>\n",
              "      <td>Aadi</td>\n",
              "      <td>manav</td>\n",
              "      <td>udit.manav@gmail.com</td>\n",
              "      <td>Aadi manav</td>\n",
              "    </tr>\n",
              "  </tbody>\n",
              "</table>\n",
              "</div>"
            ],
            "text/plain": [
              "  first   last                 email   full_name\n",
              "0  Jane    doe     jane.doe@mail.com    Jane doe\n",
              "1     B      y          b.y@mail.com         B y\n",
              "2     M      n          c.z@mail.com         M n\n",
              "3  Aadi  manav  udit.manav@gmail.com  Aadi manav"
            ]
          },
          "metadata": {
            "tags": []
          },
          "execution_count": 39
        }
      ]
    },
    {
      "cell_type": "markdown",
      "metadata": {
        "id": "3VSp6Rjaxuu2",
        "colab_type": "text"
      },
      "source": [
        "Note - Another neat way to add new columns ***temporarily*** is via df.assign() function. But it only returns the copy of a new dataframe and does not modify the original one. Try this.\n",
        "```Python\n",
        "df = pd.DataFrame({'temp_c': [17.0, 25.0]},\n",
        "                  index=['Portland', 'Berkeley'])\n",
        "df.assign(temp_f=lambda x: x.temp_c * 9 / 5 + 32, inplace=True)\n",
        "```"
      ]
    },
    {
      "cell_type": "code",
      "metadata": {
        "id": "_W9lPAJnbkxW",
        "colab_type": "code",
        "outputId": "d158174d-1ea0-4eb1-cbab-e4d569459c2c",
        "colab": {
          "base_uri": "https://localhost:8080/",
          "height": 175
        }
      },
      "source": [
        "# remove columns\n",
        "df.drop(columns=['first', 'last'], inplace=True)\n",
        "df"
      ],
      "execution_count": 0,
      "outputs": [
        {
          "output_type": "execute_result",
          "data": {
            "text/html": [
              "<div>\n",
              "<style scoped>\n",
              "    .dataframe tbody tr th:only-of-type {\n",
              "        vertical-align: middle;\n",
              "    }\n",
              "\n",
              "    .dataframe tbody tr th {\n",
              "        vertical-align: top;\n",
              "    }\n",
              "\n",
              "    .dataframe thead th {\n",
              "        text-align: right;\n",
              "    }\n",
              "</style>\n",
              "<table border=\"1\" class=\"dataframe\">\n",
              "  <thead>\n",
              "    <tr style=\"text-align: right;\">\n",
              "      <th></th>\n",
              "      <th>email</th>\n",
              "      <th>full_name</th>\n",
              "    </tr>\n",
              "  </thead>\n",
              "  <tbody>\n",
              "    <tr>\n",
              "      <th>0</th>\n",
              "      <td>jane.doe@mail.com</td>\n",
              "      <td>Jane doe</td>\n",
              "    </tr>\n",
              "    <tr>\n",
              "      <th>1</th>\n",
              "      <td>b.y@mail.com</td>\n",
              "      <td>B y</td>\n",
              "    </tr>\n",
              "    <tr>\n",
              "      <th>2</th>\n",
              "      <td>c.z@mail.com</td>\n",
              "      <td>M n</td>\n",
              "    </tr>\n",
              "    <tr>\n",
              "      <th>3</th>\n",
              "      <td>udit.manav@gmail.com</td>\n",
              "      <td>Aadi manav</td>\n",
              "    </tr>\n",
              "  </tbody>\n",
              "</table>\n",
              "</div>"
            ],
            "text/plain": [
              "                  email   full_name\n",
              "0     jane.doe@mail.com    Jane doe\n",
              "1          b.y@mail.com         B y\n",
              "2          c.z@mail.com         M n\n",
              "3  udit.manav@gmail.com  Aadi manav"
            ]
          },
          "metadata": {
            "tags": []
          },
          "execution_count": 40
        }
      ]
    },
    {
      "cell_type": "code",
      "metadata": {
        "id": "NWTuDU_0fz-Z",
        "colab_type": "code",
        "outputId": "c18da39a-d3b6-4e80-c8ac-e85a6570ac01",
        "colab": {
          "base_uri": "https://localhost:8080/",
          "height": 109
        }
      },
      "source": [
        "# add back first and last columns using full_name column\n",
        "df['full_name'].str.split(' ')"
      ],
      "execution_count": 0,
      "outputs": [
        {
          "output_type": "execute_result",
          "data": {
            "text/plain": [
              "0      [Jane, doe]\n",
              "1           [B, y]\n",
              "2           [M, n]\n",
              "3    [Aadi, manav]\n",
              "Name: full_name, dtype: object"
            ]
          },
          "metadata": {
            "tags": []
          },
          "execution_count": 41
        }
      ]
    },
    {
      "cell_type": "code",
      "metadata": {
        "id": "Dj8AteYfbks3",
        "colab_type": "code",
        "outputId": "6efb9d8d-b744-4071-d6a8-d2a059de840d",
        "colab": {
          "base_uri": "https://localhost:8080/",
          "height": 175
        }
      },
      "source": [
        "# to get result of above cell in DataFrame use expand=True\n",
        "df[['first', 'last']] = df['full_name'].str.split(' ', expand=True)\n",
        "df"
      ],
      "execution_count": 0,
      "outputs": [
        {
          "output_type": "execute_result",
          "data": {
            "text/html": [
              "<div>\n",
              "<style scoped>\n",
              "    .dataframe tbody tr th:only-of-type {\n",
              "        vertical-align: middle;\n",
              "    }\n",
              "\n",
              "    .dataframe tbody tr th {\n",
              "        vertical-align: top;\n",
              "    }\n",
              "\n",
              "    .dataframe thead th {\n",
              "        text-align: right;\n",
              "    }\n",
              "</style>\n",
              "<table border=\"1\" class=\"dataframe\">\n",
              "  <thead>\n",
              "    <tr style=\"text-align: right;\">\n",
              "      <th></th>\n",
              "      <th>email</th>\n",
              "      <th>full_name</th>\n",
              "      <th>first</th>\n",
              "      <th>last</th>\n",
              "    </tr>\n",
              "  </thead>\n",
              "  <tbody>\n",
              "    <tr>\n",
              "      <th>0</th>\n",
              "      <td>jane.doe@mail.com</td>\n",
              "      <td>Jane doe</td>\n",
              "      <td>Jane</td>\n",
              "      <td>doe</td>\n",
              "    </tr>\n",
              "    <tr>\n",
              "      <th>1</th>\n",
              "      <td>b.y@mail.com</td>\n",
              "      <td>B y</td>\n",
              "      <td>B</td>\n",
              "      <td>y</td>\n",
              "    </tr>\n",
              "    <tr>\n",
              "      <th>2</th>\n",
              "      <td>c.z@mail.com</td>\n",
              "      <td>M n</td>\n",
              "      <td>M</td>\n",
              "      <td>n</td>\n",
              "    </tr>\n",
              "    <tr>\n",
              "      <th>3</th>\n",
              "      <td>udit.manav@gmail.com</td>\n",
              "      <td>Aadi manav</td>\n",
              "      <td>Aadi</td>\n",
              "      <td>manav</td>\n",
              "    </tr>\n",
              "  </tbody>\n",
              "</table>\n",
              "</div>"
            ],
            "text/plain": [
              "                  email   full_name first   last\n",
              "0     jane.doe@mail.com    Jane doe  Jane    doe\n",
              "1          b.y@mail.com         B y     B      y\n",
              "2          c.z@mail.com         M n     M      n\n",
              "3  udit.manav@gmail.com  Aadi manav  Aadi  manav"
            ]
          },
          "metadata": {
            "tags": []
          },
          "execution_count": 42
        }
      ]
    },
    {
      "cell_type": "code",
      "metadata": {
        "id": "57usvGvZbkoj",
        "colab_type": "code",
        "outputId": "7a5e12a0-befe-4aa6-d2c9-e15d9f0458dc",
        "colab": {
          "base_uri": "https://localhost:8080/",
          "height": 206
        }
      },
      "source": [
        "# adding a single row, single value, NOT inplace\n",
        "df.append({'first':'Tony'}, ignore_index=True)  # try removing ignore_index=True"
      ],
      "execution_count": 0,
      "outputs": [
        {
          "output_type": "execute_result",
          "data": {
            "text/html": [
              "<div>\n",
              "<style scoped>\n",
              "    .dataframe tbody tr th:only-of-type {\n",
              "        vertical-align: middle;\n",
              "    }\n",
              "\n",
              "    .dataframe tbody tr th {\n",
              "        vertical-align: top;\n",
              "    }\n",
              "\n",
              "    .dataframe thead th {\n",
              "        text-align: right;\n",
              "    }\n",
              "</style>\n",
              "<table border=\"1\" class=\"dataframe\">\n",
              "  <thead>\n",
              "    <tr style=\"text-align: right;\">\n",
              "      <th></th>\n",
              "      <th>email</th>\n",
              "      <th>full_name</th>\n",
              "      <th>first</th>\n",
              "      <th>last</th>\n",
              "    </tr>\n",
              "  </thead>\n",
              "  <tbody>\n",
              "    <tr>\n",
              "      <th>0</th>\n",
              "      <td>jane.doe@mail.com</td>\n",
              "      <td>Jane doe</td>\n",
              "      <td>Jane</td>\n",
              "      <td>doe</td>\n",
              "    </tr>\n",
              "    <tr>\n",
              "      <th>1</th>\n",
              "      <td>b.y@mail.com</td>\n",
              "      <td>B y</td>\n",
              "      <td>B</td>\n",
              "      <td>y</td>\n",
              "    </tr>\n",
              "    <tr>\n",
              "      <th>2</th>\n",
              "      <td>c.z@mail.com</td>\n",
              "      <td>M n</td>\n",
              "      <td>M</td>\n",
              "      <td>n</td>\n",
              "    </tr>\n",
              "    <tr>\n",
              "      <th>3</th>\n",
              "      <td>udit.manav@gmail.com</td>\n",
              "      <td>Aadi manav</td>\n",
              "      <td>Aadi</td>\n",
              "      <td>manav</td>\n",
              "    </tr>\n",
              "    <tr>\n",
              "      <th>4</th>\n",
              "      <td>NaN</td>\n",
              "      <td>NaN</td>\n",
              "      <td>Tony</td>\n",
              "      <td>NaN</td>\n",
              "    </tr>\n",
              "  </tbody>\n",
              "</table>\n",
              "</div>"
            ],
            "text/plain": [
              "                  email   full_name first   last\n",
              "0     jane.doe@mail.com    Jane doe  Jane    doe\n",
              "1          b.y@mail.com         B y     B      y\n",
              "2          c.z@mail.com         M n     M      n\n",
              "3  udit.manav@gmail.com  Aadi manav  Aadi  manav\n",
              "4                   NaN         NaN  Tony    NaN"
            ]
          },
          "metadata": {
            "tags": []
          },
          "execution_count": 43
        }
      ]
    },
    {
      "cell_type": "code",
      "metadata": {
        "id": "89oMBF5OhZZV",
        "colab_type": "code",
        "outputId": "1d047ba6-4fcb-4b48-a7c9-ee96c6caf084",
        "colab": {
          "base_uri": "https://localhost:8080/",
          "height": 112
        }
      },
      "source": [
        "# adding 2 DataFrames together\n",
        "people2 = {\n",
        "    'first' : ['P', 'Q'], \n",
        "    'last' : ['R', 'S'],\n",
        "    'email' : ['p.q@mail.com', 'r.s@mail.com'], \n",
        "}\n",
        "df2 = pd.DataFrame(people2)\n",
        "df2"
      ],
      "execution_count": 0,
      "outputs": [
        {
          "output_type": "execute_result",
          "data": {
            "text/html": [
              "<div>\n",
              "<style scoped>\n",
              "    .dataframe tbody tr th:only-of-type {\n",
              "        vertical-align: middle;\n",
              "    }\n",
              "\n",
              "    .dataframe tbody tr th {\n",
              "        vertical-align: top;\n",
              "    }\n",
              "\n",
              "    .dataframe thead th {\n",
              "        text-align: right;\n",
              "    }\n",
              "</style>\n",
              "<table border=\"1\" class=\"dataframe\">\n",
              "  <thead>\n",
              "    <tr style=\"text-align: right;\">\n",
              "      <th></th>\n",
              "      <th>first</th>\n",
              "      <th>last</th>\n",
              "      <th>email</th>\n",
              "    </tr>\n",
              "  </thead>\n",
              "  <tbody>\n",
              "    <tr>\n",
              "      <th>0</th>\n",
              "      <td>P</td>\n",
              "      <td>R</td>\n",
              "      <td>p.q@mail.com</td>\n",
              "    </tr>\n",
              "    <tr>\n",
              "      <th>1</th>\n",
              "      <td>Q</td>\n",
              "      <td>S</td>\n",
              "      <td>r.s@mail.com</td>\n",
              "    </tr>\n",
              "  </tbody>\n",
              "</table>\n",
              "</div>"
            ],
            "text/plain": [
              "  first last         email\n",
              "0     P    R  p.q@mail.com\n",
              "1     Q    S  r.s@mail.com"
            ]
          },
          "metadata": {
            "tags": []
          },
          "execution_count": 44
        }
      ]
    },
    {
      "cell_type": "code",
      "metadata": {
        "id": "wNwz5SpUigUe",
        "colab_type": "code",
        "outputId": "857586a0-f9d1-4a5e-f290-000896249752",
        "colab": {
          "base_uri": "https://localhost:8080/",
          "height": 238
        }
      },
      "source": [
        "# need to use ignore_index since df are not in same order, NOT inplace\n",
        "df.append(df2, ignore_index=True)"
      ],
      "execution_count": 0,
      "outputs": [
        {
          "output_type": "execute_result",
          "data": {
            "text/html": [
              "<div>\n",
              "<style scoped>\n",
              "    .dataframe tbody tr th:only-of-type {\n",
              "        vertical-align: middle;\n",
              "    }\n",
              "\n",
              "    .dataframe tbody tr th {\n",
              "        vertical-align: top;\n",
              "    }\n",
              "\n",
              "    .dataframe thead th {\n",
              "        text-align: right;\n",
              "    }\n",
              "</style>\n",
              "<table border=\"1\" class=\"dataframe\">\n",
              "  <thead>\n",
              "    <tr style=\"text-align: right;\">\n",
              "      <th></th>\n",
              "      <th>email</th>\n",
              "      <th>full_name</th>\n",
              "      <th>first</th>\n",
              "      <th>last</th>\n",
              "    </tr>\n",
              "  </thead>\n",
              "  <tbody>\n",
              "    <tr>\n",
              "      <th>0</th>\n",
              "      <td>jane.doe@mail.com</td>\n",
              "      <td>Jane doe</td>\n",
              "      <td>Jane</td>\n",
              "      <td>doe</td>\n",
              "    </tr>\n",
              "    <tr>\n",
              "      <th>1</th>\n",
              "      <td>b.y@mail.com</td>\n",
              "      <td>B y</td>\n",
              "      <td>B</td>\n",
              "      <td>y</td>\n",
              "    </tr>\n",
              "    <tr>\n",
              "      <th>2</th>\n",
              "      <td>c.z@mail.com</td>\n",
              "      <td>M n</td>\n",
              "      <td>M</td>\n",
              "      <td>n</td>\n",
              "    </tr>\n",
              "    <tr>\n",
              "      <th>3</th>\n",
              "      <td>udit.manav@gmail.com</td>\n",
              "      <td>Aadi manav</td>\n",
              "      <td>Aadi</td>\n",
              "      <td>manav</td>\n",
              "    </tr>\n",
              "    <tr>\n",
              "      <th>4</th>\n",
              "      <td>p.q@mail.com</td>\n",
              "      <td>NaN</td>\n",
              "      <td>P</td>\n",
              "      <td>R</td>\n",
              "    </tr>\n",
              "    <tr>\n",
              "      <th>5</th>\n",
              "      <td>r.s@mail.com</td>\n",
              "      <td>NaN</td>\n",
              "      <td>Q</td>\n",
              "      <td>S</td>\n",
              "    </tr>\n",
              "  </tbody>\n",
              "</table>\n",
              "</div>"
            ],
            "text/plain": [
              "                  email   full_name first   last\n",
              "0     jane.doe@mail.com    Jane doe  Jane    doe\n",
              "1          b.y@mail.com         B y     B      y\n",
              "2          c.z@mail.com         M n     M      n\n",
              "3  udit.manav@gmail.com  Aadi manav  Aadi  manav\n",
              "4          p.q@mail.com         NaN     P      R\n",
              "5          r.s@mail.com         NaN     Q      S"
            ]
          },
          "metadata": {
            "tags": []
          },
          "execution_count": 45
        }
      ]
    },
    {
      "cell_type": "code",
      "metadata": {
        "id": "9DTvTwxKigSE",
        "colab_type": "code",
        "outputId": "603f060e-c545-47f2-a5dc-0cca61b1c193",
        "colab": {
          "base_uri": "https://localhost:8080/",
          "height": 238
        }
      },
      "source": [
        "df = df.append(df2, ignore_index=True)\n",
        "df"
      ],
      "execution_count": 0,
      "outputs": [
        {
          "output_type": "execute_result",
          "data": {
            "text/html": [
              "<div>\n",
              "<style scoped>\n",
              "    .dataframe tbody tr th:only-of-type {\n",
              "        vertical-align: middle;\n",
              "    }\n",
              "\n",
              "    .dataframe tbody tr th {\n",
              "        vertical-align: top;\n",
              "    }\n",
              "\n",
              "    .dataframe thead th {\n",
              "        text-align: right;\n",
              "    }\n",
              "</style>\n",
              "<table border=\"1\" class=\"dataframe\">\n",
              "  <thead>\n",
              "    <tr style=\"text-align: right;\">\n",
              "      <th></th>\n",
              "      <th>email</th>\n",
              "      <th>full_name</th>\n",
              "      <th>first</th>\n",
              "      <th>last</th>\n",
              "    </tr>\n",
              "  </thead>\n",
              "  <tbody>\n",
              "    <tr>\n",
              "      <th>0</th>\n",
              "      <td>jane.doe@mail.com</td>\n",
              "      <td>Jane doe</td>\n",
              "      <td>Jane</td>\n",
              "      <td>doe</td>\n",
              "    </tr>\n",
              "    <tr>\n",
              "      <th>1</th>\n",
              "      <td>b.y@mail.com</td>\n",
              "      <td>B y</td>\n",
              "      <td>B</td>\n",
              "      <td>y</td>\n",
              "    </tr>\n",
              "    <tr>\n",
              "      <th>2</th>\n",
              "      <td>c.z@mail.com</td>\n",
              "      <td>M n</td>\n",
              "      <td>M</td>\n",
              "      <td>n</td>\n",
              "    </tr>\n",
              "    <tr>\n",
              "      <th>3</th>\n",
              "      <td>udit.manav@gmail.com</td>\n",
              "      <td>Aadi manav</td>\n",
              "      <td>Aadi</td>\n",
              "      <td>manav</td>\n",
              "    </tr>\n",
              "    <tr>\n",
              "      <th>4</th>\n",
              "      <td>p.q@mail.com</td>\n",
              "      <td>NaN</td>\n",
              "      <td>P</td>\n",
              "      <td>R</td>\n",
              "    </tr>\n",
              "    <tr>\n",
              "      <th>5</th>\n",
              "      <td>r.s@mail.com</td>\n",
              "      <td>NaN</td>\n",
              "      <td>Q</td>\n",
              "      <td>S</td>\n",
              "    </tr>\n",
              "  </tbody>\n",
              "</table>\n",
              "</div>"
            ],
            "text/plain": [
              "                  email   full_name first   last\n",
              "0     jane.doe@mail.com    Jane doe  Jane    doe\n",
              "1          b.y@mail.com         B y     B      y\n",
              "2          c.z@mail.com         M n     M      n\n",
              "3  udit.manav@gmail.com  Aadi manav  Aadi  manav\n",
              "4          p.q@mail.com         NaN     P      R\n",
              "5          r.s@mail.com         NaN     Q      S"
            ]
          },
          "metadata": {
            "tags": []
          },
          "execution_count": 46
        }
      ]
    },
    {
      "cell_type": "code",
      "metadata": {
        "id": "2vOEp-vHigPF",
        "colab_type": "code",
        "outputId": "78b59020-b641-4b14-dfda-2bd56ac39df9",
        "colab": {
          "base_uri": "https://localhost:8080/",
          "height": 206
        }
      },
      "source": [
        "# removing rows from DataFrame, NOT inplace\n",
        "df.drop(index=4)"
      ],
      "execution_count": 0,
      "outputs": [
        {
          "output_type": "execute_result",
          "data": {
            "text/html": [
              "<div>\n",
              "<style scoped>\n",
              "    .dataframe tbody tr th:only-of-type {\n",
              "        vertical-align: middle;\n",
              "    }\n",
              "\n",
              "    .dataframe tbody tr th {\n",
              "        vertical-align: top;\n",
              "    }\n",
              "\n",
              "    .dataframe thead th {\n",
              "        text-align: right;\n",
              "    }\n",
              "</style>\n",
              "<table border=\"1\" class=\"dataframe\">\n",
              "  <thead>\n",
              "    <tr style=\"text-align: right;\">\n",
              "      <th></th>\n",
              "      <th>email</th>\n",
              "      <th>full_name</th>\n",
              "      <th>first</th>\n",
              "      <th>last</th>\n",
              "    </tr>\n",
              "  </thead>\n",
              "  <tbody>\n",
              "    <tr>\n",
              "      <th>0</th>\n",
              "      <td>jane.doe@mail.com</td>\n",
              "      <td>Jane doe</td>\n",
              "      <td>Jane</td>\n",
              "      <td>doe</td>\n",
              "    </tr>\n",
              "    <tr>\n",
              "      <th>1</th>\n",
              "      <td>b.y@mail.com</td>\n",
              "      <td>B y</td>\n",
              "      <td>B</td>\n",
              "      <td>y</td>\n",
              "    </tr>\n",
              "    <tr>\n",
              "      <th>2</th>\n",
              "      <td>c.z@mail.com</td>\n",
              "      <td>M n</td>\n",
              "      <td>M</td>\n",
              "      <td>n</td>\n",
              "    </tr>\n",
              "    <tr>\n",
              "      <th>3</th>\n",
              "      <td>udit.manav@gmail.com</td>\n",
              "      <td>Aadi manav</td>\n",
              "      <td>Aadi</td>\n",
              "      <td>manav</td>\n",
              "    </tr>\n",
              "    <tr>\n",
              "      <th>5</th>\n",
              "      <td>r.s@mail.com</td>\n",
              "      <td>NaN</td>\n",
              "      <td>Q</td>\n",
              "      <td>S</td>\n",
              "    </tr>\n",
              "  </tbody>\n",
              "</table>\n",
              "</div>"
            ],
            "text/plain": [
              "                  email   full_name first   last\n",
              "0     jane.doe@mail.com    Jane doe  Jane    doe\n",
              "1          b.y@mail.com         B y     B      y\n",
              "2          c.z@mail.com         M n     M      n\n",
              "3  udit.manav@gmail.com  Aadi manav  Aadi  manav\n",
              "5          r.s@mail.com         NaN     Q      S"
            ]
          },
          "metadata": {
            "tags": []
          },
          "execution_count": 47
        }
      ]
    },
    {
      "cell_type": "code",
      "metadata": {
        "id": "peaXBH12igMW",
        "colab_type": "code",
        "outputId": "17dd03ad-cdfa-4212-94f4-13c4b2787f31",
        "colab": {
          "base_uri": "https://localhost:8080/",
          "height": 175
        }
      },
      "source": [
        "# removing rows based on some condition\n",
        "filtr = ((df['last']=='n')|(df['first']=='Q'))\n",
        "df.drop(index=df[filtr].index)"
      ],
      "execution_count": 0,
      "outputs": [
        {
          "output_type": "execute_result",
          "data": {
            "text/html": [
              "<div>\n",
              "<style scoped>\n",
              "    .dataframe tbody tr th:only-of-type {\n",
              "        vertical-align: middle;\n",
              "    }\n",
              "\n",
              "    .dataframe tbody tr th {\n",
              "        vertical-align: top;\n",
              "    }\n",
              "\n",
              "    .dataframe thead th {\n",
              "        text-align: right;\n",
              "    }\n",
              "</style>\n",
              "<table border=\"1\" class=\"dataframe\">\n",
              "  <thead>\n",
              "    <tr style=\"text-align: right;\">\n",
              "      <th></th>\n",
              "      <th>email</th>\n",
              "      <th>full_name</th>\n",
              "      <th>first</th>\n",
              "      <th>last</th>\n",
              "    </tr>\n",
              "  </thead>\n",
              "  <tbody>\n",
              "    <tr>\n",
              "      <th>0</th>\n",
              "      <td>jane.doe@mail.com</td>\n",
              "      <td>Jane doe</td>\n",
              "      <td>Jane</td>\n",
              "      <td>doe</td>\n",
              "    </tr>\n",
              "    <tr>\n",
              "      <th>1</th>\n",
              "      <td>b.y@mail.com</td>\n",
              "      <td>B y</td>\n",
              "      <td>B</td>\n",
              "      <td>y</td>\n",
              "    </tr>\n",
              "    <tr>\n",
              "      <th>3</th>\n",
              "      <td>udit.manav@gmail.com</td>\n",
              "      <td>Aadi manav</td>\n",
              "      <td>Aadi</td>\n",
              "      <td>manav</td>\n",
              "    </tr>\n",
              "    <tr>\n",
              "      <th>4</th>\n",
              "      <td>p.q@mail.com</td>\n",
              "      <td>NaN</td>\n",
              "      <td>P</td>\n",
              "      <td>R</td>\n",
              "    </tr>\n",
              "  </tbody>\n",
              "</table>\n",
              "</div>"
            ],
            "text/plain": [
              "                  email   full_name first   last\n",
              "0     jane.doe@mail.com    Jane doe  Jane    doe\n",
              "1          b.y@mail.com         B y     B      y\n",
              "3  udit.manav@gmail.com  Aadi manav  Aadi  manav\n",
              "4          p.q@mail.com         NaN     P      R"
            ]
          },
          "metadata": {
            "tags": []
          },
          "execution_count": 48
        }
      ]
    },
    {
      "cell_type": "code",
      "metadata": {
        "id": "Zv5qY5lhP1nj",
        "colab_type": "code",
        "outputId": "f0e471b8-e5a3-456f-da15-9d7cfdeeccec",
        "colab": {
          "base_uri": "https://localhost:8080/",
          "height": 238
        }
      },
      "source": [
        "# concat different series object to a DataFrame\n",
        "df3 = pd.concat([df['first'], df['last'], df['email']], axis='columns')\n",
        "df3"
      ],
      "execution_count": 0,
      "outputs": [
        {
          "output_type": "execute_result",
          "data": {
            "text/html": [
              "<div>\n",
              "<style scoped>\n",
              "    .dataframe tbody tr th:only-of-type {\n",
              "        vertical-align: middle;\n",
              "    }\n",
              "\n",
              "    .dataframe tbody tr th {\n",
              "        vertical-align: top;\n",
              "    }\n",
              "\n",
              "    .dataframe thead th {\n",
              "        text-align: right;\n",
              "    }\n",
              "</style>\n",
              "<table border=\"1\" class=\"dataframe\">\n",
              "  <thead>\n",
              "    <tr style=\"text-align: right;\">\n",
              "      <th></th>\n",
              "      <th>first</th>\n",
              "      <th>last</th>\n",
              "      <th>email</th>\n",
              "    </tr>\n",
              "  </thead>\n",
              "  <tbody>\n",
              "    <tr>\n",
              "      <th>0</th>\n",
              "      <td>Jane</td>\n",
              "      <td>doe</td>\n",
              "      <td>jane.doe@mail.com</td>\n",
              "    </tr>\n",
              "    <tr>\n",
              "      <th>1</th>\n",
              "      <td>B</td>\n",
              "      <td>y</td>\n",
              "      <td>b.y@mail.com</td>\n",
              "    </tr>\n",
              "    <tr>\n",
              "      <th>2</th>\n",
              "      <td>M</td>\n",
              "      <td>n</td>\n",
              "      <td>c.z@mail.com</td>\n",
              "    </tr>\n",
              "    <tr>\n",
              "      <th>3</th>\n",
              "      <td>Aadi</td>\n",
              "      <td>manav</td>\n",
              "      <td>udit.manav@gmail.com</td>\n",
              "    </tr>\n",
              "    <tr>\n",
              "      <th>4</th>\n",
              "      <td>P</td>\n",
              "      <td>R</td>\n",
              "      <td>p.q@mail.com</td>\n",
              "    </tr>\n",
              "    <tr>\n",
              "      <th>5</th>\n",
              "      <td>Q</td>\n",
              "      <td>S</td>\n",
              "      <td>r.s@mail.com</td>\n",
              "    </tr>\n",
              "  </tbody>\n",
              "</table>\n",
              "</div>"
            ],
            "text/plain": [
              "  first   last                 email\n",
              "0  Jane    doe     jane.doe@mail.com\n",
              "1     B      y          b.y@mail.com\n",
              "2     M      n          c.z@mail.com\n",
              "3  Aadi  manav  udit.manav@gmail.com\n",
              "4     P      R          p.q@mail.com\n",
              "5     Q      S          r.s@mail.com"
            ]
          },
          "metadata": {
            "tags": []
          },
          "execution_count": 49
        }
      ]
    },
    {
      "cell_type": "code",
      "metadata": {
        "id": "Vbbc3w7pkiS7",
        "colab_type": "code",
        "outputId": "48458862-a7a8-46a4-f302-fb71ed57983a",
        "colab": {
          "base_uri": "https://localhost:8080/",
          "height": 238
        }
      },
      "source": [
        "df"
      ],
      "execution_count": 0,
      "outputs": [
        {
          "output_type": "execute_result",
          "data": {
            "text/html": [
              "<div>\n",
              "<style scoped>\n",
              "    .dataframe tbody tr th:only-of-type {\n",
              "        vertical-align: middle;\n",
              "    }\n",
              "\n",
              "    .dataframe tbody tr th {\n",
              "        vertical-align: top;\n",
              "    }\n",
              "\n",
              "    .dataframe thead th {\n",
              "        text-align: right;\n",
              "    }\n",
              "</style>\n",
              "<table border=\"1\" class=\"dataframe\">\n",
              "  <thead>\n",
              "    <tr style=\"text-align: right;\">\n",
              "      <th></th>\n",
              "      <th>email</th>\n",
              "      <th>full_name</th>\n",
              "      <th>first</th>\n",
              "      <th>last</th>\n",
              "    </tr>\n",
              "  </thead>\n",
              "  <tbody>\n",
              "    <tr>\n",
              "      <th>0</th>\n",
              "      <td>jane.doe@mail.com</td>\n",
              "      <td>Jane doe</td>\n",
              "      <td>Jane</td>\n",
              "      <td>doe</td>\n",
              "    </tr>\n",
              "    <tr>\n",
              "      <th>1</th>\n",
              "      <td>b.y@mail.com</td>\n",
              "      <td>B y</td>\n",
              "      <td>B</td>\n",
              "      <td>y</td>\n",
              "    </tr>\n",
              "    <tr>\n",
              "      <th>2</th>\n",
              "      <td>c.z@mail.com</td>\n",
              "      <td>M n</td>\n",
              "      <td>M</td>\n",
              "      <td>n</td>\n",
              "    </tr>\n",
              "    <tr>\n",
              "      <th>3</th>\n",
              "      <td>udit.manav@gmail.com</td>\n",
              "      <td>Aadi manav</td>\n",
              "      <td>Aadi</td>\n",
              "      <td>manav</td>\n",
              "    </tr>\n",
              "    <tr>\n",
              "      <th>4</th>\n",
              "      <td>p.q@mail.com</td>\n",
              "      <td>NaN</td>\n",
              "      <td>P</td>\n",
              "      <td>R</td>\n",
              "    </tr>\n",
              "    <tr>\n",
              "      <th>5</th>\n",
              "      <td>r.s@mail.com</td>\n",
              "      <td>NaN</td>\n",
              "      <td>Q</td>\n",
              "      <td>S</td>\n",
              "    </tr>\n",
              "  </tbody>\n",
              "</table>\n",
              "</div>"
            ],
            "text/plain": [
              "                  email   full_name first   last\n",
              "0     jane.doe@mail.com    Jane doe  Jane    doe\n",
              "1          b.y@mail.com         B y     B      y\n",
              "2          c.z@mail.com         M n     M      n\n",
              "3  udit.manav@gmail.com  Aadi manav  Aadi  manav\n",
              "4          p.q@mail.com         NaN     P      R\n",
              "5          r.s@mail.com         NaN     Q      S"
            ]
          },
          "metadata": {
            "tags": []
          },
          "execution_count": 50
        }
      ]
    },
    {
      "cell_type": "markdown",
      "metadata": {
        "id": "94C8K-4Lblj7",
        "colab_type": "text"
      },
      "source": [
        "## Part 7: Sorting Data <a name='video-07'></a>\n",
        "sort columns, sort multiple columns, get max and min from different rows"
      ]
    },
    {
      "cell_type": "code",
      "metadata": {
        "id": "kGo6HJ3Bb3PH",
        "colab_type": "code",
        "outputId": "1acf2b7e-80a1-4cb1-eb7d-df107a34356a",
        "colab": {
          "base_uri": "https://localhost:8080/",
          "height": 175
        }
      },
      "source": [
        "people = {\n",
        "    'first' : ['A', 'B', 'C', 'Udit'], \n",
        "    'last' : ['Y', 'Y', 'Z', 'Manav'],\n",
        "    'mail' : ['a.y@mail.com', 'b.y@mail.com', 'c.z@mail.com', 'udit.manav@gmail.com'], \n",
        "}\n",
        "df = pd.DataFrame(people)\n",
        "df"
      ],
      "execution_count": 0,
      "outputs": [
        {
          "output_type": "execute_result",
          "data": {
            "text/html": [
              "<div>\n",
              "<style scoped>\n",
              "    .dataframe tbody tr th:only-of-type {\n",
              "        vertical-align: middle;\n",
              "    }\n",
              "\n",
              "    .dataframe tbody tr th {\n",
              "        vertical-align: top;\n",
              "    }\n",
              "\n",
              "    .dataframe thead th {\n",
              "        text-align: right;\n",
              "    }\n",
              "</style>\n",
              "<table border=\"1\" class=\"dataframe\">\n",
              "  <thead>\n",
              "    <tr style=\"text-align: right;\">\n",
              "      <th></th>\n",
              "      <th>first</th>\n",
              "      <th>last</th>\n",
              "      <th>mail</th>\n",
              "    </tr>\n",
              "  </thead>\n",
              "  <tbody>\n",
              "    <tr>\n",
              "      <th>0</th>\n",
              "      <td>A</td>\n",
              "      <td>Y</td>\n",
              "      <td>a.y@mail.com</td>\n",
              "    </tr>\n",
              "    <tr>\n",
              "      <th>1</th>\n",
              "      <td>B</td>\n",
              "      <td>Y</td>\n",
              "      <td>b.y@mail.com</td>\n",
              "    </tr>\n",
              "    <tr>\n",
              "      <th>2</th>\n",
              "      <td>C</td>\n",
              "      <td>Z</td>\n",
              "      <td>c.z@mail.com</td>\n",
              "    </tr>\n",
              "    <tr>\n",
              "      <th>3</th>\n",
              "      <td>Udit</td>\n",
              "      <td>Manav</td>\n",
              "      <td>udit.manav@gmail.com</td>\n",
              "    </tr>\n",
              "  </tbody>\n",
              "</table>\n",
              "</div>"
            ],
            "text/plain": [
              "  first   last                  mail\n",
              "0     A      Y          a.y@mail.com\n",
              "1     B      Y          b.y@mail.com\n",
              "2     C      Z          c.z@mail.com\n",
              "3  Udit  Manav  udit.manav@gmail.com"
            ]
          },
          "metadata": {
            "tags": []
          },
          "execution_count": 51
        }
      ]
    },
    {
      "cell_type": "code",
      "metadata": {
        "id": "d6S2erLJb7Nw",
        "colab_type": "code",
        "outputId": "f622376d-8ae2-4447-ef49-5ed9b68b8931",
        "colab": {
          "base_uri": "https://localhost:8080/",
          "height": 175
        }
      },
      "source": [
        "# sort by last name\n",
        "df.sort_values(by='last', ascending=False)"
      ],
      "execution_count": 0,
      "outputs": [
        {
          "output_type": "execute_result",
          "data": {
            "text/html": [
              "<div>\n",
              "<style scoped>\n",
              "    .dataframe tbody tr th:only-of-type {\n",
              "        vertical-align: middle;\n",
              "    }\n",
              "\n",
              "    .dataframe tbody tr th {\n",
              "        vertical-align: top;\n",
              "    }\n",
              "\n",
              "    .dataframe thead th {\n",
              "        text-align: right;\n",
              "    }\n",
              "</style>\n",
              "<table border=\"1\" class=\"dataframe\">\n",
              "  <thead>\n",
              "    <tr style=\"text-align: right;\">\n",
              "      <th></th>\n",
              "      <th>first</th>\n",
              "      <th>last</th>\n",
              "      <th>mail</th>\n",
              "    </tr>\n",
              "  </thead>\n",
              "  <tbody>\n",
              "    <tr>\n",
              "      <th>2</th>\n",
              "      <td>C</td>\n",
              "      <td>Z</td>\n",
              "      <td>c.z@mail.com</td>\n",
              "    </tr>\n",
              "    <tr>\n",
              "      <th>0</th>\n",
              "      <td>A</td>\n",
              "      <td>Y</td>\n",
              "      <td>a.y@mail.com</td>\n",
              "    </tr>\n",
              "    <tr>\n",
              "      <th>1</th>\n",
              "      <td>B</td>\n",
              "      <td>Y</td>\n",
              "      <td>b.y@mail.com</td>\n",
              "    </tr>\n",
              "    <tr>\n",
              "      <th>3</th>\n",
              "      <td>Udit</td>\n",
              "      <td>Manav</td>\n",
              "      <td>udit.manav@gmail.com</td>\n",
              "    </tr>\n",
              "  </tbody>\n",
              "</table>\n",
              "</div>"
            ],
            "text/plain": [
              "  first   last                  mail\n",
              "2     C      Z          c.z@mail.com\n",
              "0     A      Y          a.y@mail.com\n",
              "1     B      Y          b.y@mail.com\n",
              "3  Udit  Manav  udit.manav@gmail.com"
            ]
          },
          "metadata": {
            "tags": []
          },
          "execution_count": 52
        }
      ]
    },
    {
      "cell_type": "code",
      "metadata": {
        "id": "ycsk3YYAl-4A",
        "colab_type": "code",
        "outputId": "cc5d7294-c233-42db-80c4-f5ce89a67c49",
        "colab": {
          "base_uri": "https://localhost:8080/",
          "height": 175
        }
      },
      "source": [
        "# sorting on multiple columns\n",
        "df.sort_values(by=['last', 'first'], \n",
        "               ascending=False)"
      ],
      "execution_count": 0,
      "outputs": [
        {
          "output_type": "execute_result",
          "data": {
            "text/html": [
              "<div>\n",
              "<style scoped>\n",
              "    .dataframe tbody tr th:only-of-type {\n",
              "        vertical-align: middle;\n",
              "    }\n",
              "\n",
              "    .dataframe tbody tr th {\n",
              "        vertical-align: top;\n",
              "    }\n",
              "\n",
              "    .dataframe thead th {\n",
              "        text-align: right;\n",
              "    }\n",
              "</style>\n",
              "<table border=\"1\" class=\"dataframe\">\n",
              "  <thead>\n",
              "    <tr style=\"text-align: right;\">\n",
              "      <th></th>\n",
              "      <th>first</th>\n",
              "      <th>last</th>\n",
              "      <th>mail</th>\n",
              "    </tr>\n",
              "  </thead>\n",
              "  <tbody>\n",
              "    <tr>\n",
              "      <th>2</th>\n",
              "      <td>C</td>\n",
              "      <td>Z</td>\n",
              "      <td>c.z@mail.com</td>\n",
              "    </tr>\n",
              "    <tr>\n",
              "      <th>1</th>\n",
              "      <td>B</td>\n",
              "      <td>Y</td>\n",
              "      <td>b.y@mail.com</td>\n",
              "    </tr>\n",
              "    <tr>\n",
              "      <th>0</th>\n",
              "      <td>A</td>\n",
              "      <td>Y</td>\n",
              "      <td>a.y@mail.com</td>\n",
              "    </tr>\n",
              "    <tr>\n",
              "      <th>3</th>\n",
              "      <td>Udit</td>\n",
              "      <td>Manav</td>\n",
              "      <td>udit.manav@gmail.com</td>\n",
              "    </tr>\n",
              "  </tbody>\n",
              "</table>\n",
              "</div>"
            ],
            "text/plain": [
              "  first   last                  mail\n",
              "2     C      Z          c.z@mail.com\n",
              "1     B      Y          b.y@mail.com\n",
              "0     A      Y          a.y@mail.com\n",
              "3  Udit  Manav  udit.manav@gmail.com"
            ]
          },
          "metadata": {
            "tags": []
          },
          "execution_count": 53
        }
      ]
    },
    {
      "cell_type": "code",
      "metadata": {
        "id": "XcrWJarvl-EI",
        "colab_type": "code",
        "outputId": "7d2cf5e9-e03b-4cd1-ac36-337f0587e7ab",
        "colab": {
          "base_uri": "https://localhost:8080/",
          "height": 175
        }
      },
      "source": [
        "# sorting last in ascending, first in descending, NOT inplace\n",
        "df.sort_values(by=['last', 'first'], \n",
        "               ascending=[True, False], \n",
        "               inplace=True)\n",
        "df"
      ],
      "execution_count": 0,
      "outputs": [
        {
          "output_type": "execute_result",
          "data": {
            "text/html": [
              "<div>\n",
              "<style scoped>\n",
              "    .dataframe tbody tr th:only-of-type {\n",
              "        vertical-align: middle;\n",
              "    }\n",
              "\n",
              "    .dataframe tbody tr th {\n",
              "        vertical-align: top;\n",
              "    }\n",
              "\n",
              "    .dataframe thead th {\n",
              "        text-align: right;\n",
              "    }\n",
              "</style>\n",
              "<table border=\"1\" class=\"dataframe\">\n",
              "  <thead>\n",
              "    <tr style=\"text-align: right;\">\n",
              "      <th></th>\n",
              "      <th>first</th>\n",
              "      <th>last</th>\n",
              "      <th>mail</th>\n",
              "    </tr>\n",
              "  </thead>\n",
              "  <tbody>\n",
              "    <tr>\n",
              "      <th>3</th>\n",
              "      <td>Udit</td>\n",
              "      <td>Manav</td>\n",
              "      <td>udit.manav@gmail.com</td>\n",
              "    </tr>\n",
              "    <tr>\n",
              "      <th>1</th>\n",
              "      <td>B</td>\n",
              "      <td>Y</td>\n",
              "      <td>b.y@mail.com</td>\n",
              "    </tr>\n",
              "    <tr>\n",
              "      <th>0</th>\n",
              "      <td>A</td>\n",
              "      <td>Y</td>\n",
              "      <td>a.y@mail.com</td>\n",
              "    </tr>\n",
              "    <tr>\n",
              "      <th>2</th>\n",
              "      <td>C</td>\n",
              "      <td>Z</td>\n",
              "      <td>c.z@mail.com</td>\n",
              "    </tr>\n",
              "  </tbody>\n",
              "</table>\n",
              "</div>"
            ],
            "text/plain": [
              "  first   last                  mail\n",
              "3  Udit  Manav  udit.manav@gmail.com\n",
              "1     B      Y          b.y@mail.com\n",
              "0     A      Y          a.y@mail.com\n",
              "2     C      Z          c.z@mail.com"
            ]
          },
          "metadata": {
            "tags": []
          },
          "execution_count": 54
        }
      ]
    },
    {
      "cell_type": "code",
      "metadata": {
        "id": "G3o5GAb6l-CJ",
        "colab_type": "code",
        "outputId": "2bef23c0-8b16-4d06-960a-2d6f027a44bb",
        "colab": {
          "base_uri": "https://localhost:8080/",
          "height": 175
        }
      },
      "source": [
        "# sorting via indexes\n",
        "df.sort_index()"
      ],
      "execution_count": 0,
      "outputs": [
        {
          "output_type": "execute_result",
          "data": {
            "text/html": [
              "<div>\n",
              "<style scoped>\n",
              "    .dataframe tbody tr th:only-of-type {\n",
              "        vertical-align: middle;\n",
              "    }\n",
              "\n",
              "    .dataframe tbody tr th {\n",
              "        vertical-align: top;\n",
              "    }\n",
              "\n",
              "    .dataframe thead th {\n",
              "        text-align: right;\n",
              "    }\n",
              "</style>\n",
              "<table border=\"1\" class=\"dataframe\">\n",
              "  <thead>\n",
              "    <tr style=\"text-align: right;\">\n",
              "      <th></th>\n",
              "      <th>first</th>\n",
              "      <th>last</th>\n",
              "      <th>mail</th>\n",
              "    </tr>\n",
              "  </thead>\n",
              "  <tbody>\n",
              "    <tr>\n",
              "      <th>0</th>\n",
              "      <td>A</td>\n",
              "      <td>Y</td>\n",
              "      <td>a.y@mail.com</td>\n",
              "    </tr>\n",
              "    <tr>\n",
              "      <th>1</th>\n",
              "      <td>B</td>\n",
              "      <td>Y</td>\n",
              "      <td>b.y@mail.com</td>\n",
              "    </tr>\n",
              "    <tr>\n",
              "      <th>2</th>\n",
              "      <td>C</td>\n",
              "      <td>Z</td>\n",
              "      <td>c.z@mail.com</td>\n",
              "    </tr>\n",
              "    <tr>\n",
              "      <th>3</th>\n",
              "      <td>Udit</td>\n",
              "      <td>Manav</td>\n",
              "      <td>udit.manav@gmail.com</td>\n",
              "    </tr>\n",
              "  </tbody>\n",
              "</table>\n",
              "</div>"
            ],
            "text/plain": [
              "  first   last                  mail\n",
              "0     A      Y          a.y@mail.com\n",
              "1     B      Y          b.y@mail.com\n",
              "2     C      Z          c.z@mail.com\n",
              "3  Udit  Manav  udit.manav@gmail.com"
            ]
          },
          "metadata": {
            "tags": []
          },
          "execution_count": 55
        }
      ]
    },
    {
      "cell_type": "code",
      "metadata": {
        "id": "lpph4V7jl9_y",
        "colab_type": "code",
        "outputId": "3ce39f35-ef6d-4e9f-841b-3a888265d342",
        "colab": {
          "base_uri": "https://localhost:8080/",
          "height": 109
        }
      },
      "source": [
        "# sorting series \n",
        "df['last'].sort_values(ascending=False)"
      ],
      "execution_count": 0,
      "outputs": [
        {
          "output_type": "execute_result",
          "data": {
            "text/plain": [
              "2        Z\n",
              "0        Y\n",
              "1        Y\n",
              "3    Manav\n",
              "Name: last, dtype: object"
            ]
          },
          "metadata": {
            "tags": []
          },
          "execution_count": 56
        }
      ]
    },
    {
      "cell_type": "code",
      "metadata": {
        "id": "fSA-Ou4bl95v",
        "colab_type": "code",
        "outputId": "72d9ad14-127d-477f-c2ad-61c23d313528",
        "colab": {
          "base_uri": "https://localhost:8080/",
          "height": 175
        }
      },
      "source": [
        "# add another column and find top n \n",
        "df['salary'] = [50, 40, 99, 45]\n",
        "df"
      ],
      "execution_count": 0,
      "outputs": [
        {
          "output_type": "execute_result",
          "data": {
            "text/html": [
              "<div>\n",
              "<style scoped>\n",
              "    .dataframe tbody tr th:only-of-type {\n",
              "        vertical-align: middle;\n",
              "    }\n",
              "\n",
              "    .dataframe tbody tr th {\n",
              "        vertical-align: top;\n",
              "    }\n",
              "\n",
              "    .dataframe thead th {\n",
              "        text-align: right;\n",
              "    }\n",
              "</style>\n",
              "<table border=\"1\" class=\"dataframe\">\n",
              "  <thead>\n",
              "    <tr style=\"text-align: right;\">\n",
              "      <th></th>\n",
              "      <th>first</th>\n",
              "      <th>last</th>\n",
              "      <th>mail</th>\n",
              "      <th>salary</th>\n",
              "    </tr>\n",
              "  </thead>\n",
              "  <tbody>\n",
              "    <tr>\n",
              "      <th>3</th>\n",
              "      <td>Udit</td>\n",
              "      <td>Manav</td>\n",
              "      <td>udit.manav@gmail.com</td>\n",
              "      <td>50</td>\n",
              "    </tr>\n",
              "    <tr>\n",
              "      <th>1</th>\n",
              "      <td>B</td>\n",
              "      <td>Y</td>\n",
              "      <td>b.y@mail.com</td>\n",
              "      <td>40</td>\n",
              "    </tr>\n",
              "    <tr>\n",
              "      <th>0</th>\n",
              "      <td>A</td>\n",
              "      <td>Y</td>\n",
              "      <td>a.y@mail.com</td>\n",
              "      <td>99</td>\n",
              "    </tr>\n",
              "    <tr>\n",
              "      <th>2</th>\n",
              "      <td>C</td>\n",
              "      <td>Z</td>\n",
              "      <td>c.z@mail.com</td>\n",
              "      <td>45</td>\n",
              "    </tr>\n",
              "  </tbody>\n",
              "</table>\n",
              "</div>"
            ],
            "text/plain": [
              "  first   last                  mail  salary\n",
              "3  Udit  Manav  udit.manav@gmail.com      50\n",
              "1     B      Y          b.y@mail.com      40\n",
              "0     A      Y          a.y@mail.com      99\n",
              "2     C      Z          c.z@mail.com      45"
            ]
          },
          "metadata": {
            "tags": []
          },
          "execution_count": 57
        }
      ]
    },
    {
      "cell_type": "code",
      "metadata": {
        "id": "2jfzWFzBb7Kp",
        "colab_type": "code",
        "outputId": "d648e450-3ba1-4354-8585-28ff53bedfa8",
        "colab": {
          "base_uri": "https://localhost:8080/",
          "height": 72
        }
      },
      "source": [
        "# get top 2 salaries\n",
        "df['salary'].nlargest(2)"
      ],
      "execution_count": 0,
      "outputs": [
        {
          "output_type": "execute_result",
          "data": {
            "text/plain": [
              "0    99\n",
              "3    50\n",
              "Name: salary, dtype: int64"
            ]
          },
          "metadata": {
            "tags": []
          },
          "execution_count": 58
        }
      ]
    },
    {
      "cell_type": "code",
      "metadata": {
        "id": "tuswGdynqNOj",
        "colab_type": "code",
        "outputId": "94569d10-08be-4282-eb04-ce17cfc85eb0",
        "colab": {
          "base_uri": "https://localhost:8080/",
          "height": 112
        }
      },
      "source": [
        "# get all details of top n salaries\n",
        "df.nlargest(2, 'salary')"
      ],
      "execution_count": 0,
      "outputs": [
        {
          "output_type": "execute_result",
          "data": {
            "text/html": [
              "<div>\n",
              "<style scoped>\n",
              "    .dataframe tbody tr th:only-of-type {\n",
              "        vertical-align: middle;\n",
              "    }\n",
              "\n",
              "    .dataframe tbody tr th {\n",
              "        vertical-align: top;\n",
              "    }\n",
              "\n",
              "    .dataframe thead th {\n",
              "        text-align: right;\n",
              "    }\n",
              "</style>\n",
              "<table border=\"1\" class=\"dataframe\">\n",
              "  <thead>\n",
              "    <tr style=\"text-align: right;\">\n",
              "      <th></th>\n",
              "      <th>first</th>\n",
              "      <th>last</th>\n",
              "      <th>mail</th>\n",
              "      <th>salary</th>\n",
              "    </tr>\n",
              "  </thead>\n",
              "  <tbody>\n",
              "    <tr>\n",
              "      <th>0</th>\n",
              "      <td>A</td>\n",
              "      <td>Y</td>\n",
              "      <td>a.y@mail.com</td>\n",
              "      <td>99</td>\n",
              "    </tr>\n",
              "    <tr>\n",
              "      <th>3</th>\n",
              "      <td>Udit</td>\n",
              "      <td>Manav</td>\n",
              "      <td>udit.manav@gmail.com</td>\n",
              "      <td>50</td>\n",
              "    </tr>\n",
              "  </tbody>\n",
              "</table>\n",
              "</div>"
            ],
            "text/plain": [
              "  first   last                  mail  salary\n",
              "0     A      Y          a.y@mail.com      99\n",
              "3  Udit  Manav  udit.manav@gmail.com      50"
            ]
          },
          "metadata": {
            "tags": []
          },
          "execution_count": 59
        }
      ]
    },
    {
      "cell_type": "code",
      "metadata": {
        "id": "tMY5fULfqvYx",
        "colab_type": "code",
        "outputId": "cbc5365e-1b70-4889-f7cb-b8b1dcf1b7c5",
        "colab": {
          "base_uri": "https://localhost:8080/",
          "height": 72
        }
      },
      "source": [
        "# get last 2 salaries\n",
        "df['salary'].nsmallest(2)"
      ],
      "execution_count": 0,
      "outputs": [
        {
          "output_type": "execute_result",
          "data": {
            "text/plain": [
              "1    40\n",
              "2    45\n",
              "Name: salary, dtype: int64"
            ]
          },
          "metadata": {
            "tags": []
          },
          "execution_count": 60
        }
      ]
    },
    {
      "cell_type": "code",
      "metadata": {
        "id": "LXJLKFy2qvMU",
        "colab_type": "code",
        "outputId": "20fa0741-c6b0-4672-86ad-a35e81d4d0e8",
        "colab": {
          "base_uri": "https://localhost:8080/",
          "height": 112
        }
      },
      "source": [
        "# get all details of last n salaries\n",
        "df.nsmallest(2, 'salary')"
      ],
      "execution_count": 0,
      "outputs": [
        {
          "output_type": "execute_result",
          "data": {
            "text/html": [
              "<div>\n",
              "<style scoped>\n",
              "    .dataframe tbody tr th:only-of-type {\n",
              "        vertical-align: middle;\n",
              "    }\n",
              "\n",
              "    .dataframe tbody tr th {\n",
              "        vertical-align: top;\n",
              "    }\n",
              "\n",
              "    .dataframe thead th {\n",
              "        text-align: right;\n",
              "    }\n",
              "</style>\n",
              "<table border=\"1\" class=\"dataframe\">\n",
              "  <thead>\n",
              "    <tr style=\"text-align: right;\">\n",
              "      <th></th>\n",
              "      <th>first</th>\n",
              "      <th>last</th>\n",
              "      <th>mail</th>\n",
              "      <th>salary</th>\n",
              "    </tr>\n",
              "  </thead>\n",
              "  <tbody>\n",
              "    <tr>\n",
              "      <th>1</th>\n",
              "      <td>B</td>\n",
              "      <td>Y</td>\n",
              "      <td>b.y@mail.com</td>\n",
              "      <td>40</td>\n",
              "    </tr>\n",
              "    <tr>\n",
              "      <th>2</th>\n",
              "      <td>C</td>\n",
              "      <td>Z</td>\n",
              "      <td>c.z@mail.com</td>\n",
              "      <td>45</td>\n",
              "    </tr>\n",
              "  </tbody>\n",
              "</table>\n",
              "</div>"
            ],
            "text/plain": [
              "  first last          mail  salary\n",
              "1     B    Y  b.y@mail.com      40\n",
              "2     C    Z  c.z@mail.com      45"
            ]
          },
          "metadata": {
            "tags": []
          },
          "execution_count": 61
        }
      ]
    },
    {
      "cell_type": "markdown",
      "metadata": {
        "colab_type": "text",
        "id": "17xKgWPNb_s1"
      },
      "source": [
        "## Part 8: Grouping, Aggregating, Analysing and Exploring Data <a name='video-08'></a>\n",
        "This section is completely hands-on. Go [here](#part-08)."
      ]
    },
    {
      "cell_type": "markdown",
      "metadata": {
        "colab_type": "text",
        "id": "rKuZA1mqcB10"
      },
      "source": [
        "## Part 9: Cleaning Data - Casting Data Types and Handling Missing Values <a name='video-09'></a>"
      ]
    },
    {
      "cell_type": "code",
      "metadata": {
        "colab_type": "code",
        "id": "LLvOFzXDcB13",
        "colab": {}
      },
      "source": [
        "import pandas as pd\n",
        "import numpy as np\n",
        "people = {\n",
        "    'first' : ['Corey', 'Jane', 'John', 'Chris', np.nan, None, 'NA'],\n",
        "    'last' : ['Schafer', 'Doe', 'Doe', 'Schafer', np.nan, np.nan, 'Missing'],\n",
        "    'email' : ['CoreySchefer@gmail.com', 'JaneDoe@emai;.com', \"JohnDoe@gmail.com\",\n",
        "               None, np.nan, 'anon@gmail.com', 'NA'],\n",
        "    'age' : ['33', '55', '63', '36', None, None, 'Missing']\n",
        "}"
      ],
      "execution_count": 0,
      "outputs": []
    },
    {
      "cell_type": "code",
      "metadata": {
        "id": "XoERen4CHKQL",
        "colab_type": "code",
        "outputId": "b5ca18ac-a66c-41da-8253-ad8feb3eb386",
        "colab": {
          "base_uri": "https://localhost:8080/",
          "height": 269
        }
      },
      "source": [
        "# create DataFrame with missing values\n",
        "df = pd.DataFrame(people)\n",
        "df"
      ],
      "execution_count": 0,
      "outputs": [
        {
          "output_type": "execute_result",
          "data": {
            "text/html": [
              "<div>\n",
              "<style scoped>\n",
              "    .dataframe tbody tr th:only-of-type {\n",
              "        vertical-align: middle;\n",
              "    }\n",
              "\n",
              "    .dataframe tbody tr th {\n",
              "        vertical-align: top;\n",
              "    }\n",
              "\n",
              "    .dataframe thead th {\n",
              "        text-align: right;\n",
              "    }\n",
              "</style>\n",
              "<table border=\"1\" class=\"dataframe\">\n",
              "  <thead>\n",
              "    <tr style=\"text-align: right;\">\n",
              "      <th></th>\n",
              "      <th>first</th>\n",
              "      <th>last</th>\n",
              "      <th>email</th>\n",
              "      <th>age</th>\n",
              "    </tr>\n",
              "  </thead>\n",
              "  <tbody>\n",
              "    <tr>\n",
              "      <th>0</th>\n",
              "      <td>Corey</td>\n",
              "      <td>Schafer</td>\n",
              "      <td>CoreySchefer@gmail.com</td>\n",
              "      <td>33</td>\n",
              "    </tr>\n",
              "    <tr>\n",
              "      <th>1</th>\n",
              "      <td>Jane</td>\n",
              "      <td>Doe</td>\n",
              "      <td>JaneDoe@emai;.com</td>\n",
              "      <td>55</td>\n",
              "    </tr>\n",
              "    <tr>\n",
              "      <th>2</th>\n",
              "      <td>John</td>\n",
              "      <td>Doe</td>\n",
              "      <td>JohnDoe@gmail.com</td>\n",
              "      <td>63</td>\n",
              "    </tr>\n",
              "    <tr>\n",
              "      <th>3</th>\n",
              "      <td>Chris</td>\n",
              "      <td>Schafer</td>\n",
              "      <td>None</td>\n",
              "      <td>36</td>\n",
              "    </tr>\n",
              "    <tr>\n",
              "      <th>4</th>\n",
              "      <td>NaN</td>\n",
              "      <td>NaN</td>\n",
              "      <td>NaN</td>\n",
              "      <td>None</td>\n",
              "    </tr>\n",
              "    <tr>\n",
              "      <th>5</th>\n",
              "      <td>None</td>\n",
              "      <td>NaN</td>\n",
              "      <td>anon@gmail.com</td>\n",
              "      <td>None</td>\n",
              "    </tr>\n",
              "    <tr>\n",
              "      <th>6</th>\n",
              "      <td>NA</td>\n",
              "      <td>Missing</td>\n",
              "      <td>NA</td>\n",
              "      <td>Missing</td>\n",
              "    </tr>\n",
              "  </tbody>\n",
              "</table>\n",
              "</div>"
            ],
            "text/plain": [
              "   first     last                   email      age\n",
              "0  Corey  Schafer  CoreySchefer@gmail.com       33\n",
              "1   Jane      Doe       JaneDoe@emai;.com       55\n",
              "2   John      Doe       JohnDoe@gmail.com       63\n",
              "3  Chris  Schafer                    None       36\n",
              "4    NaN      NaN                     NaN     None\n",
              "5   None      NaN          anon@gmail.com     None\n",
              "6     NA  Missing                      NA  Missing"
            ]
          },
          "metadata": {
            "tags": []
          },
          "execution_count": 65
        }
      ]
    },
    {
      "cell_type": "code",
      "metadata": {
        "id": "_YrqT_t7HKOe",
        "colab_type": "code",
        "outputId": "828d5c4e-4d61-440f-de67-607a6ca6aa87",
        "colab": {
          "base_uri": "https://localhost:8080/",
          "height": 175
        }
      },
      "source": [
        "# drop rows with missing np.nan values\n",
        "# defaults args for df.dropna(axis='index', how='any')\n",
        "df.dropna()"
      ],
      "execution_count": 0,
      "outputs": [
        {
          "output_type": "execute_result",
          "data": {
            "text/html": [
              "<div>\n",
              "<style scoped>\n",
              "    .dataframe tbody tr th:only-of-type {\n",
              "        vertical-align: middle;\n",
              "    }\n",
              "\n",
              "    .dataframe tbody tr th {\n",
              "        vertical-align: top;\n",
              "    }\n",
              "\n",
              "    .dataframe thead th {\n",
              "        text-align: right;\n",
              "    }\n",
              "</style>\n",
              "<table border=\"1\" class=\"dataframe\">\n",
              "  <thead>\n",
              "    <tr style=\"text-align: right;\">\n",
              "      <th></th>\n",
              "      <th>first</th>\n",
              "      <th>last</th>\n",
              "      <th>email</th>\n",
              "      <th>age</th>\n",
              "    </tr>\n",
              "  </thead>\n",
              "  <tbody>\n",
              "    <tr>\n",
              "      <th>0</th>\n",
              "      <td>Corey</td>\n",
              "      <td>Schafer</td>\n",
              "      <td>CoreySchefer@gmail.com</td>\n",
              "      <td>33</td>\n",
              "    </tr>\n",
              "    <tr>\n",
              "      <th>1</th>\n",
              "      <td>Jane</td>\n",
              "      <td>Doe</td>\n",
              "      <td>JaneDoe@emai;.com</td>\n",
              "      <td>55</td>\n",
              "    </tr>\n",
              "    <tr>\n",
              "      <th>2</th>\n",
              "      <td>John</td>\n",
              "      <td>Doe</td>\n",
              "      <td>JohnDoe@gmail.com</td>\n",
              "      <td>63</td>\n",
              "    </tr>\n",
              "    <tr>\n",
              "      <th>6</th>\n",
              "      <td>NA</td>\n",
              "      <td>Missing</td>\n",
              "      <td>NA</td>\n",
              "      <td>Missing</td>\n",
              "    </tr>\n",
              "  </tbody>\n",
              "</table>\n",
              "</div>"
            ],
            "text/plain": [
              "   first     last                   email      age\n",
              "0  Corey  Schafer  CoreySchefer@gmail.com       33\n",
              "1   Jane      Doe       JaneDoe@emai;.com       55\n",
              "2   John      Doe       JohnDoe@gmail.com       63\n",
              "6     NA  Missing                      NA  Missing"
            ]
          },
          "metadata": {
            "tags": []
          },
          "execution_count": 67
        }
      ]
    },
    {
      "cell_type": "markdown",
      "metadata": {
        "id": "Z6n7RTuuW4xv",
        "colab_type": "text"
      },
      "source": [
        "Note - <br>\n",
        "axis='index'/'columns' : decide what to drop rows/columns.<br>\n",
        "how='any' : drop rows with any missing values. if 'all', drop rows having all missing values."
      ]
    },
    {
      "cell_type": "code",
      "metadata": {
        "id": "tkc1N5JZHKKY",
        "colab_type": "code",
        "outputId": "b88595a0-fc0f-41f3-acbd-bb2aabb1762d",
        "colab": {
          "base_uri": "https://localhost:8080/",
          "height": 175
        }
      },
      "source": [
        "# drop rows only with missing in ANY specific columns\n",
        "df.dropna(axis='index', how='any', subset=['email', 'age'])\n",
        "# here NA is a custom missing value, so it isn't dropped "
      ],
      "execution_count": 0,
      "outputs": [
        {
          "output_type": "execute_result",
          "data": {
            "text/html": [
              "<div>\n",
              "<style scoped>\n",
              "    .dataframe tbody tr th:only-of-type {\n",
              "        vertical-align: middle;\n",
              "    }\n",
              "\n",
              "    .dataframe tbody tr th {\n",
              "        vertical-align: top;\n",
              "    }\n",
              "\n",
              "    .dataframe thead th {\n",
              "        text-align: right;\n",
              "    }\n",
              "</style>\n",
              "<table border=\"1\" class=\"dataframe\">\n",
              "  <thead>\n",
              "    <tr style=\"text-align: right;\">\n",
              "      <th></th>\n",
              "      <th>first</th>\n",
              "      <th>last</th>\n",
              "      <th>email</th>\n",
              "      <th>age</th>\n",
              "    </tr>\n",
              "  </thead>\n",
              "  <tbody>\n",
              "    <tr>\n",
              "      <th>0</th>\n",
              "      <td>Corey</td>\n",
              "      <td>Schafer</td>\n",
              "      <td>CoreySchefer@gmail.com</td>\n",
              "      <td>33</td>\n",
              "    </tr>\n",
              "    <tr>\n",
              "      <th>1</th>\n",
              "      <td>Jane</td>\n",
              "      <td>Doe</td>\n",
              "      <td>JaneDoe@emai;.com</td>\n",
              "      <td>55</td>\n",
              "    </tr>\n",
              "    <tr>\n",
              "      <th>2</th>\n",
              "      <td>John</td>\n",
              "      <td>Doe</td>\n",
              "      <td>JohnDoe@gmail.com</td>\n",
              "      <td>63</td>\n",
              "    </tr>\n",
              "    <tr>\n",
              "      <th>6</th>\n",
              "      <td>NA</td>\n",
              "      <td>Missing</td>\n",
              "      <td>NA</td>\n",
              "      <td>Missing</td>\n",
              "    </tr>\n",
              "  </tbody>\n",
              "</table>\n",
              "</div>"
            ],
            "text/plain": [
              "   first     last                   email      age\n",
              "0  Corey  Schafer  CoreySchefer@gmail.com       33\n",
              "1   Jane      Doe       JaneDoe@emai;.com       55\n",
              "2   John      Doe       JohnDoe@gmail.com       63\n",
              "6     NA  Missing                      NA  Missing"
            ]
          },
          "metadata": {
            "tags": []
          },
          "execution_count": 69
        }
      ]
    },
    {
      "cell_type": "code",
      "metadata": {
        "id": "Wx1f2alAHKGZ",
        "colab_type": "code",
        "outputId": "6532da2a-f432-4a48-f45e-112ad93c7524",
        "colab": {
          "base_uri": "https://localhost:8080/",
          "height": 238
        }
      },
      "source": [
        "# drop rows only with missing in ALL specific columns\n",
        "df.dropna(axis='index', how='all', subset=['email', 'age'])"
      ],
      "execution_count": 0,
      "outputs": [
        {
          "output_type": "execute_result",
          "data": {
            "text/html": [
              "<div>\n",
              "<style scoped>\n",
              "    .dataframe tbody tr th:only-of-type {\n",
              "        vertical-align: middle;\n",
              "    }\n",
              "\n",
              "    .dataframe tbody tr th {\n",
              "        vertical-align: top;\n",
              "    }\n",
              "\n",
              "    .dataframe thead th {\n",
              "        text-align: right;\n",
              "    }\n",
              "</style>\n",
              "<table border=\"1\" class=\"dataframe\">\n",
              "  <thead>\n",
              "    <tr style=\"text-align: right;\">\n",
              "      <th></th>\n",
              "      <th>first</th>\n",
              "      <th>last</th>\n",
              "      <th>email</th>\n",
              "      <th>age</th>\n",
              "    </tr>\n",
              "  </thead>\n",
              "  <tbody>\n",
              "    <tr>\n",
              "      <th>0</th>\n",
              "      <td>Corey</td>\n",
              "      <td>Schafer</td>\n",
              "      <td>CoreySchefer@gmail.com</td>\n",
              "      <td>33</td>\n",
              "    </tr>\n",
              "    <tr>\n",
              "      <th>1</th>\n",
              "      <td>Jane</td>\n",
              "      <td>Doe</td>\n",
              "      <td>JaneDoe@emai;.com</td>\n",
              "      <td>55</td>\n",
              "    </tr>\n",
              "    <tr>\n",
              "      <th>2</th>\n",
              "      <td>John</td>\n",
              "      <td>Doe</td>\n",
              "      <td>JohnDoe@gmail.com</td>\n",
              "      <td>63</td>\n",
              "    </tr>\n",
              "    <tr>\n",
              "      <th>3</th>\n",
              "      <td>Chris</td>\n",
              "      <td>Schafer</td>\n",
              "      <td>None</td>\n",
              "      <td>36</td>\n",
              "    </tr>\n",
              "    <tr>\n",
              "      <th>5</th>\n",
              "      <td>None</td>\n",
              "      <td>NaN</td>\n",
              "      <td>anon@gmail.com</td>\n",
              "      <td>None</td>\n",
              "    </tr>\n",
              "    <tr>\n",
              "      <th>6</th>\n",
              "      <td>NA</td>\n",
              "      <td>Missing</td>\n",
              "      <td>NA</td>\n",
              "      <td>Missing</td>\n",
              "    </tr>\n",
              "  </tbody>\n",
              "</table>\n",
              "</div>"
            ],
            "text/plain": [
              "   first     last                   email      age\n",
              "0  Corey  Schafer  CoreySchefer@gmail.com       33\n",
              "1   Jane      Doe       JaneDoe@emai;.com       55\n",
              "2   John      Doe       JohnDoe@gmail.com       63\n",
              "3  Chris  Schafer                    None       36\n",
              "5   None      NaN          anon@gmail.com     None\n",
              "6     NA  Missing                      NA  Missing"
            ]
          },
          "metadata": {
            "tags": []
          },
          "execution_count": 70
        }
      ]
    },
    {
      "cell_type": "code",
      "metadata": {
        "colab_type": "code",
        "id": "jiKgbdLkcB2B",
        "outputId": "dd89a23b-b021-4d9e-f3e5-c407af701693",
        "colab": {
          "base_uri": "https://localhost:8080/",
          "height": 269
        }
      },
      "source": [
        "# treating custom missing values\n",
        "df.replace('NA', np.nan, inplace=True)\n",
        "df.replace('Missing', np.nan, inplace=True)\n",
        "df"
      ],
      "execution_count": 0,
      "outputs": [
        {
          "output_type": "execute_result",
          "data": {
            "text/html": [
              "<div>\n",
              "<style scoped>\n",
              "    .dataframe tbody tr th:only-of-type {\n",
              "        vertical-align: middle;\n",
              "    }\n",
              "\n",
              "    .dataframe tbody tr th {\n",
              "        vertical-align: top;\n",
              "    }\n",
              "\n",
              "    .dataframe thead th {\n",
              "        text-align: right;\n",
              "    }\n",
              "</style>\n",
              "<table border=\"1\" class=\"dataframe\">\n",
              "  <thead>\n",
              "    <tr style=\"text-align: right;\">\n",
              "      <th></th>\n",
              "      <th>first</th>\n",
              "      <th>last</th>\n",
              "      <th>email</th>\n",
              "      <th>age</th>\n",
              "    </tr>\n",
              "  </thead>\n",
              "  <tbody>\n",
              "    <tr>\n",
              "      <th>0</th>\n",
              "      <td>Corey</td>\n",
              "      <td>Schafer</td>\n",
              "      <td>CoreySchefer@gmail.com</td>\n",
              "      <td>33</td>\n",
              "    </tr>\n",
              "    <tr>\n",
              "      <th>1</th>\n",
              "      <td>Jane</td>\n",
              "      <td>Doe</td>\n",
              "      <td>JaneDoe@emai;.com</td>\n",
              "      <td>55</td>\n",
              "    </tr>\n",
              "    <tr>\n",
              "      <th>2</th>\n",
              "      <td>John</td>\n",
              "      <td>Doe</td>\n",
              "      <td>JohnDoe@gmail.com</td>\n",
              "      <td>63</td>\n",
              "    </tr>\n",
              "    <tr>\n",
              "      <th>3</th>\n",
              "      <td>Chris</td>\n",
              "      <td>Schafer</td>\n",
              "      <td>None</td>\n",
              "      <td>36</td>\n",
              "    </tr>\n",
              "    <tr>\n",
              "      <th>4</th>\n",
              "      <td>NaN</td>\n",
              "      <td>NaN</td>\n",
              "      <td>NaN</td>\n",
              "      <td>None</td>\n",
              "    </tr>\n",
              "    <tr>\n",
              "      <th>5</th>\n",
              "      <td>None</td>\n",
              "      <td>NaN</td>\n",
              "      <td>anon@gmail.com</td>\n",
              "      <td>None</td>\n",
              "    </tr>\n",
              "    <tr>\n",
              "      <th>6</th>\n",
              "      <td>NaN</td>\n",
              "      <td>NaN</td>\n",
              "      <td>NaN</td>\n",
              "      <td>NaN</td>\n",
              "    </tr>\n",
              "  </tbody>\n",
              "</table>\n",
              "</div>"
            ],
            "text/plain": [
              "   first     last                   email   age\n",
              "0  Corey  Schafer  CoreySchefer@gmail.com    33\n",
              "1   Jane      Doe       JaneDoe@emai;.com    55\n",
              "2   John      Doe       JohnDoe@gmail.com    63\n",
              "3  Chris  Schafer                    None    36\n",
              "4    NaN      NaN                     NaN  None\n",
              "5   None      NaN          anon@gmail.com  None\n",
              "6    NaN      NaN                     NaN   NaN"
            ]
          },
          "metadata": {
            "tags": []
          },
          "execution_count": 71
        }
      ]
    },
    {
      "cell_type": "code",
      "metadata": {
        "colab_type": "code",
        "id": "Xe5acdRscB2O",
        "outputId": "ab14bc21-2648-4feb-eb7d-90f98e693466",
        "colab": {
          "base_uri": "https://localhost:8080/",
          "height": 143
        }
      },
      "source": [
        "df.dropna()"
      ],
      "execution_count": 0,
      "outputs": [
        {
          "output_type": "execute_result",
          "data": {
            "text/html": [
              "<div>\n",
              "<style scoped>\n",
              "    .dataframe tbody tr th:only-of-type {\n",
              "        vertical-align: middle;\n",
              "    }\n",
              "\n",
              "    .dataframe tbody tr th {\n",
              "        vertical-align: top;\n",
              "    }\n",
              "\n",
              "    .dataframe thead th {\n",
              "        text-align: right;\n",
              "    }\n",
              "</style>\n",
              "<table border=\"1\" class=\"dataframe\">\n",
              "  <thead>\n",
              "    <tr style=\"text-align: right;\">\n",
              "      <th></th>\n",
              "      <th>first</th>\n",
              "      <th>last</th>\n",
              "      <th>email</th>\n",
              "      <th>age</th>\n",
              "    </tr>\n",
              "  </thead>\n",
              "  <tbody>\n",
              "    <tr>\n",
              "      <th>0</th>\n",
              "      <td>Corey</td>\n",
              "      <td>Schafer</td>\n",
              "      <td>CoreySchefer@gmail.com</td>\n",
              "      <td>33</td>\n",
              "    </tr>\n",
              "    <tr>\n",
              "      <th>1</th>\n",
              "      <td>Jane</td>\n",
              "      <td>Doe</td>\n",
              "      <td>JaneDoe@emai;.com</td>\n",
              "      <td>55</td>\n",
              "    </tr>\n",
              "    <tr>\n",
              "      <th>2</th>\n",
              "      <td>John</td>\n",
              "      <td>Doe</td>\n",
              "      <td>JohnDoe@gmail.com</td>\n",
              "      <td>63</td>\n",
              "    </tr>\n",
              "  </tbody>\n",
              "</table>\n",
              "</div>"
            ],
            "text/plain": [
              "   first     last                   email age\n",
              "0  Corey  Schafer  CoreySchefer@gmail.com  33\n",
              "1   Jane      Doe       JaneDoe@emai;.com  55\n",
              "2   John      Doe       JohnDoe@gmail.com  63"
            ]
          },
          "metadata": {
            "tags": []
          },
          "execution_count": 72
        }
      ]
    },
    {
      "cell_type": "code",
      "metadata": {
        "id": "nCiQsqXihyRE",
        "colab_type": "code",
        "outputId": "e19b079b-6bd2-436b-ee84-4280f6516897",
        "colab": {
          "base_uri": "https://localhost:8080/",
          "height": 269
        }
      },
      "source": [
        "# check whether a value in df is classified as na\n",
        "df.isna()"
      ],
      "execution_count": 0,
      "outputs": [
        {
          "output_type": "execute_result",
          "data": {
            "text/html": [
              "<div>\n",
              "<style scoped>\n",
              "    .dataframe tbody tr th:only-of-type {\n",
              "        vertical-align: middle;\n",
              "    }\n",
              "\n",
              "    .dataframe tbody tr th {\n",
              "        vertical-align: top;\n",
              "    }\n",
              "\n",
              "    .dataframe thead th {\n",
              "        text-align: right;\n",
              "    }\n",
              "</style>\n",
              "<table border=\"1\" class=\"dataframe\">\n",
              "  <thead>\n",
              "    <tr style=\"text-align: right;\">\n",
              "      <th></th>\n",
              "      <th>first</th>\n",
              "      <th>last</th>\n",
              "      <th>email</th>\n",
              "      <th>age</th>\n",
              "    </tr>\n",
              "  </thead>\n",
              "  <tbody>\n",
              "    <tr>\n",
              "      <th>0</th>\n",
              "      <td>False</td>\n",
              "      <td>False</td>\n",
              "      <td>False</td>\n",
              "      <td>False</td>\n",
              "    </tr>\n",
              "    <tr>\n",
              "      <th>1</th>\n",
              "      <td>False</td>\n",
              "      <td>False</td>\n",
              "      <td>False</td>\n",
              "      <td>False</td>\n",
              "    </tr>\n",
              "    <tr>\n",
              "      <th>2</th>\n",
              "      <td>False</td>\n",
              "      <td>False</td>\n",
              "      <td>False</td>\n",
              "      <td>False</td>\n",
              "    </tr>\n",
              "    <tr>\n",
              "      <th>3</th>\n",
              "      <td>False</td>\n",
              "      <td>False</td>\n",
              "      <td>True</td>\n",
              "      <td>False</td>\n",
              "    </tr>\n",
              "    <tr>\n",
              "      <th>4</th>\n",
              "      <td>True</td>\n",
              "      <td>True</td>\n",
              "      <td>True</td>\n",
              "      <td>True</td>\n",
              "    </tr>\n",
              "    <tr>\n",
              "      <th>5</th>\n",
              "      <td>True</td>\n",
              "      <td>True</td>\n",
              "      <td>False</td>\n",
              "      <td>True</td>\n",
              "    </tr>\n",
              "    <tr>\n",
              "      <th>6</th>\n",
              "      <td>True</td>\n",
              "      <td>True</td>\n",
              "      <td>True</td>\n",
              "      <td>True</td>\n",
              "    </tr>\n",
              "  </tbody>\n",
              "</table>\n",
              "</div>"
            ],
            "text/plain": [
              "   first   last  email    age\n",
              "0  False  False  False  False\n",
              "1  False  False  False  False\n",
              "2  False  False  False  False\n",
              "3  False  False   True  False\n",
              "4   True   True   True   True\n",
              "5   True   True  False   True\n",
              "6   True   True   True   True"
            ]
          },
          "metadata": {
            "tags": []
          },
          "execution_count": 73
        }
      ]
    },
    {
      "cell_type": "code",
      "metadata": {
        "id": "dbLTWLcFhyBJ",
        "colab_type": "code",
        "outputId": "df56f027-7ef3-4974-c28b-6ffd5058568e",
        "colab": {
          "base_uri": "https://localhost:8080/",
          "height": 269
        }
      },
      "source": [
        "# fill na with some Value\n",
        "df.fillna('MISSING')"
      ],
      "execution_count": 0,
      "outputs": [
        {
          "output_type": "execute_result",
          "data": {
            "text/html": [
              "<div>\n",
              "<style scoped>\n",
              "    .dataframe tbody tr th:only-of-type {\n",
              "        vertical-align: middle;\n",
              "    }\n",
              "\n",
              "    .dataframe tbody tr th {\n",
              "        vertical-align: top;\n",
              "    }\n",
              "\n",
              "    .dataframe thead th {\n",
              "        text-align: right;\n",
              "    }\n",
              "</style>\n",
              "<table border=\"1\" class=\"dataframe\">\n",
              "  <thead>\n",
              "    <tr style=\"text-align: right;\">\n",
              "      <th></th>\n",
              "      <th>first</th>\n",
              "      <th>last</th>\n",
              "      <th>email</th>\n",
              "      <th>age</th>\n",
              "    </tr>\n",
              "  </thead>\n",
              "  <tbody>\n",
              "    <tr>\n",
              "      <th>0</th>\n",
              "      <td>Corey</td>\n",
              "      <td>Schafer</td>\n",
              "      <td>CoreySchefer@gmail.com</td>\n",
              "      <td>33</td>\n",
              "    </tr>\n",
              "    <tr>\n",
              "      <th>1</th>\n",
              "      <td>Jane</td>\n",
              "      <td>Doe</td>\n",
              "      <td>JaneDoe@emai;.com</td>\n",
              "      <td>55</td>\n",
              "    </tr>\n",
              "    <tr>\n",
              "      <th>2</th>\n",
              "      <td>John</td>\n",
              "      <td>Doe</td>\n",
              "      <td>JohnDoe@gmail.com</td>\n",
              "      <td>63</td>\n",
              "    </tr>\n",
              "    <tr>\n",
              "      <th>3</th>\n",
              "      <td>Chris</td>\n",
              "      <td>Schafer</td>\n",
              "      <td>MISSING</td>\n",
              "      <td>36</td>\n",
              "    </tr>\n",
              "    <tr>\n",
              "      <th>4</th>\n",
              "      <td>MISSING</td>\n",
              "      <td>MISSING</td>\n",
              "      <td>MISSING</td>\n",
              "      <td>MISSING</td>\n",
              "    </tr>\n",
              "    <tr>\n",
              "      <th>5</th>\n",
              "      <td>MISSING</td>\n",
              "      <td>MISSING</td>\n",
              "      <td>anon@gmail.com</td>\n",
              "      <td>MISSING</td>\n",
              "    </tr>\n",
              "    <tr>\n",
              "      <th>6</th>\n",
              "      <td>MISSING</td>\n",
              "      <td>MISSING</td>\n",
              "      <td>MISSING</td>\n",
              "      <td>MISSING</td>\n",
              "    </tr>\n",
              "  </tbody>\n",
              "</table>\n",
              "</div>"
            ],
            "text/plain": [
              "     first     last                   email      age\n",
              "0    Corey  Schafer  CoreySchefer@gmail.com       33\n",
              "1     Jane      Doe       JaneDoe@emai;.com       55\n",
              "2     John      Doe       JohnDoe@gmail.com       63\n",
              "3    Chris  Schafer                 MISSING       36\n",
              "4  MISSING  MISSING                 MISSING  MISSING\n",
              "5  MISSING  MISSING          anon@gmail.com  MISSING\n",
              "6  MISSING  MISSING                 MISSING  MISSING"
            ]
          },
          "metadata": {
            "tags": []
          },
          "execution_count": 74
        }
      ]
    },
    {
      "cell_type": "code",
      "metadata": {
        "id": "qCUcRmmSifbS",
        "colab_type": "code",
        "outputId": "8a33141e-d173-40e9-e4ab-ad7da55ef01e",
        "colab": {
          "base_uri": "https://localhost:8080/",
          "height": 109
        }
      },
      "source": [
        "# casting DataTypes\n",
        "print(df.dtypes)"
      ],
      "execution_count": 0,
      "outputs": [
        {
          "output_type": "stream",
          "text": [
            "first    object\n",
            "last     object\n",
            "email    object\n",
            "age      object\n",
            "dtype: object\n"
          ],
          "name": "stdout"
        }
      ]
    },
    {
      "cell_type": "code",
      "metadata": {
        "id": "eX7F3jclifOV",
        "colab_type": "code",
        "outputId": "d026f0fc-19e7-4800-9f3e-8287f77cbab6",
        "colab": {
          "base_uri": "https://localhost:8080/",
          "height": 379
        }
      },
      "source": [
        "# convert age (string) to number\n",
        "df.age = df.age.astype(np.float32)\n",
        "print(df.dtypes)\n",
        "print(f'Mean Age- {df.age.mean()}')\n",
        "df"
      ],
      "execution_count": 0,
      "outputs": [
        {
          "output_type": "stream",
          "text": [
            "first     object\n",
            "last      object\n",
            "email     object\n",
            "age      float32\n",
            "dtype: object\n",
            "Mean Age- 46.75\n"
          ],
          "name": "stdout"
        },
        {
          "output_type": "execute_result",
          "data": {
            "text/html": [
              "<div>\n",
              "<style scoped>\n",
              "    .dataframe tbody tr th:only-of-type {\n",
              "        vertical-align: middle;\n",
              "    }\n",
              "\n",
              "    .dataframe tbody tr th {\n",
              "        vertical-align: top;\n",
              "    }\n",
              "\n",
              "    .dataframe thead th {\n",
              "        text-align: right;\n",
              "    }\n",
              "</style>\n",
              "<table border=\"1\" class=\"dataframe\">\n",
              "  <thead>\n",
              "    <tr style=\"text-align: right;\">\n",
              "      <th></th>\n",
              "      <th>first</th>\n",
              "      <th>last</th>\n",
              "      <th>email</th>\n",
              "      <th>age</th>\n",
              "    </tr>\n",
              "  </thead>\n",
              "  <tbody>\n",
              "    <tr>\n",
              "      <th>0</th>\n",
              "      <td>Corey</td>\n",
              "      <td>Schafer</td>\n",
              "      <td>CoreySchefer@gmail.com</td>\n",
              "      <td>33.0</td>\n",
              "    </tr>\n",
              "    <tr>\n",
              "      <th>1</th>\n",
              "      <td>Jane</td>\n",
              "      <td>Doe</td>\n",
              "      <td>JaneDoe@emai;.com</td>\n",
              "      <td>55.0</td>\n",
              "    </tr>\n",
              "    <tr>\n",
              "      <th>2</th>\n",
              "      <td>John</td>\n",
              "      <td>Doe</td>\n",
              "      <td>JohnDoe@gmail.com</td>\n",
              "      <td>63.0</td>\n",
              "    </tr>\n",
              "    <tr>\n",
              "      <th>3</th>\n",
              "      <td>Chris</td>\n",
              "      <td>Schafer</td>\n",
              "      <td>None</td>\n",
              "      <td>36.0</td>\n",
              "    </tr>\n",
              "    <tr>\n",
              "      <th>4</th>\n",
              "      <td>NaN</td>\n",
              "      <td>NaN</td>\n",
              "      <td>NaN</td>\n",
              "      <td>NaN</td>\n",
              "    </tr>\n",
              "    <tr>\n",
              "      <th>5</th>\n",
              "      <td>None</td>\n",
              "      <td>NaN</td>\n",
              "      <td>anon@gmail.com</td>\n",
              "      <td>NaN</td>\n",
              "    </tr>\n",
              "    <tr>\n",
              "      <th>6</th>\n",
              "      <td>NaN</td>\n",
              "      <td>NaN</td>\n",
              "      <td>NaN</td>\n",
              "      <td>NaN</td>\n",
              "    </tr>\n",
              "  </tbody>\n",
              "</table>\n",
              "</div>"
            ],
            "text/plain": [
              "   first     last                   email   age\n",
              "0  Corey  Schafer  CoreySchefer@gmail.com  33.0\n",
              "1   Jane      Doe       JaneDoe@emai;.com  55.0\n",
              "2   John      Doe       JohnDoe@gmail.com  63.0\n",
              "3  Chris  Schafer                    None  36.0\n",
              "4    NaN      NaN                     NaN   NaN\n",
              "5   None      NaN          anon@gmail.com   NaN\n",
              "6    NaN      NaN                     NaN   NaN"
            ]
          },
          "metadata": {
            "tags": []
          },
          "execution_count": 79
        }
      ]
    },
    {
      "cell_type": "markdown",
      "metadata": {
        "colab_type": "text",
        "id": "4GKLAQQjcDlX"
      },
      "source": [
        "## Part 10: Working with Dates and Time Series Data <a name='video-10'></a>\n",
        "Data and notebook can be downloaded from [here](https://github.com/CoreyMSchafer/code_snippets/tree/master/Python/Pandas/10-Datetime-Timeseries).<br> Done in other notebook."
      ]
    },
    {
      "cell_type": "markdown",
      "metadata": {
        "colab_type": "text",
        "id": "ZvnOwrf1cF9S"
      },
      "source": [
        "## Part 11: Reading/Writing Data to Different Sources - Excel, JSON, SQL, Etc <a name='video-11'></a>\n",
        "Go [here](https://www.youtube.com/watch?v=N6hyN6BW6ao&list=PL-osiE80TeTsWmV9i9c58mdDCSskIFdDS&index=11). This section is under development."
      ]
    }
  ]
}