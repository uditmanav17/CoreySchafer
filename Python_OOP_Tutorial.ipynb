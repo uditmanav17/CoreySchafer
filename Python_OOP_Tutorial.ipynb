{
  "nbformat": 4,
  "nbformat_minor": 0,
  "metadata": {
    "colab": {
      "name": "Python OOP Tutorial.ipynb",
      "provenance": [],
      "collapsed_sections": [],
      "toc_visible": true,
      "authorship_tag": "ABX9TyOx79RCYAD6l6DHQ9rQdKBz",
      "include_colab_link": true
    },
    "kernelspec": {
      "name": "python3",
      "display_name": "Python 3"
    }
  },
  "cells": [
    {
      "cell_type": "markdown",
      "metadata": {
        "id": "view-in-github",
        "colab_type": "text"
      },
      "source": [
        "<a href=\"https://colab.research.google.com/github/uditmanav17/CoreySchafer/blob/master/Python_OOP_Tutorial.ipynb\" target=\"_parent\"><img src=\"https://colab.research.google.com/assets/colab-badge.svg\" alt=\"Open In Colab\"/></a>"
      ]
    },
    {
      "cell_type": "code",
      "metadata": {
        "id": "wh3riBqDiIvB",
        "colab_type": "code",
        "colab": {}
      },
      "source": [
        "from pprint import pprint as pp"
      ],
      "execution_count": 0,
      "outputs": []
    },
    {
      "cell_type": "markdown",
      "metadata": {
        "id": "0IR6y0APZYZp",
        "colab_type": "text"
      },
      "source": [
        "# Classes and Instances\n",
        "Disclaimer - This is inspired from [this](https://www.youtube.com/watch?v=ZDa-Z5JzLYM&list=PL-osiE80TeTsqhIuOqKhwlXsIBIdSeYtc)."
      ]
    },
    {
      "cell_type": "code",
      "metadata": {
        "id": "hjh8oXvxZPwM",
        "colab_type": "code",
        "outputId": "3eaf968e-3e09-4232-e157-88ab152bb9ea",
        "colab": {
          "base_uri": "https://localhost:8080/",
          "height": 54
        }
      },
      "source": [
        "class Employee:\n",
        "    pass\n",
        "\n",
        "emp1 = Employee() # instance 1\n",
        "emp2 = Employee() # instance 2\n",
        "\n",
        "print(emp1, emp2, sep='\\n') # notice the address of instances\n"
      ],
      "execution_count": 0,
      "outputs": [
        {
          "output_type": "stream",
          "text": [
            "<__main__.Employee object at 0x7efc030d4898>\n",
            "<__main__.Employee object at 0x7efc030d4cc0>\n"
          ],
          "name": "stdout"
        }
      ]
    },
    {
      "cell_type": "markdown",
      "metadata": {
        "id": "dApkQmD-a01X",
        "colab_type": "text"
      },
      "source": [
        "# Adding attributes variables to instances\n",
        "Instance variables contains data that is unique to each instances."
      ]
    },
    {
      "cell_type": "code",
      "metadata": {
        "id": "O2ozcroNZ-01",
        "colab_type": "code",
        "colab": {}
      },
      "source": [
        "emp1.first = 'Udit'\n",
        "emp1.last = 'Manav'\n",
        "emp1.mail = \"udit.manav@gmail.com\"\n",
        "emp1.pay = 50000\n",
        "\n",
        "emp2.first = 'Test'\n",
        "emp2.last = 'User'\n",
        "emp2.mail = \"Test.user@gmail.com\"\n",
        "emp2.pay = 50000\n"
      ],
      "execution_count": 0,
      "outputs": []
    },
    {
      "cell_type": "code",
      "metadata": {
        "id": "RgRqIpzIbRFB",
        "colab_type": "code",
        "outputId": "2677c0e9-a53b-463e-c7d3-24f79f87bcd8",
        "colab": {
          "base_uri": "https://localhost:8080/",
          "height": 54
        }
      },
      "source": [
        "print(emp1.__dict__)\n",
        "print(emp1.mail)"
      ],
      "execution_count": 0,
      "outputs": [
        {
          "output_type": "stream",
          "text": [
            "{'first': 'Udit', 'last': 'Manav', 'mail': 'udit.manav@gmail.com', 'pay': 50000}\n",
            "udit.manav@gmail.com\n"
          ],
          "name": "stdout"
        }
      ]
    },
    {
      "cell_type": "markdown",
      "metadata": {
        "id": "oVOxXesIbfgk",
        "colab_type": "text"
      },
      "source": [
        "#  Class Methods \\__init__ \n",
        "This method behaves as constructor. "
      ]
    },
    {
      "cell_type": "code",
      "metadata": {
        "id": "WiTtb1UfbU4_",
        "colab_type": "code",
        "outputId": "1513664c-f0a3-429d-836b-4539079404ec",
        "colab": {
          "base_uri": "https://localhost:8080/",
          "height": 35
        }
      },
      "source": [
        "class Employee:\n",
        "\n",
        "    def __init__(self, first, last, pay):\n",
        "        self.first = first\n",
        "        self.last = last\n",
        "        self.mail = f\"{first}.{last}@comapny.com\"\n",
        "        self.pay = pay\n",
        "\n",
        "emp1 = Employee('Udit', 'Manav', 50000)\n",
        "\n",
        "print(emp1.__dict__)"
      ],
      "execution_count": 0,
      "outputs": [
        {
          "output_type": "stream",
          "text": [
            "{'first': 'Udit', 'last': 'Manav', 'mail': 'Udit.Manav@comapny.com', 'pay': 50000}\n"
          ],
          "name": "stdout"
        }
      ]
    },
    {
      "cell_type": "markdown",
      "metadata": {
        "id": "c-sUwDu-cy93",
        "colab_type": "text"
      },
      "source": [
        "# Adding methods to classes"
      ]
    },
    {
      "cell_type": "code",
      "metadata": {
        "id": "hSuUlkQVcZBF",
        "colab_type": "code",
        "outputId": "94cdb26e-fb95-4416-a203-2a6a55dbc866",
        "colab": {
          "base_uri": "https://localhost:8080/",
          "height": 54
        }
      },
      "source": [
        "class Employee:\n",
        "\n",
        "    def __init__(self, first, last, pay):\n",
        "        self.first = first\n",
        "        self.last = last\n",
        "        self.mail = f\"{first}.{last}@comapny.com\"\n",
        "        self.pay = pay\n",
        "\n",
        "    def fullname(self):\n",
        "        return f\"{self.first} {self.last}\" \n",
        "\n",
        "emp1 = Employee('Udit', 'Manav', 50000)\n",
        "\n",
        "print(emp1.fullname())\n",
        "print(Employee.fullname(emp1))"
      ],
      "execution_count": 0,
      "outputs": [
        {
          "output_type": "stream",
          "text": [
            "Udit Manav\n",
            "Udit Manav\n"
          ],
          "name": "stdout"
        }
      ]
    },
    {
      "cell_type": "markdown",
      "metadata": {
        "id": "pYimvW75gP8H",
        "colab_type": "text"
      },
      "source": [
        "# class variables\n",
        "Variables that are shared among all instances of a class. While instance variables are unique to each class and may have different values for each instance, class variables will be shared among all instances."
      ]
    },
    {
      "cell_type": "code",
      "metadata": {
        "id": "Dq7Orq_8fHia",
        "colab_type": "code",
        "outputId": "0ba80d38-9388-445c-adf0-b547dcdf3354",
        "colab": {
          "base_uri": "https://localhost:8080/",
          "height": 329
        }
      },
      "source": [
        "class Employee:\n",
        "\n",
        "    num_emp = 0\n",
        "    raise_amt = 1.04 # class variable\n",
        "\n",
        "    def __init__(self, first, last, pay):\n",
        "        self.first = first\n",
        "        self.last = last\n",
        "        self.mail = f\"{first}.{last}@comapny.com\"\n",
        "        self.pay = pay\n",
        "\n",
        "        Employee.num_emp += 1 \n",
        "        # used Employee.num_emp because total num employees should be same\n",
        "        # for every instance \n",
        "\n",
        "    def fullname(self):\n",
        "        return f\"{self.first} {self.last}\" \n",
        "\n",
        "    def apply_raise(self):\n",
        "        self.pay = self.pay * self.raise_amt  \n",
        "        # self.raise_amt can also be replaced with Employee.raise_amt\n",
        "        # but using self.raise_amt provides us the capability to set different\n",
        "        # raise_amt for every employee\n",
        "\n",
        "print(Employee.num_emp)\n",
        "emp1 = Employee('Udit', 'Manav', 50000)\n",
        "emp2 = Employee('Test', 'Users', 60000)\n",
        "print(Employee.num_emp)\n",
        "\n",
        "print(f\"emp1.raise_amt = {emp1.raise_amt}\")\n",
        "print(f\"emp2.raise_amt = {emp2.raise_amt}\")\n",
        "print(f\"Employee.raise_amt = {Employee.raise_amt}\")\n",
        "# now we check namespace of emp1 and Employee\n",
        "print(\"emp1 neamspace:-\")\n",
        "pp(emp1.__dict__) # no raise_amt\n",
        "print(\"Employee neamspace:-\")\n",
        "pp(Employee.__dict__)"
      ],
      "execution_count": 0,
      "outputs": [
        {
          "output_type": "stream",
          "text": [
            "emp1.raise_amt = 1.04\n",
            "emp2.raise_amt = 1.04\n",
            "Employee.raise_amt = 1.04\n",
            "emp1 neamspace:-\n",
            "{'first': 'Udit',\n",
            " 'last': 'Manav',\n",
            " 'mail': 'Udit.Manav@comapny.com',\n",
            " 'pay': 50000}\n",
            "Employee neamspace:-\n",
            "mappingproxy({'__dict__': <attribute '__dict__' of 'Employee' objects>,\n",
            "              '__doc__': None,\n",
            "              '__init__': <function Employee.__init__ at 0x7efc031f5158>,\n",
            "              '__module__': '__main__',\n",
            "              '__weakref__': <attribute '__weakref__' of 'Employee' objects>,\n",
            "              'apply_raise': <function Employee.apply_raise at 0x7efc031f5ae8>,\n",
            "              'fullname': <function Employee.fullname at 0x7efc031f52f0>,\n",
            "              'raise_amt': 1.04})\n"
          ],
          "name": "stdout"
        }
      ]
    },
    {
      "cell_type": "markdown",
      "metadata": {
        "id": "Ch91iv1UjuSU",
        "colab_type": "text"
      },
      "source": [
        "In the above example we can see that emp1's namespace does not contain 'raise_amt' variable. So, it looks for raise_amt in Employee's namespace. \n",
        "\n",
        "Now, let's try to modify emp1's raise amount, we'll notice that now raise amount is present in emp1's namespace since it is totally different."
      ]
    },
    {
      "cell_type": "code",
      "metadata": {
        "id": "pHOA4osuhmJT",
        "colab_type": "code",
        "outputId": "5019e2d9-6dca-45e1-8323-50977ac7a05d",
        "colab": {
          "base_uri": "https://localhost:8080/",
          "height": 146
        }
      },
      "source": [
        "emp1.raise_amt = 1.05\n",
        "print(f\"emp1.raise_amt = {emp1.raise_amt}\")\n",
        "print(f\"emp2.raise_amt = {emp2.raise_amt}\")\n",
        "print(f\"Employee.raise_amt = {Employee.raise_amt}\")\n",
        "print(\"updated var using class\")\n",
        "Employee.raise_amt = 1.07\n",
        "print(f\"emp1.raise_amt = {emp1.raise_amt}\")\n",
        "print(f\"emp2.raise_amt = {emp2.raise_amt}\")\n",
        "print(f\"Employee.raise_amt = {Employee.raise_amt}\")"
      ],
      "execution_count": 0,
      "outputs": [
        {
          "output_type": "stream",
          "text": [
            "emp1.raise_amt = 1.05\n",
            "emp2.raise_amt = 1.06\n",
            "Employee.raise_amt = 1.06\n",
            "updated var using class\n",
            "emp1.raise_amt = 1.05\n",
            "emp2.raise_amt = 1.07\n",
            "Employee.raise_amt = 1.07\n"
          ],
          "name": "stdout"
        }
      ]
    },
    {
      "cell_type": "code",
      "metadata": {
        "id": "lhXtY24vkaab",
        "colab_type": "code",
        "outputId": "e483183e-ea3d-4d36-99a6-a372b362d03a",
        "colab": {
          "base_uri": "https://localhost:8080/",
          "height": 293
        }
      },
      "source": [
        "print(\"emp1 neamspace:-\")\n",
        "pp(emp1.__dict__) # no raise_amt\n",
        "print(\"Employee neamspace:-\")\n",
        "pp(Employee.__dict__)"
      ],
      "execution_count": 0,
      "outputs": [
        {
          "output_type": "stream",
          "text": [
            "emp1 neamspace:-\n",
            "{'first': 'Udit',\n",
            " 'last': 'Manav',\n",
            " 'mail': 'Udit.Manav@comapny.com',\n",
            " 'pay': 50000,\n",
            " 'raise_amt': 1.05}\n",
            "Employee neamspace:-\n",
            "mappingproxy({'__dict__': <attribute '__dict__' of 'Employee' objects>,\n",
            "              '__doc__': None,\n",
            "              '__init__': <function Employee.__init__ at 0x7efc031f5158>,\n",
            "              '__module__': '__main__',\n",
            "              '__weakref__': <attribute '__weakref__' of 'Employee' objects>,\n",
            "              'apply_raise': <function Employee.apply_raise at 0x7efc031f5ae8>,\n",
            "              'fullname': <function Employee.fullname at 0x7efc031f52f0>,\n",
            "              'raise_amt': 1.07})\n"
          ],
          "name": "stdout"
        }
      ]
    },
    {
      "cell_type": "markdown",
      "metadata": {
        "id": "InyHjYQdnqKE",
        "colab_type": "text"
      },
      "source": [
        "# Part 3- regular vs classmethods vs staticmethods\n",
        "___Regular___ methods in a class automatically takes instance as the first argument (self). <br>\n",
        "To change this so that our method takes class as first argument we use ***class*** methods. <br>(Hint: using @classmethod)."
      ]
    },
    {
      "cell_type": "code",
      "metadata": {
        "id": "NjN0b-Bkk6JY",
        "colab_type": "code",
        "outputId": "1950e933-28ca-466c-bbad-2e4810a210b4",
        "colab": {
          "base_uri": "https://localhost:8080/",
          "height": 146
        }
      },
      "source": [
        "class Employee:\n",
        "\n",
        "    num_emp = 0\n",
        "    raise_amt = 1.04 \n",
        "\n",
        "    def __init__(self, first, last, pay):\n",
        "        self.first = first\n",
        "        self.last = last\n",
        "        self.mail = f\"{first}.{last}@comapny.com\"\n",
        "        self.pay = pay\n",
        "\n",
        "        Employee.num_emp += 1 \n",
        "        \n",
        "    def fullname(self):\n",
        "        return f\"{self.first} {self.last}\" \n",
        "\n",
        "    def apply_raise(self):\n",
        "        self.pay = self.pay * self.raise_amt  \n",
        "       \n",
        "    @classmethod       \n",
        "    def set_raise_amt(cls, amount):\n",
        "        cls.raise_amt = amount\n",
        "\n",
        "\n",
        "emp1 = Employee('Udit', 'Manav', 50000)\n",
        "emp2 = Employee('Test', 'Users', 60000)\n",
        "\n",
        "print(f\"emp1.raise_amt = {emp1.raise_amt}\")\n",
        "print(f\"emp2.raise_amt = {emp2.raise_amt}\")\n",
        "print(f\"Employee.raise_amt = {Employee.raise_amt}\")\n",
        "Employee.set_raise_amt(1.02) \n",
        "# we can also run set_raise_amt class method from instance but that looks odd\n",
        "print(f\"emp1.raise_amt = {emp1.raise_amt}\")\n",
        "print(f\"emp2.raise_amt = {emp2.raise_amt}\")\n",
        "print(f\"Employee.raise_amt = {Employee.raise_amt}\")\n"
      ],
      "execution_count": 0,
      "outputs": [
        {
          "output_type": "stream",
          "text": [
            "0\n",
            "emp1.raise_amt = 1.04\n",
            "emp2.raise_amt = 1.04\n",
            "Employee.raise_amt = 1.04\n",
            "emp1.raise_amt = 1.02\n",
            "emp2.raise_amt = 1.02\n",
            "Employee.raise_amt = 1.02\n"
          ],
          "name": "stdout"
        }
      ]
    },
    {
      "cell_type": "markdown",
      "metadata": {
        "id": "R3VnyTlS5KRu",
        "colab_type": "text"
      },
      "source": [
        "## class methods as alternative constructors\n",
        "used to provide multiple ways of creating an object. Consider a use case where user wants to create an instance using strings in provided in format \"first-last-pay\". is htere any way to just pass a string and create an employee object whiout parsing explictly everytime. Now, first let's see what it would look like if we have to parse string everytime."
      ]
    },
    {
      "cell_type": "code",
      "metadata": {
        "id": "iybgdHEFtTUL",
        "colab_type": "code",
        "outputId": "52d2013c-a50e-40ed-9498-fb3d9be2ce66",
        "colab": {
          "base_uri": "https://localhost:8080/",
          "height": 90
        }
      },
      "source": [
        "emp_str1 = 'udit-manav-50000'\n",
        "emp_1 = Employee(*emp_str1.split('-'))\n",
        "pp(emp_1.__dict__)"
      ],
      "execution_count": 0,
      "outputs": [
        {
          "output_type": "stream",
          "text": [
            "{'first': 'udit',\n",
            " 'last': 'manav',\n",
            " 'mail': 'udit.manav@comapny.com',\n",
            " 'pay': '50000'}\n"
          ],
          "name": "stdout"
        }
      ]
    },
    {
      "cell_type": "markdown",
      "metadata": {
        "id": "WwQ7pgsQ61tu",
        "colab_type": "text"
      },
      "source": [
        "To avoid this parsing everytime let's create an alternative constructor using classmethod which can create employee object directly by passing the string."
      ]
    },
    {
      "cell_type": "code",
      "metadata": {
        "id": "2LkPTjfH6t_o",
        "colab_type": "code",
        "outputId": "9466c003-b449-4af6-fa6a-4e05872e2a16",
        "colab": {
          "base_uri": "https://localhost:8080/",
          "height": 90
        }
      },
      "source": [
        "class Employee:\n",
        "\n",
        "    num_emp = 0\n",
        "    raise_amt = 1.04 \n",
        "\n",
        "    def __init__(self, first, last, pay):\n",
        "        self.first = first\n",
        "        self.last = last\n",
        "        self.mail = f\"{first}.{last}@comapny.com\"\n",
        "        self.pay = pay\n",
        "\n",
        "        Employee.num_emp += 1 \n",
        "        \n",
        "    def fullname(self):\n",
        "        return f\"{self.first} {self.last}\" \n",
        "\n",
        "    def apply_raise(self):\n",
        "        self.pay = self.pay * self.raise_amt  \n",
        "       \n",
        "    @classmethod       \n",
        "    def set_raise_amt(cls, amount):\n",
        "        cls.raise_amt = amount\n",
        "\n",
        "    @classmethod\n",
        "    def from_string(cls, emp_str):\n",
        "        first, last, pay = emp_str.split('-')\n",
        "        return cls(first, last, pay)\n",
        "\n",
        "emp_str1 = 'udit-manav-50000'\n",
        "emp_1 = Employee.from_string(emp_str1)\n",
        "pp(emp_1.__dict__)"
      ],
      "execution_count": 0,
      "outputs": [
        {
          "output_type": "stream",
          "text": [
            "{'first': 'udit',\n",
            " 'last': 'manav',\n",
            " 'mail': 'udit.manav@comapny.com',\n",
            " 'pay': '50000'}\n"
          ],
          "name": "stdout"
        }
      ]
    },
    {
      "cell_type": "markdown",
      "metadata": {
        "id": "ue5D2kjFASrR",
        "colab_type": "text"
      },
      "source": [
        "Static methods don't have access to the attributes of an instance of a class (like a regular method does), and they don't have access to the attributes of the class itself (like a class method does).\n",
        "\n",
        "However, they can be useful to group some utility function together with a class - e.g. a simple conversion from one type to another - that doesn't need access to any information apart from the parameters provided (and perhaps some attributes global to the module.)\n",
        "\n",
        "They could be put outside the class, but grouping them inside the class may make sense where they are only applicable there.\n",
        "\n",
        "Consider a function for Employee class that would take in a date and returns whether it was a working day or not. It does have some logical connection but doesn't need access to any attribute of the class."
      ]
    },
    {
      "cell_type": "code",
      "metadata": {
        "id": "-p1cI-E28ZFt",
        "colab_type": "code",
        "outputId": "098663be-5bdc-44cf-f166-e45973845250",
        "colab": {
          "base_uri": "https://localhost:8080/",
          "height": 35
        }
      },
      "source": [
        "class Employee:\n",
        "\n",
        "    num_emp = 0\n",
        "    def __init__(self, first, last, pay):\n",
        "        self.first = first\n",
        "        self.last = last\n",
        "        self.mail = f\"{first}.{last}@comapny.com\"\n",
        "        self.pay = pay\n",
        "\n",
        "        Employee.num_emp += 1 \n",
        "            \n",
        "    @staticmethod\n",
        "    def is_workday(day):\n",
        "        if any([day.weekday() == 5, day.weekday() == 6]): # weekday at saturday/sunday\n",
        "            return False\n",
        "        return True\n",
        "\n",
        "import datetime\n",
        "my_date = datetime.date.today()\n",
        "print(Employee.is_workday(my_date))\n"
      ],
      "execution_count": 0,
      "outputs": [
        {
          "output_type": "stream",
          "text": [
            "True\n"
          ],
          "name": "stdout"
        }
      ]
    },
    {
      "cell_type": "markdown",
      "metadata": {
        "id": "jDE2aKy4CzM4",
        "colab_type": "text"
      },
      "source": [
        "# Part 4: Inheritance\n",
        "Inheritance allows child class to inherit methods and attributes from parent class.  "
      ]
    },
    {
      "cell_type": "code",
      "metadata": {
        "id": "bKp9X0dMCdcD",
        "colab_type": "code",
        "colab": {}
      },
      "source": [
        "class Employee:\n",
        "\n",
        "    raise_amt = 1.04 # class variable\n",
        "\n",
        "    def __init__(self, first, last, pay):\n",
        "        self.first = first\n",
        "        self.last = last\n",
        "        self.mail = f\"{first}.{last}@comapny.com\"\n",
        "        self.pay = pay\n",
        "\n",
        "    def fullname(self):\n",
        "        return f\"{self.first} {self.last}\" \n",
        "\n",
        "    def apply_raise(self):\n",
        "        self.pay = self.pay * self.raise_amt  "
      ],
      "execution_count": 0,
      "outputs": []
    },
    {
      "cell_type": "markdown",
      "metadata": {
        "id": "RtpPQ8W3EwPB",
        "colab_type": "text"
      },
      "source": [
        "Now, let's create different types of Employees, Developers and Managers."
      ]
    },
    {
      "cell_type": "code",
      "metadata": {
        "id": "Rcma9i3TEu3N",
        "colab_type": "code",
        "outputId": "fbbb56a9-8531-4063-c621-9805f2dcf4b1",
        "colab": {
          "base_uri": "https://localhost:8080/",
          "height": 35
        }
      },
      "source": [
        "class Developer(Employee):\n",
        "    pass\n",
        "\n",
        "dev1 = Developer('A', 'Z', 100)\n",
        "dev1 = Developer('B', 'X', 200)\n",
        "\n",
        "pp(dev1.__dict__)"
      ],
      "execution_count": 0,
      "outputs": [
        {
          "output_type": "stream",
          "text": [
            "{'first': 'B', 'last': 'X', 'mail': 'B.X@comapny.com', 'pay': 200}\n"
          ],
          "name": "stdout"
        }
      ]
    },
    {
      "cell_type": "markdown",
      "metadata": {
        "id": "qqFRtlmmIgG7",
        "colab_type": "text"
      },
      "source": [
        "Check out the method resolution order."
      ]
    },
    {
      "cell_type": "code",
      "metadata": {
        "id": "PtZsaHHWHjrh",
        "colab_type": "code",
        "outputId": "466e5108-1d14-4fee-c251-e3543b70e1f4",
        "colab": {
          "base_uri": "https://localhost:8080/",
          "height": 605
        }
      },
      "source": [
        "print(help(Developer))"
      ],
      "execution_count": 0,
      "outputs": [
        {
          "output_type": "stream",
          "text": [
            "Help on class Developer in module __main__:\n",
            "\n",
            "class Developer(Employee)\n",
            " |  Method resolution order:\n",
            " |      Developer\n",
            " |      Employee\n",
            " |      builtins.object\n",
            " |  \n",
            " |  Methods inherited from Employee:\n",
            " |  \n",
            " |  __init__(self, first, last, pay)\n",
            " |      Initialize self.  See help(type(self)) for accurate signature.\n",
            " |  \n",
            " |  apply_raise(self)\n",
            " |  \n",
            " |  fullname(self)\n",
            " |  \n",
            " |  ----------------------------------------------------------------------\n",
            " |  Data descriptors inherited from Employee:\n",
            " |  \n",
            " |  __dict__\n",
            " |      dictionary for instance variables (if defined)\n",
            " |  \n",
            " |  __weakref__\n",
            " |      list of weak references to the object (if defined)\n",
            " |  \n",
            " |  ----------------------------------------------------------------------\n",
            " |  Data and other attributes inherited from Employee:\n",
            " |  \n",
            " |  raise_amt = 1.04\n",
            "\n",
            "None\n"
          ],
          "name": "stdout"
        }
      ]
    },
    {
      "cell_type": "markdown",
      "metadata": {
        "id": "DFCHKxd8Isfv",
        "colab_type": "text"
      },
      "source": [
        "Now, lets say that, we need some extra attributes (major prog\\_language) in developer class, apart from those that were provided in Employee. For this, we need to define \\_\\_init__ method for of its own."
      ]
    },
    {
      "cell_type": "code",
      "metadata": {
        "id": "N4eUUX8GH6Gz",
        "colab_type": "code",
        "outputId": "9189b8ba-2e45-41d4-ef3c-29f8e17a1e38",
        "colab": {
          "base_uri": "https://localhost:8080/",
          "height": 109
        }
      },
      "source": [
        "class Developer(Employee):\n",
        "    \n",
        "    def __init__(self, first, last, pay, prog_lang):\n",
        "        super().__init__(first, last, pay)\n",
        "        # Employee.__init__(self, first, last, pay)\n",
        "        self.prog_lang = prog_lang\n",
        "\n",
        "dev1 = Developer('Udit', 'Manav', 50000, 'Python')\n",
        "dev2 = Developer('Sparsh', 'Gupta', 60000, 'BrainFuck')\n",
        "pp(dev1.__dict__)"
      ],
      "execution_count": 0,
      "outputs": [
        {
          "output_type": "stream",
          "text": [
            "{'first': 'Udit',\n",
            " 'last': 'Manav',\n",
            " 'mail': 'Udit.Manav@comapny.com',\n",
            " 'pay': 50000,\n",
            " 'prog_lang': 'Python'}\n"
          ],
          "name": "stdout"
        }
      ]
    },
    {
      "cell_type": "code",
      "metadata": {
        "id": "olHiYBXwKh27",
        "colab_type": "code",
        "outputId": "b244d636-7b05-4575-b75b-13216382874f",
        "colab": {
          "base_uri": "https://localhost:8080/",
          "height": 182
        }
      },
      "source": [
        "class Manager(Employee):\n",
        "    \n",
        "    def __init__(self, first, last, pay, employees=None):\n",
        "        super().__init__(first, last, pay)\n",
        "        self.employees = [] if not employees else employees\n",
        "\n",
        "    def add_employee(self, emp):\n",
        "        if emp not in self.employees:\n",
        "            self.employees.append(emp)\n",
        "            print(f\"{self.fullname()} is now supervising {emp.fullname()}\")\n",
        "        else:\n",
        "            print(f\"{self.fullname()} is already supervising {emp.fullname()}\")\n",
        "\n",
        "    def remove_employee(self, emp):\n",
        "        if emp in self.employees:\n",
        "            self.employees.remove(emp)\n",
        "            print(f\"{self.fullname()} is now NOT supervising {emp.fullname()}\")\n",
        "        else:\n",
        "            print(f\"{self.fullname()} is already NOT supervising {emp.fullname()}\")\n",
        "\n",
        "    def print_emps(self):\n",
        "        print(f'List of employees {self.fullname()} supervising:-')\n",
        "        for emp in self.employees:\n",
        "            print('-->', emp.fullname())\n",
        "\n",
        "mgr1 = Manager('Shubham', 'Jain', 90000, [dev2])\n",
        "print(mgr1.mail)\n",
        "mgr1.print_emps()\n",
        "mgr1.remove_employee(dev1)\n",
        "mgr1.add_employee(dev2)\n",
        "mgr1.add_employee(dev1)\n",
        "mgr1.print_emps()\n"
      ],
      "execution_count": 0,
      "outputs": [
        {
          "output_type": "stream",
          "text": [
            "Shubham.Jain@comapny.com\n",
            "List of employees Shubham Jain supervising:-\n",
            "--> Sparsh Gupta\n",
            "Shubham Jain is already NOT supervising Udit Manav\n",
            "Shubham Jain is already supervising Sparsh Gupta\n",
            "Shubham Jain is now supervising Udit Manav\n",
            "List of employees Shubham Jain supervising:-\n",
            "--> Sparsh Gupta\n",
            "--> Udit Manav\n"
          ],
          "name": "stdout"
        }
      ]
    },
    {
      "cell_type": "markdown",
      "metadata": {
        "id": "fgNkfr60Rt4s",
        "colab_type": "text"
      },
      "source": [
        "## isinstance() and issubclass()"
      ]
    },
    {
      "cell_type": "code",
      "metadata": {
        "id": "5RKlh2lZK6PD",
        "colab_type": "code",
        "outputId": "da3492b9-9678-4c6e-de7a-3c59eaa49b4a",
        "colab": {
          "base_uri": "https://localhost:8080/",
          "height": 109
        }
      },
      "source": [
        "print(isinstance(mgr1, Manager))\n",
        "print(isinstance(mgr1, Employee))\n",
        "print(issubclass(Developer, Employee))\n",
        "print(issubclass(Manager, Employee))\n",
        "print(issubclass(Developer, Manager))"
      ],
      "execution_count": 0,
      "outputs": [
        {
          "output_type": "stream",
          "text": [
            "True\n",
            "True\n",
            "True\n",
            "True\n",
            "False\n"
          ],
          "name": "stdout"
        }
      ]
    },
    {
      "cell_type": "markdown",
      "metadata": {
        "id": "mQ50YjcKWpPx",
        "colab_type": "text"
      },
      "source": [
        "# Part 5: Magic/Dunder Methods\n",
        "these Methods allows us to emulate some built in behaviour within python nad its also how we implement operator overloading. Now, lets try to print emp1.\n"
      ]
    },
    {
      "cell_type": "code",
      "metadata": {
        "id": "Bd_ktDYuWf2E",
        "colab_type": "code",
        "outputId": "15610596-38ad-4b11-d2e6-952dd75abba9",
        "colab": {
          "base_uri": "https://localhost:8080/",
          "height": 35
        }
      },
      "source": [
        " print(emp1)"
      ],
      "execution_count": 0,
      "outputs": [
        {
          "output_type": "stream",
          "text": [
            "<__main__.Employee object at 0x7efc0316bdd8>\n"
          ],
          "name": "stdout"
        }
      ]
    },
    {
      "cell_type": "markdown",
      "metadata": {
        "id": "rdIEchSDZKj5",
        "colab_type": "text"
      },
      "source": [
        "Okay, so that gives us no useful information about what emp1 is, wouldn't it be great if we could get some useful information by printing out Employee object. We can accomplish this using \\_\\_repr__ & \\_\\_str__ methods. \n",
        "\n",
        "\\_\\_repr__ is fallback for \\_\\_str__ method i.e. if \\_\\_str__ is not implemented then wgile printing it would fallback to \\_\\_repr__ implementation. Let's have a look."
      ]
    },
    {
      "cell_type": "code",
      "metadata": {
        "id": "Ghu_uciwY03o",
        "colab_type": "code",
        "outputId": "234a2b4a-037e-432f-99e0-578e384d9592",
        "colab": {
          "base_uri": "https://localhost:8080/",
          "height": 127
        }
      },
      "source": [
        "class Employee:\n",
        "\n",
        "    raise_amt = 1.04 # class variable\n",
        "\n",
        "    def __init__(self, first, last, pay):\n",
        "        self.first = first\n",
        "        self.last = last\n",
        "        self.mail = f\"{first}.{last}@comapny.com\"\n",
        "        self.pay = pay\n",
        "\n",
        "    def fullname(self):\n",
        "        return f\"{self.first} {self.last}\" \n",
        "\n",
        "    def apply_raise(self):\n",
        "        self.pay = self.pay * self.raise_amt \n",
        "\n",
        "    def __repr__(self):\n",
        "        return f\"Employee({self.first}, {self.last}, {self.pay})\"\n",
        "\n",
        "    def __str__(self):\n",
        "        return f\"{self.fullname()} - {self.mail}\"\n",
        "\n",
        "dev1 = Employee('Udit', 'Manav', 50000)\n",
        "\n",
        "print(str(dev1))\n",
        "print(dev1.__str__())\n",
        "print(dev1)\n",
        "print(repr(dev1))\n",
        "print(dev1.__repr__())\n",
        "dev1\n",
        "    "
      ],
      "execution_count": 0,
      "outputs": [
        {
          "output_type": "stream",
          "text": [
            "Udit Manav - Udit.Manav@comapny.com\n",
            "Udit Manav - Udit.Manav@comapny.com\n",
            "Udit Manav - Udit.Manav@comapny.com\n",
            "Employee(Udit, Manav, 50000)\n",
            "Employee(Udit, Manav, 50000)\n"
          ],
          "name": "stdout"
        },
        {
          "output_type": "execute_result",
          "data": {
            "text/plain": [
              "Employee(Udit, Manav, 50000)"
            ]
          },
          "metadata": {
            "tags": []
          },
          "execution_count": 51
        }
      ]
    },
    {
      "cell_type": "markdown",
      "metadata": {
        "id": "OpMTbZaIGEix",
        "colab_type": "text"
      },
      "source": [
        "For more information on dunder methods refer [this](https://docs.python.org/3/reference/datamodel.html#special-method-names)."
      ]
    },
    {
      "cell_type": "markdown",
      "metadata": {
        "id": "iNlDp-8gGswI",
        "colab_type": "text"
      },
      "source": [
        "# Part 6: Property Decorator, Getters and setters"
      ]
    },
    {
      "cell_type": "code",
      "metadata": {
        "id": "8sdyniLSGDhi",
        "colab_type": "code",
        "outputId": "006a181f-3b55-43e9-c49d-d029eafea526",
        "colab": {
          "base_uri": "https://localhost:8080/",
          "height": 72
        }
      },
      "source": [
        "class Employee:\n",
        "\n",
        "    def __init__(self, first, last):\n",
        "        self.first = first\n",
        "        self.last = last\n",
        "        self.mail = f\"{first}.{last}@comapny.com\"\n",
        "\n",
        "    def fullname(self):\n",
        "        return f\"{self.first} {self.last}\" \n",
        "\n",
        "emp1 = Employee('John', 'Smith')\n",
        "\n",
        "print(emp1.first)\n",
        "print(emp1.mail)\n",
        "print(emp1.fullname())"
      ],
      "execution_count": 0,
      "outputs": [
        {
          "output_type": "stream",
          "text": [
            "john\n",
            "john.Smith@comapny.com\n",
            "john Smith\n"
          ],
          "name": "stdout"
        }
      ]
    },
    {
      "cell_type": "markdown",
      "metadata": {
        "id": "EIS928R3Inme",
        "colab_type": "text"
      },
      "source": [
        "Now, lets change the first name of emp1."
      ]
    },
    {
      "cell_type": "code",
      "metadata": {
        "id": "F9RAH804lRII",
        "colab_type": "code",
        "outputId": "5b0b73d2-5386-4c80-e979-474dffec3c5f",
        "colab": {
          "base_uri": "https://localhost:8080/",
          "height": 72
        }
      },
      "source": [
        "emp1.first = 'Jim'\n",
        "print(emp1.first)\n",
        "print(emp1.mail)\n",
        "print(emp1.fullname())"
      ],
      "execution_count": 0,
      "outputs": [
        {
          "output_type": "stream",
          "text": [
            "Jim\n",
            "john.Smith@comapny.com\n",
            "Jim Smith\n"
          ],
          "name": "stdout"
        }
      ]
    },
    {
      "cell_type": "code",
      "metadata": {
        "id": "5jU4LEAKI4vu",
        "colab_type": "code",
        "outputId": "687445a2-101d-43c1-a4aa-f51ec99d013b",
        "colab": {
          "base_uri": "https://localhost:8080/",
          "height": 127
        }
      },
      "source": [
        "class Employee:\n",
        "\n",
        "    def __init__(self, first, last):\n",
        "        self.first = first\n",
        "        self.last = last\n",
        "\n",
        "    def fullname(self):\n",
        "        return f\"{self.first} {self.last}\" \n",
        "    \n",
        "    @property\n",
        "    def mail(self):\n",
        "        return f\"{self.first}.{self.last}@comapny.com\"\n",
        "\n",
        "emp1 = Employee('John', 'Smith')\n",
        "\n",
        "print(emp1.first)\n",
        "print(emp1.mail)\n",
        "print(emp1.fullname())\n",
        "emp1.first = 'Jim'\n",
        "print(emp1.first)\n",
        "print(emp1.mail)\n",
        "print(emp1.fullname())"
      ],
      "execution_count": 0,
      "outputs": [
        {
          "output_type": "stream",
          "text": [
            "John\n",
            "John.Smith@comapny.com\n",
            "John Smith\n",
            "Jim\n",
            "Jim.Smith@comapny.com\n",
            "Jim Smith\n"
          ],
          "name": "stdout"
        }
      ]
    },
    {
      "cell_type": "code",
      "metadata": {
        "id": "e7iIIqhhJi5L",
        "colab_type": "code",
        "outputId": "5f68b06d-9e9c-4368-ddf2-6061bb3afb7b",
        "colab": {
          "base_uri": "https://localhost:8080/",
          "height": 146
        }
      },
      "source": [
        "class Employee:\n",
        "\n",
        "    def __init__(self, first, last):\n",
        "        self.first = first\n",
        "        self.last = last\n",
        "\n",
        "    @property\n",
        "    def mail(self):\n",
        "        return f\"{self.first}.{self.last}@comapny.com\"\n",
        "    \n",
        "    @property\n",
        "    def fullname(self):\n",
        "        return f\"{self.first} {self.last}\" \n",
        "    \n",
        "    @fullname.setter\n",
        "    def fullname(self, name):\n",
        "        first, last = name.split(' ')\n",
        "        self.first = first\n",
        "        self.last = last\n",
        "\n",
        "    @fullname.deleter\n",
        "    def fullname(self):\n",
        "        print('deleting name!')\n",
        "        self.first = None\n",
        "        self.last = None\n",
        "        \n",
        "\n",
        "emp1 = Employee('John', 'Smith')\n",
        "\n",
        "emp1.fullname = 'Udit Manav'\n",
        "print(emp1.first)\n",
        "print(emp1.mail)\n",
        "print(emp1.fullname)\n",
        "\n",
        "del emp1.fullname\n",
        "print(emp1.first)\n",
        "print(emp1.mail)\n",
        "print(emp1.fullname)"
      ],
      "execution_count": 0,
      "outputs": [
        {
          "output_type": "stream",
          "text": [
            "Udit\n",
            "Udit.Manav@comapny.com\n",
            "Udit Manav\n",
            "deleting name!\n",
            "None\n",
            "None.None@comapny.com\n",
            "None None\n"
          ],
          "name": "stdout"
        }
      ]
    },
    {
      "cell_type": "markdown",
      "metadata": {
        "id": "QGG-9oAkuwuf",
        "colab_type": "text"
      },
      "source": [
        "# Getter/Setter \n",
        "In Python, getters and setters are not the same as those in other object-oriented programming languages. Basically, the main purpose of using getters and setters in object-oriented programs is to ensure data encapsulation. Private variables in python are not actually hidden fields like in other object oriented languages. Getters and Setters in python are often used when:\n",
        "\n",
        "* We use getters & setters to add validation logic around getting and setting a value.\n",
        "* To avoid direct access of a class field i.e. private variables cannot be accessed directly or modified by external user.\n",
        "\n",
        "For more [info](https://www.geeksforgeeks.org/getter-and-setter-in-python/)."
      ]
    },
    {
      "cell_type": "markdown",
      "metadata": {
        "id": "3uKtGTVaxyFe",
        "colab_type": "text"
      },
      "source": [
        "## Using normal function to achieve getters and setters behaviour\n",
        "To achieve getters & setters property, if we define normal get() and set() methods it will not reflect any special implementation. For Example"
      ]
    },
    {
      "cell_type": "code",
      "metadata": {
        "id": "F4_DRaTZxCJr",
        "colab_type": "code",
        "outputId": "c4b1e967-5acd-48ba-e516-5c0b8bced197",
        "colab": {
          "base_uri": "https://localhost:8080/",
          "height": 54
        }
      },
      "source": [
        "class Geek: \n",
        "    def __init__(self, age = 0): \n",
        "         self._age = age \n",
        "      \n",
        "    # getter method \n",
        "    def get_age(self): \n",
        "        return self._age \n",
        "      \n",
        "    # setter method \n",
        "    def set_age(self, x): \n",
        "        self._age = x \n",
        "  \n",
        "raj = Geek() \n",
        "  \n",
        "# setting the age using setter \n",
        "raj.set_age(21) \n",
        "  \n",
        "# retrieving age using getter \n",
        "print(raj.get_age()) \n",
        "  \n",
        "print(raj._age) "
      ],
      "execution_count": 0,
      "outputs": [
        {
          "output_type": "stream",
          "text": [
            "21\n",
            "21\n"
          ],
          "name": "stdout"
        }
      ]
    },
    {
      "cell_type": "markdown",
      "metadata": {
        "id": "2rdzIT6IyAF9",
        "colab_type": "text"
      },
      "source": [
        "## Using property() function to achieve getters and setters behaviour\n",
        "\n",
        "In Python property()is a built-in function that creates and returns a property object. A property object has three methods, getter(), setter(), and delete(). property() function in Python has four arguments property(fget, fset, fdel, doc), fget is a function for retrieving an attribute value. fset is a function for setting an attribute value. fdel is a function for deleting an attribute value. doc creates a docstring for attribute. A property object has three methods, getter(), setter(), and delete() to specify fget, fset and fdel individually. For Example"
      ]
    },
    {
      "cell_type": "code",
      "metadata": {
        "id": "1G7V4C4cx-N8",
        "colab_type": "code",
        "outputId": "7c2151fa-d11a-492e-f7f7-30ed174c2879",
        "colab": {
          "base_uri": "https://localhost:8080/",
          "height": 90
        }
      },
      "source": [
        "class Geeks: \n",
        "     def __init__(self): \n",
        "          self._age = 0\n",
        "       \n",
        "     # function to get value of _age \n",
        "     def get_age(self): \n",
        "         print(\"getter method called\") \n",
        "         return self._age \n",
        "       \n",
        "     # function to set value of _age \n",
        "     def set_age(self, a): \n",
        "         print(\"setter method called\") \n",
        "         self._age = a \n",
        "  \n",
        "     # function to delete _age attribute \n",
        "     def del_age(self): \n",
        "         del self._age \n",
        "     \n",
        "     age = property(get_age, set_age, del_age)  \n",
        "  \n",
        "mark = Geeks() \n",
        "  \n",
        "mark.age = 10\n",
        "print('-----------------')\n",
        "print(mark.age) \n"
      ],
      "execution_count": 0,
      "outputs": [
        {
          "output_type": "stream",
          "text": [
            "setter method called\n",
            "-----------------\n",
            "getter method called\n",
            "10\n"
          ],
          "name": "stdout"
        }
      ]
    },
    {
      "cell_type": "markdown",
      "metadata": {
        "id": "qP8dXLNg1Bws",
        "colab_type": "text"
      },
      "source": [
        "## Using @property decorators to achieve getters and setters behaviour\n",
        "\n",
        "In previous method we used property() function in order to achieve getters and setters behaviour. However as mentioned earlier in this post getters and setters are also used for validating the getting and setting of attributes value. There is one more way to implement property function i.e. by using decorator. Python @property is one of the built-in decorators. The main purpose of any decorator is to change your class methods or attributes in such a way so that the user of your class no need to make any change in their code. For Example"
      ]
    },
    {
      "cell_type": "code",
      "metadata": {
        "id": "vVmWiIrT1AjT",
        "colab_type": "code",
        "outputId": "18f724a0-1dc5-4d85-b8dc-e35da568b606",
        "colab": {
          "base_uri": "https://localhost:8080/",
          "height": 90
        }
      },
      "source": [
        "class Geeks: \n",
        "     def __init__(self): \n",
        "          self._age = 0\n",
        "       \n",
        "     # using property decorator \n",
        "     # a getter function \n",
        "     @property\n",
        "     def age(self): \n",
        "         print(\"getter method called\") \n",
        "         return self._age \n",
        "       \n",
        "     # a setter function \n",
        "     @age.setter \n",
        "     def age(self, a): \n",
        "         if(a < 18): \n",
        "            raise ValueError(\"Sorry you age is below eligibility criteria\") \n",
        "         print(\"setter method called\") \n",
        "         self._age = a \n",
        "  \n",
        "mark = Geeks() \n",
        "  \n",
        "mark.age = 19\n",
        "print('-----------------')\n",
        "print(mark.age) "
      ],
      "execution_count": 0,
      "outputs": [
        {
          "output_type": "stream",
          "text": [
            "setter method called\n",
            "-----------------\n",
            "getter method called\n",
            "19\n"
          ],
          "name": "stdout"
        }
      ]
    }
  ]
}