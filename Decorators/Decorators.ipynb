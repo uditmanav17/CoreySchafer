{
  "cells": [
    {
      "cell_type": "markdown",
      "metadata": {
        "id": "view-in-github",
        "colab_type": "text"
      },
      "source": [
        "<a href=\"https://colab.research.google.com/github/uditmanav17/CoreySchafer/blob/master/Decorators/Decorators.ipynb\" target=\"_parent\"><img src=\"https://colab.research.google.com/assets/colab-badge.svg\" alt=\"Open In Colab\"/></a>"
      ]
    },
    {
      "cell_type": "markdown",
      "metadata": {
        "id": "CO6wDDqDXTik",
        "colab_type": "text"
      },
      "source": [
        "# Decorators - Dynamically Alter The Functionality Of Your Functions\n",
        "[//]: # \"Disclaimer - This is inspired by [this](https://www.youtube.com/watch?v=FsAPt_9Bf3U).\""
      ]
    },
    {
      "cell_type": "markdown",
      "metadata": {
        "id": "O7vNJHhxcWps",
        "colab_type": "text"
      },
      "source": [
        "## Frist class functions and closures\n",
        "These allows us to treat functions like any other object. We can pass functions as arguments to another function, retuen functions and assign them to variables.\n",
        "\n",
        "Now, closures allows us to take advantage of first class functions and return the inner function that remembers and has access to local variables of the scope in which they were created."
      ]
    },
    {
      "cell_type": "code",
      "metadata": {
        "id": "PjQH_fz5XPx6",
        "colab_type": "code",
        "colab": {}
      },
      "source": [
        "def outer_function():\n",
        "    message = 'Hi'\n",
        "\n",
        "    def inner_function():\n",
        "        print(message)\n",
        "    return inner_function()"
      ],
      "execution_count": 0,
      "outputs": []
    },
    {
      "cell_type": "markdown",
      "metadata": {
        "id": "5TBLn7uMF6sr",
        "colab_type": "text"
      },
      "source": [
        "Notice that the message variable was not created in the inner function, but inner function does have acces to it. Also called free variable."
      ]
    },
    {
      "cell_type": "code",
      "metadata": {
        "id": "gsnoBV8AGL7k",
        "colab_type": "code",
        "outputId": "7d68449d-df70-412f-9497-7081510456cc",
        "colab": {
          "base_uri": "https://localhost:8080/",
          "height": 35
        }
      },
      "source": [
        "outer_function()"
      ],
      "execution_count": 2,
      "outputs": [
        {
          "output_type": "stream",
          "text": [
            "Hi\n"
          ],
          "name": "stdout"
        }
      ]
    },
    {
      "cell_type": "markdown",
      "metadata": {
        "id": "YVwgXLR4GZgH",
        "colab_type": "text"
      },
      "source": [
        "Okay, simple enough and expected behaviour. Now instead of returning inner_function() lets return inner_function (without paranthesis)."
      ]
    },
    {
      "cell_type": "code",
      "metadata": {
        "id": "8waoZcOLGUya",
        "colab_type": "code",
        "outputId": "926dc4a4-8c9a-4b21-b39e-e17c5b77cc5b",
        "colab": {
          "base_uri": "https://localhost:8080/",
          "height": 54
        }
      },
      "source": [
        "def outer_function():\n",
        "    message = 'Hi'\n",
        "\n",
        "    def inner_function():\n",
        "        print(message)\n",
        "    return inner_function\n",
        "\n",
        "my_func = outer_function()\n",
        "my_func()  # calling inner function\n",
        "my_func()  # calling inner function"
      ],
      "execution_count": 3,
      "outputs": [
        {
          "output_type": "stream",
          "text": [
            "Hi\n",
            "Hi\n"
          ],
          "name": "stdout"
        }
      ]
    },
    {
      "cell_type": "markdown",
      "metadata": {
        "id": "xa4W3zL9HJX6",
        "colab_type": "text"
      },
      "source": [
        "So this is what a closure is. It remembers the message variable even after the outer function has finished executing. Let's modify the outer functiona bit to demonstrate closure."
      ]
    },
    {
      "cell_type": "code",
      "metadata": {
        "id": "RPmhRFQoG-tM",
        "colab_type": "code",
        "outputId": "2bff0d21-2b51-4b98-957c-971454f6f115",
        "colab": {
          "base_uri": "https://localhost:8080/",
          "height": 54
        }
      },
      "source": [
        "def outer_function(msg):\n",
        "    def inner_function():\n",
        "        print(msg)\n",
        "    return inner_function\n",
        "\n",
        "my_func = outer_function('Hello')\n",
        "my_func()  # calling inner function\n",
        "my_func2 = outer_function('Bye')\n",
        "my_func2()  # calling inner function"
      ],
      "execution_count": 4,
      "outputs": [
        {
          "output_type": "stream",
          "text": [
            "Hello\n",
            "Bye\n"
          ],
          "name": "stdout"
        }
      ]
    },
    {
      "cell_type": "markdown",
      "metadata": {
        "id": "2bqGMuksIP1T",
        "colab_type": "text"
      },
      "source": [
        "## Decorators\n",
        "These are function that takes another function as arguments adds some functionality and return another function, all of this without altering the source code of original function. "
      ]
    },
    {
      "cell_type": "code",
      "metadata": {
        "id": "0Rid0i5_Hrpy",
        "colab_type": "code",
        "colab": {}
      },
      "source": [
        "# A simple decorator\n",
        "def deco_fxn(orig_fxn):\n",
        "    def wrapper_fxn():\n",
        "        print(f\"this is executed by wrapper before exec {orig_fxn.__name__}\")\n",
        "        orig_fxn()\n",
        "    return wrapper_fxn"
      ],
      "execution_count": 0,
      "outputs": []
    },
    {
      "cell_type": "code",
      "metadata": {
        "id": "IE7TE_Vdgq-G",
        "colab_type": "code",
        "outputId": "d9dd7c11-c8fd-4272-99b4-29335fb55822",
        "colab": {
          "base_uri": "https://localhost:8080/",
          "height": 54
        }
      },
      "source": [
        "def display():\n",
        "    print('Display functon ran')\n",
        "\n",
        "decorated_display = deco_fxn(display)\n",
        "decorated_display()\n"
      ],
      "execution_count": 6,
      "outputs": [
        {
          "output_type": "stream",
          "text": [
            "this is executed by wrapper before exec display\n",
            "Display functon ran\n"
          ],
          "name": "stdout"
        }
      ]
    },
    {
      "cell_type": "markdown",
      "metadata": {
        "id": "eLZcDCEyir81",
        "colab_type": "text"
      },
      "source": [
        "lines 4-5 in above code shell depicts a decorator, but we can also use decorators using @ symbol.\n",
        "```Python\n",
        "@deco_fxn\n",
        "def display():\n",
        "    print('Display functon ran')\n",
        "```\n",
        "This is the same thing as \n",
        "```Python \n",
        "display = deco_fxn(display)\n",
        "```\n",
        "So, lets see an example."
      ]
    },
    {
      "cell_type": "code",
      "metadata": {
        "id": "EZnIJrc9js77",
        "colab_type": "code",
        "outputId": "0be37aca-82b5-41dd-e3c4-16bf10627312",
        "colab": {
          "base_uri": "https://localhost:8080/",
          "height": 54
        }
      },
      "source": [
        "@deco_fxn\n",
        "def display():\n",
        "    print('Display functon ran')\n",
        "\n",
        "display()"
      ],
      "execution_count": 7,
      "outputs": [
        {
          "output_type": "stream",
          "text": [
            "this is executed by wrapper before exec display\n",
            "Display functon ran\n"
          ],
          "name": "stdout"
        }
      ]
    },
    {
      "cell_type": "markdown",
      "metadata": {
        "id": "VQsoPfATm5kX",
        "colab_type": "text"
      },
      "source": [
        "So, this decorator wont work if our original function will take any argument. Lets look at an example of a fxn with arguments.\n",
        "```Python\n",
        "@deco_fxn\n",
        "def display_info(name, age):\n",
        "    print(f\"Name - {name} \\nage - {age}\")\n",
        "\n",
        "display_info('a', 4)\n",
        "```\n",
        "This will cause an error.\n",
        "```Python\n",
        "---------------------------------------------------------------------------\n",
        "\n",
        "TypeError                                 Traceback (most recent call last)\n",
        "\n",
        "<ipython-input-27-bbecc8b439d7> in <module>()\n",
        "      3     print(f\"Name - {name} \\nage - {age}\")\n",
        "      4 \n",
        "----> 5 display_info('a', 4)\n",
        "\n",
        "TypeError: wrapper_fxn() takes 0 positional arguments but 2 were given\n",
        "```\n",
        "So, what we need is to be able to pass any number of arguments to our wrapper. We do this by adding *args and **kwargs to our wrapper fxn."
      ]
    },
    {
      "cell_type": "code",
      "metadata": {
        "id": "Cphqa_wwm5Sv",
        "colab_type": "code",
        "colab": {}
      },
      "source": [
        "def deco_fxn(orig_fxn):\n",
        "    def wrapper_fxn(*args, **kwargs):\n",
        "        print(f\"this is executed by wrapper before exec {orig_fxn.__name__}\")\n",
        "        return orig_fxn(*args, **kwargs)\n",
        "    return wrapper_fxn"
      ],
      "execution_count": 0,
      "outputs": []
    },
    {
      "cell_type": "code",
      "metadata": {
        "id": "yBVkgpyym5PS",
        "colab_type": "code",
        "outputId": "e55e2c7b-4e82-4921-e23f-1f38a89313de",
        "colab": {
          "base_uri": "https://localhost:8080/",
          "height": 72
        }
      },
      "source": [
        "@deco_fxn\n",
        "def display_info(name, age):\n",
        "    print(f\"Name - {name} \\nage - {age}\")\n",
        " \n",
        "display_info('a', 4)"
      ],
      "execution_count": 9,
      "outputs": [
        {
          "output_type": "stream",
          "text": [
            "this is executed by wrapper before exec display_info\n",
            "Name - a \n",
            "age - 4\n"
          ],
          "name": "stdout"
        }
      ]
    },
    {
      "cell_type": "markdown",
      "metadata": {
        "id": "dAwzGV8UiW3G",
        "colab_type": "text"
      },
      "source": [
        "## Classes as decorators\n",
        "\n"
      ]
    },
    {
      "cell_type": "code",
      "metadata": {
        "id": "7nJ1863shCCR",
        "colab_type": "code",
        "colab": {}
      },
      "source": [
        "class deco_class:\n",
        "    def __init__(self, orig_fxn):\n",
        "        self.orig_fxn = orig_fxn\n",
        "\n",
        "    # to mimic the functionality with wrapper we use call\n",
        "    def __call__(self, *args, **kwargs):\n",
        "        print(f\"this is executed by _call before exec {self.orig_fxn.__name__}\")\n",
        "        return self.orig_fxn(*args, **kwargs)\n"
      ],
      "execution_count": 0,
      "outputs": []
    },
    {
      "cell_type": "code",
      "metadata": {
        "id": "PSbMCLkyspHq",
        "colab_type": "code",
        "outputId": "622c8a43-5413-4933-cd22-2f52cba8edef",
        "colab": {
          "base_uri": "https://localhost:8080/",
          "height": 72
        }
      },
      "source": [
        "@deco_class\n",
        "def display_info(name, age):\n",
        "    print(f\"Name - {name} \\nage - {age}\")\n",
        " \n",
        "display_info('a', 4)"
      ],
      "execution_count": 11,
      "outputs": [
        {
          "output_type": "stream",
          "text": [
            "this is executed by _call before exec display_info\n",
            "Name - a \n",
            "age - 4\n"
          ],
          "name": "stdout"
        }
      ]
    },
    {
      "cell_type": "markdown",
      "metadata": {
        "id": "GHJ9KiXItMA4",
        "colab_type": "text"
      },
      "source": [
        "## Practical Examples of Decorators\n"
      ]
    },
    {
      "cell_type": "markdown",
      "metadata": {
        "id": "KEPni_2VtieD",
        "colab_type": "text"
      },
      "source": [
        "### 1. Logging"
      ]
    },
    {
      "cell_type": "code",
      "metadata": {
        "id": "re4u7yIJstfU",
        "colab_type": "code",
        "outputId": "bd43114e-8fe8-4446-d6a7-5d8a81cc9724",
        "colab": {
          "base_uri": "https://localhost:8080/",
          "height": 90
        }
      },
      "source": [
        "# keeps track of how many times a function is exec and with what args\n",
        "def my_logger(orig_func):\n",
        "    import logging\n",
        "    logging.basicConfig(filename=f'{orig_func.__name__}.log', level=logging.INFO)\n",
        "\n",
        "    def wrapper(*args, **kwargs):\n",
        "        logging.info(f\"Ran with args: {args}, kwargs {kwargs}\")\n",
        "        return orig_func(*args, **kwargs)\n",
        "    \n",
        "    return wrapper\n",
        "\n",
        "@my_logger\n",
        "def display_info(name, age):\n",
        "    print(f\"Name - {name} \\nage - {age}\")\n",
        "\n",
        "display_info('Udit', 25)\n",
        "display_info('Manav', age=25)\n"
      ],
      "execution_count": 12,
      "outputs": [
        {
          "output_type": "stream",
          "text": [
            "Name - Udit \n",
            "age - 25\n",
            "Name - Manav \n",
            "age - 25\n"
          ],
          "name": "stdout"
        }
      ]
    },
    {
      "cell_type": "markdown",
      "metadata": {
        "id": "YgNTV24JvsZl",
        "colab_type": "text"
      },
      "source": [
        "This repetitive functionality is maintained at a single place (decorator) and can easily be used at many places by simply adding decorator to function.\n",
        "### Timing"
      ]
    },
    {
      "cell_type": "code",
      "metadata": {
        "id": "IdvB2-gou_oW",
        "colab_type": "code",
        "outputId": "0cf0b721-fdfc-46dd-8906-12f1aa26a66e",
        "colab": {
          "base_uri": "https://localhost:8080/",
          "height": 127
        }
      },
      "source": [
        "def my_timer(orig_func):\n",
        "    import time\n",
        "    \n",
        "    def wrapper(*args, **kwargs):\n",
        "        t1 = time.time()\n",
        "        result = orig_func(*args, **kwargs)\n",
        "        t2 = time.time()\n",
        "        print(f\"{orig_func.__name__} ran in {t2-t1} secs\")\n",
        "        return result\n",
        "\n",
        "    return wrapper\n",
        "\n",
        "import time\n",
        "@my_timer\n",
        "def display_info(name, age):\n",
        "    time.sleep(1)\n",
        "    print(f\"Name - {name} \\nage - {age}\")\n",
        "\n",
        "display_info('Udit', 25)\n",
        "display_info('Manav', age=25)\n"
      ],
      "execution_count": 13,
      "outputs": [
        {
          "output_type": "stream",
          "text": [
            "Name - Udit \n",
            "age - 25\n",
            "display_info ran in 1.0012190341949463 secs\n",
            "Name - Manav \n",
            "age - 25\n",
            "display_info ran in 1.001225471496582 secs\n"
          ],
          "name": "stdout"
        }
      ]
    },
    {
      "cell_type": "markdown",
      "metadata": {
        "id": "X7lCk6_wxixD",
        "colab_type": "text"
      },
      "source": [
        "## Chaining decorator\n",
        "Simply by stacking them one over other."
      ]
    },
    {
      "cell_type": "code",
      "metadata": {
        "id": "62_kBPdPxNnk",
        "colab_type": "code",
        "outputId": "ecead1d5-84e5-42e4-bade-121c05a4672d",
        "colab": {
          "base_uri": "https://localhost:8080/",
          "height": 127
        }
      },
      "source": [
        "@my_timer\n",
        "@my_logger\n",
        "def display_info(name, age):\n",
        "    time.sleep(1)\n",
        "    print(f\"Name - {name} \\nage - {age}\")\n",
        "\n",
        "display_info('Udit', 25)\n",
        "display_info('Manav', age=25)\n"
      ],
      "execution_count": 14,
      "outputs": [
        {
          "output_type": "stream",
          "text": [
            "Name - Udit \n",
            "age - 25\n",
            "wrapper ran in 1.0014264583587646 secs\n",
            "Name - Manav \n",
            "age - 25\n",
            "wrapper ran in 1.0017378330230713 secs\n"
          ],
          "name": "stdout"
        }
      ]
    },
    {
      "cell_type": "markdown",
      "metadata": {
        "id": "iqdT-FQ2yBQn",
        "colab_type": "text"
      },
      "source": [
        "Okay, so it says wrapper ran in x secs. Instead of diaplaying the name of original function we get name of wrapper. What's happening here is that the inner decorator is first executed which returns **wrapper** function. This wrapper(returned by inner decorator) is decorated by the outer decorator which interprets the name of function as wrapper. To rectify this we need to import wraps from functools. Lets try it out, and wrap all of our wrapper with @wraps decorator."
      ]
    },
    {
      "cell_type": "code",
      "metadata": {
        "id": "gazHMR9lxzzc",
        "colab_type": "code",
        "colab": {}
      },
      "source": [
        "from functools import wraps \n",
        "\n",
        "def my_logger(orig_func):\n",
        "    import logging\n",
        "    logging.basicConfig(filename=f'{orig_func.__name__}.log', level=logging.INFO)\n",
        "    \n",
        "    @wraps(orig_func)\n",
        "    def wrapper(*args, **kwargs):\n",
        "        logging.info(f\"Ran with args: {args}, kwargs {kwargs}\")\n",
        "        return orig_func(*args, **kwargs)\n",
        "    \n",
        "    return wrapper\n",
        "\n",
        "def my_timer(orig_func):\n",
        "    import time\n",
        "    \n",
        "    @wraps(orig_func)\n",
        "    def wrapper(*args, **kwargs):\n",
        "        t1 = time.time()\n",
        "        result = orig_func(*args, **kwargs)\n",
        "        t2 = time.time()\n",
        "        print(f\"{orig_func.__name__} ran in {t2-t1} secs\")\n",
        "        return result\n",
        "\n",
        "    return wrapper"
      ],
      "execution_count": 0,
      "outputs": []
    },
    {
      "cell_type": "code",
      "metadata": {
        "id": "PhWJSwRo0uv7",
        "colab_type": "code",
        "outputId": "b1fa26f7-d484-40b2-d46c-85ec45e85d93",
        "colab": {
          "base_uri": "https://localhost:8080/",
          "height": 127
        }
      },
      "source": [
        "@my_timer\n",
        "@my_logger\n",
        "def display_info(name, age):\n",
        "    time.sleep(1)\n",
        "    print(f\"Name - {name} \\nage - {age}\")\n",
        "\n",
        "display_info('Udit', 25)\n",
        "display_info('Manav', age=25)"
      ],
      "execution_count": 16,
      "outputs": [
        {
          "output_type": "stream",
          "text": [
            "Name - Udit \n",
            "age - 25\n",
            "display_info ran in 1.0014288425445557 secs\n",
            "Name - Manav \n",
            "age - 25\n",
            "display_info ran in 1.0018949508666992 secs\n"
          ],
          "name": "stdout"
        }
      ]
    },
    {
      "cell_type": "markdown",
      "metadata": {
        "id": "o0jYF7eN1HZS",
        "colab_type": "text"
      },
      "source": [
        "# Decorator with arguments\n",
        "It is rarely used, you may have encountered when working with Flask framework, but still lets cover it to get an idea how they works. But first a recap."
      ]
    },
    {
      "cell_type": "code",
      "metadata": {
        "id": "r04fk93p0xOj",
        "colab_type": "code",
        "outputId": "6413afae-bc9c-49d9-ae34-642c190815e3",
        "colab": {
          "base_uri": "https://localhost:8080/",
          "height": 72
        }
      },
      "source": [
        "def decorator_fxn(orig_fxn):\n",
        "    def wrapper_fxn(*args, **kwargs):\n",
        "        print(f\"executed by wrapper before exec - {orig_fxn.__name__}\")\n",
        "        result = orig_fxn(*args, **kwargs)\n",
        "        print(f\"executed by wrapper after exec - {orig_fxn.__name__}\")\n",
        "        return result\n",
        "    return wrapper_fxn\n",
        "\n",
        "@decorator_fxn\n",
        "def display_info(name, age):\n",
        "    print(f\"display_info called with args - ({name}, {age})\")\n",
        "\n",
        "display_info('Udit', 25)"
      ],
      "execution_count": 17,
      "outputs": [
        {
          "output_type": "stream",
          "text": [
            "executed by wrapper before exec - display_info\n",
            "display_info called with args - (Udit, 25)\n",
            "executed by wrapper after exec - display_info\n"
          ],
          "name": "stdout"
        }
      ]
    },
    {
      "cell_type": "markdown",
      "metadata": {
        "id": "P1WqvMTl8SDN",
        "colab_type": "text"
      },
      "source": [
        "Lets add a prefix to out added functionality. We are gonna do it by adding another layer of function to our decorator and returning the inner function, same as we did previously but with just another layer added."
      ]
    },
    {
      "cell_type": "code",
      "metadata": {
        "id": "rOaGqzSP8LYI",
        "colab_type": "code",
        "outputId": "415d495e-2e44-4212-df01-d35170988883",
        "colab": {
          "base_uri": "https://localhost:8080/",
          "height": 72
        }
      },
      "source": [
        "def prefix_deco(prefix):\n",
        "    def decorator_fxn(orig_fxn):\n",
        "        def wrapper_fxn(*args, **kwargs):\n",
        "            print(f\"{prefix}: executed by wrapper before exec - {orig_fxn.__name__}\")\n",
        "            result = orig_fxn(*args, **kwargs)\n",
        "            print(f\"{prefix}: executed by wrapper after exec - {orig_fxn.__name__}\")\n",
        "            return result\n",
        "        return wrapper_fxn\n",
        "    return decorator_fxn\n",
        "\n",
        "@prefix_deco('LOG')\n",
        "def display_info(name, age):\n",
        "    print(f\"display_info called with args - ({name}, {age})\")\n",
        "\n",
        "display_info('Udit', 25)"
      ],
      "execution_count": 18,
      "outputs": [
        {
          "output_type": "stream",
          "text": [
            "LOG: executed by wrapper before exec - display_info\n",
            "display_info called with args - (Udit, 25)\n",
            "LOG: executed by wrapper after exec - display_info\n"
          ],
          "name": "stdout"
        }
      ]
    }
  ],
  "metadata": {
    "colab": {
      "name": "Decorators.ipynb",
      "provenance": [],
      "collapsed_sections": [],
      "toc_visible": true,
      "authorship_tag": "ABX9TyOI+p5Oo2Iyxw4xTH+XSt+R",
      "include_colab_link": true
    },
    "kernelspec": {
      "name": "python3",
      "display_name": "Python 3"
    }
  },
  "nbformat": 4,
  "nbformat_minor": 0
}